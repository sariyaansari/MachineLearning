{
 "cells": [
  {
   "cell_type": "markdown",
   "metadata": {},
   "source": [
    "## House price prediction\n",
    "### 1. This is the example to demonstrate the approach to predict the price\n",
    "### 2. Dataset is not having sufficient information to come to any conclusion\n",
    "### 3. For feature selection LassoCV is used we can use other techniques as well\n",
    "### 4. For modelling RandomForestRegressor is used, we can use other algorithms as well to compare\n",
    "### 5. Purpose of project to tell that how to approach similar kind of problem statement \n",
    "### 6. Data set is attached which is used, add more information and find new conclusion accordingly\n",
    "### 7. Naming convention in data set self explanatory\n"
   ]
  },
  {
   "cell_type": "code",
   "execution_count": 369,
   "metadata": {},
   "outputs": [],
   "source": [
    "import pandas as pd\n",
    "import numpy as np\n",
    "import seaborn as sns\n",
    "from scipy import stats\n",
    "import matplotlib.pyplot as plt\n",
    "%matplotlib inline\n",
    "sns.set(color_codes=True)\n",
    "from sklearn.ensemble import RandomForestClassifier\n",
    "from sklearn.model_selection import train_test_split, cross_val_score, cross_val_predict\n",
    "from sklearn import metrics\n",
    "from sklearn import datasets\n",
    "from sklearn.tree import DecisionTreeClassifier\n",
    "\n",
    "import warnings\n",
    "warnings.filterwarnings('ignore')"
   ]
  },
  {
   "cell_type": "markdown",
   "metadata": {},
   "source": [
    "#### Reading Dataset"
   ]
  },
  {
   "cell_type": "code",
   "execution_count": 370,
   "metadata": {},
   "outputs": [],
   "source": [
    "df = pd.read_csv('house_price_prediction_dataset.csv')"
   ]
  },
  {
   "cell_type": "code",
   "execution_count": 371,
   "metadata": {},
   "outputs": [
    {
     "data": {
      "text/html": [
       "<div>\n",
       "<style scoped>\n",
       "    .dataframe tbody tr th:only-of-type {\n",
       "        vertical-align: middle;\n",
       "    }\n",
       "\n",
       "    .dataframe tbody tr th {\n",
       "        vertical-align: top;\n",
       "    }\n",
       "\n",
       "    .dataframe thead th {\n",
       "        text-align: right;\n",
       "    }\n",
       "</style>\n",
       "<table border=\"1\" class=\"dataframe\">\n",
       "  <thead>\n",
       "    <tr style=\"text-align: right;\">\n",
       "      <th></th>\n",
       "      <th>House_Type</th>\n",
       "      <th>No_of_BHK</th>\n",
       "      <th>Rera_Approved</th>\n",
       "      <th>Area</th>\n",
       "      <th>ReadyToMove</th>\n",
       "      <th>Resale</th>\n",
       "      <th>Address</th>\n",
       "      <th>City</th>\n",
       "      <th>Long_Lat</th>\n",
       "      <th>Amenities</th>\n",
       "      <th>Hospitals_Distance</th>\n",
       "      <th>Schools_Distance</th>\n",
       "      <th>Subway_Distance</th>\n",
       "      <th>Price_Lakhs</th>\n",
       "    </tr>\n",
       "  </thead>\n",
       "  <tbody>\n",
       "    <tr>\n",
       "      <th>0</th>\n",
       "      <td>Builder</td>\n",
       "      <td>2</td>\n",
       "      <td>1</td>\n",
       "      <td>1000</td>\n",
       "      <td>1</td>\n",
       "      <td>1</td>\n",
       "      <td>NaN</td>\n",
       "      <td>Delhi</td>\n",
       "      <td>NaN</td>\n",
       "      <td>PowerBackup,Water Supply,Car Parking,Kids Play...</td>\n",
       "      <td>5</td>\n",
       "      <td>1</td>\n",
       "      <td>2</td>\n",
       "      <td>40</td>\n",
       "    </tr>\n",
       "    <tr>\n",
       "      <th>1</th>\n",
       "      <td>Builder</td>\n",
       "      <td>1</td>\n",
       "      <td>1</td>\n",
       "      <td>500</td>\n",
       "      <td>1</td>\n",
       "      <td>1</td>\n",
       "      <td>NaN</td>\n",
       "      <td>Delhi</td>\n",
       "      <td>NaN</td>\n",
       "      <td>PowerBackup,Water Supply,Car Parking,Kids Play...</td>\n",
       "      <td>5</td>\n",
       "      <td>1</td>\n",
       "      <td>2</td>\n",
       "      <td>20</td>\n",
       "    </tr>\n",
       "    <tr>\n",
       "      <th>2</th>\n",
       "      <td>Builder</td>\n",
       "      <td>2</td>\n",
       "      <td>0</td>\n",
       "      <td>1000</td>\n",
       "      <td>1</td>\n",
       "      <td>1</td>\n",
       "      <td>NaN</td>\n",
       "      <td>Delhi</td>\n",
       "      <td>NaN</td>\n",
       "      <td>PowerBackup,Water Supply,Fire Fighting Systems...</td>\n",
       "      <td>5</td>\n",
       "      <td>3</td>\n",
       "      <td>2</td>\n",
       "      <td>35</td>\n",
       "    </tr>\n",
       "    <tr>\n",
       "      <th>3</th>\n",
       "      <td>Builder</td>\n",
       "      <td>2</td>\n",
       "      <td>0</td>\n",
       "      <td>1000</td>\n",
       "      <td>1</td>\n",
       "      <td>1</td>\n",
       "      <td>NaN</td>\n",
       "      <td>Faridabad</td>\n",
       "      <td>NaN</td>\n",
       "      <td>PowerBackup,Water Supply,Fire Fighting Systems...</td>\n",
       "      <td>5</td>\n",
       "      <td>3</td>\n",
       "      <td>2</td>\n",
       "      <td>35</td>\n",
       "    </tr>\n",
       "    <tr>\n",
       "      <th>4</th>\n",
       "      <td>Builder</td>\n",
       "      <td>1</td>\n",
       "      <td>0</td>\n",
       "      <td>700</td>\n",
       "      <td>1</td>\n",
       "      <td>1</td>\n",
       "      <td>NaN</td>\n",
       "      <td>Faridabad</td>\n",
       "      <td>NaN</td>\n",
       "      <td>PowerBackup,Water Supply,Car Parking,Fire Figh...</td>\n",
       "      <td>5</td>\n",
       "      <td>3</td>\n",
       "      <td>2</td>\n",
       "      <td>30</td>\n",
       "    </tr>\n",
       "  </tbody>\n",
       "</table>\n",
       "</div>"
      ],
      "text/plain": [
       "  House_Type  No_of_BHK  Rera_Approved  Area  ReadyToMove  Resale  Address  \\\n",
       "0    Builder          2              1  1000            1       1      NaN   \n",
       "1    Builder          1              1   500            1       1      NaN   \n",
       "2    Builder          2              0  1000            1       1      NaN   \n",
       "3    Builder          2              0  1000            1       1      NaN   \n",
       "4    Builder          1              0   700            1       1      NaN   \n",
       "\n",
       "        City  Long_Lat                                          Amenities  \\\n",
       "0      Delhi       NaN  PowerBackup,Water Supply,Car Parking,Kids Play...   \n",
       "1      Delhi       NaN  PowerBackup,Water Supply,Car Parking,Kids Play...   \n",
       "2      Delhi       NaN  PowerBackup,Water Supply,Fire Fighting Systems...   \n",
       "3  Faridabad       NaN  PowerBackup,Water Supply,Fire Fighting Systems...   \n",
       "4  Faridabad       NaN  PowerBackup,Water Supply,Car Parking,Fire Figh...   \n",
       "\n",
       "   Hospitals_Distance  Schools_Distance  Subway_Distance  Price_Lakhs  \n",
       "0                   5                 1                2           40  \n",
       "1                   5                 1                2           20  \n",
       "2                   5                 3                2           35  \n",
       "3                   5                 3                2           35  \n",
       "4                   5                 3                2           30  "
      ]
     },
     "execution_count": 371,
     "metadata": {},
     "output_type": "execute_result"
    }
   ],
   "source": [
    "df.head()"
   ]
  },
  {
   "cell_type": "code",
   "execution_count": 372,
   "metadata": {},
   "outputs": [
    {
     "data": {
      "text/plain": [
       "(83, 14)"
      ]
     },
     "execution_count": 372,
     "metadata": {},
     "output_type": "execute_result"
    }
   ],
   "source": [
    "df.shape"
   ]
  },
  {
   "cell_type": "code",
   "execution_count": 373,
   "metadata": {},
   "outputs": [
    {
     "name": "stdout",
     "output_type": "stream",
     "text": [
      "Number of duplicate rows ::  (0, 14)\n"
     ]
    }
   ],
   "source": [
    "#Check duplicate rows in data\n",
    "duplicate_rows = df[df.duplicated()]\n",
    "print(\"Number of duplicate rows :: \", duplicate_rows.shape)"
   ]
  },
  {
   "cell_type": "code",
   "execution_count": 374,
   "metadata": {},
   "outputs": [
    {
     "name": "stdout",
     "output_type": "stream",
     "text": [
      "Null values :: \n",
      "House_Type             0\n",
      "No_of_BHK              0\n",
      "Rera_Approved          0\n",
      "Area                   0\n",
      "ReadyToMove            0\n",
      "Resale                 0\n",
      "Address               83\n",
      "City                   0\n",
      "Long_Lat              83\n",
      "Amenities              0\n",
      "Hospitals_Distance     0\n",
      "Schools_Distance       0\n",
      "Subway_Distance        0\n",
      "Price_Lakhs            0\n",
      "dtype: int64\n"
     ]
    }
   ],
   "source": [
    "#looking for null values\n",
    "print(\"Null values :: \")\n",
    "print(df.isnull().sum())"
   ]
  },
  {
   "cell_type": "markdown",
   "metadata": {},
   "source": [
    "#### Delete Column having no values e.g. long_lat & address"
   ]
  },
  {
   "cell_type": "code",
   "execution_count": 375,
   "metadata": {},
   "outputs": [],
   "source": [
    "df = df.drop(['Address','Long_Lat'], axis=1)"
   ]
  },
  {
   "cell_type": "code",
   "execution_count": 376,
   "metadata": {},
   "outputs": [
    {
     "data": {
      "text/html": [
       "<div>\n",
       "<style scoped>\n",
       "    .dataframe tbody tr th:only-of-type {\n",
       "        vertical-align: middle;\n",
       "    }\n",
       "\n",
       "    .dataframe tbody tr th {\n",
       "        vertical-align: top;\n",
       "    }\n",
       "\n",
       "    .dataframe thead th {\n",
       "        text-align: right;\n",
       "    }\n",
       "</style>\n",
       "<table border=\"1\" class=\"dataframe\">\n",
       "  <thead>\n",
       "    <tr style=\"text-align: right;\">\n",
       "      <th></th>\n",
       "      <th>House_Type</th>\n",
       "      <th>No_of_BHK</th>\n",
       "      <th>Rera_Approved</th>\n",
       "      <th>Area</th>\n",
       "      <th>ReadyToMove</th>\n",
       "      <th>Resale</th>\n",
       "      <th>City</th>\n",
       "      <th>Amenities</th>\n",
       "      <th>Hospitals_Distance</th>\n",
       "      <th>Schools_Distance</th>\n",
       "      <th>Subway_Distance</th>\n",
       "      <th>Price_Lakhs</th>\n",
       "    </tr>\n",
       "  </thead>\n",
       "  <tbody>\n",
       "    <tr>\n",
       "      <th>0</th>\n",
       "      <td>Builder</td>\n",
       "      <td>2</td>\n",
       "      <td>1</td>\n",
       "      <td>1000</td>\n",
       "      <td>1</td>\n",
       "      <td>1</td>\n",
       "      <td>Delhi</td>\n",
       "      <td>PowerBackup,Water Supply,Car Parking,Kids Play...</td>\n",
       "      <td>5</td>\n",
       "      <td>1</td>\n",
       "      <td>2</td>\n",
       "      <td>40</td>\n",
       "    </tr>\n",
       "    <tr>\n",
       "      <th>1</th>\n",
       "      <td>Builder</td>\n",
       "      <td>1</td>\n",
       "      <td>1</td>\n",
       "      <td>500</td>\n",
       "      <td>1</td>\n",
       "      <td>1</td>\n",
       "      <td>Delhi</td>\n",
       "      <td>PowerBackup,Water Supply,Car Parking,Kids Play...</td>\n",
       "      <td>5</td>\n",
       "      <td>1</td>\n",
       "      <td>2</td>\n",
       "      <td>20</td>\n",
       "    </tr>\n",
       "    <tr>\n",
       "      <th>2</th>\n",
       "      <td>Builder</td>\n",
       "      <td>2</td>\n",
       "      <td>0</td>\n",
       "      <td>1000</td>\n",
       "      <td>1</td>\n",
       "      <td>1</td>\n",
       "      <td>Delhi</td>\n",
       "      <td>PowerBackup,Water Supply,Fire Fighting Systems...</td>\n",
       "      <td>5</td>\n",
       "      <td>3</td>\n",
       "      <td>2</td>\n",
       "      <td>35</td>\n",
       "    </tr>\n",
       "    <tr>\n",
       "      <th>3</th>\n",
       "      <td>Builder</td>\n",
       "      <td>2</td>\n",
       "      <td>0</td>\n",
       "      <td>1000</td>\n",
       "      <td>1</td>\n",
       "      <td>1</td>\n",
       "      <td>Faridabad</td>\n",
       "      <td>PowerBackup,Water Supply,Fire Fighting Systems...</td>\n",
       "      <td>5</td>\n",
       "      <td>3</td>\n",
       "      <td>2</td>\n",
       "      <td>35</td>\n",
       "    </tr>\n",
       "    <tr>\n",
       "      <th>4</th>\n",
       "      <td>Builder</td>\n",
       "      <td>1</td>\n",
       "      <td>0</td>\n",
       "      <td>700</td>\n",
       "      <td>1</td>\n",
       "      <td>1</td>\n",
       "      <td>Faridabad</td>\n",
       "      <td>PowerBackup,Water Supply,Car Parking,Fire Figh...</td>\n",
       "      <td>5</td>\n",
       "      <td>3</td>\n",
       "      <td>2</td>\n",
       "      <td>30</td>\n",
       "    </tr>\n",
       "  </tbody>\n",
       "</table>\n",
       "</div>"
      ],
      "text/plain": [
       "  House_Type  No_of_BHK  Rera_Approved  Area  ReadyToMove  Resale       City  \\\n",
       "0    Builder          2              1  1000            1       1      Delhi   \n",
       "1    Builder          1              1   500            1       1      Delhi   \n",
       "2    Builder          2              0  1000            1       1      Delhi   \n",
       "3    Builder          2              0  1000            1       1  Faridabad   \n",
       "4    Builder          1              0   700            1       1  Faridabad   \n",
       "\n",
       "                                           Amenities  Hospitals_Distance  \\\n",
       "0  PowerBackup,Water Supply,Car Parking,Kids Play...                   5   \n",
       "1  PowerBackup,Water Supply,Car Parking,Kids Play...                   5   \n",
       "2  PowerBackup,Water Supply,Fire Fighting Systems...                   5   \n",
       "3  PowerBackup,Water Supply,Fire Fighting Systems...                   5   \n",
       "4  PowerBackup,Water Supply,Car Parking,Fire Figh...                   5   \n",
       "\n",
       "   Schools_Distance  Subway_Distance  Price_Lakhs  \n",
       "0                 1                2           40  \n",
       "1                 1                2           20  \n",
       "2                 3                2           35  \n",
       "3                 3                2           35  \n",
       "4                 3                2           30  "
      ]
     },
     "execution_count": 376,
     "metadata": {},
     "output_type": "execute_result"
    }
   ],
   "source": [
    "df.head()"
   ]
  },
  {
   "cell_type": "markdown",
   "metadata": {},
   "source": [
    "## Exploratory Data Analysis\n",
    "### Let's analyze the house price w.r.t. each feature, is it having positive or negative impact"
   ]
  },
  {
   "cell_type": "markdown",
   "metadata": {},
   "source": [
    "#### Analyze Average price of house based on number of BHK (bedroom, hall & kitchen & observe the results)"
   ]
  },
  {
   "cell_type": "code",
   "execution_count": 377,
   "metadata": {},
   "outputs": [
    {
     "data": {
      "text/html": [
       "<div>\n",
       "<style scoped>\n",
       "    .dataframe tbody tr th:only-of-type {\n",
       "        vertical-align: middle;\n",
       "    }\n",
       "\n",
       "    .dataframe tbody tr th {\n",
       "        vertical-align: top;\n",
       "    }\n",
       "\n",
       "    .dataframe thead th {\n",
       "        text-align: right;\n",
       "    }\n",
       "</style>\n",
       "<table border=\"1\" class=\"dataframe\">\n",
       "  <thead>\n",
       "    <tr style=\"text-align: right;\">\n",
       "      <th></th>\n",
       "      <th>No_of_BHK</th>\n",
       "      <th>average_bhk_price</th>\n",
       "    </tr>\n",
       "  </thead>\n",
       "  <tbody>\n",
       "    <tr>\n",
       "      <th>0</th>\n",
       "      <td>1</td>\n",
       "      <td>45.375000</td>\n",
       "    </tr>\n",
       "    <tr>\n",
       "      <th>1</th>\n",
       "      <td>2</td>\n",
       "      <td>56.166667</td>\n",
       "    </tr>\n",
       "    <tr>\n",
       "      <th>2</th>\n",
       "      <td>3</td>\n",
       "      <td>56.538462</td>\n",
       "    </tr>\n",
       "    <tr>\n",
       "      <th>3</th>\n",
       "      <td>4</td>\n",
       "      <td>70.000000</td>\n",
       "    </tr>\n",
       "    <tr>\n",
       "      <th>4</th>\n",
       "      <td>5</td>\n",
       "      <td>74.846154</td>\n",
       "    </tr>\n",
       "    <tr>\n",
       "      <th>5</th>\n",
       "      <td>6</td>\n",
       "      <td>88.000000</td>\n",
       "    </tr>\n",
       "    <tr>\n",
       "      <th>6</th>\n",
       "      <td>7</td>\n",
       "      <td>71.250000</td>\n",
       "    </tr>\n",
       "    <tr>\n",
       "      <th>7</th>\n",
       "      <td>8</td>\n",
       "      <td>82.500000</td>\n",
       "    </tr>\n",
       "    <tr>\n",
       "      <th>8</th>\n",
       "      <td>9</td>\n",
       "      <td>171.500000</td>\n",
       "    </tr>\n",
       "  </tbody>\n",
       "</table>\n",
       "</div>"
      ],
      "text/plain": [
       "   No_of_BHK  average_bhk_price\n",
       "0          1          45.375000\n",
       "1          2          56.166667\n",
       "2          3          56.538462\n",
       "3          4          70.000000\n",
       "4          5          74.846154\n",
       "5          6          88.000000\n",
       "6          7          71.250000\n",
       "7          8          82.500000\n",
       "8          9         171.500000"
      ]
     },
     "execution_count": 377,
     "metadata": {},
     "output_type": "execute_result"
    }
   ],
   "source": [
    "average_bhk_price = df.groupby('No_of_BHK')['Price_Lakhs'].mean().reset_index(name='average_bhk_price')\n",
    "average_bhk_price"
   ]
  },
  {
   "cell_type": "markdown",
   "metadata": {},
   "source": [
    "#### Understand the same pricing using line graph, compare with above data set to understand and learn through line graph"
   ]
  },
  {
   "cell_type": "code",
   "execution_count": 378,
   "metadata": {},
   "outputs": [
    {
     "data": {
      "text/plain": [
       "Text(0, 0.5, 'Price in Lakhs')"
      ]
     },
     "execution_count": 378,
     "metadata": {},
     "output_type": "execute_result"
    },
    {
     "data": {
      "image/png": "[encoded data removed]",
      "text/plain": [
       "<Figure size 504x216 with 1 Axes>"
      ]
     },
     "metadata": {},
     "output_type": "display_data"
    }
   ],
   "source": [
    "import matplotlib.pyplot as plt\n",
    "fig, ax = plt.subplots(figsize=(7,3))\n",
    "df.groupby('No_of_BHK')['Price_Lakhs'].mean().plot(ax=ax)\n",
    "ax.set_ylabel('Price in Lakhs')"
   ]
  },
  {
   "cell_type": "code",
   "execution_count": 379,
   "metadata": {},
   "outputs": [
    {
     "data": {
      "text/html": [
       "<div>\n",
       "<style scoped>\n",
       "    .dataframe tbody tr th:only-of-type {\n",
       "        vertical-align: middle;\n",
       "    }\n",
       "\n",
       "    .dataframe tbody tr th {\n",
       "        vertical-align: top;\n",
       "    }\n",
       "\n",
       "    .dataframe thead th {\n",
       "        text-align: right;\n",
       "    }\n",
       "</style>\n",
       "<table border=\"1\" class=\"dataframe\">\n",
       "  <thead>\n",
       "    <tr style=\"text-align: right;\">\n",
       "      <th></th>\n",
       "      <th>House_Type</th>\n",
       "      <th>average_housetype_price</th>\n",
       "    </tr>\n",
       "  </thead>\n",
       "  <tbody>\n",
       "    <tr>\n",
       "      <th>0</th>\n",
       "      <td>Builder</td>\n",
       "      <td>44.461538</td>\n",
       "    </tr>\n",
       "    <tr>\n",
       "      <th>1</th>\n",
       "      <td>Bunglow</td>\n",
       "      <td>92.800000</td>\n",
       "    </tr>\n",
       "    <tr>\n",
       "      <th>2</th>\n",
       "      <td>Society</td>\n",
       "      <td>58.627907</td>\n",
       "    </tr>\n",
       "    <tr>\n",
       "      <th>3</th>\n",
       "      <td>Villa</td>\n",
       "      <td>86.176471</td>\n",
       "    </tr>\n",
       "  </tbody>\n",
       "</table>\n",
       "</div>"
      ],
      "text/plain": [
       "  House_Type  average_housetype_price\n",
       "0    Builder                44.461538\n",
       "1    Bunglow                92.800000\n",
       "2    Society                58.627907\n",
       "3      Villa                86.176471"
      ]
     },
     "execution_count": 379,
     "metadata": {},
     "output_type": "execute_result"
    }
   ],
   "source": [
    "average_housetype_price = df.groupby('House_Type')['Price_Lakhs'].mean().reset_index(name='average_housetype_price')\n",
    "average_housetype_price"
   ]
  },
  {
   "cell_type": "code",
   "execution_count": 380,
   "metadata": {
    "scrolled": true
   },
   "outputs": [
    {
     "data": {
      "text/plain": [
       "Text(0, 0.5, 'Price in Lakhs')"
      ]
     },
     "execution_count": 380,
     "metadata": {},
     "output_type": "execute_result"
    },
    {
     "data": {
      "image/png": "[encoded data removed]",
      "text/plain": [
       "<Figure size 504x216 with 1 Axes>"
      ]
     },
     "metadata": {},
     "output_type": "display_data"
    }
   ],
   "source": [
    "import matplotlib.pyplot as plt\n",
    "fig, ax = plt.subplots(figsize=(7,3))\n",
    "df.groupby(['House_Type']).mean()['Price_Lakhs'].plot(ax=ax)\n",
    "ax.set_ylabel('Price in Lakhs')"
   ]
  },
  {
   "cell_type": "markdown",
   "metadata": {},
   "source": [
    "#### Let's understand the entire list of independent features and analyze their impact on prices"
   ]
  },
  {
   "cell_type": "code",
   "execution_count": 381,
   "metadata": {},
   "outputs": [
    {
     "data": {
      "text/plain": [
       "Text(0, 0.5, 'Price in Lakhs')"
      ]
     },
     "execution_count": 381,
     "metadata": {},
     "output_type": "execute_result"
    },
    {
     "data": {
      "image/png": "[encoded data removed]",
      "text/plain": [
       "<Figure size 504x216 with 1 Axes>"
      ]
     },
     "metadata": {},
     "output_type": "display_data"
    }
   ],
   "source": [
    "fig, ax = plt.subplots(figsize=(7,3))\n",
    "df.groupby(['Area']).mean()['Price_Lakhs'].plot(ax=ax)\n",
    "ax.set_ylabel('Price in Lakhs')"
   ]
  },
  {
   "cell_type": "code",
   "execution_count": 382,
   "metadata": {},
   "outputs": [
    {
     "data": {
      "text/plain": [
       "Text(0, 0.5, 'Price in Lakhs')"
      ]
     },
     "execution_count": 382,
     "metadata": {},
     "output_type": "execute_result"
    },
    {
     "data": {
      "image/png": "[encoded data removed]",
      "text/plain": [
       "<Figure size 504x216 with 1 Axes>"
      ]
     },
     "metadata": {},
     "output_type": "display_data"
    }
   ],
   "source": [
    "fig, ax = plt.subplots(figsize=(7,3))\n",
    "df.groupby(['City']).mean()['Price_Lakhs'].plot(ax=ax)\n",
    "ax.set_ylabel('Price in Lakhs')"
   ]
  },
  {
   "cell_type": "code",
   "execution_count": 383,
   "metadata": {},
   "outputs": [
    {
     "data": {
      "text/plain": [
       "Text(0, 0.5, 'Price in Lakhs')"
      ]
     },
     "execution_count": 383,
     "metadata": {},
     "output_type": "execute_result"
    },
    {
     "data": {
      "image/png": "[encoded data removed]",
      "text/plain": [
       "<Figure size 504x216 with 1 Axes>"
      ]
     },
     "metadata": {},
     "output_type": "display_data"
    }
   ],
   "source": [
    "fig, ax = plt.subplots(figsize=(7,3))\n",
    "df.groupby(['Hospitals_Distance']).mean()['Price_Lakhs'].plot(ax=ax)\n",
    "ax.set_xlabel('Hospitals_Distance in KM')\n",
    "ax.set_ylabel('Price in Lakhs')"
   ]
  },
  {
   "cell_type": "code",
   "execution_count": 384,
   "metadata": {},
   "outputs": [
    {
     "data": {
      "text/plain": [
       "Text(0, 0.5, 'Price in Lakhs')"
      ]
     },
     "execution_count": 384,
     "metadata": {},
     "output_type": "execute_result"
    },
    {
     "data": {
      "image/png": "[encoded data removed]",
      "text/plain": [
       "<Figure size 504x216 with 1 Axes>"
      ]
     },
     "metadata": {},
     "output_type": "display_data"
    }
   ],
   "source": [
    "fig, ax = plt.subplots(figsize=(7,3))\n",
    "df.groupby(['Schools_Distance']).mean()['Price_Lakhs'].plot(ax=ax)\n",
    "ax.set_xlabel('Schools_Distance in KM')\n",
    "ax.set_ylabel('Price in Lakhs')"
   ]
  },
  {
   "cell_type": "code",
   "execution_count": 385,
   "metadata": {},
   "outputs": [
    {
     "data": {
      "text/plain": [
       "Text(0, 0.5, 'Price in Lakhs')"
      ]
     },
     "execution_count": 385,
     "metadata": {},
     "output_type": "execute_result"
    },
    {
     "data": {
      "image/png": "[encoded data removed]",
      "text/plain": [
       "<Figure size 504x216 with 1 Axes>"
      ]
     },
     "metadata": {},
     "output_type": "display_data"
    }
   ],
   "source": [
    "fig, ax = plt.subplots(figsize=(7,3))\n",
    "df.groupby(['Subway_Distance']).mean()['Price_Lakhs'].plot(ax=ax)\n",
    "ax.set_xlabel('Subway_Distance in KM')\n",
    "ax.set_ylabel('Price in Lakhs')"
   ]
  },
  {
   "cell_type": "markdown",
   "metadata": {},
   "source": [
    "### Let's conclude the above plots and understand what is the pattern we observed in independent features\n",
    "#### 1. No. of BHK: We can observe in this plot that as the number of BHK is increasing, price is also increasing\n",
    "#### 2. House_Type: We can observe in this plot that Bunglow and Villa is having highest price in comparison of society and builder house.\n",
    "#### 3. Area: We can observe that area is crucial factor in price calculation but there could be some other parameters that might be effecting the price in this case. Because as per the line graph with big areas of house price is decreasing.\n",
    "#### 4. City: Similarly Meerut is the city that is having highest price and price is not consistent among any cities.\n",
    "#### 5. Hospital, Schools & Subway: These factors are giving fluctuated results.\n",
    "#### For Example: Higher price houses are near the hospitals, whereas Schools and Subway distance are not consistent"
   ]
  },
  {
   "cell_type": "code",
   "execution_count": null,
   "metadata": {},
   "outputs": [],
   "source": []
  },
  {
   "cell_type": "code",
   "execution_count": null,
   "metadata": {},
   "outputs": [],
   "source": []
  },
  {
   "cell_type": "markdown",
   "metadata": {},
   "source": [
    "### Outlier analysis\n",
    "#### Scatter plot is shown for one independent feature 'City' to show how outliers are appearing. To understand more in detail about the status of all independent feature change the value of 'x' below as per requirement. \n",
    "#### Apart from it, we can use different methodologies for outlier analysis such as DBSCAN, IQR, ZScore and we can remove them accordingly. But here data set is very small & from learning perspective only, therefore, not removing any data."
   ]
  },
  {
   "cell_type": "code",
   "execution_count": 386,
   "metadata": {},
   "outputs": [
    {
     "name": "stderr",
     "output_type": "stream",
     "text": [
      "*c* argument looks like a single numeric RGB or RGBA sequence, which should be avoided as value-mapping will have precedence in case its length matches with *x* & *y*.  Please use the *color* keyword-argument or provide a 2-D array with a single row if you intend to specify the same RGB or RGBA value for all points.\n"
     ]
    },
    {
     "data": {
      "text/plain": [
       "<matplotlib.axes._subplots.AxesSubplot at 0x237cd1b1310>"
      ]
     },
     "execution_count": 386,
     "metadata": {},
     "output_type": "execute_result"
    },
    {
     "data": {
      "image/png": "[encoded data removed]",
      "text/plain": [
       "<Figure size 432x288 with 1 Axes>"
      ]
     },
     "metadata": {},
     "output_type": "display_data"
    }
   ],
   "source": [
    "# Plot scatter, line and other graph to explore data\n",
    "df.plot.scatter(x = 'City', y = 'Price_Lakhs')"
   ]
  },
  {
   "cell_type": "markdown",
   "metadata": {},
   "source": []
  },
  {
   "cell_type": "markdown",
   "metadata": {},
   "source": [
    "### Feature Engineering"
   ]
  },
  {
   "cell_type": "code",
   "execution_count": 387,
   "metadata": {},
   "outputs": [
    {
     "data": {
      "text/html": [
       "<div>\n",
       "<style scoped>\n",
       "    .dataframe tbody tr th:only-of-type {\n",
       "        vertical-align: middle;\n",
       "    }\n",
       "\n",
       "    .dataframe tbody tr th {\n",
       "        vertical-align: top;\n",
       "    }\n",
       "\n",
       "    .dataframe thead th {\n",
       "        text-align: right;\n",
       "    }\n",
       "</style>\n",
       "<table border=\"1\" class=\"dataframe\">\n",
       "  <thead>\n",
       "    <tr style=\"text-align: right;\">\n",
       "      <th></th>\n",
       "      <th>Rera_Approved</th>\n",
       "      <th>Area</th>\n",
       "      <th>ReadyToMove</th>\n",
       "      <th>Resale</th>\n",
       "      <th>Hospitals_Distance</th>\n",
       "      <th>Schools_Distance</th>\n",
       "      <th>Subway_Distance</th>\n",
       "      <th>Price_Lakhs</th>\n",
       "      <th>Car Parking</th>\n",
       "      <th>Car Parking Fire Fighting Systems Lift</th>\n",
       "      <th>...</th>\n",
       "      <th>City_Noida</th>\n",
       "      <th>No_of_BHK_1</th>\n",
       "      <th>No_of_BHK_2</th>\n",
       "      <th>No_of_BHK_3</th>\n",
       "      <th>No_of_BHK_4</th>\n",
       "      <th>No_of_BHK_5</th>\n",
       "      <th>No_of_BHK_6</th>\n",
       "      <th>No_of_BHK_7</th>\n",
       "      <th>No_of_BHK_8</th>\n",
       "      <th>No_of_BHK_9</th>\n",
       "    </tr>\n",
       "  </thead>\n",
       "  <tbody>\n",
       "    <tr>\n",
       "      <th>0</th>\n",
       "      <td>1</td>\n",
       "      <td>1000</td>\n",
       "      <td>1</td>\n",
       "      <td>1</td>\n",
       "      <td>5</td>\n",
       "      <td>1</td>\n",
       "      <td>2</td>\n",
       "      <td>40</td>\n",
       "      <td>1</td>\n",
       "      <td>0</td>\n",
       "      <td>...</td>\n",
       "      <td>0</td>\n",
       "      <td>0</td>\n",
       "      <td>1</td>\n",
       "      <td>0</td>\n",
       "      <td>0</td>\n",
       "      <td>0</td>\n",
       "      <td>0</td>\n",
       "      <td>0</td>\n",
       "      <td>0</td>\n",
       "      <td>0</td>\n",
       "    </tr>\n",
       "    <tr>\n",
       "      <th>1</th>\n",
       "      <td>1</td>\n",
       "      <td>500</td>\n",
       "      <td>1</td>\n",
       "      <td>1</td>\n",
       "      <td>5</td>\n",
       "      <td>1</td>\n",
       "      <td>2</td>\n",
       "      <td>20</td>\n",
       "      <td>1</td>\n",
       "      <td>0</td>\n",
       "      <td>...</td>\n",
       "      <td>0</td>\n",
       "      <td>1</td>\n",
       "      <td>0</td>\n",
       "      <td>0</td>\n",
       "      <td>0</td>\n",
       "      <td>0</td>\n",
       "      <td>0</td>\n",
       "      <td>0</td>\n",
       "      <td>0</td>\n",
       "      <td>0</td>\n",
       "    </tr>\n",
       "    <tr>\n",
       "      <th>2</th>\n",
       "      <td>0</td>\n",
       "      <td>1000</td>\n",
       "      <td>1</td>\n",
       "      <td>1</td>\n",
       "      <td>5</td>\n",
       "      <td>3</td>\n",
       "      <td>2</td>\n",
       "      <td>35</td>\n",
       "      <td>0</td>\n",
       "      <td>0</td>\n",
       "      <td>...</td>\n",
       "      <td>0</td>\n",
       "      <td>0</td>\n",
       "      <td>1</td>\n",
       "      <td>0</td>\n",
       "      <td>0</td>\n",
       "      <td>0</td>\n",
       "      <td>0</td>\n",
       "      <td>0</td>\n",
       "      <td>0</td>\n",
       "      <td>0</td>\n",
       "    </tr>\n",
       "    <tr>\n",
       "      <th>3</th>\n",
       "      <td>0</td>\n",
       "      <td>1000</td>\n",
       "      <td>1</td>\n",
       "      <td>1</td>\n",
       "      <td>5</td>\n",
       "      <td>3</td>\n",
       "      <td>2</td>\n",
       "      <td>35</td>\n",
       "      <td>0</td>\n",
       "      <td>0</td>\n",
       "      <td>...</td>\n",
       "      <td>0</td>\n",
       "      <td>0</td>\n",
       "      <td>1</td>\n",
       "      <td>0</td>\n",
       "      <td>0</td>\n",
       "      <td>0</td>\n",
       "      <td>0</td>\n",
       "      <td>0</td>\n",
       "      <td>0</td>\n",
       "      <td>0</td>\n",
       "    </tr>\n",
       "    <tr>\n",
       "      <th>4</th>\n",
       "      <td>0</td>\n",
       "      <td>700</td>\n",
       "      <td>1</td>\n",
       "      <td>1</td>\n",
       "      <td>5</td>\n",
       "      <td>3</td>\n",
       "      <td>2</td>\n",
       "      <td>30</td>\n",
       "      <td>1</td>\n",
       "      <td>0</td>\n",
       "      <td>...</td>\n",
       "      <td>0</td>\n",
       "      <td>1</td>\n",
       "      <td>0</td>\n",
       "      <td>0</td>\n",
       "      <td>0</td>\n",
       "      <td>0</td>\n",
       "      <td>0</td>\n",
       "      <td>0</td>\n",
       "      <td>0</td>\n",
       "      <td>0</td>\n",
       "    </tr>\n",
       "  </tbody>\n",
       "</table>\n",
       "<p>5 rows × 37 columns</p>\n",
       "</div>"
      ],
      "text/plain": [
       "   Rera_Approved  Area  ReadyToMove  Resale  Hospitals_Distance  \\\n",
       "0              1  1000            1       1                   5   \n",
       "1              1   500            1       1                   5   \n",
       "2              0  1000            1       1                   5   \n",
       "3              0  1000            1       1                   5   \n",
       "4              0   700            1       1                   5   \n",
       "\n",
       "   Schools_Distance  Subway_Distance  Price_Lakhs  Car Parking  \\\n",
       "0                 1                2           40            1   \n",
       "1                 1                2           20            1   \n",
       "2                 3                2           35            0   \n",
       "3                 3                2           35            0   \n",
       "4                 3                2           30            1   \n",
       "\n",
       "   Car Parking Fire Fighting Systems Lift  ...  City_Noida  No_of_BHK_1  \\\n",
       "0                                       0  ...           0            0   \n",
       "1                                       0  ...           0            1   \n",
       "2                                       0  ...           0            0   \n",
       "3                                       0  ...           0            0   \n",
       "4                                       0  ...           0            1   \n",
       "\n",
       "   No_of_BHK_2  No_of_BHK_3  No_of_BHK_4  No_of_BHK_5  No_of_BHK_6  \\\n",
       "0            1            0            0            0            0   \n",
       "1            0            0            0            0            0   \n",
       "2            1            0            0            0            0   \n",
       "3            1            0            0            0            0   \n",
       "4            0            0            0            0            0   \n",
       "\n",
       "   No_of_BHK_7  No_of_BHK_8  No_of_BHK_9  \n",
       "0            0            0            0  \n",
       "1            0            0            0  \n",
       "2            0            0            0  \n",
       "3            0            0            0  \n",
       "4            0            0            0  \n",
       "\n",
       "[5 rows x 37 columns]"
      ]
     },
     "execution_count": 387,
     "metadata": {},
     "output_type": "execute_result"
    }
   ],
   "source": [
    "tempdf = df\n",
    "newdf = pd.concat([tempdf.drop('Amenities', 1), tempdf['Amenities'].str.get_dummies(sep=\",\")], 1)\n",
    "\n",
    "fe_df = pd.get_dummies(newdf, columns=['House_Type', 'City', 'No_of_BHK'])\n",
    "fe_df.head()"
   ]
  },
  {
   "cell_type": "code",
   "execution_count": 388,
   "metadata": {},
   "outputs": [
    {
     "data": {
      "text/plain": [
       "(83, 21)"
      ]
     },
     "execution_count": 388,
     "metadata": {},
     "output_type": "execute_result"
    }
   ],
   "source": [
    "newdf.shape"
   ]
  },
  {
   "cell_type": "code",
   "execution_count": 389,
   "metadata": {},
   "outputs": [
    {
     "data": {
      "text/plain": [
       "Index(['Rera_Approved', 'Area', 'ReadyToMove', 'Resale', 'Hospitals_Distance',\n",
       "       'Schools_Distance', 'Subway_Distance', 'Price_Lakhs', 'Car Parking',\n",
       "       'Car Parking Fire Fighting Systems Lift', 'Club House',\n",
       "       'Fire Fighting Systems', 'Gymnasium', 'InterCom', 'Kids Play Area',\n",
       "       'Lift', 'PowerBackup', 'Water Supply', 'House_Type_Builder',\n",
       "       'House_Type_Bunglow', 'House_Type_Society', 'House_Type_Villa',\n",
       "       'City_Delhi', 'City_Faridabad', 'City_Ghaziabad', 'City_Gurugram',\n",
       "       'City_Merrut', 'City_Noida', 'No_of_BHK_1', 'No_of_BHK_2',\n",
       "       'No_of_BHK_3', 'No_of_BHK_4', 'No_of_BHK_5', 'No_of_BHK_6',\n",
       "       'No_of_BHK_7', 'No_of_BHK_8', 'No_of_BHK_9'],\n",
       "      dtype='object')"
      ]
     },
     "execution_count": 389,
     "metadata": {},
     "output_type": "execute_result"
    }
   ],
   "source": [
    "fe_df.columns"
   ]
  },
  {
   "cell_type": "code",
   "execution_count": 390,
   "metadata": {},
   "outputs": [
    {
     "data": {
      "text/html": [
       "<div>\n",
       "<style scoped>\n",
       "    .dataframe tbody tr th:only-of-type {\n",
       "        vertical-align: middle;\n",
       "    }\n",
       "\n",
       "    .dataframe tbody tr th {\n",
       "        vertical-align: top;\n",
       "    }\n",
       "\n",
       "    .dataframe thead th {\n",
       "        text-align: right;\n",
       "    }\n",
       "</style>\n",
       "<table border=\"1\" class=\"dataframe\">\n",
       "  <thead>\n",
       "    <tr style=\"text-align: right;\">\n",
       "      <th></th>\n",
       "      <th>Rera_Approved</th>\n",
       "      <th>Area</th>\n",
       "      <th>ReadyToMove</th>\n",
       "      <th>Resale</th>\n",
       "      <th>Hospitals_Distance</th>\n",
       "      <th>Schools_Distance</th>\n",
       "      <th>Subway_Distance</th>\n",
       "      <th>Price_Lakhs</th>\n",
       "      <th>Car Parking</th>\n",
       "      <th>Car Parking Fire Fighting Systems Lift</th>\n",
       "      <th>...</th>\n",
       "      <th>City_Noida</th>\n",
       "      <th>No_of_BHK_1</th>\n",
       "      <th>No_of_BHK_2</th>\n",
       "      <th>No_of_BHK_3</th>\n",
       "      <th>No_of_BHK_4</th>\n",
       "      <th>No_of_BHK_5</th>\n",
       "      <th>No_of_BHK_6</th>\n",
       "      <th>No_of_BHK_7</th>\n",
       "      <th>No_of_BHK_8</th>\n",
       "      <th>No_of_BHK_9</th>\n",
       "    </tr>\n",
       "  </thead>\n",
       "  <tbody>\n",
       "    <tr>\n",
       "      <th>0</th>\n",
       "      <td>1</td>\n",
       "      <td>1000</td>\n",
       "      <td>1</td>\n",
       "      <td>1</td>\n",
       "      <td>5</td>\n",
       "      <td>1</td>\n",
       "      <td>2</td>\n",
       "      <td>40</td>\n",
       "      <td>1</td>\n",
       "      <td>0</td>\n",
       "      <td>...</td>\n",
       "      <td>0</td>\n",
       "      <td>0</td>\n",
       "      <td>1</td>\n",
       "      <td>0</td>\n",
       "      <td>0</td>\n",
       "      <td>0</td>\n",
       "      <td>0</td>\n",
       "      <td>0</td>\n",
       "      <td>0</td>\n",
       "      <td>0</td>\n",
       "    </tr>\n",
       "    <tr>\n",
       "      <th>1</th>\n",
       "      <td>1</td>\n",
       "      <td>500</td>\n",
       "      <td>1</td>\n",
       "      <td>1</td>\n",
       "      <td>5</td>\n",
       "      <td>1</td>\n",
       "      <td>2</td>\n",
       "      <td>20</td>\n",
       "      <td>1</td>\n",
       "      <td>0</td>\n",
       "      <td>...</td>\n",
       "      <td>0</td>\n",
       "      <td>1</td>\n",
       "      <td>0</td>\n",
       "      <td>0</td>\n",
       "      <td>0</td>\n",
       "      <td>0</td>\n",
       "      <td>0</td>\n",
       "      <td>0</td>\n",
       "      <td>0</td>\n",
       "      <td>0</td>\n",
       "    </tr>\n",
       "    <tr>\n",
       "      <th>2</th>\n",
       "      <td>0</td>\n",
       "      <td>1000</td>\n",
       "      <td>1</td>\n",
       "      <td>1</td>\n",
       "      <td>5</td>\n",
       "      <td>3</td>\n",
       "      <td>2</td>\n",
       "      <td>35</td>\n",
       "      <td>0</td>\n",
       "      <td>0</td>\n",
       "      <td>...</td>\n",
       "      <td>0</td>\n",
       "      <td>0</td>\n",
       "      <td>1</td>\n",
       "      <td>0</td>\n",
       "      <td>0</td>\n",
       "      <td>0</td>\n",
       "      <td>0</td>\n",
       "      <td>0</td>\n",
       "      <td>0</td>\n",
       "      <td>0</td>\n",
       "    </tr>\n",
       "    <tr>\n",
       "      <th>3</th>\n",
       "      <td>0</td>\n",
       "      <td>1000</td>\n",
       "      <td>1</td>\n",
       "      <td>1</td>\n",
       "      <td>5</td>\n",
       "      <td>3</td>\n",
       "      <td>2</td>\n",
       "      <td>35</td>\n",
       "      <td>0</td>\n",
       "      <td>0</td>\n",
       "      <td>...</td>\n",
       "      <td>0</td>\n",
       "      <td>0</td>\n",
       "      <td>1</td>\n",
       "      <td>0</td>\n",
       "      <td>0</td>\n",
       "      <td>0</td>\n",
       "      <td>0</td>\n",
       "      <td>0</td>\n",
       "      <td>0</td>\n",
       "      <td>0</td>\n",
       "    </tr>\n",
       "    <tr>\n",
       "      <th>4</th>\n",
       "      <td>0</td>\n",
       "      <td>700</td>\n",
       "      <td>1</td>\n",
       "      <td>1</td>\n",
       "      <td>5</td>\n",
       "      <td>3</td>\n",
       "      <td>2</td>\n",
       "      <td>30</td>\n",
       "      <td>1</td>\n",
       "      <td>0</td>\n",
       "      <td>...</td>\n",
       "      <td>0</td>\n",
       "      <td>1</td>\n",
       "      <td>0</td>\n",
       "      <td>0</td>\n",
       "      <td>0</td>\n",
       "      <td>0</td>\n",
       "      <td>0</td>\n",
       "      <td>0</td>\n",
       "      <td>0</td>\n",
       "      <td>0</td>\n",
       "    </tr>\n",
       "  </tbody>\n",
       "</table>\n",
       "<p>5 rows × 37 columns</p>\n",
       "</div>"
      ],
      "text/plain": [
       "   Rera_Approved  Area  ReadyToMove  Resale  Hospitals_Distance  \\\n",
       "0              1  1000            1       1                   5   \n",
       "1              1   500            1       1                   5   \n",
       "2              0  1000            1       1                   5   \n",
       "3              0  1000            1       1                   5   \n",
       "4              0   700            1       1                   5   \n",
       "\n",
       "   Schools_Distance  Subway_Distance  Price_Lakhs  Car Parking  \\\n",
       "0                 1                2           40            1   \n",
       "1                 1                2           20            1   \n",
       "2                 3                2           35            0   \n",
       "3                 3                2           35            0   \n",
       "4                 3                2           30            1   \n",
       "\n",
       "   Car Parking Fire Fighting Systems Lift  ...  City_Noida  No_of_BHK_1  \\\n",
       "0                                       0  ...           0            0   \n",
       "1                                       0  ...           0            1   \n",
       "2                                       0  ...           0            0   \n",
       "3                                       0  ...           0            0   \n",
       "4                                       0  ...           0            1   \n",
       "\n",
       "   No_of_BHK_2  No_of_BHK_3  No_of_BHK_4  No_of_BHK_5  No_of_BHK_6  \\\n",
       "0            1            0            0            0            0   \n",
       "1            0            0            0            0            0   \n",
       "2            1            0            0            0            0   \n",
       "3            1            0            0            0            0   \n",
       "4            0            0            0            0            0   \n",
       "\n",
       "   No_of_BHK_7  No_of_BHK_8  No_of_BHK_9  \n",
       "0            0            0            0  \n",
       "1            0            0            0  \n",
       "2            0            0            0  \n",
       "3            0            0            0  \n",
       "4            0            0            0  \n",
       "\n",
       "[5 rows x 37 columns]"
      ]
     },
     "execution_count": 390,
     "metadata": {},
     "output_type": "execute_result"
    }
   ],
   "source": [
    "fe_df.head()"
   ]
  },
  {
   "cell_type": "markdown",
   "metadata": {},
   "source": [
    "#### Reduce the scale of Data"
   ]
  },
  {
   "cell_type": "code",
   "execution_count": 391,
   "metadata": {},
   "outputs": [
    {
     "name": "stdout",
     "output_type": "stream",
     "text": [
      "['Area', 'Hospitals_Distance', 'Schools_Distance', 'Subway_Distance']\n"
     ]
    },
    {
     "data": {
      "text/html": [
       "<div>\n",
       "<style scoped>\n",
       "    .dataframe tbody tr th:only-of-type {\n",
       "        vertical-align: middle;\n",
       "    }\n",
       "\n",
       "    .dataframe tbody tr th {\n",
       "        vertical-align: top;\n",
       "    }\n",
       "\n",
       "    .dataframe thead th {\n",
       "        text-align: right;\n",
       "    }\n",
       "</style>\n",
       "<table border=\"1\" class=\"dataframe\">\n",
       "  <thead>\n",
       "    <tr style=\"text-align: right;\">\n",
       "      <th></th>\n",
       "      <th>Rera_Approved</th>\n",
       "      <th>Area</th>\n",
       "      <th>ReadyToMove</th>\n",
       "      <th>Resale</th>\n",
       "      <th>Hospitals_Distance</th>\n",
       "      <th>Schools_Distance</th>\n",
       "      <th>Subway_Distance</th>\n",
       "      <th>Price_Lakhs</th>\n",
       "      <th>Car Parking</th>\n",
       "      <th>Car Parking Fire Fighting Systems Lift</th>\n",
       "      <th>...</th>\n",
       "      <th>City_Noida</th>\n",
       "      <th>No_of_BHK_1</th>\n",
       "      <th>No_of_BHK_2</th>\n",
       "      <th>No_of_BHK_3</th>\n",
       "      <th>No_of_BHK_4</th>\n",
       "      <th>No_of_BHK_5</th>\n",
       "      <th>No_of_BHK_6</th>\n",
       "      <th>No_of_BHK_7</th>\n",
       "      <th>No_of_BHK_8</th>\n",
       "      <th>No_of_BHK_9</th>\n",
       "    </tr>\n",
       "  </thead>\n",
       "  <tbody>\n",
       "    <tr>\n",
       "      <th>0</th>\n",
       "      <td>1</td>\n",
       "      <td>-0.584365</td>\n",
       "      <td>1</td>\n",
       "      <td>1</td>\n",
       "      <td>1.179005</td>\n",
       "      <td>-1.403317</td>\n",
       "      <td>-0.713319</td>\n",
       "      <td>40</td>\n",
       "      <td>1</td>\n",
       "      <td>0</td>\n",
       "      <td>...</td>\n",
       "      <td>0</td>\n",
       "      <td>0</td>\n",
       "      <td>1</td>\n",
       "      <td>0</td>\n",
       "      <td>0</td>\n",
       "      <td>0</td>\n",
       "      <td>0</td>\n",
       "      <td>0</td>\n",
       "      <td>0</td>\n",
       "      <td>0</td>\n",
       "    </tr>\n",
       "    <tr>\n",
       "      <th>1</th>\n",
       "      <td>1</td>\n",
       "      <td>-1.158356</td>\n",
       "      <td>1</td>\n",
       "      <td>1</td>\n",
       "      <td>1.179005</td>\n",
       "      <td>-1.403317</td>\n",
       "      <td>-0.713319</td>\n",
       "      <td>20</td>\n",
       "      <td>1</td>\n",
       "      <td>0</td>\n",
       "      <td>...</td>\n",
       "      <td>0</td>\n",
       "      <td>1</td>\n",
       "      <td>0</td>\n",
       "      <td>0</td>\n",
       "      <td>0</td>\n",
       "      <td>0</td>\n",
       "      <td>0</td>\n",
       "      <td>0</td>\n",
       "      <td>0</td>\n",
       "      <td>0</td>\n",
       "    </tr>\n",
       "    <tr>\n",
       "      <th>2</th>\n",
       "      <td>0</td>\n",
       "      <td>-0.584365</td>\n",
       "      <td>1</td>\n",
       "      <td>1</td>\n",
       "      <td>1.179005</td>\n",
       "      <td>-0.064520</td>\n",
       "      <td>-0.713319</td>\n",
       "      <td>35</td>\n",
       "      <td>0</td>\n",
       "      <td>0</td>\n",
       "      <td>...</td>\n",
       "      <td>0</td>\n",
       "      <td>0</td>\n",
       "      <td>1</td>\n",
       "      <td>0</td>\n",
       "      <td>0</td>\n",
       "      <td>0</td>\n",
       "      <td>0</td>\n",
       "      <td>0</td>\n",
       "      <td>0</td>\n",
       "      <td>0</td>\n",
       "    </tr>\n",
       "    <tr>\n",
       "      <th>3</th>\n",
       "      <td>0</td>\n",
       "      <td>-0.584365</td>\n",
       "      <td>1</td>\n",
       "      <td>1</td>\n",
       "      <td>1.179005</td>\n",
       "      <td>-0.064520</td>\n",
       "      <td>-0.713319</td>\n",
       "      <td>35</td>\n",
       "      <td>0</td>\n",
       "      <td>0</td>\n",
       "      <td>...</td>\n",
       "      <td>0</td>\n",
       "      <td>0</td>\n",
       "      <td>1</td>\n",
       "      <td>0</td>\n",
       "      <td>0</td>\n",
       "      <td>0</td>\n",
       "      <td>0</td>\n",
       "      <td>0</td>\n",
       "      <td>0</td>\n",
       "      <td>0</td>\n",
       "    </tr>\n",
       "    <tr>\n",
       "      <th>4</th>\n",
       "      <td>0</td>\n",
       "      <td>-0.928759</td>\n",
       "      <td>1</td>\n",
       "      <td>1</td>\n",
       "      <td>1.179005</td>\n",
       "      <td>-0.064520</td>\n",
       "      <td>-0.713319</td>\n",
       "      <td>30</td>\n",
       "      <td>1</td>\n",
       "      <td>0</td>\n",
       "      <td>...</td>\n",
       "      <td>0</td>\n",
       "      <td>1</td>\n",
       "      <td>0</td>\n",
       "      <td>0</td>\n",
       "      <td>0</td>\n",
       "      <td>0</td>\n",
       "      <td>0</td>\n",
       "      <td>0</td>\n",
       "      <td>0</td>\n",
       "      <td>0</td>\n",
       "    </tr>\n",
       "  </tbody>\n",
       "</table>\n",
       "<p>5 rows × 37 columns</p>\n",
       "</div>"
      ],
      "text/plain": [
       "   Rera_Approved      Area  ReadyToMove  Resale  Hospitals_Distance  \\\n",
       "0              1 -0.584365            1       1            1.179005   \n",
       "1              1 -1.158356            1       1            1.179005   \n",
       "2              0 -0.584365            1       1            1.179005   \n",
       "3              0 -0.584365            1       1            1.179005   \n",
       "4              0 -0.928759            1       1            1.179005   \n",
       "\n",
       "   Schools_Distance  Subway_Distance  Price_Lakhs  Car Parking  \\\n",
       "0         -1.403317        -0.713319           40            1   \n",
       "1         -1.403317        -0.713319           20            1   \n",
       "2         -0.064520        -0.713319           35            0   \n",
       "3         -0.064520        -0.713319           35            0   \n",
       "4         -0.064520        -0.713319           30            1   \n",
       "\n",
       "   Car Parking Fire Fighting Systems Lift  ...  City_Noida  No_of_BHK_1  \\\n",
       "0                                       0  ...           0            0   \n",
       "1                                       0  ...           0            1   \n",
       "2                                       0  ...           0            0   \n",
       "3                                       0  ...           0            0   \n",
       "4                                       0  ...           0            1   \n",
       "\n",
       "   No_of_BHK_2  No_of_BHK_3  No_of_BHK_4  No_of_BHK_5  No_of_BHK_6  \\\n",
       "0            1            0            0            0            0   \n",
       "1            0            0            0            0            0   \n",
       "2            1            0            0            0            0   \n",
       "3            1            0            0            0            0   \n",
       "4            0            0            0            0            0   \n",
       "\n",
       "   No_of_BHK_7  No_of_BHK_8  No_of_BHK_9  \n",
       "0            0            0            0  \n",
       "1            0            0            0  \n",
       "2            0            0            0  \n",
       "3            0            0            0  \n",
       "4            0            0            0  \n",
       "\n",
       "[5 rows x 37 columns]"
      ]
     },
     "execution_count": 391,
     "metadata": {},
     "output_type": "execute_result"
    }
   ],
   "source": [
    "from sklearn.preprocessing import StandardScaler\n",
    "\n",
    "# StandardScaler removes the mean and scales each feature/variable to unit variance.\n",
    "stdSlr = StandardScaler()\n",
    "col_to_scale = ['Area', 'Hospitals_Distance', 'Schools_Distance', 'Subway_Distance']\n",
    "print(col_to_scale)\n",
    "fe_df[col_to_scale] = stdSlr.fit_transform(fe_df[col_to_scale])\n",
    "fe_df.head()\n"
   ]
  },
  {
   "cell_type": "code",
   "execution_count": 392,
   "metadata": {},
   "outputs": [
    {
     "data": {
      "text/plain": [
       "Index(['Rera_Approved', 'Area', 'ReadyToMove', 'Resale', 'Hospitals_Distance',\n",
       "       'Schools_Distance', 'Subway_Distance', 'Price_Lakhs', 'Car Parking',\n",
       "       'Car Parking Fire Fighting Systems Lift', 'Club House',\n",
       "       'Fire Fighting Systems', 'Gymnasium', 'InterCom', 'Kids Play Area',\n",
       "       'Lift', 'PowerBackup', 'Water Supply', 'House_Type_Builder',\n",
       "       'House_Type_Bunglow', 'House_Type_Society', 'House_Type_Villa',\n",
       "       'City_Delhi', 'City_Faridabad', 'City_Ghaziabad', 'City_Gurugram',\n",
       "       'City_Merrut', 'City_Noida', 'No_of_BHK_1', 'No_of_BHK_2',\n",
       "       'No_of_BHK_3', 'No_of_BHK_4', 'No_of_BHK_5', 'No_of_BHK_6',\n",
       "       'No_of_BHK_7', 'No_of_BHK_8', 'No_of_BHK_9'],\n",
       "      dtype='object')"
      ]
     },
     "execution_count": 392,
     "metadata": {},
     "output_type": "execute_result"
    }
   ],
   "source": [
    "fe_df.columns"
   ]
  },
  {
   "cell_type": "code",
   "execution_count": null,
   "metadata": {},
   "outputs": [],
   "source": []
  },
  {
   "cell_type": "markdown",
   "metadata": {},
   "source": [
    "#### Let's check the feature importance of entire data set using LassoCV. If the feature is irrelevant, lasso penalizes it’s coefficient and make it 0. Hence the features with coefficient = 0 are removed and the rest are taken"
   ]
  },
  {
   "cell_type": "code",
   "execution_count": 393,
   "metadata": {},
   "outputs": [
    {
     "name": "stdout",
     "output_type": "stream",
     "text": [
      "Best alpha using built-in LassoCV: 0.573676\n",
      "Best score using built-in LassoCV: 0.639998\n",
      "Lasso picked 16 variables and eliminated the other 20 variables\n"
     ]
    }
   ],
   "source": [
    "# import Lasso regression from sklearn library\n",
    "from sklearn.linear_model import LassoCV\n",
    "\n",
    "X = fe_df.drop(\"Price_Lakhs\",1)\n",
    "y = fe_df['Price_Lakhs']\n",
    "\n",
    "reg = LassoCV()\n",
    "reg.fit(X, y)\n",
    "print(\"Best alpha using built-in LassoCV: %f\" % reg.alpha_)\n",
    "print(\"Best score using built-in LassoCV: %f\" %reg.score(X,y))\n",
    "coef = pd.Series(reg.coef_, index = X.columns)\n",
    "\n",
    "print(\"Lasso picked \" + str(sum(coef != 0)) + \" variables and eliminated the other \" +  str(sum(coef == 0)) + \" variables\")"
   ]
  },
  {
   "cell_type": "code",
   "execution_count": 394,
   "metadata": {
    "scrolled": true
   },
   "outputs": [
    {
     "data": {
      "text/plain": [
       "Text(0.5, 1.0, 'Feature importance using Lasso Model')"
      ]
     },
     "execution_count": 394,
     "metadata": {},
     "output_type": "execute_result"
    },
    {
     "data": {
      "image/png": "[encoded data removed]",
      "text/plain": [
       "<Figure size 360x504 with 1 Axes>"
      ]
     },
     "metadata": {},
     "output_type": "display_data"
    }
   ],
   "source": [
    "imp_coef = coef.sort_values()\n",
    "import matplotlib\n",
    "matplotlib.rcParams['figure.figsize'] = (5, 7)\n",
    "imp_coef.plot(kind = \"barh\")\n",
    "plt.title(\"Feature importance using Lasso Model\")"
   ]
  },
  {
   "cell_type": "code",
   "execution_count": 395,
   "metadata": {},
   "outputs": [
    {
     "data": {
      "text/plain": [
       "Rera_Approved                              True\n",
       "Area                                       True\n",
       "ReadyToMove                                True\n",
       "Resale                                     True\n",
       "Hospitals_Distance                         True\n",
       "Schools_Distance                           True\n",
       "Subway_Distance                           False\n",
       "Car Parking                               False\n",
       "Car Parking Fire Fighting Systems Lift    False\n",
       "Club House                                False\n",
       "Fire Fighting Systems                      True\n",
       "Gymnasium                                 False\n",
       "InterCom                                  False\n",
       "Kids Play Area                             True\n",
       "Lift                                       True\n",
       "PowerBackup                               False\n",
       "Water Supply                              False\n",
       "House_Type_Builder                         True\n",
       "House_Type_Bunglow                        False\n",
       "House_Type_Society                        False\n",
       "House_Type_Villa                           True\n",
       "City_Delhi                                 True\n",
       "City_Faridabad                             True\n",
       "City_Ghaziabad                            False\n",
       "City_Gurugram                             False\n",
       "City_Merrut                                True\n",
       "City_Noida                                False\n",
       "No_of_BHK_1                               False\n",
       "No_of_BHK_2                               False\n",
       "No_of_BHK_3                               False\n",
       "No_of_BHK_4                                True\n",
       "No_of_BHK_5                               False\n",
       "No_of_BHK_6                               False\n",
       "No_of_BHK_7                               False\n",
       "No_of_BHK_8                               False\n",
       "No_of_BHK_9                                True\n",
       "dtype: bool"
      ]
     },
     "execution_count": 395,
     "metadata": {},
     "output_type": "execute_result"
    }
   ],
   "source": [
    "#### List of features identified by Lasso are\n",
    "coef!=0"
   ]
  },
  {
   "cell_type": "markdown",
   "metadata": {},
   "source": [
    "### Train test split"
   ]
  },
  {
   "cell_type": "code",
   "execution_count": 396,
   "metadata": {},
   "outputs": [],
   "source": [
    "X = fe_df.filter(['Rera_Approved','Area','ReadyToMove','Resale','Hospitals_Distance','Schools_Distance','Fire Fighting Systems','Kids Play Area','Lift','House_Type_Builder','House_Type_Villa','City_Delhi','City_Faridabad','City_Merrut','No_of_BHK_4','No_of_BHK_9'])\n",
    "y = fe_df['Price_Lakhs']\n",
    "x_train,x_test,y_train,y_test = train_test_split(X,y,test_size=0.3)"
   ]
  },
  {
   "cell_type": "markdown",
   "metadata": {},
   "source": [
    "### Modelling"
   ]
  },
  {
   "cell_type": "code",
   "execution_count": 397,
   "metadata": {},
   "outputs": [],
   "source": [
    "# Fitting Random Forest Regression to the dataset\n",
    "# import the regressor\n",
    "from sklearn.ensemble import RandomForestRegressor\n",
    "  \n",
    " # create regressor object\n",
    "rf_reg = RandomForestRegressor(n_estimators = 100, random_state = 0)\n",
    "  \n",
    "# fit the regressor with x and y data\n",
    "rf_reg.fit(x_train, y_train)  \n",
    "y_pred = rf_reg.predict(x_test)"
   ]
  },
  {
   "cell_type": "markdown",
   "metadata": {},
   "source": [
    "### Performance & Evaluation"
   ]
  },
  {
   "cell_type": "code",
   "execution_count": 398,
   "metadata": {},
   "outputs": [
    {
     "name": "stdout",
     "output_type": "stream",
     "text": [
      "[averageRating] Random Forest Regressor Accuracy: 0.18512409569710264\n",
      "[averageRating] Random Forest Regressor MAE:: 13.95388\n",
      "[averageRating] Random Forest Regressor MSE: 325.2124101022222\n",
      "[averageRating] Random Forest Regressor rRMSE: 18.0336466113269\n"
     ]
    }
   ],
   "source": [
    "from sklearn import metrics\n",
    "# Model Accuracy, \n",
    "print(\"[averageRating] Random Forest Regressor Accuracy:\",rf_reg.score(x_test, y_test))\n",
    "print(\"[averageRating] Random Forest Regressor MAE::\", metrics.mean_absolute_error(y_test,y_pred))\n",
    "print(\"[averageRating] Random Forest Regressor MSE:\", metrics.mean_squared_error(y_test, y_pred))\n",
    "print(\"[averageRating] Random Forest Regressor rRMSE:\", np.sqrt(metrics.mean_squared_error(y_test, y_pred)))"
   ]
  },
  {
   "cell_type": "markdown",
   "metadata": {},
   "source": [
    "## Conclusion\n",
    "#### This is done as a test and kept open for further research and references. The data set is very random and based on this data set the accuracy of a model is poor. It can be improved by using ensemble techniques or by optimizing the feature set more for price prediction. Currently, this is only used for testing the logic for house price prediction. \n",
    "#### Note: Change the data set values to improve the accuracy, currently data set is not sufficient to conclude anything."
   ]
  }
 ],
 "metadata": {
  "kernelspec": {
   "display_name": "Python 3",
   "language": "python",
   "name": "python3"
  },
  "language_info": {
   "codemirror_mode": {
    "name": "ipython",
    "version": 3
   },
   "file_extension": ".py",
   "mimetype": "text/x-python",
   "name": "python",
   "nbconvert_exporter": "python",
   "pygments_lexer": "ipython3",
   "version": "3.8.3"
  }
 },
 "nbformat": 4,
 "nbformat_minor": 4
}
