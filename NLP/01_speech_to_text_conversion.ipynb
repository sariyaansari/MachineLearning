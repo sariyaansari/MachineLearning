{
 "cells": [
  {
   "cell_type": "code",
   "execution_count": 2,
   "id": "286157cc",
   "metadata": {},
   "outputs": [
    {
     "name": "stderr",
     "output_type": "stream",
     "text": [
      "WARNING: You are using pip version 20.1.1; however, version 22.0.4 is available.\n",
      "You should consider upgrading via the 'c:\\users\\sariya.ansari\\appdata\\local\\programs\\python\\python37\\python.exe -m pip install --upgrade pip' command.\n"
     ]
    },
    {
     "name": "stdout",
     "output_type": "stream",
     "text": [
      "Collecting SpeechRecognition\n",
      "  Downloading SpeechRecognition-3.8.1-py2.py3-none-any.whl (32.8 MB)\n",
      "Installing collected packages: SpeechRecognition\n",
      "Successfully installed SpeechRecognition-3.8.1\n",
      "Collecting SpeechRecognition"
     ]
    },
    {
     "name": "stderr",
     "output_type": "stream",
     "text": [
      "WARNING: You are using pip version 20.1.1; however, version 22.0.4 is available.\n",
      "You should consider upgrading via the 'c:\\users\\sariya.ansari\\appdata\\local\\programs\\python\\python37\\python.exe -m pip install --upgrade pip' command.\n"
     ]
    },
    {
     "name": "stdout",
     "output_type": "stream",
     "text": [
      "\n",
      "  Downloading SpeechRecognition-3.8.1-py2.py3-none-any.whl (32.8 MB)\n",
      "Requirement already satisfied (use --upgrade to upgrade): SpeechRecognition from https://files.pythonhosted.org/packages/26/e1/7f5678cd94ec1234269d23756dbdaa4c8cfaed973412f88ae8adf7893a50/SpeechRecognition-3.8.1-py2.py3-none-any.whl#sha256=4d8f73a0c05ec70331c3bacaa89ecc06dfa8d9aba0899276664cda06ab597e8e in c:\\users\\sariya.ansari\\appdata\\local\\programs\\python\\python37\\lib\\site-packages\n"
     ]
    }
   ],
   "source": [
    "!pip install SpeechRecognition"
   ]
  },
  {
   "cell_type": "markdown",
   "id": "d0f80178",
   "metadata": {},
   "source": [
    "#### Generate .wav file from below links explicity, we are using stored files\n",
    "#### https://www.voiptroubleshooter.com/open_speech/american.html"
   ]
  },
  {
   "cell_type": "code",
   "execution_count": 16,
   "id": "0364fbc0",
   "metadata": {},
   "outputs": [
    {
     "name": "stdout",
     "output_type": "stream",
     "text": [
      "Converting audio file dataset/play-movies.wav  into text ...\n",
      "play star movie\n",
      "Converting audio file dataset/play-cartoon.wav  into text ...\n",
      "play Tom and Jerry\n",
      "Converting audio file dataset/service-tune.wav  into text ...\n",
      "tune to service colour\n"
     ]
    }
   ],
   "source": [
    "#import library\n",
    "import speech_recognition as sr\n",
    "#Initiаlize  reсоgnizer  сlаss  (fоr  reсоgnizing  the  sрeeсh)\n",
    "r = sr.Recognizer()\n",
    "\n",
    "wavFiles = ['dataset/play-movies.wav', 'dataset/play-cartoon.wav', 'dataset/service-tune.wav']\n",
    "for file in wavFiles:\n",
    "    # Reading Audio file as source\n",
    "    #  listening  the  аudiо  file  аnd  stоre  in  аudiо_text  vаriаble\n",
    "    with sr.AudioFile(file) as source:\n",
    "        audio_text = r.listen(source)\n",
    "        # recoginize_() method will throw a request error if the API is unreachable, hence using exception handling\n",
    "        try:\n",
    "            # using google speech recognition\n",
    "            text = r.recognize_google(audio_text)\n",
    "            print(\"Converting audio file\", file, \" into text ...\")\n",
    "            print(text)\n",
    "        except:\n",
    "             print('Sorry went wrong, please check')"
   ]
  },
  {
   "cell_type": "code",
   "execution_count": null,
   "id": "fc221e46",
   "metadata": {},
   "outputs": [],
   "source": []
  }
 ],
 "metadata": {
  "kernelspec": {
   "display_name": "Python 3 (ipykernel)",
   "language": "python",
   "name": "python3"
  },
  "language_info": {
   "codemirror_mode": {
    "name": "ipython",
    "version": 3
   },
   "file_extension": ".py",
   "mimetype": "text/x-python",
   "name": "python",
   "nbconvert_exporter": "python",
   "pygments_lexer": "ipython3",
   "version": "3.7.9"
  }
 },
 "nbformat": 4,
 "nbformat_minor": 5
}
