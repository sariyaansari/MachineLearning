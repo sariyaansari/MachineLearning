{
 "cells": [
  {
   "cell_type": "code",
   "execution_count": 1,
   "id": "a3a52ebf",
   "metadata": {},
   "outputs": [
    {
     "name": "stdout",
     "output_type": "stream",
     "text": [
      "Requirement already satisfied: SpeechRecognition in c:\\users\\sariya.ansari\\appdata\\local\\programs\\python\\python37\\lib\\site-packages (3.8.1)\n"
     ]
    },
    {
     "name": "stderr",
     "output_type": "stream",
     "text": [
      "WARNING: You are using pip version 20.1.1; however, version 22.0.4 is available.\n",
      "You should consider upgrading via the 'c:\\users\\sariya.ansari\\appdata\\local\\programs\\python\\python37\\python.exe -m pip install --upgrade pip' command.\n"
     ]
    }
   ],
   "source": [
    "!pip install SpeechRecognition"
   ]
  },
  {
   "cell_type": "code",
   "execution_count": 2,
   "id": "f4b0d6d2",
   "metadata": {},
   "outputs": [
    {
     "name": "stdout",
     "output_type": "stream",
     "text": [
      "Requirement already satisfied: gTTS in c:\\users\\sariya.ansari\\appdata\\local\\programs\\python\\python37\\lib\\site-packages (2.2.3)\n",
      "Requirement already satisfied: click in c:\\users\\sariya.ansari\\appdata\\local\\programs\\python\\python37\\lib\\site-packages (from gTTS) (8.0.4)\n",
      "Requirement already satisfied: six in c:\\users\\sariya.ansari\\appdata\\local\\programs\\python\\python37\\lib\\site-packages (from gTTS) (1.16.0)\n",
      "Requirement already satisfied: requests in c:\\users\\sariya.ansari\\appdata\\local\\programs\\python\\python37\\lib\\site-packages (from gTTS) (2.27.1)\n",
      "Requirement already satisfied: colorama; platform_system == \"Windows\" in c:\\users\\sariya.ansari\\appdata\\local\\programs\\python\\python37\\lib\\site-packages (from click->gTTS) (0.3.9)\n",
      "Requirement already satisfied: importlib-metadata; python_version < \"3.8\" in c:\\users\\sariya.ansari\\appdata\\local\\programs\\python\\python37\\lib\\site-packages (from click->gTTS) (4.11.1)\n",
      "Requirement already satisfied: charset-normalizer~=2.0.0; python_version >= \"3\" in c:\\users\\sariya.ansari\\appdata\\local\\programs\\python\\python37\\lib\\site-packages (from requests->gTTS) (2.0.12)\n",
      "Requirement already satisfied: urllib3<1.27,>=1.21.1 in c:\\users\\sariya.ansari\\appdata\\local\\programs\\python\\python37\\lib\\site-packages (from requests->gTTS) (1.26.8)\n",
      "Requirement already satisfied: certifi>=2017.4.17 in c:\\users\\sariya.ansari\\appdata\\local\\programs\\python\\python37\\lib\\site-packages (from requests->gTTS) (2021.10.8)\n",
      "Requirement already satisfied: idna<4,>=2.5; python_version >= \"3\" in c:\\users\\sariya.ansari\\appdata\\local\\programs\\python\\python37\\lib\\site-packages (from requests->gTTS) (3.3)\n",
      "Requirement already satisfied: zipp>=0.5 in c:\\users\\sariya.ansari\\appdata\\local\\programs\\python\\python37\\lib\\site-packages (from importlib-metadata; python_version < \"3.8\"->click->gTTS) (3.7.0)\n",
      "Requirement already satisfied: typing-extensions>=3.6.4; python_version < \"3.8\" in c:\\users\\sariya.ansari\\appdata\\local\\programs\\python\\python37\\lib\\site-packages (from importlib-metadata; python_version < \"3.8\"->click->gTTS) (4.1.1)\n"
     ]
    },
    {
     "name": "stderr",
     "output_type": "stream",
     "text": [
      "WARNING: You are using pip version 20.1.1; however, version 22.0.4 is available.\n",
      "You should consider upgrading via the 'c:\\users\\sariya.ansari\\appdata\\local\\programs\\python\\python37\\python.exe -m pip install --upgrade pip' command.\n"
     ]
    }
   ],
   "source": [
    "!pip install gTTS"
   ]
  },
  {
   "cell_type": "markdown",
   "id": "caa4520e",
   "metadata": {},
   "source": [
    "#### Generate .wav file from below links explicity, we are using stored files\n",
    "#### https://www.voiptroubleshooter.com/open_speech/american.html\n",
    "### Convert Speech to Text"
   ]
  },
  {
   "cell_type": "code",
   "execution_count": 6,
   "id": "8be816e0",
   "metadata": {},
   "outputs": [
    {
     "name": "stdout",
     "output_type": "stream",
     "text": [
      "Converting audio file dataset/play-movies.wav  into text ...\n",
      "play star movie\n",
      "Converting audio file dataset/play-cartoon.wav  into text ...\n",
      "play Tom and Jerry\n",
      "Converting audio file dataset/service-tune.wav  into text ...\n",
      "tune to service colour\n"
     ]
    }
   ],
   "source": [
    "#import library\n",
    "import speech_recognition as sr\n",
    "#Initiаlize  reсоgnizer  сlаss  (fоr  reсоgnizing  the  sрeeсh)\n",
    "r = sr.Recognizer()\n",
    "\n",
    "wavFiles = ['dataset/play-movies.wav', 'dataset/play-cartoon.wav', 'dataset/service-tune.wav']\n",
    "for file in wavFiles:\n",
    "    # Reading Audio file as source\n",
    "    #  listening  the  аudiо  file  аnd  stоre  in  аudiо_text  vаriаble\n",
    "    with sr.AudioFile(file) as source:\n",
    "        audio_text = r.listen(source)\n",
    "        # recoginize_() method will throw a request error if the API is unreachable, hence using exception handling\n",
    "        try:\n",
    "            # using google speech recognition\n",
    "            text = r.recognize_google(audio_text)\n",
    "            print(\"Converting audio file\", file, \" into text ...\")\n",
    "            print(text)\n",
    "        except:\n",
    "             print('Sorry went wrong, please check')"
   ]
  },
  {
   "cell_type": "markdown",
   "id": "54a151f8",
   "metadata": {},
   "source": [
    "#### Convert text to speech and store into MP3\n",
    "#### https://gtts.readthedocs.io/en/latest/module.html#languages-gtts-lang"
   ]
  },
  {
   "cell_type": "code",
   "execution_count": 10,
   "id": "41adb324",
   "metadata": {},
   "outputs": [
    {
     "data": {
      "text/plain": [
       "0"
      ]
     },
     "execution_count": 10,
     "metadata": {},
     "output_type": "execute_result"
    }
   ],
   "source": [
    "# Import the required module for text \n",
    "# to speech conversion\n",
    "from gtts import gTTS\n",
    "  \n",
    "# This module is imported so that we can \n",
    "# play the converted audio\n",
    "import os\n",
    "  \n",
    "# The text that you want to convert to audio\n",
    "mytext = 'I am the audio file in MP3 format'\n",
    "  \n",
    "# Language in which you want to convert\n",
    "language = 'fr'\n",
    "  \n",
    "# Passing the text and language to the engine, \n",
    "# here we have marked slow=False. Which tells \n",
    "# the module that the converted audio should \n",
    "# have a high speed\n",
    "myobj = gTTS(text=mytext, lang=language, slow=False)\n",
    "  \n",
    "# Saving the converted audio in a mp3 file \n",
    "myobj.save(\"text_to_speech.mp3\")\n",
    "\n",
    "#Playing audio file stored into system\n",
    "os.system('start text_to_speech.mp3')"
   ]
  },
  {
   "cell_type": "code",
   "execution_count": null,
   "id": "88c481ec",
   "metadata": {},
   "outputs": [],
   "source": []
  }
 ],
 "metadata": {
  "kernelspec": {
   "display_name": "Python 3 (ipykernel)",
   "language": "python",
   "name": "python3"
  },
  "language_info": {
   "codemirror_mode": {
    "name": "ipython",
    "version": 3
   },
   "file_extension": ".py",
   "mimetype": "text/x-python",
   "name": "python",
   "nbconvert_exporter": "python",
   "pygments_lexer": "ipython3",
   "version": "3.7.9"
  }
 },
 "nbformat": 4,
 "nbformat_minor": 5
}
