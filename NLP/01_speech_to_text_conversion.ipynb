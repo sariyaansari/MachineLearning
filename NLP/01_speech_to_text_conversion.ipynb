{
 "cells": [
  {
   "cell_type": "code",
   "execution_count": 2,
   "id": "3a7b81e9",
   "metadata": {},
   "outputs": [
    {
     "name": "stderr",
     "output_type": "stream",
     "text": [
      "WARNING: You are using pip version 20.1.1; however, version 22.0.4 is available.\n",
      "You should consider upgrading via the 'c:\\users\\sariya.ansari\\appdata\\local\\programs\\python\\python37\\python.exe -m pip install --upgrade pip' command.\n"
     ]
    },
    {
     "name": "stdout",
     "output_type": "stream",
     "text": [
      "Collecting SpeechRecognition\n",
      "  Downloading SpeechRecognition-3.8.1-py2.py3-none-any.whl (32.8 MB)\n",
      "Installing collected packages: SpeechRecognition\n",
      "Successfully installed SpeechRecognition-3.8.1\n",
      "Collecting SpeechRecognition"
     ]
    },
    {
     "name": "stderr",
     "output_type": "stream",
     "text": [
      "WARNING: You are using pip version 20.1.1; however, version 22.0.4 is available.\n",
      "You should consider upgrading via the 'c:\\users\\sariya.ansari\\appdata\\local\\programs\\python\\python37\\python.exe -m pip install --upgrade pip' command.\n"
     ]
    },
    {
     "name": "stdout",
     "output_type": "stream",
     "text": [
      "\n",
      "  Downloading SpeechRecognition-3.8.1-py2.py3-none-any.whl (32.8 MB)\n",
      "Requirement already satisfied (use --upgrade to upgrade): SpeechRecognition from https://files.pythonhosted.org/packages/26/e1/7f5678cd94ec1234269d23756dbdaa4c8cfaed973412f88ae8adf7893a50/SpeechRecognition-3.8.1-py2.py3-none-any.whl#sha256=4d8f73a0c05ec70331c3bacaa89ecc06dfa8d9aba0899276664cda06ab597e8e in c:\\users\\sariya.ansari\\appdata\\local\\programs\\python\\python37\\lib\\site-packages\n"
     ]
    }
   ],
   "source": [
    "!pip install SpeechRecognition"
   ]
  },
  {
   "cell_type": "code",
   "execution_count": 18,
   "id": "c4a703fe",
   "metadata": {},
   "outputs": [
    {
     "name": "stdout",
     "output_type": "stream",
     "text": [
      "Collecting gTTS\n",
      "  Downloading gTTS-2.2.3-py3-none-any.whl (25 kB)\n",
      "Requirement already satisfied: click in c:\\users\\sariya.ansari\\appdata\\local\\programs\\python\\python37\\lib\\site-packages (from gTTS) (8.0.4)\n",
      "Requirement already satisfied: requests in c:\\users\\sariya.ansari\\appdata\\local\\programs\\python\\python37\\lib\\site-packages (from gTTS) (2.27.1)\n",
      "Requirement already satisfied: six in c:\\users\\sariya.ansari\\appdata\\local\\programs\\python\\python37\\lib\\site-packages (from gTTS) (1.16.0)\n",
      "Requirement already satisfied: colorama; platform_system == \"Windows\" in c:\\users\\sariya.ansari\\appdata\\local\\programs\\python\\python37\\lib\\site-packages (from click->gTTS) (0.3.9)\n",
      "Requirement already satisfied: importlib-metadata; python_version < \"3.8\" in c:\\users\\sariya.ansari\\appdata\\local\\programs\\python\\python37\\lib\\site-packages (from click->gTTS) (4.11.1)\n",
      "Requirement already satisfied: certifi>=2017.4.17 in c:\\users\\sariya.ansari\\appdata\\local\\programs\\python\\python37\\lib\\site-packages (from requests->gTTS) (2021.10.8)\n",
      "Requirement already satisfied: charset-normalizer~=2.0.0; python_version >= \"3\" in c:\\users\\sariya.ansari\\appdata\\local\\programs\\python\\python37\\lib\\site-packages (from requests->gTTS) (2.0.12)\n",
      "Requirement already satisfied: idna<4,>=2.5; python_version >= \"3\" in c:\\users\\sariya.ansari\\appdata\\local\\programs\\python\\python37\\lib\\site-packages (from requests->gTTS) (3.3)\n",
      "Requirement already satisfied: urllib3<1.27,>=1.21.1 in c:\\users\\sariya.ansari\\appdata\\local\\programs\\python\\python37\\lib\\site-packages (from requests->gTTS) (1.26.8)\n",
      "Requirement already satisfied: zipp>=0.5 in c:\\users\\sariya.ansari\\appdata\\local\\programs\\python\\python37\\lib\\site-packages (from importlib-metadata; python_version < \"3.8\"->click->gTTS) (3.7.0)\n",
      "Requirement already satisfied: typing-extensions>=3.6.4; python_version < \"3.8\" in c:\\users\\sariya.ansari\\appdata\\local\\programs\\python\\python37\\lib\\site-packages (from importlib-metadata; python_version < \"3.8\"->click->gTTS) (4.1.1)\n"
     ]
    },
    {
     "name": "stderr",
     "output_type": "stream",
     "text": [
      "WARNING: You are using pip version 20.1.1; however, version 22.0.4 is available.\n",
      "You should consider upgrading via the 'c:\\users\\sariya.ansari\\appdata\\local\\programs\\python\\python37\\python.exe -m pip install --upgrade pip' command.\n"
     ]
    },
    {
     "name": "stdout",
     "output_type": "stream",
     "text": [
      "Installing collected packages: gTTS\n",
      "Successfully installed gTTS-2.2.3\n"
     ]
    }
   ],
   "source": [
    "!pip install gTTS"
   ]
  },
  {
   "cell_type": "markdown",
   "id": "8c862858",
   "metadata": {},
   "source": [
    "#### Generate .wav file from below links explicity, we are using stored files\n",
    "#### https://www.voiptroubleshooter.com/open_speech/american.html\n",
    "### Convert Speech to Text"
   ]
  },
  {
   "cell_type": "code",
   "execution_count": 16,
   "id": "cb60d4e1",
   "metadata": {},
   "outputs": [
    {
     "name": "stdout",
     "output_type": "stream",
     "text": [
      "Converting audio file dataset/play-movies.wav  into text ...\n",
      "play star movie\n",
      "Converting audio file dataset/play-cartoon.wav  into text ...\n",
      "play Tom and Jerry\n",
      "Converting audio file dataset/service-tune.wav  into text ...\n",
      "tune to service colour\n"
     ]
    }
   ],
   "source": [
    "#import library\n",
    "import speech_recognition as sr\n",
    "#Initiаlize  reсоgnizer  сlаss  (fоr  reсоgnizing  the  sрeeсh)\n",
    "r = sr.Recognizer()\n",
    "\n",
    "wavFiles = ['dataset/play-movies.wav', 'dataset/play-cartoon.wav', 'dataset/service-tune.wav']\n",
    "for file in wavFiles:\n",
    "    # Reading Audio file as source\n",
    "    #  listening  the  аudiо  file  аnd  stоre  in  аudiо_text  vаriаble\n",
    "    with sr.AudioFile(file) as source:\n",
    "        audio_text = r.listen(source)\n",
    "        # recoginize_() method will throw a request error if the API is unreachable, hence using exception handling\n",
    "        try:\n",
    "            # using google speech recognition\n",
    "            text = r.recognize_google(audio_text)\n",
    "            print(\"Converting audio file\", file, \" into text ...\")\n",
    "            print(text)\n",
    "        except:\n",
    "             print('Sorry went wrong, please check')"
   ]
  },
  {
   "cell_type": "markdown",
   "id": "4a70c09e",
   "metadata": {},
   "source": [
    "#### Convert text to speech\n",
    "#### https://gtts.readthedocs.io/en/latest/module.html#languages-gtts-lang"
   ]
  },
  {
   "cell_type": "code",
   "execution_count": 24,
   "id": "75301ca5",
   "metadata": {},
   "outputs": [
    {
     "ename": "SyntaxError",
     "evalue": "invalid syntax (4176532483.py, line 28)",
     "output_type": "error",
     "traceback": [
      "\u001b[1;36m  File \u001b[1;32m\"C:\\Users\\sariya.ansari\\AppData\\Local\\Temp\\ipykernel_10228\\4176532483.py\"\u001b[1;36m, line \u001b[1;32m28\u001b[0m\n\u001b[1;33m    open(\"welcome.mp3\", \"r\") do f:\u001b[0m\n\u001b[1;37m                              ^\u001b[0m\n\u001b[1;31mSyntaxError\u001b[0m\u001b[1;31m:\u001b[0m invalid syntax\n"
     ]
    }
   ],
   "source": [
    "# Import the required module for text \n",
    "# to speech conversion\n",
    "from gtts import gTTS\n",
    "  \n",
    "# This module is imported so that we can \n",
    "# play the converted audio\n",
    "import os\n",
    "  \n",
    "# The text that you want to convert to audio\n",
    "mytext = 'I am the audio file in MP3 format'\n",
    "  \n",
    "# Language in which you want to convert\n",
    "language = 'en'\n",
    "  \n",
    "# Passing the text and language to the engine, \n",
    "# here we have marked slow=False. Which tells \n",
    "# the module that the converted audio should \n",
    "# have a high speed\n",
    "myobj = gTTS(text=mytext, lang=language, slow=False)\n",
    "  \n",
    "# Saving the converted audio in a mp3 file named\n",
    "# welcome \n",
    "myobj.save(\"welcome.mp3\")\n",
    "  \n",
    "# Playing the converted file\n",
    "os.system(\"mpg321 welcome.mp3\")\n",
    "\n",
    "open(\"welcome.mp3\", \"r\") do f:\n",
    "    display(\"audio/mpeg\", f)\n",
    "end"
   ]
  },
  {
   "cell_type": "code",
   "execution_count": null,
   "id": "284d2669",
   "metadata": {},
   "outputs": [],
   "source": []
  }
 ],
 "metadata": {
  "kernelspec": {
   "display_name": "Python 3 (ipykernel)",
   "language": "python",
   "name": "python3"
  },
  "language_info": {
   "codemirror_mode": {
    "name": "ipython",
    "version": 3
   },
   "file_extension": ".py",
   "mimetype": "text/x-python",
   "name": "python",
   "nbconvert_exporter": "python",
   "pygments_lexer": "ipython3",
   "version": "3.7.9"
  }
 },
 "nbformat": 4,
 "nbformat_minor": 5
}
