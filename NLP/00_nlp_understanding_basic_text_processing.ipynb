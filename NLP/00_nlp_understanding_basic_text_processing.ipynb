{
  "cells": [
    {
      "cell_type": "code",
      "execution_count": 1,
      "metadata": {
        "colab": {
          "base_uri": "https://localhost:8080/"
        },
        "id": "JrbTLjUdtzPl",
        "outputId": "ada59885-27c8-47df-b3d1-d658e56faa44"
      },
      "outputs": [
        {
          "output_type": "stream",
          "name": "stdout",
          "text": [
            "Requirement already satisfied: nltk in /usr/local/lib/python3.7/dist-packages (3.2.5)\n",
            "Requirement already satisfied: six in /usr/local/lib/python3.7/dist-packages (from nltk) (1.15.0)\n"
          ]
        }
      ],
      "source": [
        "# Installation of nltk\n",
        "#In Jupyter, the console commands can be executed by the ‘!’ sign before the command within the cell\n",
        "!pip install nltk"
      ]
    },
    {
      "cell_type": "markdown",
      "metadata": {
        "id": "Is0_CNfBtzPo"
      },
      "source": [
        "### Text Preprocessing \n",
        "Following code can be used for text preprocessing useful for various NLP applications.\n",
        "\n",
        "First we need to import nltk\n",
        "\n",
        "For a given text, we can do sentence tokenization and word tokenization using nltk library functions.\n",
        "We can remove the punctuations using string library.\n",
        "\n",
        "We can then remove stop words in English to get the important words in the text.\n",
        "\n",
        "We also perform stemming and lemmatization. Stemming and Lemmatization are two different techniques that help reduce our data space. We don’t need to check every single form of a word for reducing the size of the big data corpus."
      ]
    },
    {
      "cell_type": "code",
      "execution_count": 2,
      "metadata": {
        "id": "mTSo8GdStzPq"
      },
      "outputs": [],
      "source": [
        "#import nltk library for using its different functions\n",
        "import nltk\n",
        "import string\n",
        "import re\n"
      ]
    },
    {
      "cell_type": "code",
      "execution_count": 3,
      "metadata": {
        "id": "yloLYTMrtzPr"
      },
      "outputs": [],
      "source": [
        "#  Sentence Tokenization  - Tokenizes sentences from text\n",
        "from nltk.tokenize import sent_tokenize"
      ]
    },
    {
      "cell_type": "code",
      "execution_count": 4,
      "metadata": {
        "id": "otWUrQoRtzPs"
      },
      "outputs": [],
      "source": [
        "# Word Tokenization  - Tokenizes words in sentences\n",
        "from nltk.tokenize import word_tokenize"
      ]
    },
    {
      "cell_type": "code",
      "source": [
        "statement = \"Hello all, My name is sariya. Welcome to the basic text processing of Natural Language Processing(NLP). NLP is a very interesting area of data science.\""
      ],
      "metadata": {
        "id": "AlogXkPXt70q"
      },
      "execution_count": 5,
      "outputs": []
    },
    {
      "cell_type": "code",
      "source": [
        "nltk.download('punkt')"
      ],
      "metadata": {
        "colab": {
          "base_uri": "https://localhost:8080/"
        },
        "id": "MQnKmsuHukom",
        "outputId": "ecbeeffd-8989-416d-89b7-75117a86148c"
      },
      "execution_count": 6,
      "outputs": [
        {
          "output_type": "stream",
          "name": "stdout",
          "text": [
            "[nltk_data] Downloading package punkt to /root/nltk_data...\n",
            "[nltk_data]   Unzipping tokenizers/punkt.zip.\n"
          ]
        },
        {
          "output_type": "execute_result",
          "data": {
            "text/plain": [
              "True"
            ]
          },
          "metadata": {},
          "execution_count": 6
        }
      ]
    },
    {
      "cell_type": "code",
      "execution_count": 7,
      "metadata": {
        "colab": {
          "base_uri": "https://localhost:8080/"
        },
        "id": "luxVOZYatzPt",
        "outputId": "7bdccef5-37be-4974-a362-29699ec1a3d1"
      },
      "outputs": [
        {
          "output_type": "stream",
          "name": "stdout",
          "text": [
            "['Hello all, My name is sariya.', 'Welcome to the basic text processing of Natural Language Processing(NLP).', 'NLP is a very interesting area of data science.']\n",
            "['Hello', 'all', ',', 'My', 'name', 'is', 'sariya', '.', 'Welcome', 'to', 'the', 'basic', 'text', 'processing', 'of', 'Natural', 'Language', 'Processing', '(', 'NLP', ')', '.', 'NLP', 'is', 'a', 'very', 'interesting', 'area', 'of', 'data', 'science', '.']\n"
          ]
        }
      ],
      "source": [
        "sentences = sent_tokenize(statement)\n",
        "print(sentences)\n",
        "words = word_tokenize(statement)\n",
        "print(words)"
      ]
    },
    {
      "cell_type": "code",
      "execution_count": 8,
      "metadata": {
        "colab": {
          "base_uri": "https://localhost:8080/"
        },
        "id": "1EmWNjvEtzPu",
        "outputId": "9ecb3783-fae8-43d4-cd2f-22ac84ed2b27"
      },
      "outputs": [
        {
          "output_type": "stream",
          "name": "stdout",
          "text": [
            "Hello all, My name is sariya.\n",
            "Welcome to the basic text processing of Natural Language Processing(NLP).\n",
            "NLP is a very interesting area of data science.\n"
          ]
        }
      ],
      "source": [
        "for sentence in sentences:\n",
        "    print(sentence)"
      ]
    },
    {
      "cell_type": "code",
      "execution_count": 9,
      "metadata": {
        "colab": {
          "base_uri": "https://localhost:8080/"
        },
        "id": "Qbbq2nR5tzPv",
        "outputId": "73d15e7b-10c8-42a3-e17e-80cc8c0195a4"
      },
      "outputs": [
        {
          "output_type": "stream",
          "name": "stdout",
          "text": [
            "Hello\n",
            "all\n",
            ",\n",
            "My\n",
            "name\n",
            "is\n",
            "sariya\n",
            ".\n",
            "Welcome\n",
            "to\n",
            "the\n",
            "basic\n",
            "text\n",
            "processing\n",
            "of\n",
            "Natural\n",
            "Language\n",
            "Processing\n",
            "(\n",
            "NLP\n",
            ")\n",
            ".\n",
            "NLP\n",
            "is\n",
            "a\n",
            "very\n",
            "interesting\n",
            "area\n",
            "of\n",
            "data\n",
            "science\n",
            ".\n"
          ]
        }
      ],
      "source": [
        "for word in words:\n",
        "    print(word)"
      ]
    },
    {
      "cell_type": "code",
      "execution_count": 10,
      "metadata": {
        "colab": {
          "base_uri": "https://localhost:8080/"
        },
        "id": "N8dBYpPqtzPw",
        "outputId": "0905cac1-3104-49a5-d29c-d2ef738ad837"
      },
      "outputs": [
        {
          "output_type": "stream",
          "name": "stdout",
          "text": [
            "Hello\n",
            "all\n",
            "My\n",
            "name\n",
            "is\n",
            "sariya\n",
            "Welcome\n",
            "to\n",
            "the\n",
            "basic\n",
            "text\n",
            "processing\n",
            "of\n",
            "Natural\n",
            "Language\n",
            "Processing\n",
            "NLP\n",
            "NLP\n",
            "is\n",
            "a\n",
            "very\n",
            "interesting\n",
            "area\n",
            "of\n",
            "data\n",
            "science\n"
          ]
        }
      ],
      "source": [
        " # Remove punctuations\n",
        "for word in words:\n",
        "    if word not in string.punctuation:\n",
        "        print(word)"
      ]
    },
    {
      "cell_type": "code",
      "execution_count": 11,
      "metadata": {
        "colab": {
          "base_uri": "https://localhost:8080/"
        },
        "id": "Gcdu2Yu5tzPx",
        "outputId": "fc00feb9-2f9d-4cfc-aa57-0b98836c5355"
      },
      "outputs": [
        {
          "output_type": "stream",
          "name": "stdout",
          "text": [
            "['Hello', 'all', 'My', 'name', 'is', 'sariya', 'Welcome', 'to', 'the', 'basic', 'text', 'processing', 'of', 'Natural', 'Language', 'Processing', 'NLP', 'NLP', 'is', 'a', 'very', 'interesting', 'area', 'of', 'data', 'science']\n"
          ]
        }
      ],
      "source": [
        "only_words=[w for w in words if not w in string.punctuation]\n",
        "print(only_words)"
      ]
    },
    {
      "cell_type": "code",
      "execution_count": 12,
      "metadata": {
        "id": "5YOZuTTjtzPx"
      },
      "outputs": [],
      "source": [
        "#Removal of stop words from the text\n",
        "from nltk.corpus import stopwords"
      ]
    },
    {
      "cell_type": "code",
      "source": [
        "nltk.download('stopwords')"
      ],
      "metadata": {
        "colab": {
          "base_uri": "https://localhost:8080/"
        },
        "id": "_Yu6QAN-uuJ4",
        "outputId": "1c6e6b00-91f4-44d9-b8d9-b59213cb81cd"
      },
      "execution_count": 13,
      "outputs": [
        {
          "output_type": "stream",
          "name": "stdout",
          "text": [
            "[nltk_data] Downloading package stopwords to /root/nltk_data...\n",
            "[nltk_data]   Unzipping corpora/stopwords.zip.\n"
          ]
        },
        {
          "output_type": "execute_result",
          "data": {
            "text/plain": [
              "True"
            ]
          },
          "metadata": {},
          "execution_count": 13
        }
      ]
    },
    {
      "cell_type": "code",
      "execution_count": 14,
      "metadata": {
        "colab": {
          "base_uri": "https://localhost:8080/"
        },
        "id": "mfsde2g7tzPy",
        "outputId": "cc3bcb04-a44c-4251-e318-3a1f46403d14"
      },
      "outputs": [
        {
          "output_type": "stream",
          "name": "stdout",
          "text": [
            "{'nor', 'shan', 'its', \"couldn't\", 'from', 'all', 'shouldn', 'having', 'the', 'won', 'is', 'yours', \"you'd\", 'if', 'wouldn', 'no', 'you', 'while', 'against', 'isn', 'above', 'will', 'not', 'before', 'hers', 'ain', 'only', 're', 'their', 'mightn', 'myself', 'does', 'me', 'y', 'or', 'then', 'as', 'should', 'an', 'do', \"you'll\", 'below', 'very', 'into', 'ours', \"hadn't\", 'he', 'have', 'i', 'at', 'can', 'here', 'most', 'wasn', 'who', \"should've\", 'had', 'to', 'off', \"doesn't\", \"aren't\", 'which', \"you've\", 'few', 'during', 'm', 'each', 'our', \"needn't\", 'there', 'haven', 'mustn', 'am', 'on', 'with', 'than', 'until', \"don't\", \"wasn't\", 't', \"hasn't\", 'after', 'some', 'ma', 'his', 's', 'now', \"mightn't\", 'other', 'but', 'doing', 'out', 'd', 'a', 'we', 'how', \"won't\", 'be', 'are', 'why', 'those', \"it's\", 'herself', 'themselves', \"shouldn't\", 'just', 'whom', 'couldn', \"didn't\", 'itself', 'own', 'yourselves', 'that', 'again', 'needn', \"wouldn't\", 'this', 'between', 'in', 'too', 'don', 'about', 'further', 'hasn', \"isn't\", \"she's\", 'were', 'himself', 'her', 'such', 'so', 'didn', \"haven't\", 'over', 'by', \"weren't\", 'under', 've', 'hadn', 'they', \"that'll\", 'of', 'for', 'and', 'theirs', 'down', 'did', 'when', 'aren', 'more', 'where', 'because', \"mustn't\", 'him', \"shan't\", 'll', 'same', 'doesn', 'what', 'it', 'both', 'weren', 'o', 'your', 'them', 'ourselves', 'has', 'being', 'she', 'through', 'these', 'yourself', 'once', \"you're\", 'any', 'up', 'my', 'been', 'was'}\n"
          ]
        }
      ],
      "source": [
        "# List of English stop words \n",
        "english_stop_words=set(stopwords.words(\"english\"))\n",
        "print(english_stop_words)"
      ]
    },
    {
      "cell_type": "code",
      "execution_count": 15,
      "metadata": {
        "colab": {
          "base_uri": "https://localhost:8080/"
        },
        "id": "RgegAsnwtzPy",
        "outputId": "800ed1a3-6da9-4ddc-9e3c-76fa12a27f62"
      },
      "outputs": [
        {
          "output_type": "stream",
          "name": "stdout",
          "text": [
            "['Hello', 'My', 'name', 'sariya', 'Welcome', 'basic', 'text', 'processing', 'Natural', 'Language', 'Processing', 'NLP', 'NLP', 'interesting', 'area', 'data', 'science']\n"
          ]
        }
      ],
      "source": [
        "# Removal of stop words from the text\n",
        "keywords=[w for w in only_words if not w in english_stop_words]\n",
        "print(keywords)"
      ]
    },
    {
      "cell_type": "markdown",
      "metadata": {
        "id": "2UP4XIdGtzPz"
      },
      "source": [
        "### Lemmatization\n",
        "\n",
        "Lemmatization in NLP is the process through which several different forms of the same word are mapped to one single form, which we can call the root form or the base form. In more technical terms, the root form is called a lemma. By reducing the number of forms a word can take, we make sure that we reduce our data space and that we don’t have to check every single form of a word. It helps us ignore morphological variations on a single word. Lemmatization brings context to the words.So it goes a steps further by linking words with similar meaning to one word. For example if a paragraph has words like cars, trains and automobile, then it will link all of them to automobile. In the below program we use the WordNet lexical database for lemmatization."
      ]
    },
    {
      "cell_type": "code",
      "source": [
        "nltk.download('wordnet')"
      ],
      "metadata": {
        "colab": {
          "base_uri": "https://localhost:8080/"
        },
        "id": "u7F1blKZu4Ee",
        "outputId": "bc7e08cb-462d-41e5-bb87-41d3c802da89"
      },
      "execution_count": 16,
      "outputs": [
        {
          "output_type": "stream",
          "name": "stdout",
          "text": [
            "[nltk_data] Downloading package wordnet to /root/nltk_data...\n",
            "[nltk_data]   Unzipping corpora/wordnet.zip.\n"
          ]
        },
        {
          "output_type": "execute_result",
          "data": {
            "text/plain": [
              "True"
            ]
          },
          "metadata": {},
          "execution_count": 16
        }
      ]
    },
    {
      "cell_type": "code",
      "execution_count": 17,
      "metadata": {
        "colab": {
          "base_uri": "https://localhost:8080/"
        },
        "id": "wVlEBzIktzPz",
        "outputId": "ef1f596f-4eab-4a78-b1b2-b34d3e3d9d02"
      },
      "outputs": [
        {
          "output_type": "stream",
          "name": "stdout",
          "text": [
            "['Hello', 'all', 'My', 'name', 'is', 'sariya', 'Welcome', 'to', 'the', 'basic', 'text', 'processing', 'of', 'Natural', 'Language', 'Processing', 'NLP', 'NLP', 'is', 'a', 'very', 'interesting', 'area', 'of', 'data', 'science']\n"
          ]
        }
      ],
      "source": [
        "# Lemmatization\n",
        "from nltk.stem import WordNetLemmatizer\n",
        "wordnet_lemmatizer = WordNetLemmatizer()\n",
        "keywords=[w for w in only_words if w in wordnet_lemmatizer.lemmatize(w)]\n",
        "print(keywords)\n",
        "# Next find the roots of the word\n",
        "# for w in keywords:\n",
        "#     lemmatized_words=wordnet_lemmatizer.lemmatize(w)\n",
        "#     print(wordnet_lemmatizer.lemmatize(w))"
      ]
    },
    {
      "cell_type": "markdown",
      "metadata": {
        "id": "AgBcx9RktzP0"
      },
      "source": [
        "### Stemming\n",
        "\n",
        "Stemming in NLP is the process of removing prefixes and suffixes from words so that they are reduced to simpler forms which are called stems. The purpose of stemming is to reduce our vocabulary and dimensionality for NLP tasks and to improve speed and efficiency in information retrieval and information processing tasks. Stemming is a simpler, faster process than lemmatization. The difference is that stemming is usually only rule-based approach. And, as we've showed with our earlier example, rule-based approaches can fail very quickly on more complex examples. But for most problems, it works well enough. Many search engines use stemming to improve their search results.\n"
      ]
    },
    {
      "cell_type": "code",
      "execution_count": 18,
      "metadata": {
        "id": "8D8rNFCUtzP0"
      },
      "outputs": [],
      "source": [
        "# Stemming\n",
        "from nltk.stem import PorterStemmer"
      ]
    },
    {
      "cell_type": "code",
      "execution_count": 19,
      "metadata": {
        "colab": {
          "base_uri": "https://localhost:8080/"
        },
        "id": "X4rfUwmjtzP1",
        "outputId": "c83246bb-9a1a-4aed-855a-380d3d17f5c4"
      },
      "outputs": [
        {
          "output_type": "stream",
          "name": "stdout",
          "text": [
            "hello\n",
            "all\n",
            "My\n",
            "name\n",
            "is\n",
            "sariya\n",
            "welcom\n",
            "to\n",
            "the\n",
            "basic\n",
            "text\n",
            "process\n",
            "of\n",
            "natur\n",
            "languag\n",
            "process\n",
            "nlp\n",
            "nlp\n",
            "is\n",
            "a\n",
            "veri\n",
            "interest\n",
            "area\n",
            "of\n",
            "data\n",
            "scienc\n"
          ]
        }
      ],
      "source": [
        "porter_stemmer = PorterStemmer()\n",
        "# First Word tokenization\n",
        "nltk_tokens = nltk.word_tokenize(statement)\n",
        "#Next find the roots of the word\n",
        "for w in keywords:\n",
        "       print(porter_stemmer.stem(w))"
      ]
    },
    {
      "cell_type": "code",
      "source": [
        "nltk.download('averaged_perceptron_tagger')"
      ],
      "metadata": {
        "colab": {
          "base_uri": "https://localhost:8080/"
        },
        "id": "qHU-eS4Iu85y",
        "outputId": "2beb6606-1da9-4fdd-987c-2123773a23b2"
      },
      "execution_count": 20,
      "outputs": [
        {
          "output_type": "stream",
          "name": "stdout",
          "text": [
            "[nltk_data] Downloading package averaged_perceptron_tagger to\n",
            "[nltk_data]     /root/nltk_data...\n",
            "[nltk_data]   Unzipping taggers/averaged_perceptron_tagger.zip.\n"
          ]
        },
        {
          "output_type": "execute_result",
          "data": {
            "text/plain": [
              "True"
            ]
          },
          "metadata": {},
          "execution_count": 20
        }
      ]
    },
    {
      "cell_type": "code",
      "execution_count": 21,
      "metadata": {
        "id": "U_FQtAIitzP1"
      },
      "outputs": [],
      "source": [
        "# POS Tagging"
      ]
    },
    {
      "cell_type": "code",
      "execution_count": 22,
      "metadata": {
        "colab": {
          "base_uri": "https://localhost:8080/"
        },
        "id": "0uQpXJxJtzP2",
        "outputId": "9c80e1b7-1266-43a8-8e46-653a3b199002"
      },
      "outputs": [
        {
          "output_type": "stream",
          "name": "stdout",
          "text": [
            "[('Hello', 'NNP'), ('all', 'DT'), ('My', 'NNP'), ('name', 'NN'), ('is', 'VBZ'), ('sariya', 'JJ'), ('Welcome', 'NNP'), ('to', 'TO'), ('the', 'DT'), ('basic', 'JJ'), ('text', 'NN'), ('processing', 'NN'), ('of', 'IN'), ('Natural', 'NNP'), ('Language', 'NNP'), ('Processing', 'NNP'), ('NLP', 'NNP'), ('NLP', 'NNP'), ('is', 'VBZ'), ('a', 'DT'), ('very', 'RB'), ('interesting', 'JJ'), ('area', 'NN'), ('of', 'IN'), ('data', 'NNS'), ('science', 'NN')]\n"
          ]
        }
      ],
      "source": [
        "print(nltk.pos_tag(keywords))"
      ]
    },
    {
      "cell_type": "code",
      "execution_count": 22,
      "metadata": {
        "id": "Vvu-sRRwtzP2"
      },
      "outputs": [],
      "source": [
        ""
      ]
    },
    {
      "cell_type": "code",
      "execution_count": 22,
      "metadata": {
        "id": "BN9v7N5JtzP3"
      },
      "outputs": [],
      "source": [
        ""
      ]
    }
  ],
  "metadata": {
    "kernelspec": {
      "display_name": "Python 3 (ipykernel)",
      "language": "python",
      "name": "python3"
    },
    "language_info": {
      "codemirror_mode": {
        "name": "ipython",
        "version": 3
      },
      "file_extension": ".py",
      "mimetype": "text/x-python",
      "name": "python",
      "nbconvert_exporter": "python",
      "pygments_lexer": "ipython3",
      "version": "3.7.9"
    },
    "colab": {
      "name": "00_nlp_understanding_basic_text_processing.ipynb",
      "provenance": [],
      "collapsed_sections": [],
      "toc_visible": true
    }
  },
  "nbformat": 4,
  "nbformat_minor": 0
}