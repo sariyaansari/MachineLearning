{
  "cells": [
    {
      "cell_type": "code",
      "execution_count": 23,
      "metadata": {
        "colab": {
          "base_uri": "https://localhost:8080/"
        },
        "id": "JrbTLjUdtzPl",
        "outputId": "3208169b-c340-446b-bc4b-74c04a7aba76"
      },
      "outputs": [
        {
          "output_type": "stream",
          "name": "stdout",
          "text": [
            "Requirement already satisfied: nltk in /usr/local/lib/python3.7/dist-packages (3.2.5)\n",
            "Requirement already satisfied: six in /usr/local/lib/python3.7/dist-packages (from nltk) (1.15.0)\n"
          ]
        }
      ],
      "source": [
        "# Installation of nltk\n",
        "#In Jupyter, the console commands can be executed by the ‘!’ sign before the command within the cell\n",
        "!pip install nltk"
      ]
    },
    {
      "cell_type": "markdown",
      "metadata": {
        "id": "Is0_CNfBtzPo"
      },
      "source": [
        "### Text Preprocessing \n",
        "Following code can be used for text preprocessing useful for various NLP applications.\n",
        "\n",
        "First we need to import nltk\n",
        "\n",
        "For a given text, we can do sentence tokenization and word tokenization using nltk library functions.\n",
        "We can remove the punctuations using string library.\n",
        "\n",
        "We can then remove stop words in English to get the important words in the text.\n",
        "\n",
        "We also perform stemming and lemmatization. Stemming and Lemmatization are two different techniques that help reduce our data space. We don’t need to check every single form of a word for reducing the size of the big data corpus."
      ]
    },
    {
      "cell_type": "code",
      "execution_count": 24,
      "metadata": {
        "id": "mTSo8GdStzPq"
      },
      "outputs": [],
      "source": [
        "#import nltk library for using its different functions\n",
        "import nltk\n",
        "import string\n",
        "import re\n"
      ]
    },
    {
      "cell_type": "code",
      "execution_count": 25,
      "metadata": {
        "id": "yloLYTMrtzPr"
      },
      "outputs": [],
      "source": [
        "#  Sentence Tokenization  - Tokenizes sentences from text\n",
        "from nltk.tokenize import sent_tokenize"
      ]
    },
    {
      "cell_type": "code",
      "execution_count": 26,
      "metadata": {
        "id": "otWUrQoRtzPs"
      },
      "outputs": [],
      "source": [
        "# Word Tokenization  - Tokenizes words in sentences\n",
        "from nltk.tokenize import word_tokenize"
      ]
    },
    {
      "cell_type": "code",
      "source": [
        "statement = \"Hello all, I am Dr. Chetana. Welcome to the lab session of Natural Language Processing(NLP). NLP is a very interesting area.\""
      ],
      "metadata": {
        "id": "AlogXkPXt70q"
      },
      "execution_count": 27,
      "outputs": []
    },
    {
      "cell_type": "code",
      "source": [
        "nltk.download('punkt')"
      ],
      "metadata": {
        "colab": {
          "base_uri": "https://localhost:8080/"
        },
        "id": "MQnKmsuHukom",
        "outputId": "468681ef-ddcf-4381-98f0-73d89b4f45a2"
      },
      "execution_count": 28,
      "outputs": [
        {
          "output_type": "stream",
          "name": "stdout",
          "text": [
            "[nltk_data] Downloading package punkt to /root/nltk_data...\n",
            "[nltk_data]   Package punkt is already up-to-date!\n"
          ]
        },
        {
          "output_type": "execute_result",
          "data": {
            "text/plain": [
              "True"
            ]
          },
          "metadata": {},
          "execution_count": 28
        }
      ]
    },
    {
      "cell_type": "code",
      "execution_count": 29,
      "metadata": {
        "colab": {
          "base_uri": "https://localhost:8080/"
        },
        "id": "luxVOZYatzPt",
        "outputId": "5e1b728c-ac20-4c41-fdf8-85e05f76df7e"
      },
      "outputs": [
        {
          "output_type": "stream",
          "name": "stdout",
          "text": [
            "['Hello all, I am Dr. Chetana.', 'Welcome to the lab session of Natural Language Processing(NLP).', 'NLP is a very interesting area.']\n",
            "['Hello', 'all', ',', 'I', 'am', 'Dr.', 'Chetana', '.', 'Welcome', 'to', 'the', 'lab', 'session', 'of', 'Natural', 'Language', 'Processing', '(', 'NLP', ')', '.', 'NLP', 'is', 'a', 'very', 'interesting', 'area', '.']\n"
          ]
        }
      ],
      "source": [
        "sentences = sent_tokenize(statement)\n",
        "print(sentences)\n",
        "words = word_tokenize(statement)\n",
        "print(words)"
      ]
    },
    {
      "cell_type": "code",
      "execution_count": 30,
      "metadata": {
        "colab": {
          "base_uri": "https://localhost:8080/"
        },
        "id": "1EmWNjvEtzPu",
        "outputId": "fef81d97-40ee-48d0-b23d-9914200da83a"
      },
      "outputs": [
        {
          "output_type": "stream",
          "name": "stdout",
          "text": [
            "Hello all, I am Dr. Chetana.\n",
            "Welcome to the lab session of Natural Language Processing(NLP).\n",
            "NLP is a very interesting area.\n"
          ]
        }
      ],
      "source": [
        "for sentence in sentences:\n",
        "    print(sentence)"
      ]
    },
    {
      "cell_type": "code",
      "execution_count": 31,
      "metadata": {
        "colab": {
          "base_uri": "https://localhost:8080/"
        },
        "id": "Qbbq2nR5tzPv",
        "outputId": "6bfba063-c3cb-4f50-924d-1a2202cc479d"
      },
      "outputs": [
        {
          "output_type": "stream",
          "name": "stdout",
          "text": [
            "Hello\n",
            "all\n",
            ",\n",
            "I\n",
            "am\n",
            "Dr.\n",
            "Chetana\n",
            ".\n",
            "Welcome\n",
            "to\n",
            "the\n",
            "lab\n",
            "session\n",
            "of\n",
            "Natural\n",
            "Language\n",
            "Processing\n",
            "(\n",
            "NLP\n",
            ")\n",
            ".\n",
            "NLP\n",
            "is\n",
            "a\n",
            "very\n",
            "interesting\n",
            "area\n",
            ".\n"
          ]
        }
      ],
      "source": [
        "for word in words:\n",
        "    print(word)"
      ]
    },
    {
      "cell_type": "code",
      "execution_count": 32,
      "metadata": {
        "colab": {
          "base_uri": "https://localhost:8080/"
        },
        "id": "N8dBYpPqtzPw",
        "outputId": "cfa34cac-7a5a-4fdb-e900-c41555cb9953"
      },
      "outputs": [
        {
          "output_type": "stream",
          "name": "stdout",
          "text": [
            "Hello\n",
            "all\n",
            "I\n",
            "am\n",
            "Dr.\n",
            "Chetana\n",
            "Welcome\n",
            "to\n",
            "the\n",
            "lab\n",
            "session\n",
            "of\n",
            "Natural\n",
            "Language\n",
            "Processing\n",
            "NLP\n",
            "NLP\n",
            "is\n",
            "a\n",
            "very\n",
            "interesting\n",
            "area\n"
          ]
        }
      ],
      "source": [
        " # Remove punctuations\n",
        "for word in words:\n",
        "    if word not in string.punctuation:\n",
        "        print(word)"
      ]
    },
    {
      "cell_type": "code",
      "execution_count": 33,
      "metadata": {
        "colab": {
          "base_uri": "https://localhost:8080/"
        },
        "id": "Gcdu2Yu5tzPx",
        "outputId": "cfb4fdb8-dc3c-4d43-a1d2-7371e2e487f0"
      },
      "outputs": [
        {
          "output_type": "stream",
          "name": "stdout",
          "text": [
            "['Hello', 'all', 'I', 'am', 'Dr.', 'Chetana', 'Welcome', 'to', 'the', 'lab', 'session', 'of', 'Natural', 'Language', 'Processing', 'NLP', 'NLP', 'is', 'a', 'very', 'interesting', 'area']\n"
          ]
        }
      ],
      "source": [
        "only_words=[w for w in words if not w in string.punctuation]\n",
        "print(only_words)"
      ]
    },
    {
      "cell_type": "code",
      "execution_count": 34,
      "metadata": {
        "id": "5YOZuTTjtzPx"
      },
      "outputs": [],
      "source": [
        "#Removal of stop words from the text\n",
        "from nltk.corpus import stopwords"
      ]
    },
    {
      "cell_type": "code",
      "source": [
        "nltk.download('stopwords')"
      ],
      "metadata": {
        "colab": {
          "base_uri": "https://localhost:8080/"
        },
        "id": "_Yu6QAN-uuJ4",
        "outputId": "daf26d03-fddb-4b2a-e7e0-60a523a2822e"
      },
      "execution_count": 35,
      "outputs": [
        {
          "output_type": "stream",
          "name": "stdout",
          "text": [
            "[nltk_data] Downloading package stopwords to /root/nltk_data...\n",
            "[nltk_data]   Package stopwords is already up-to-date!\n"
          ]
        },
        {
          "output_type": "execute_result",
          "data": {
            "text/plain": [
              "True"
            ]
          },
          "metadata": {},
          "execution_count": 35
        }
      ]
    },
    {
      "cell_type": "code",
      "execution_count": 36,
      "metadata": {
        "colab": {
          "base_uri": "https://localhost:8080/"
        },
        "id": "mfsde2g7tzPy",
        "outputId": "073f7cf0-4065-426b-e427-cb45200749d5"
      },
      "outputs": [
        {
          "output_type": "stream",
          "name": "stdout",
          "text": [
            "{'each', \"shouldn't\", 'why', 've', 't', 'further', 'too', \"weren't\", 'himself', 'having', 'haven', \"didn't\", \"should've\", 'between', 'an', 'it', 'again', 'most', \"won't\", 'very', 'about', 'how', \"you'll\", \"shan't\", 'themselves', 'be', 'nor', 'mightn', \"needn't\", \"haven't\", 'by', 'mustn', 'out', 'wasn', \"couldn't\", 'who', 'such', 'wouldn', 'other', 'won', 'not', 'his', 'should', 'more', 'her', 'she', 'with', 'its', 'he', 'and', 'only', 'll', 'here', 'm', 'above', 'on', 'into', 'weren', 'hasn', 'while', 'where', \"you've\", 'o', 'a', 'me', 'needn', 'them', 'as', \"hasn't\", 'below', 'our', 'whom', \"don't\", 'in', 'of', 'had', 'now', 'down', 'doing', 'when', 'we', 'those', 'were', 'hers', \"mustn't\", 'y', 's', 'before', 'their', 'they', 'are', \"that'll\", 'so', 'couldn', 'you', 'ours', \"mightn't\", 'through', 'the', \"you'd\", 'doesn', 'myself', 'under', 'did', 'shan', 'don', \"isn't\", 'then', 'against', \"wouldn't\", 'if', 'been', 'have', 'does', 'him', 'what', 'shouldn', 'i', \"it's\", 'do', 'my', 'has', 'will', 'yourselves', 'yours', \"hadn't\", 'was', 'didn', 'off', 'ma', 'all', 'during', 'to', 'yourself', 'being', \"she's\", 'there', 'or', 'no', 'own', 'ain', 'until', 'both', 'just', 'which', 'ourselves', 'over', 'few', 'your', \"you're\", 're', 'itself', 'once', 'theirs', 'hadn', 'isn', 'same', 'some', 'these', 'after', 'than', 'can', 'for', 'this', 'd', 'aren', 'at', 'is', 'because', 'but', 'up', 'that', \"doesn't\", 'any', 'herself', 'am', 'from', \"aren't\", \"wasn't\"}\n"
          ]
        }
      ],
      "source": [
        "# List of English stop words \n",
        "english_stop_words=set(stopwords.words(\"english\"))\n",
        "print(english_stop_words)"
      ]
    },
    {
      "cell_type": "code",
      "execution_count": 37,
      "metadata": {
        "colab": {
          "base_uri": "https://localhost:8080/"
        },
        "id": "RgegAsnwtzPy",
        "outputId": "934bfb0b-f3c1-4d77-eb3b-97aff085d8e5"
      },
      "outputs": [
        {
          "output_type": "stream",
          "name": "stdout",
          "text": [
            "['Hello', 'I', 'Dr.', 'Chetana', 'Welcome', 'lab', 'session', 'Natural', 'Language', 'Processing', 'NLP', 'NLP', 'interesting', 'area']\n"
          ]
        }
      ],
      "source": [
        "# Removal of stop words from the text\n",
        "keywords=[w for w in only_words if not w in english_stop_words]\n",
        "print(keywords)"
      ]
    },
    {
      "cell_type": "markdown",
      "metadata": {
        "id": "2UP4XIdGtzPz"
      },
      "source": [
        "### Lemmatization\n",
        "\n",
        "Lemmatization in NLP is the process through which several different forms of the same word are mapped to one single form, which we can call the root form or the base form. In more technical terms, the root form is called a lemma. By reducing the number of forms a word can take, we make sure that we reduce our data space and that we don’t have to check every single form of a word. It helps us ignore morphological variations on a single word. Lemmatization brings context to the words.So it goes a steps further by linking words with similar meaning to one word. For example if a paragraph has words like cars, trains and automobile, then it will link all of them to automobile. In the below program we use the WordNet lexical database for lemmatization."
      ]
    },
    {
      "cell_type": "code",
      "source": [
        "nltk.download('wordnet')"
      ],
      "metadata": {
        "colab": {
          "base_uri": "https://localhost:8080/"
        },
        "id": "u7F1blKZu4Ee",
        "outputId": "3bc42932-07af-4344-80fa-add8dd48be51"
      },
      "execution_count": 38,
      "outputs": [
        {
          "output_type": "stream",
          "name": "stdout",
          "text": [
            "[nltk_data] Downloading package wordnet to /root/nltk_data...\n",
            "[nltk_data]   Package wordnet is already up-to-date!\n"
          ]
        },
        {
          "output_type": "execute_result",
          "data": {
            "text/plain": [
              "True"
            ]
          },
          "metadata": {},
          "execution_count": 38
        }
      ]
    },
    {
      "cell_type": "code",
      "execution_count": 39,
      "metadata": {
        "colab": {
          "base_uri": "https://localhost:8080/"
        },
        "id": "wVlEBzIktzPz",
        "outputId": "01b0eb57-1685-40cf-8c3e-fae9fab95efa"
      },
      "outputs": [
        {
          "output_type": "stream",
          "name": "stdout",
          "text": [
            "['Hello', 'all', 'I', 'am', 'Dr.', 'Chetana', 'Welcome', 'to', 'the', 'lab', 'session', 'of', 'Natural', 'Language', 'Processing', 'NLP', 'NLP', 'is', 'a', 'very', 'interesting', 'area']\n"
          ]
        }
      ],
      "source": [
        "# Lemmatization\n",
        "from nltk.stem import WordNetLemmatizer\n",
        "wordnet_lemmatizer = WordNetLemmatizer()\n",
        "keywords=[w for w in only_words if w in wordnet_lemmatizer.lemmatize(w)]\n",
        "print(keywords)\n",
        "# Next find the roots of the word\n",
        "# for w in keywords:\n",
        "#     lemmatized_words=wordnet_lemmatizer.lemmatize(w)\n",
        "#     print(wordnet_lemmatizer.lemmatize(w))"
      ]
    },
    {
      "cell_type": "markdown",
      "metadata": {
        "id": "AgBcx9RktzP0"
      },
      "source": [
        "### Stemming\n",
        "\n",
        "Stemming in NLP is the process of removing prefixes and suffixes from words so that they are reduced to simpler forms which are called stems. The purpose of stemming is to reduce our vocabulary and dimensionality for NLP tasks and to improve speed and efficiency in information retrieval and information processing tasks. Stemming is a simpler, faster process than lemmatization. The difference is that stemming is usually only rule-based approach. And, as we've showed with our earlier example, rule-based approaches can fail very quickly on more complex examples. But for most problems, it works well enough. Many search engines use stemming to improve their search results.\n"
      ]
    },
    {
      "cell_type": "code",
      "execution_count": 40,
      "metadata": {
        "id": "8D8rNFCUtzP0"
      },
      "outputs": [],
      "source": [
        "# Stemming\n",
        "from nltk.stem import PorterStemmer"
      ]
    },
    {
      "cell_type": "code",
      "execution_count": 41,
      "metadata": {
        "colab": {
          "base_uri": "https://localhost:8080/"
        },
        "id": "X4rfUwmjtzP1",
        "outputId": "9a6901bb-9749-4e1f-f214-fc3aaba10a6e"
      },
      "outputs": [
        {
          "output_type": "stream",
          "name": "stdout",
          "text": [
            "hello\n",
            "all\n",
            "I\n",
            "am\n",
            "dr.\n",
            "chetana\n",
            "welcom\n",
            "to\n",
            "the\n",
            "lab\n",
            "session\n",
            "of\n",
            "natur\n",
            "languag\n",
            "process\n",
            "nlp\n",
            "nlp\n",
            "is\n",
            "a\n",
            "veri\n",
            "interest\n",
            "area\n"
          ]
        }
      ],
      "source": [
        "porter_stemmer = PorterStemmer()\n",
        "# First Word tokenization\n",
        "nltk_tokens = nltk.word_tokenize(statement)\n",
        "#Next find the roots of the word\n",
        "for w in keywords:\n",
        "       print(porter_stemmer.stem(w))"
      ]
    },
    {
      "cell_type": "code",
      "source": [
        "nltk.download('averaged_perceptron_tagger')"
      ],
      "metadata": {
        "colab": {
          "base_uri": "https://localhost:8080/"
        },
        "id": "qHU-eS4Iu85y",
        "outputId": "13a0b0cf-74b5-4110-838e-3dc51894be07"
      },
      "execution_count": 42,
      "outputs": [
        {
          "output_type": "stream",
          "name": "stdout",
          "text": [
            "[nltk_data] Downloading package averaged_perceptron_tagger to\n",
            "[nltk_data]     /root/nltk_data...\n",
            "[nltk_data]   Package averaged_perceptron_tagger is already up-to-\n",
            "[nltk_data]       date!\n"
          ]
        },
        {
          "output_type": "execute_result",
          "data": {
            "text/plain": [
              "True"
            ]
          },
          "metadata": {},
          "execution_count": 42
        }
      ]
    },
    {
      "cell_type": "code",
      "execution_count": 43,
      "metadata": {
        "id": "U_FQtAIitzP1"
      },
      "outputs": [],
      "source": [
        "# POS Tagging"
      ]
    },
    {
      "cell_type": "code",
      "execution_count": 44,
      "metadata": {
        "colab": {
          "base_uri": "https://localhost:8080/"
        },
        "id": "0uQpXJxJtzP2",
        "outputId": "efb8be79-822e-481a-af78-e52d7d6e21e2"
      },
      "outputs": [
        {
          "output_type": "stream",
          "name": "stdout",
          "text": [
            "[('Hello', 'NNP'), ('all', 'DT'), ('I', 'PRP'), ('am', 'VBP'), ('Dr.', 'NNP'), ('Chetana', 'NNP'), ('Welcome', 'NNP'), ('to', 'TO'), ('the', 'DT'), ('lab', 'NN'), ('session', 'NN'), ('of', 'IN'), ('Natural', 'NNP'), ('Language', 'NNP'), ('Processing', 'NNP'), ('NLP', 'NNP'), ('NLP', 'NNP'), ('is', 'VBZ'), ('a', 'DT'), ('very', 'RB'), ('interesting', 'JJ'), ('area', 'NN')]\n"
          ]
        }
      ],
      "source": [
        "print(nltk.pos_tag(keywords))"
      ]
    },
    {
      "cell_type": "code",
      "execution_count": 44,
      "metadata": {
        "id": "Vvu-sRRwtzP2"
      },
      "outputs": [],
      "source": [
        ""
      ]
    },
    {
      "cell_type": "code",
      "execution_count": 44,
      "metadata": {
        "id": "BN9v7N5JtzP3"
      },
      "outputs": [],
      "source": [
        ""
      ]
    }
  ],
  "metadata": {
    "kernelspec": {
      "display_name": "Python 3 (ipykernel)",
      "language": "python",
      "name": "python3"
    },
    "language_info": {
      "codemirror_mode": {
        "name": "ipython",
        "version": 3
      },
      "file_extension": ".py",
      "mimetype": "text/x-python",
      "name": "python",
      "nbconvert_exporter": "python",
      "pygments_lexer": "ipython3",
      "version": "3.7.9"
    },
    "colab": {
      "name": "00_nlp_understanding_basic_text_processing.ipynb",
      "provenance": [],
      "collapsed_sections": [],
      "toc_visible": true
    }
  },
  "nbformat": 4,
  "nbformat_minor": 0
}