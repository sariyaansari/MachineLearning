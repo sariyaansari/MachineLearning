{
 "cells": [
  {
   "cell_type": "markdown",
   "id": "a4d96aa2",
   "metadata": {
    "id": "35IiZJHBOYT9"
   },
   "source": [
    "# Problem Statement\n",
    "\n",
    "##### This is the COVID-19 tweets dataset to predict the sentiment of Covid-19 tweets. Each record consists of three attributes:\n",
    "\n",
    "##### UserName, ScreenName, Location, Tweet At, Original Tweet, Sentiment\n",
    "\n",
    "##### Sentiment Label ->  0- Negative, 1- Positive, 2- Neutral\n",
    "##### Read the coronavirus Tweets.csv file and set it as a Dataframe called covid_tweets. Check the head, info, and describe methods on covid_tweets \n",
    "##### Remove punctuations and stopwords from the text in the ‘OriginalTweet’ column. Replace special symbols with ‘_’(underscore). Convert all the letters to lowercase.\n",
    "##### Normalize tweets by using Stemming or Lemmatization.\n",
    "##### Preprocessed tweets should be included in the covid_tweets data frame as cleaned_tweets.\n",
    "##### Create two objects X and y. X will be the ' cleaned_tweets ' column of covid_tweets data frame and y will be the ' Sentiment' column. \n",
    "##### create a CountVectorizer object and split the data into training and testing sets. Perform TFIDF vectorization on Text feature “cleaned_tweets’\n",
    "##### Train a decision tree model for classifying the headlines and Displaying the confusion Matrix.\n",
    "##### Display the HMM POS tagging on the first 2 rows of ‘cleaned_tweets’. \n",
    "\n",
    "\n",
    "\n",
    "\n"
   ]
  },
  {
   "cell_type": "code",
   "execution_count": 1,
   "id": "8f2a10c6",
   "metadata": {
    "id": "8f2a10c6"
   },
   "outputs": [],
   "source": [
    "import pandas as pd\n",
    "import numpy as np\n",
    "import requests\n",
    "from io import StringIO\n",
    "from sklearn.model_selection import train_test_split, cross_val_score, cross_val_predict\n",
    "from sklearn import metrics\n",
    "from sklearn import datasets\n",
    "from sklearn.tree import DecisionTreeClassifier\n",
    "\n",
    "import warnings\n",
    "warnings.filterwarnings('ignore')"
   ]
  },
  {
   "cell_type": "code",
   "execution_count": 2,
   "id": "88ce7847",
   "metadata": {},
   "outputs": [],
   "source": [
    "# url = <google drive share URL can be given here>\n",
    "# file_id = url.split('/')[-2]\n",
    "# dwn_url='https://drive.google.com/uc?export=download&id=' + file_id\n",
    "# url2 = requests.get(dwn_url).text\n",
    "# csv_raw = StringIO(url2)\n",
    "csv_raw = \"dataset/covid_tweets.csv\"\n",
    "covid_tweets = pd.read_csv(csv_raw)"
   ]
  },
  {
   "cell_type": "code",
   "execution_count": 3,
   "id": "1dc7ca27",
   "metadata": {
    "colab": {
     "base_uri": "https://localhost:8080/",
     "height": 206
    },
    "id": "1dc7ca27",
    "outputId": "f56f0909-6fd7-454e-c4f9-dc04f45627fe"
   },
   "outputs": [
    {
     "data": {
      "text/html": [
       "<div>\n",
       "<style scoped>\n",
       "    .dataframe tbody tr th:only-of-type {\n",
       "        vertical-align: middle;\n",
       "    }\n",
       "\n",
       "    .dataframe tbody tr th {\n",
       "        vertical-align: top;\n",
       "    }\n",
       "\n",
       "    .dataframe thead th {\n",
       "        text-align: right;\n",
       "    }\n",
       "</style>\n",
       "<table border=\"1\" class=\"dataframe\">\n",
       "  <thead>\n",
       "    <tr style=\"text-align: right;\">\n",
       "      <th></th>\n",
       "      <th>UserName</th>\n",
       "      <th>ScreenName</th>\n",
       "      <th>Location</th>\n",
       "      <th>TweetAt</th>\n",
       "      <th>OriginalTweet</th>\n",
       "      <th>Sentiment</th>\n",
       "    </tr>\n",
       "  </thead>\n",
       "  <tbody>\n",
       "    <tr>\n",
       "      <th>0</th>\n",
       "      <td>3799.0</td>\n",
       "      <td>48751.0</td>\n",
       "      <td>London</td>\n",
       "      <td>16-03-2020</td>\n",
       "      <td>@MeNyrbie @Phil_Gahan @Chrisitv https://t.co/i...</td>\n",
       "      <td>2.0</td>\n",
       "    </tr>\n",
       "    <tr>\n",
       "      <th>1</th>\n",
       "      <td>3800.0</td>\n",
       "      <td>48752.0</td>\n",
       "      <td>UK</td>\n",
       "      <td>16-03-2020</td>\n",
       "      <td>advice Talk to your neighbours family to excha...</td>\n",
       "      <td>1.0</td>\n",
       "    </tr>\n",
       "    <tr>\n",
       "      <th>2</th>\n",
       "      <td>3801.0</td>\n",
       "      <td>48753.0</td>\n",
       "      <td>Vagabonds</td>\n",
       "      <td>16-03-2020</td>\n",
       "      <td>Coronavirus Australia: Woolworths to give elde...</td>\n",
       "      <td>1.0</td>\n",
       "    </tr>\n",
       "    <tr>\n",
       "      <th>3</th>\n",
       "      <td>3802.0</td>\n",
       "      <td>48754.0</td>\n",
       "      <td>NaN</td>\n",
       "      <td>16-03-2020</td>\n",
       "      <td>My food stock is not the only one which is emp...</td>\n",
       "      <td>1.0</td>\n",
       "    </tr>\n",
       "    <tr>\n",
       "      <th>4</th>\n",
       "      <td>3803.0</td>\n",
       "      <td>48755.0</td>\n",
       "      <td>NaN</td>\n",
       "      <td>16-03-2020</td>\n",
       "      <td>Me, ready to go at supermarket during the #COV...</td>\n",
       "      <td>0.0</td>\n",
       "    </tr>\n",
       "  </tbody>\n",
       "</table>\n",
       "</div>"
      ],
      "text/plain": [
       "   UserName  ScreenName   Location     TweetAt  \\\n",
       "0    3799.0     48751.0     London  16-03-2020   \n",
       "1    3800.0     48752.0         UK  16-03-2020   \n",
       "2    3801.0     48753.0  Vagabonds  16-03-2020   \n",
       "3    3802.0     48754.0        NaN  16-03-2020   \n",
       "4    3803.0     48755.0        NaN  16-03-2020   \n",
       "\n",
       "                                       OriginalTweet  Sentiment  \n",
       "0  @MeNyrbie @Phil_Gahan @Chrisitv https://t.co/i...        2.0  \n",
       "1  advice Talk to your neighbours family to excha...        1.0  \n",
       "2  Coronavirus Australia: Woolworths to give elde...        1.0  \n",
       "3  My food stock is not the only one which is emp...        1.0  \n",
       "4  Me, ready to go at supermarket during the #COV...        0.0  "
      ]
     },
     "execution_count": 3,
     "metadata": {},
     "output_type": "execute_result"
    }
   ],
   "source": [
    "covid_tweets.head()"
   ]
  },
  {
   "cell_type": "code",
   "execution_count": 4,
   "id": "3nToiyMLEm4v",
   "metadata": {
    "colab": {
     "base_uri": "https://localhost:8080/"
    },
    "id": "3nToiyMLEm4v",
    "outputId": "9460b897-ce1e-44ee-8f64-8864a006ae03"
   },
   "outputs": [
    {
     "name": "stdout",
     "output_type": "stream",
     "text": [
      "<class 'pandas.core.frame.DataFrame'>\n",
      "RangeIndex: 2716 entries, 0 to 2715\n",
      "Data columns (total 6 columns):\n",
      " #   Column         Non-Null Count  Dtype  \n",
      "---  ------         --------------  -----  \n",
      " 0   UserName       1772 non-null   float64\n",
      " 1   ScreenName     1772 non-null   float64\n",
      " 2   Location       1409 non-null   object \n",
      " 3   TweetAt        1772 non-null   object \n",
      " 4   OriginalTweet  1772 non-null   object \n",
      " 5   Sentiment      1772 non-null   float64\n",
      "dtypes: float64(3), object(3)\n",
      "memory usage: 127.4+ KB\n"
     ]
    }
   ],
   "source": [
    "covid_tweets.info()"
   ]
  },
  {
   "cell_type": "code",
   "execution_count": 5,
   "id": "1599ef08",
   "metadata": {
    "colab": {
     "base_uri": "https://localhost:8080/"
    },
    "id": "1599ef08",
    "outputId": "eccc389c-cf93-4288-e3f3-a212f2c7d9fe"
   },
   "outputs": [
    {
     "data": {
      "text/plain": [
       "(2716, 6)"
      ]
     },
     "execution_count": 5,
     "metadata": {},
     "output_type": "execute_result"
    }
   ],
   "source": [
    "covid_tweets.shape"
   ]
  },
  {
   "cell_type": "code",
   "execution_count": 6,
   "id": "1df215eb",
   "metadata": {
    "colab": {
     "base_uri": "https://localhost:8080/"
    },
    "id": "1df215eb",
    "outputId": "e4884698-67f2-4859-ef30-6e1bb14b8bf5"
   },
   "outputs": [
    {
     "name": "stdout",
     "output_type": "stream",
     "text": [
      "Number of duplicate rows ::  (943, 6)\n"
     ]
    }
   ],
   "source": [
    "#Check duplicate rows in data\n",
    "duplicate_rows = covid_tweets[covid_tweets.duplicated()]\n",
    "print(\"Number of duplicate rows :: \", duplicate_rows.shape)"
   ]
  },
  {
   "cell_type": "code",
   "execution_count": 7,
   "id": "51451bda",
   "metadata": {
    "colab": {
     "base_uri": "https://localhost:8080/"
    },
    "id": "51451bda",
    "outputId": "555228f3-0362-4440-a69e-ab71818c5b8f"
   },
   "outputs": [
    {
     "name": "stdout",
     "output_type": "stream",
     "text": [
      "Null values :: \n",
      "UserName          944\n",
      "ScreenName        944\n",
      "Location         1307\n",
      "TweetAt           944\n",
      "OriginalTweet     944\n",
      "Sentiment         944\n",
      "dtype: int64\n"
     ]
    }
   ],
   "source": [
    "#looking for null values\n",
    "print(\"Null values :: \")\n",
    "print(covid_tweets.isnull().sum())"
   ]
  },
  {
   "cell_type": "code",
   "execution_count": 8,
   "id": "60794fae",
   "metadata": {
    "id": "60794fae"
   },
   "outputs": [],
   "source": [
    "#Note: Location data having null values have no impact \n",
    "# for this problem statement. Therefore, rather than removing\n",
    "# values are replaced with empty string to avoid runtime issues.\n",
    "#This can be handled more elegantly because Sentiment needs to be removed if null\n",
    "#But for the sake of easy implementation, it is done like that\n",
    "covid_tweets.UserName = covid_tweets.UserName.fillna('')\n",
    "covid_tweets.ScreenName = covid_tweets.ScreenName.fillna('')\n",
    "covid_tweets.Location = covid_tweets.Location.fillna('')\n",
    "covid_tweets.TweetAt = covid_tweets.TweetAt.fillna('')\n",
    "covid_tweets.OriginalTweet = covid_tweets.OriginalTweet.fillna('')\n",
    "covid_tweets.Sentiment = covid_tweets.Sentiment.fillna('')"
   ]
  },
  {
   "cell_type": "code",
   "execution_count": 9,
   "id": "0acfdf71",
   "metadata": {
    "colab": {
     "base_uri": "https://localhost:8080/"
    },
    "id": "0acfdf71",
    "outputId": "b6457f20-e0d0-4647-df57-f1841ba0aa67"
   },
   "outputs": [
    {
     "data": {
      "text/plain": [
       "(2716, 6)"
      ]
     },
     "execution_count": 9,
     "metadata": {},
     "output_type": "execute_result"
    }
   ],
   "source": [
    "covid_tweets.shape"
   ]
  },
  {
   "cell_type": "code",
   "execution_count": 10,
   "id": "Mq_IlokXDlLB",
   "metadata": {
    "colab": {
     "base_uri": "https://localhost:8080/"
    },
    "id": "Mq_IlokXDlLB",
    "outputId": "1eb906ca-0114-4c4c-ba5e-22cde09d97f9"
   },
   "outputs": [
    {
     "name": "stdout",
     "output_type": "stream",
     "text": [
      "Null values :: \n",
      "UserName         0\n",
      "ScreenName       0\n",
      "Location         0\n",
      "TweetAt          0\n",
      "OriginalTweet    0\n",
      "Sentiment        0\n",
      "dtype: int64\n"
     ]
    }
   ],
   "source": [
    "#looking for null values\n",
    "print(\"Null values :: \")\n",
    "print(covid_tweets.isnull().sum())"
   ]
  },
  {
   "cell_type": "code",
   "execution_count": 11,
   "id": "5cb8cc73",
   "metadata": {
    "colab": {
     "base_uri": "https://localhost:8080/",
     "height": 300
    },
    "id": "5cb8cc73",
    "outputId": "5294fa2e-7fdd-4cd5-a135-c0143056a96e"
   },
   "outputs": [
    {
     "data": {
      "text/html": [
       "<div>\n",
       "<style scoped>\n",
       "    .dataframe tbody tr th:only-of-type {\n",
       "        vertical-align: middle;\n",
       "    }\n",
       "\n",
       "    .dataframe tbody tr th {\n",
       "        vertical-align: top;\n",
       "    }\n",
       "\n",
       "    .dataframe thead th {\n",
       "        text-align: right;\n",
       "    }\n",
       "</style>\n",
       "<table border=\"1\" class=\"dataframe\">\n",
       "  <thead>\n",
       "    <tr style=\"text-align: right;\">\n",
       "      <th></th>\n",
       "      <th>UserName</th>\n",
       "      <th>ScreenName</th>\n",
       "      <th>Location</th>\n",
       "      <th>TweetAt</th>\n",
       "      <th>OriginalTweet</th>\n",
       "      <th>Sentiment</th>\n",
       "    </tr>\n",
       "  </thead>\n",
       "  <tbody>\n",
       "    <tr>\n",
       "      <th>count</th>\n",
       "      <td>2716</td>\n",
       "      <td>2716</td>\n",
       "      <td>2716</td>\n",
       "      <td>2716</td>\n",
       "      <td>2716</td>\n",
       "      <td>2716</td>\n",
       "    </tr>\n",
       "    <tr>\n",
       "      <th>unique</th>\n",
       "      <td>1773</td>\n",
       "      <td>1773</td>\n",
       "      <td>964</td>\n",
       "      <td>3</td>\n",
       "      <td>1773</td>\n",
       "      <td>4</td>\n",
       "    </tr>\n",
       "    <tr>\n",
       "      <th>top</th>\n",
       "      <td></td>\n",
       "      <td></td>\n",
       "      <td></td>\n",
       "      <td>17-03-2020</td>\n",
       "      <td></td>\n",
       "      <td></td>\n",
       "    </tr>\n",
       "    <tr>\n",
       "      <th>freq</th>\n",
       "      <td>944</td>\n",
       "      <td>944</td>\n",
       "      <td>1307</td>\n",
       "      <td>1116</td>\n",
       "      <td>944</td>\n",
       "      <td>944</td>\n",
       "    </tr>\n",
       "  </tbody>\n",
       "</table>\n",
       "</div>"
      ],
      "text/plain": [
       "       UserName ScreenName Location     TweetAt OriginalTweet Sentiment\n",
       "count      2716       2716     2716        2716          2716      2716\n",
       "unique     1773       1773      964           3          1773         4\n",
       "top                                  17-03-2020                        \n",
       "freq        944        944     1307        1116           944       944"
      ]
     },
     "execution_count": 11,
     "metadata": {},
     "output_type": "execute_result"
    }
   ],
   "source": [
    "covid_tweets.describe()"
   ]
  },
  {
   "cell_type": "code",
   "execution_count": 12,
   "id": "dc86e037",
   "metadata": {
    "colab": {
     "base_uri": "https://localhost:8080/"
    },
    "id": "dc86e037",
    "outputId": "8a1070b0-7374-4153-990e-2472a6d21891"
   },
   "outputs": [
    {
     "name": "stdout",
     "output_type": "stream",
     "text": [
      "Null values :: \n",
      "UserName         0\n",
      "ScreenName       0\n",
      "Location         0\n",
      "TweetAt          0\n",
      "OriginalTweet    0\n",
      "Sentiment        0\n",
      "dtype: int64\n"
     ]
    }
   ],
   "source": [
    "#looking for null values\n",
    "print(\"Null values :: \")\n",
    "print(covid_tweets.isnull().sum())"
   ]
  },
  {
   "cell_type": "code",
   "execution_count": 13,
   "id": "87cb82a0",
   "metadata": {
    "colab": {
     "base_uri": "https://localhost:8080/"
    },
    "id": "87cb82a0",
    "outputId": "28e4cd25-11df-4388-97f3-48d34a631dcf"
   },
   "outputs": [
    {
     "name": "stdout",
     "output_type": "stream",
     "text": [
      "<class 'pandas.core.frame.DataFrame'>\n",
      "RangeIndex: 2716 entries, 0 to 2715\n",
      "Data columns (total 6 columns):\n",
      " #   Column         Non-Null Count  Dtype \n",
      "---  ------         --------------  ----- \n",
      " 0   UserName       2716 non-null   object\n",
      " 1   ScreenName     2716 non-null   object\n",
      " 2   Location       2716 non-null   object\n",
      " 3   TweetAt        2716 non-null   object\n",
      " 4   OriginalTweet  2716 non-null   object\n",
      " 5   Sentiment      2716 non-null   object\n",
      "dtypes: object(6)\n",
      "memory usage: 127.4+ KB\n"
     ]
    }
   ],
   "source": [
    "covid_tweets.info()"
   ]
  },
  {
   "cell_type": "code",
   "execution_count": 14,
   "id": "da74df34",
   "metadata": {
    "colab": {
     "base_uri": "https://localhost:8080/",
     "height": 206
    },
    "id": "da74df34",
    "outputId": "c032cd44-cd57-4ded-e53c-de2a0da3b684"
   },
   "outputs": [
    {
     "data": {
      "text/html": [
       "<div>\n",
       "<style scoped>\n",
       "    .dataframe tbody tr th:only-of-type {\n",
       "        vertical-align: middle;\n",
       "    }\n",
       "\n",
       "    .dataframe tbody tr th {\n",
       "        vertical-align: top;\n",
       "    }\n",
       "\n",
       "    .dataframe thead th {\n",
       "        text-align: right;\n",
       "    }\n",
       "</style>\n",
       "<table border=\"1\" class=\"dataframe\">\n",
       "  <thead>\n",
       "    <tr style=\"text-align: right;\">\n",
       "      <th></th>\n",
       "      <th>UserName</th>\n",
       "      <th>ScreenName</th>\n",
       "      <th>Location</th>\n",
       "      <th>TweetAt</th>\n",
       "      <th>OriginalTweet</th>\n",
       "      <th>Sentiment</th>\n",
       "    </tr>\n",
       "  </thead>\n",
       "  <tbody>\n",
       "    <tr>\n",
       "      <th>0</th>\n",
       "      <td>3799.0</td>\n",
       "      <td>48751.0</td>\n",
       "      <td>London</td>\n",
       "      <td>16-03-2020</td>\n",
       "      <td>@MeNyrbie @Phil_Gahan @Chrisitv https://t.co/i...</td>\n",
       "      <td>2.0</td>\n",
       "    </tr>\n",
       "    <tr>\n",
       "      <th>1</th>\n",
       "      <td>3800.0</td>\n",
       "      <td>48752.0</td>\n",
       "      <td>UK</td>\n",
       "      <td>16-03-2020</td>\n",
       "      <td>advice Talk to your neighbours family to excha...</td>\n",
       "      <td>1.0</td>\n",
       "    </tr>\n",
       "    <tr>\n",
       "      <th>2</th>\n",
       "      <td>3801.0</td>\n",
       "      <td>48753.0</td>\n",
       "      <td>Vagabonds</td>\n",
       "      <td>16-03-2020</td>\n",
       "      <td>Coronavirus Australia: Woolworths to give elde...</td>\n",
       "      <td>1.0</td>\n",
       "    </tr>\n",
       "    <tr>\n",
       "      <th>3</th>\n",
       "      <td>3802.0</td>\n",
       "      <td>48754.0</td>\n",
       "      <td></td>\n",
       "      <td>16-03-2020</td>\n",
       "      <td>My food stock is not the only one which is emp...</td>\n",
       "      <td>1.0</td>\n",
       "    </tr>\n",
       "    <tr>\n",
       "      <th>4</th>\n",
       "      <td>3803.0</td>\n",
       "      <td>48755.0</td>\n",
       "      <td></td>\n",
       "      <td>16-03-2020</td>\n",
       "      <td>Me, ready to go at supermarket during the #COV...</td>\n",
       "      <td>0.0</td>\n",
       "    </tr>\n",
       "  </tbody>\n",
       "</table>\n",
       "</div>"
      ],
      "text/plain": [
       "  UserName ScreenName   Location     TweetAt  \\\n",
       "0   3799.0    48751.0     London  16-03-2020   \n",
       "1   3800.0    48752.0         UK  16-03-2020   \n",
       "2   3801.0    48753.0  Vagabonds  16-03-2020   \n",
       "3   3802.0    48754.0             16-03-2020   \n",
       "4   3803.0    48755.0             16-03-2020   \n",
       "\n",
       "                                       OriginalTweet Sentiment  \n",
       "0  @MeNyrbie @Phil_Gahan @Chrisitv https://t.co/i...       2.0  \n",
       "1  advice Talk to your neighbours family to excha...       1.0  \n",
       "2  Coronavirus Australia: Woolworths to give elde...       1.0  \n",
       "3  My food stock is not the only one which is emp...       1.0  \n",
       "4  Me, ready to go at supermarket during the #COV...       0.0  "
      ]
     },
     "execution_count": 14,
     "metadata": {},
     "output_type": "execute_result"
    }
   ],
   "source": [
    "covid_tweets.head()"
   ]
  },
  {
   "cell_type": "code",
   "execution_count": 15,
   "id": "5a9ad43e",
   "metadata": {
    "colab": {
     "base_uri": "https://localhost:8080/"
    },
    "id": "5a9ad43e",
    "outputId": "a0a509ae-1f07-498f-8908-7c16fd345e19"
   },
   "outputs": [
    {
     "name": "stdout",
     "output_type": "stream",
     "text": [
      "===>>>>:::  @MeNyrbie @Phil_Gahan @Chrisitv https://t.co/iFz9FAn2Pa and https://t.co/xX6ghGFzCC and https://t.co/I2NlzdxNo8\n",
      "===>>>>:::  advice Talk to your neighbours family to exchange phone numbers create contact list with phone numbers of neighbours schools employer chemist GP set up online shopping accounts if poss adequate supplies of regular meds but not over order\n",
      "===>>>>:::  Coronavirus Australia: Woolworths to give elderly, disabled dedicated shopping hours amid COVID-19 outbreak https://t.co/bInCA9Vp8P\n",
      "===>>>>:::  My food stock is not the only one which is empty...\r",
      "\r\n",
      "\r",
      "\r\n",
      "PLEASE, don't panic, THERE WILL BE ENOUGH FOOD FOR EVERYONE if you do not take more than you need. \r",
      "\r\n",
      "Stay calm, stay safe.\r",
      "\r\n",
      "\r",
      "\r\n",
      "#COVID19france #COVID_19 #COVID19 #coronavirus #confinement #Confinementotal #ConfinementGeneral https://t.co/zrlG0Z520j\n",
      "===>>>>:::  Me, ready to go at supermarket during the #COVID19 outbreak.\r",
      "\r\n",
      "\r",
      "\r\n",
      "Not because I'm paranoid, but because my food stock is litteraly empty. The #coronavirus is a serious thing, but please, don't panic. It causes shortage...\r",
      "\r\n",
      "\r",
      "\r\n",
      "#CoronavirusFrance #restezchezvous #StayAtHome #confinement https://t.co/usmuaLq72n\n",
      "===>>>>:::  As news of the regions first confirmed COVID-19 case came out of Sullivan County last week, people flocked to area stores to purchase cleaning supplies, hand sanitizer, food, toilet paper and other goods, @Tim_Dodson reports https://t.co/cfXch7a2lU\n"
     ]
    }
   ],
   "source": [
    "#pring first five tweets full length\n",
    "#Note: to be replaced pythonic code to check columns contains HTTP links or not\n",
    "for ind in covid_tweets.index:\n",
    "    print(\"===>>>>::: \", covid_tweets['OriginalTweet'][ind])\n",
    "    if ind == 5:\n",
    "        break\n",
    "    "
   ]
  },
  {
   "cell_type": "code",
   "execution_count": 16,
   "id": "c702cdbf",
   "metadata": {
    "id": "c702cdbf"
   },
   "outputs": [],
   "source": [
    "#Removing HTTP links from the text\n",
    "import re\n",
    "covid_tweets['OriginalTweet'] = covid_tweets['OriginalTweet'].apply(lambda x: re.split('https:\\/\\/.*', str(x))[0])"
   ]
  },
  {
   "cell_type": "code",
   "execution_count": 17,
   "id": "7c53fa7e",
   "metadata": {
    "colab": {
     "base_uri": "https://localhost:8080/"
    },
    "id": "7c53fa7e",
    "outputId": "e80fc531-f0c0-4fbd-9a8f-da245c90fd23"
   },
   "outputs": [
    {
     "name": "stdout",
     "output_type": "stream",
     "text": [
      "===>>>>:::  @MeNyrbie @Phil_Gahan @Chrisitv \n",
      "===>>>>:::  advice Talk to your neighbours family to exchange phone numbers create contact list with phone numbers of neighbours schools employer chemist GP set up online shopping accounts if poss adequate supplies of regular meds but not over order\n",
      "===>>>>:::  Coronavirus Australia: Woolworths to give elderly, disabled dedicated shopping hours amid COVID-19 outbreak \n",
      "===>>>>:::  My food stock is not the only one which is empty...\r",
      "\r\n",
      "\r",
      "\r\n",
      "PLEASE, don't panic, THERE WILL BE ENOUGH FOOD FOR EVERYONE if you do not take more than you need. \r",
      "\r\n",
      "Stay calm, stay safe.\r",
      "\r\n",
      "\r",
      "\r\n",
      "#COVID19france #COVID_19 #COVID19 #coronavirus #confinement #Confinementotal #ConfinementGeneral \n",
      "===>>>>:::  Me, ready to go at supermarket during the #COVID19 outbreak.\r",
      "\r\n",
      "\r",
      "\r\n",
      "Not because I'm paranoid, but because my food stock is litteraly empty. The #coronavirus is a serious thing, but please, don't panic. It causes shortage...\r",
      "\r\n",
      "\r",
      "\r\n",
      "#CoronavirusFrance #restezchezvous #StayAtHome #confinement \n",
      "===>>>>:::  As news of the regions first confirmed COVID-19 case came out of Sullivan County last week, people flocked to area stores to purchase cleaning supplies, hand sanitizer, food, toilet paper and other goods, @Tim_Dodson reports \n"
     ]
    }
   ],
   "source": [
    "#First five tweets after removal of http links\n",
    "#Note: to be replaced pythonic code to check columns contains HTTP links or not\n",
    "for ind in covid_tweets.index:\n",
    "    print(\"===>>>>::: \", covid_tweets['OriginalTweet'][ind])\n",
    "    if ind == 5:\n",
    "        break"
   ]
  },
  {
   "cell_type": "code",
   "execution_count": 18,
   "id": "ce1cde0b",
   "metadata": {
    "colab": {
     "base_uri": "https://localhost:8080/"
    },
    "id": "ce1cde0b",
    "outputId": "ee732ff0-175b-4fc3-e097-87eada90b6ef"
   },
   "outputs": [
    {
     "data": {
      "text/plain": [
       "UserName         1484\n",
       "ScreenName       1484\n",
       "Location         1484\n",
       "TweetAt          1484\n",
       "OriginalTweet    1484\n",
       "Sentiment        1484\n",
       "dtype: int64"
      ]
     },
     "execution_count": 18,
     "metadata": {},
     "output_type": "execute_result"
    }
   ],
   "source": [
    "#Check how many records are there having special character in column Original Tweet \n",
    "val = covid_tweets[covid_tweets.OriginalTweet.str.contains(r'[@#&$%+-/*]')]\n",
    "val.count()"
   ]
  },
  {
   "cell_type": "code",
   "execution_count": 19,
   "id": "65e92315",
   "metadata": {
    "colab": {
     "base_uri": "https://localhost:8080/",
     "height": 346
    },
    "id": "65e92315",
    "outputId": "bf6bceab-880c-4ff2-d982-adf155e3f8da"
   },
   "outputs": [
    {
     "data": {
      "text/plain": [
       "UserName         885\n",
       "ScreenName       885\n",
       "Location         885\n",
       "TweetAt          885\n",
       "OriginalTweet    885\n",
       "Sentiment        885\n",
       "dtype: int64"
      ]
     },
     "execution_count": 19,
     "metadata": {},
     "output_type": "execute_result"
    }
   ],
   "source": [
    "#Check how many records are there having special character in column Location\n",
    "val = covid_tweets[covid_tweets.Location.str.contains(r'[@#&$%+-/*]')]\n",
    "val.count()"
   ]
  },
  {
   "cell_type": "code",
   "execution_count": 20,
   "id": "93cb8c38",
   "metadata": {
    "id": "93cb8c38"
   },
   "outputs": [
    {
     "data": {
      "text/html": [
       "<div>\n",
       "<style scoped>\n",
       "    .dataframe tbody tr th:only-of-type {\n",
       "        vertical-align: middle;\n",
       "    }\n",
       "\n",
       "    .dataframe tbody tr th {\n",
       "        vertical-align: top;\n",
       "    }\n",
       "\n",
       "    .dataframe thead th {\n",
       "        text-align: right;\n",
       "    }\n",
       "</style>\n",
       "<table border=\"1\" class=\"dataframe\">\n",
       "  <thead>\n",
       "    <tr style=\"text-align: right;\">\n",
       "      <th></th>\n",
       "      <th>UserName</th>\n",
       "      <th>ScreenName</th>\n",
       "      <th>Location</th>\n",
       "      <th>TweetAt</th>\n",
       "      <th>OriginalTweet</th>\n",
       "      <th>Sentiment</th>\n",
       "    </tr>\n",
       "  </thead>\n",
       "  <tbody>\n",
       "    <tr>\n",
       "      <th>0</th>\n",
       "      <td>3799.0</td>\n",
       "      <td>48751.0</td>\n",
       "      <td>london</td>\n",
       "      <td>16-03-2020</td>\n",
       "      <td>@menyrbie @phil_gahan @chrisitv</td>\n",
       "      <td>2.0</td>\n",
       "    </tr>\n",
       "    <tr>\n",
       "      <th>1</th>\n",
       "      <td>3800.0</td>\n",
       "      <td>48752.0</td>\n",
       "      <td>uk</td>\n",
       "      <td>16-03-2020</td>\n",
       "      <td>advice talk to your neighbours family to excha...</td>\n",
       "      <td>1.0</td>\n",
       "    </tr>\n",
       "    <tr>\n",
       "      <th>2</th>\n",
       "      <td>3801.0</td>\n",
       "      <td>48753.0</td>\n",
       "      <td>vagabonds</td>\n",
       "      <td>16-03-2020</td>\n",
       "      <td>coronavirus australia: woolworths to give elde...</td>\n",
       "      <td>1.0</td>\n",
       "    </tr>\n",
       "    <tr>\n",
       "      <th>3</th>\n",
       "      <td>3802.0</td>\n",
       "      <td>48754.0</td>\n",
       "      <td></td>\n",
       "      <td>16-03-2020</td>\n",
       "      <td>my food stock is not the only one which is emp...</td>\n",
       "      <td>1.0</td>\n",
       "    </tr>\n",
       "    <tr>\n",
       "      <th>4</th>\n",
       "      <td>3803.0</td>\n",
       "      <td>48755.0</td>\n",
       "      <td></td>\n",
       "      <td>16-03-2020</td>\n",
       "      <td>me, ready to go at supermarket during the #cov...</td>\n",
       "      <td>0.0</td>\n",
       "    </tr>\n",
       "  </tbody>\n",
       "</table>\n",
       "</div>"
      ],
      "text/plain": [
       "  UserName ScreenName   Location     TweetAt  \\\n",
       "0   3799.0    48751.0     london  16-03-2020   \n",
       "1   3800.0    48752.0         uk  16-03-2020   \n",
       "2   3801.0    48753.0  vagabonds  16-03-2020   \n",
       "3   3802.0    48754.0             16-03-2020   \n",
       "4   3803.0    48755.0             16-03-2020   \n",
       "\n",
       "                                       OriginalTweet Sentiment  \n",
       "0                   @menyrbie @phil_gahan @chrisitv        2.0  \n",
       "1  advice talk to your neighbours family to excha...       1.0  \n",
       "2  coronavirus australia: woolworths to give elde...       1.0  \n",
       "3  my food stock is not the only one which is emp...       1.0  \n",
       "4  me, ready to go at supermarket during the #cov...       0.0  "
      ]
     },
     "execution_count": 20,
     "metadata": {},
     "output_type": "execute_result"
    }
   ],
   "source": [
    "#Converting data to lowercase\n",
    "covid_tweets[\"OriginalTweet\"] = covid_tweets[\"OriginalTweet\"].str.lower()\n",
    "covid_tweets[\"Location\"] = covid_tweets[\"Location\"].str.lower()\n",
    "covid_tweets.head()"
   ]
  },
  {
   "cell_type": "code",
   "execution_count": null,
   "id": "ebaa17b7",
   "metadata": {
    "id": "ebaa17b7"
   },
   "outputs": [],
   "source": []
  },
  {
   "cell_type": "code",
   "execution_count": 21,
   "id": "6bdfeb8f",
   "metadata": {
    "id": "6bdfeb8f"
   },
   "outputs": [],
   "source": [
    "#Replace special characters of Original Tweet & Location columns values with underscore\n",
    "#Same needs to be done with Location as well\n",
    "s = covid_tweets['OriginalTweet'].replace(regex=True, inplace=True, to_replace=r'[\"\"~`!?@#&$%+-/*]',value=r'_')\n",
    "s = covid_tweets['Location'].replace(regex=True, inplace=True, to_replace=r'[\"\"~`!?@#&$%+-/*]',value=r'_')"
   ]
  },
  {
   "cell_type": "code",
   "execution_count": 22,
   "id": "bbacad2a",
   "metadata": {
    "id": "bbacad2a"
   },
   "outputs": [
    {
     "name": "stdout",
     "output_type": "stream",
     "text": [
      "0 ===>>>>:::  _menyrbie _phil_gahan _chrisitv \n",
      "1 ===>>>>:::  advice talk to your neighbours family to exchange phone numbers create contact list with phone numbers of neighbours schools employer chemist gp set up online shopping accounts if poss adequate supplies of regular meds but not over order\n",
      "2 ===>>>>:::  coronavirus australia: woolworths to give elderly_ disabled dedicated shopping hours amid covid_19 outbreak \n",
      "3 ===>>>>:::  my food stock is not the only one which is empty___\r",
      "\r\n",
      "\r",
      "\r\n",
      "please_ don't panic_ there will be enough food for everyone if you do not take more than you need_ \r",
      "\r\n",
      "stay calm_ stay safe_\r",
      "\r\n",
      "\r",
      "\r\n",
      "_covid19france _covid_19 _covid19 _coronavirus _confinement _confinementotal _confinementgeneral \n",
      "4 ===>>>>:::  me_ ready to go at supermarket during the _covid19 outbreak_\r",
      "\r\n",
      "\r",
      "\r\n",
      "not because i'm paranoid_ but because my food stock is litteraly empty_ the _coronavirus is a serious thing_ but please_ don't panic_ it causes shortage___\r",
      "\r\n",
      "\r",
      "\r\n",
      "_coronavirusfrance _restezchezvous _stayathome _confinement \n",
      "5 ===>>>>:::  as news of the regions first confirmed covid_19 case came out of sullivan county last week_ people flocked to area stores to purchase cleaning supplies_ hand sanitizer_ food_ toilet paper and other goods_ _tim_dodson reports \n",
      "6 ===>>>>:::  cashier at grocery store was sharing his insights on _covid_19 to prove his credibility he commented _i'm in civics class so i know what i'm talking about__ \n",
      "7 ===>>>>:::  was at the supermarket today_ didn't buy toilet paper_ _rebel\r",
      "\r\n",
      "\r",
      "\r\n",
      "_toiletpapercrisis _covid_19 \n",
      "8 ===>>>>:::  due to covid_19 our retail store and classroom in atlanta will not be open for walk_in business or classes for the next two weeks_ beginning monday_ march 16_  we will continue to process online and phone orders as normal_ thank you for your understanding_ \n",
      "9 ===>>>>:::  for corona prevention_we should stop to buy things with the cash and should use online payment methods because corona can spread through the notes_ also we should prefer online shopping from our home_ it's time to fight against covid 19__ _govindia _indiafightscorona\n",
      "10 ===>>>>:::  all month there hasn't been crowding in the supermarkets or restaurants_ however reducing all the hours and closing the malls means everyone is now using the same entrance and dependent on a single supermarket_ _manila _lockdown _covid2019 _philippines \n",
      "11 ===>>>>:::  due to the covid_19 situation_ we have increased demand for all food products_ \r",
      "\r\n",
      "\r",
      "\r\n",
      "the wait time may be longer for all online orders_ particularly beef share and freezer packs_ \r",
      "\r\n",
      "\r",
      "\r\n",
      "we thank you for your patience during this time_\n",
      "12 ===>>>>:::  _horningsea is a caring community_ lets all look after the less capable in our village and ensure they stay healthy_ bringing shopping to their doors_ help with online shopping and self isolation if you have symptoms or been exposed to somebody who has_ \n",
      "13 ===>>>>:::  me: i don't need to stock up on food_ i'll just have amazon deliver whatever i need _coronavirus\r",
      "\r\n",
      "\r",
      "\r\n",
      "amazon: \n",
      "14 ===>>>>:::  adara releases covid_19 resource center for travel brands: insights help travel brands stay up_to_date on consumer travel behavior trends \n",
      "15 ===>>>>:::  lines at the grocery store have been unpredictable_ but is eating out a safe alternative_ \r",
      "\r\n",
      "\r",
      "\r\n",
      "find out more about whether you should be avoiding restaurants right now:  \n",
      "16 ===>>>>:::  _____ _____ _____ _____ __\r",
      "\r\n",
      "______ _____ _______ _________ _\r",
      "\r\n",
      "__________ _____ ____ ______ _ __________ ______ __ 13 ____ __ __ ____ ______ __ __\r",
      "\r\n",
      "_____________ _____ ___ ____ _ \n",
      "17 ===>>>>:::  _eyeonthearctic 16mar20 russia consumer surveillance watchdog reported case in high arctic where a man who traveled to iran has covid_19 and 101 are _observed_\r",
      "\r\n",
      "\n",
      "18 ===>>>>:::  amazon glitch stymies whole foods_ fresh grocery deliveries\r",
      "\r\n",
      "as covid_19 has spread_ weve seen a significant increase in people shopping online for groceries_ a spokeswoman said in a statement_ today this resulted in a systems impact affecting our ___\r",
      "\r\n",
      " \n",
      "19 ===>>>>:::  for those who aren't struggling_ please consider donating to a food bank or a nonprofit_ the demand for these services will increase as covid_19 impacts jobs_ and people's way of life_\n",
      "20 ===>>>>:::  with 100  nations inficted with  covid  19  the world must  not  play fair with china  100 goverments must demand  china  adopts new guilde  lines on food safty  the  chinese  goverment  is guilty of  being  irosponcible   with life  on a global scale\n",
      "21 ===>>>>:::  \n",
      "22 ===>>>>:::  we have amazing cheap deals_ for the _covid2019 going on to help you___\r",
      "\r\n",
      "_trials\r",
      "\r\n",
      "_monthly\r",
      "\r\n",
      "_yearly \r",
      "\r\n",
      "and resonable _prices _ _subscriptions\r",
      "\r\n",
      "just dm us_ _bestiptv _iptv _service _iptv _iptvdeals _cheap _iptv _football _hd _movies _adult _cinema _hotmovies _iptvnew _iptv2020 _adult\n",
      "23 ===>>>>:::  we have amazing cheap deals_ for the _covid2019 going on to help you___\r",
      "\r\n",
      "_trials\r",
      "\r\n",
      "_monthly\r",
      "\r\n",
      "_yearly \r",
      "\r\n",
      "and resonable _prices _ _subscriptions\r",
      "\r\n",
      "just dm us_ _bestiptv _iptv _service _iptv _iptvdeals _cheap _iptv _football _hd _movies _adult _cinema _hotmovies _iptv iptvlinks _18movies\n",
      "24 ===>>>>:::  _10downingstreet _grantshapps what is being done to ensure food and other essential products are being re_stocked at supermarkets and panic buying actively discouraged_ it cannot be left to checkout staff to police the actions of the selfish and profiteer\n",
      "25 ===>>>>:::  uk _consumer poll indicates the majority expect _covid19's impact to last 4_12 months (at 12 march)_ we expect this to increase at the next _tracker___ see full results of the _retailx coronavirus consumer confidence tracker here: \n",
      "26 ===>>>>:::  in preparation for higher demand and a potential food shortage_ the hunger coalition purchased 10 percent more food and implemented new protocols due to the covid_19 coronavirus_ \n",
      "27 ===>>>>:::  this morning i tested positive for covid 19_ i feel ok_ i have no symptoms so far but have been isolated since i found out about my possible exposure to the virus_  stay home people and be pragmatic_ i will keep you updated on how im doing ____ no panic_ \n",
      "28 ===>>>>:::  do you see malicious price increases in nyc_ the nyc department of consumer and worker protection (dcwp) has set up a page to digitally file a complaint_ click here: \n",
      "29 ===>>>>:::  _7sealsoftheend soon with dwindling supplies unlawful panicky people will be breaking into closed stores _amp; supermarkets to raid them as they normally do during a crisis so massive as the _coronavirus\r",
      "\r\n",
      "\r",
      "\r\n",
      "_stockup_amp;lockup\n",
      "30 ===>>>>:::  there is of in the country  the more empty shelves people see the more buying ensues the more food is out of stock\n",
      "31 ===>>>>:::  'hole' foods___\r",
      "\r\n",
      "\r",
      "\r\n",
      "___images from the nicest grocery store in one of the richest neighborhoods in the united states_\r",
      "\r\n",
      "\r",
      "\r\n",
      "\n",
      "32 ===>>>>:::  retail store closures could explode because of the _coronavirus (via _cnbc)_ _brickandmortar\r",
      "\r\n",
      "\r",
      "\r\n",
      "\n",
      "33 ===>>>>:::  coronavirus fun fact: if you cough at the grocery store_ you get the whole aisle to yourself pretty quickly_\r",
      "\r\n",
      "_coronavirusoutbreak _coronavirus _covid2019\n",
      "34 ===>>>>:::  we're sorry to say that our _finfabuk event is being cancelled due to covid_19_ the health and wellbeing of our attendees_ speakers and staff is our top priority_ apologies for any disappointment this may cause_ all faqs are answered in the link below:\r",
      "\r\n",
      "\n",
      "35 ===>>>>:::  went to the supermarket yesterday and the toilet paper was gone_ has this anything to do with the corona virus_ _covid2019\n",
      "36 ===>>>>:::  yes_ buy only what you need_\r",
      "\r\n",
      "\r",
      "\r\n",
      "but what's the point of posting photos of those people in the supermarket with a load of stuff_ they could be buying for all their elderly parents_ kids_ siblings_ etc who can't buy for themselves\r",
      "\r\n",
      "\r",
      "\r\n",
      "not everything needs to be viral_ covid_19 alr is\n",
      "37 ===>>>>:::  worried about the impact of the current covid_19 pandemic on your finances_ weve just published some tips to help you manage your money during these challenging times_ _covid19 \n",
      "38 ===>>>>:::  my wife works retail_amp;a customer came in yesterday_ coughing everywhere_ saying they have covid_19_ they requested a deep clean of the store _ her company objected to due to cost_ recommending the team spray disinfectant_amp;clean themselves_ we're gonna die_get sick due to capitalism\n",
      "39 ===>>>>:::  now i can go to the supermarket like this without being judged_ _ _coronavirusoutbreak _covid2019 \n",
      "40 ===>>>>:::  we're here to provide a safe shopping experience for our customers and a healthy environment for our associates and community_\r",
      "\r\n",
      "online orders can be placed here: \n",
      "41 ===>>>>:::  curious_  do we think retail shoppers will do a lot of online shopping bc they're home and unable to go out or do we think everyone is too spooked to get that extra pair of shoes_ _economy _onlineshopping _coronavirus _covid19 _stayhome\n",
      "42 ===>>>>:::  check video __ \n",
      "43 ===>>>>:::  breaking story: online clothes shopping rises as people find mysterious white patches forming on clothes_ _quarantinelife _coronavirusoutbreak _coronavirus _imadethisup _fakenews \n",
      "44 ===>>>>:::  this is the line outside  _target  in as customers wait for the store to open this morning\n",
      "45 ===>>>>:::  south africans stock up on food_ basic goods as coronavirus panic hits \n",
      "46 ===>>>>:::   please share  know someone who s 65 living on their own struggling to get 2 their local supermarket due to issues around 19 we re offering free deliveries of our healthy soups nationwide to anyone 65 in need plus their freezable\n",
      "47 ===>>>>:::  people posting and sharing photos of of half to completely empty shelves calling those people _dumb_ or _idiots__ all while shopping at the grocery store_ lol\r",
      "\r\n",
      "\r",
      "\r\n",
      "_coronavirus _covid19\n",
      "48 ===>>>>:::  never thought i'd say this_ but_ 2019_ will you come back__ please_ _coronavirus _covid19 _peoplearelosingtheirminds _stopthemadness _stoppanicbuying\n",
      "49 ===>>>>:::  covid_19 restrictions sparking a run on cannabis stores\r",
      "\r\n",
      "\r",
      "\r\n",
      "they're not closed yet_ but customers are stocking up on cannabis this weekend_ preparing for what could be more retail store restrictions in coming days_ \n",
      "50 ===>>>>:::  _everything were seeing in the current covid_19 outbreak has been seen before in previous epidemics and pandemics; the rise of fear_ racism_ panic buying of food and medicines_ conspiracy theories_ the proliferation of quack cures_ \n",
      "51 ===>>>>:::  everyone is closed_ but we remain open because we are an emergency store_ thank your retail workers_\r",
      "\r\n",
      "\r",
      "\r\n",
      "_covid_19 _pandemic _socialdistancing _retail \n",
      "52 ===>>>>:::  why we stock up on water___ cause utility companies will shut you off in the middle of a pandemic___ the schools close thier doors_ you lose out on work cause your kid has no where to go___ and you cant afford months worth of food_ _coronavirus _senatorromney \n",
      "53 ===>>>>:::  dear coronavirus_ \r",
      "\r\n",
      "i've been following social distancing rules and staying home to prevent the spread of you_  however_ now i've spent an alarming amount of money shopping online_  where can i submit my expenses to for reimbursement_ let me know_\r",
      "\r\n",
      "_coronapocolypse _coronavirus\n",
      "54 ===>>>>:::  global food prices before the spread of covid 19 intensified across several geographies we could see further downward pressures in the coming months due to continued well supplied markets and the negative impact on demand resulting from the virus\n",
      "55 ===>>>>:::  morning everyone have a great and safe day_ ___ _coronavirus _stoppanicbuying _bekind _mufc _mufc_family\n",
      "56 ===>>>>:::  of all the things to panic buy in an emergency_ i don't get why toilet paper is so important_ if you're afraid of the worst case scenario_ just wash up in the tub and use your money on food_ y'all crazy_ _coronavirus\n",
      "57 ===>>>>:::  thank your grocery clerk_\r",
      "\r\n",
      "went to grocery store today and looked into the weary eyes of the clerk_\r",
      "\r\n",
      "i thanked her and realized that she was thrust on the front line of this panick_ a new breed of first responders_ they are working hard to serve their communities_ _coronavirus\n",
      "58 ===>>>>:::  with the outbreak of covid_19 in entire world_ the retail shops in malaysia is facing a great challenges_ in the near future_ online shopping will be a surprise way for all the people while many will lost their jobs_ _malaysia2020 _malaysia _covid_19\n",
      "59 ===>>>>:::  my thoughts on impacts of coronavirus on food markets\r",
      "\r\n",
      "\n",
      "60 ===>>>>:::  consumer corner: _scammers taking advantage of _covid_19 fears\r",
      "\r\n",
      "\r",
      "\r\n",
      "_coronavirus _cdc _flu _trends _alert\r",
      "\r\n",
      "\r",
      "\r\n",
      "\n",
      "61 ===>>>>:::  4_ _both the masks made for medical personnel and for consumer purchase require a once_obscure material called melt_blown fabric__\r",
      "\r\n",
      "\r",
      "\r\n",
      "\n",
      "62 ===>>>>:::  my work is capitalizing on the  demand for packaged food and making us stay open as opposed to closing for all our health and safety _lockdowncanada\r",
      "\r\n",
      "_coronavirus\n",
      "63 ===>>>>:::  so_ are we feeling like it's ethical to still do stuff like order deliveries (food_ online shopping_ etc_)_ ship _isolation_ care packages to loved ones_ etc__ _covid2019\n",
      "64 ===>>>>:::  what 2k consumers told pymnts about how covid_19 changed their daily lives \n",
      "65 ===>>>>:::  bought a house during covid_19 panic_ didnt think to buy food for the house_ tragic_\n",
      "66 ===>>>>:::  seen in a facebook group _ businesses need to stop increasing prices on essentials while we are in an emergency situation _ its frankly despicable and is totally void community spirit_ _nameandshame _covid_19uk _coronavirus _liverpool \n",
      "67 ===>>>>:::  _bobjlowe sadly those are the misinformed thinking that covid_19 gives diarrhoea_ therefore they had to stock_pile toilet papers_ _ atm_ hygiene and food are more important_\n",
      "68 ===>>>>:::  _tinamccauley70 yeah my parents are risky people to the covid 19 thats why we stay at home just go to the supermarket when really necessary__ stay safe too ____\n",
      "69 ===>>>>:::  cn _ _coronavirus _covid19 \r",
      "\r\n",
      "\r",
      "\r\n",
      "i will be in the group (and so will my mum_ who i live with) in the group that needs to be _shielded_ for 12 weeks (3 months)_ this will mean staying in_ i hope i can still get the online shopping that i need_\n",
      "70 ===>>>>:::  its kind of like how saying a word over and over makes it not sound like a word anymore_\r",
      "\r\n",
      "\r",
      "\r\n",
      "for many of the people who dont think the covid_19 news is bs_ its making them go to the stores and panic buy food and basic necessities until theres nothing left_\n",
      "71 ===>>>>:::  hi_ covid_19_ thanks for making me do more online shopping_\n",
      "72 ===>>>>:::  corona scare sends sea_food prices skyrocketing in mumbai\r",
      "\r\n",
      "\r",
      "\r\n",
      "_gt;_gt; \n",
      "73 ===>>>>:::  pausing student loan payments in addition to halting interest accumulation amp stopping punitive student loan collections would provide much needed immediate relief to those individuals unable to work amp are facing economic hardship\n",
      "74 ===>>>>:::  _balajis on the consumer side _ the tech is there (some chinese group already demostrated elisa test strips for covid_19_ though details were lacking)_ for consumer though _us_fda would have to deem it as a waived test_ which doesnt come that easily\n",
      "75 ===>>>>:::  lost wages either due to illness from 19 or to the virus  economic impact will mean an increased demand we urge and to support a bill that includes support for food banks flexibility for and school meals and increased\n",
      "76 ===>>>>:::  the actions of some are so selfish_ if i were ceo of a grocery store_ from 7_9 am would be a time for people over 65 to shop; show id_ i just saw a young couple with 300 rolls of tp_ no one is that full of crap_ well maybe\r",
      "\r\n",
      "\r",
      "\r\n",
      "_coronavirusoutbreak \r",
      "\r\n",
      "\r",
      "\r\n",
      " \n",
      "77 ===>>>>:::  coronavirus poses a complex puzzle for food_delivery companies _ their delivery capacity may buckle under surging demand_ \n",
      "78 ===>>>>:::  _thejoshuaturner _loreign83 _peanut_astro _my_amigouk _afneil _borisjohnson _patel4witham this is both disgusting and disgraceful charging over inflated prices for items for stopping the spread of covid_19_ the government really needs to do something abou\n",
      "79 ===>>>>:::  as more retailers close physical stores or curtail hours as a result of covid_19_ it is agoing to put additional pressure on other omnichannel alternatives like grocery delivery and curbside pick up_  \n",
      "80 ===>>>>:::  check out what these folks are up to here in so cal _ i like this idea _\r",
      "\r\n",
      "\r",
      "\r\n",
      "la habra supermarket offers special hours for seniors amid covid_19 crisis \n",
      "81 ===>>>>:::  love it or hate it_ head advice _10downingstreet _amp; _borisjohnson \r",
      "\r\n",
      "blip in our lives but its happening_\r",
      "\r\n",
      "__ dont whinge about what you cant do \r",
      "\r\n",
      "__ dont panic buy as food wont run out\r",
      "\r\n",
      "__ do spend time with the family\r",
      "\r\n",
      "__ do use common sense\r",
      "\r\n",
      "_coronavirus _worldhealthorg2\n",
      "82 ===>>>>:::  an open letter to consumer_debt holding organizations and others: we are at the precipice of a crisis of household economy_ please suspend debts (and interest_fees) for sixty days in response to the covid_19 crisis_\r",
      "\r\n",
      "\r",
      "\r\n",
      "feel free to sign here:\r",
      "\r\n",
      "\r",
      "\r\n",
      "\n",
      "83 ===>>>>:::  _covid_19 _covid19aus _coronavirus just wanted to spread this news to all older australians_ particularly those still mobile but without family support: \n",
      "84 ===>>>>:::  sadly_ this does not surprise me\r",
      "\r\n",
      "heard from one payer exec that they are laying low_ hoping all blows over_ \r",
      "\r\n",
      "\r",
      "\r\n",
      "mind bogglingly stupid and this was a nonprofit blues plan_ \n",
      "85 ===>>>>:::  i work in retail i keep stock back for our older customers so when such as frank comes in store for his bread and he sees a empty shelve i say dont worry pal ive saved you 1_ same as pat n her beans_ could i get disciplined_ yes do i care _ no ive got a __ _coronavirus\n",
      "86 ===>>>>:::  in attempts to lengthen runways marketing budgets are being slashed hiring is being frozen and staffing matrices are being redrawn and dive deep into how consumer startups are battling the impact of on their business\n",
      "87 ===>>>>:::  ___at this time_ our distillery remains in operation_ but we will not be offering public tours or hosting functions or events_ our retail store is also closed____\r",
      "\r\n",
      "\n",
      "88 ===>>>>:::  please don't hoard food and water_ there's absolutely no need to panic buy; the supply chain is completely interrupted_ and above all_ please don't hoard sanitizing products; there are people out there who really need them_ probably more than you_ _dontpanicbuy _coronavirus\n",
      "89 ===>>>>:::  the fact that canned food_ toxic chemicals and store bought hand sanitizers are out of stock_ yet fresh fruit_ vegetables and herbs are fully stocked_ shows that humans have no idea how the immune system works_\r",
      "\r\n",
      "_quarantinelife _covid2019\n",
      "90 ===>>>>:::  just called mum and dad in uk (over 70)_ they are great but i offered help with online shopping etc_ we might sometimes forget that this is not always easy_\r",
      "\r\n",
      "\r",
      "\r\n",
      "do the same if you can_ __\r",
      "\r\n",
      "if you are far from your parents like me tech can be really useful_ _covid_19  _coronavirus\n",
      "91 ===>>>>:::  people seen stocking up on goods into trolleys after the panic buying rumours spread today at hypermarket in kajang march 16 2020 picture by shafwan zaidon\n",
      "92 ===>>>>:::  as we often see during major news events_ criminals will try to take advantage of any situation_ the coronavirus_ or covid_19_ is no exception_ here is some guidance from the attorney general's office: \n",
      "93 ===>>>>:::  pretty sure within a week or two_ supermarket supply chains will dry up as more counties are effected by covid_19 (and possibly go into lockdown)_ if so_ would the government introduce a form of rationing so that people can eat_ somehow i don't think so_\n",
      "94 ===>>>>:::  supermarket workers are at the frontline of covid_19_\r",
      "\r\n",
      "\r",
      "\r\n",
      "these are extraordinary times and retail is under extreme pressure_\r",
      "\r\n",
      "\r",
      "\r\n",
      "when shopping_ please remain calm and thank the workers that are doing everything they can to keep the shelves stocked and the checkouts moving_ \n",
      "95 ===>>>>:::  worried about covid_19_ \r",
      "\r\n",
      "\r",
      "\r\n",
      "i more worried about people panicking_\r",
      "\r\n",
      "\r",
      "\r\n",
      "having a plan:\r",
      "\r\n",
      "\r",
      "\r\n",
      "_gt; you're not panic buying food_\r",
      "\r\n",
      "_gt; you can focus on the important issues_ \r",
      "\r\n",
      "_gt; you have the best opportunity for a positive outcome_\r",
      "\r\n",
      "\r",
      "\r\n",
      "create structure_ reduce key decisions_ flourish\r",
      "\r\n",
      "\r",
      "\r\n",
      "stay safe_\n",
      "96 ===>>>>:::  __kroger is the biggest supermarket chain in the united states_\r",
      "\r\n",
      "\r",
      "\r\n",
      "it has 453_000 employees and many receive no sick leave_\r",
      "\r\n",
      "\r",
      "\r\n",
      "even after 2 employees tested positive for covid_19_ _kroger still won't provide paid sick leave to everyone\r",
      "\r\n",
      "\r",
      "\r\n",
      "\n",
      "97 ===>>>>:::  _kroger instead of paid sick leave_ _kroger is providing 2 weeks paid leave only to people who test positive for covid_19 or are placed under mandatory quarantine\r",
      "\r\n",
      "\r",
      "\r\n",
      "this is insufficient to protect staff and the public_ especially with little testing av\n",
      "98 ===>>>>:::  i followed this when i went shopping a few days ago_ it's a pain but necessary_ protect yourself from grocery shopping _ consumer reports _covid2019 _stayhealthy \n",
      "99 ===>>>>:::  _joncoopertweets i took these pictures today at my home grocery store in montgomery county_ md_ no flour_ sugar_ sweet potatoes_ potatoes_ orange juice_ paper towels_ or toilet paper_ low on meat_ mac _amp; cheese_ _coronapocolypse _covid_19 _panicbuying \n",
      "100 ===>>>>:::  i hate grocery shopping in general but i swear im doing it online next shop_ can not deal with the swathes of panic buyers at all_ _covid_19 _coronavirus _coronavirusuk _anxiety _panicbuyinguk _morons\n"
     ]
    }
   ],
   "source": [
    "for ind in covid_tweets.index:\n",
    "    print(ind, \"===>>>>::: \", covid_tweets['OriginalTweet'][ind])\n",
    "    if ind == 100:\n",
    "        break"
   ]
  },
  {
   "cell_type": "code",
   "execution_count": 23,
   "id": "a603fa6a",
   "metadata": {
    "id": "a603fa6a"
   },
   "outputs": [],
   "source": [
    "#Handling unicode data e.g. \"canât a weâre\" after handling it will become like \"cant a were\"\n",
    "for ind in covid_tweets.index:\n",
    "    covid_tweets['OriginalTweet'][ind] = re.sub(r'[^\\x00-\\x7f]',r'', covid_tweets['OriginalTweet'][ind])\n",
    "    covid_tweets['Location'][ind] = re.sub(r'[^\\x00-\\x7f]',r'', covid_tweets['Location'][ind])"
   ]
  },
  {
   "cell_type": "code",
   "execution_count": 24,
   "id": "e6e3fe66",
   "metadata": {
    "id": "e6e3fe66"
   },
   "outputs": [
    {
     "name": "stdout",
     "output_type": "stream",
     "text": [
      "0 ===>>>>:::  _menyrbie _phil_gahan _chrisitv \n",
      "1 ===>>>>:::  advice talk to your neighbours family to exchange phone numbers create contact list with phone numbers of neighbours schools employer chemist gp set up online shopping accounts if poss adequate supplies of regular meds but not over order\n",
      "2 ===>>>>:::  coronavirus australia: woolworths to give elderly_ disabled dedicated shopping hours amid covid_19 outbreak \n",
      "3 ===>>>>:::  my food stock is not the only one which is empty___\r",
      "\r\n",
      "\r",
      "\r\n",
      "please_ don't panic_ there will be enough food for everyone if you do not take more than you need_ \r",
      "\r\n",
      "stay calm_ stay safe_\r",
      "\r\n",
      "\r",
      "\r\n",
      "_covid19france _covid_19 _covid19 _coronavirus _confinement _confinementotal _confinementgeneral \n",
      "4 ===>>>>:::  me_ ready to go at supermarket during the _covid19 outbreak_\r",
      "\r\n",
      "\r",
      "\r\n",
      "not because i'm paranoid_ but because my food stock is litteraly empty_ the _coronavirus is a serious thing_ but please_ don't panic_ it causes shortage___\r",
      "\r\n",
      "\r",
      "\r\n",
      "_coronavirusfrance _restezchezvous _stayathome _confinement \n",
      "5 ===>>>>:::  as news of the regions first confirmed covid_19 case came out of sullivan county last week_ people flocked to area stores to purchase cleaning supplies_ hand sanitizer_ food_ toilet paper and other goods_ _tim_dodson reports \n",
      "6 ===>>>>:::  cashier at grocery store was sharing his insights on _covid_19 to prove his credibility he commented _i'm in civics class so i know what i'm talking about__ \n",
      "7 ===>>>>:::  was at the supermarket today_ didn't buy toilet paper_ _rebel\r",
      "\r\n",
      "\r",
      "\r\n",
      "_toiletpapercrisis _covid_19 \n",
      "8 ===>>>>:::  due to covid_19 our retail store and classroom in atlanta will not be open for walk_in business or classes for the next two weeks_ beginning monday_ march 16_  we will continue to process online and phone orders as normal_ thank you for your understanding_ \n",
      "9 ===>>>>:::  for corona prevention_we should stop to buy things with the cash and should use online payment methods because corona can spread through the notes_ also we should prefer online shopping from our home_ it's time to fight against covid 19__ _govindia _indiafightscorona\n",
      "10 ===>>>>:::  all month there hasn't been crowding in the supermarkets or restaurants_ however reducing all the hours and closing the malls means everyone is now using the same entrance and dependent on a single supermarket_ _manila _lockdown _covid2019 _philippines \n",
      "11 ===>>>>:::  due to the covid_19 situation_ we have increased demand for all food products_ \r",
      "\r\n",
      "\r",
      "\r\n",
      "the wait time may be longer for all online orders_ particularly beef share and freezer packs_ \r",
      "\r\n",
      "\r",
      "\r\n",
      "we thank you for your patience during this time_\n",
      "12 ===>>>>:::  _horningsea is a caring community_ lets all look after the less capable in our village and ensure they stay healthy_ bringing shopping to their doors_ help with online shopping and self isolation if you have symptoms or been exposed to somebody who has_ \n",
      "13 ===>>>>:::  me: i don't need to stock up on food_ i'll just have amazon deliver whatever i need _coronavirus\r",
      "\r\n",
      "\r",
      "\r\n",
      "amazon: \n",
      "14 ===>>>>:::  adara releases covid_19 resource center for travel brands: insights help travel brands stay up_to_date on consumer travel behavior trends \n",
      "15 ===>>>>:::  lines at the grocery store have been unpredictable_ but is eating out a safe alternative_ \r",
      "\r\n",
      "\r",
      "\r\n",
      "find out more about whether you should be avoiding restaurants right now:  \n",
      "16 ===>>>>:::  _____ _____ _____ _____ __\r",
      "\r\n",
      "______ _____ _______ _________ _\r",
      "\r\n",
      "__________ _____ ____ ______ _ __________ ______ __ 13 ____ __ __ ____ ______ __ __\r",
      "\r\n",
      "_____________ _____ ___ ____ _ \n",
      "17 ===>>>>:::  _eyeonthearctic 16mar20 russia consumer surveillance watchdog reported case in high arctic where a man who traveled to iran has covid_19 and 101 are _observed_\r",
      "\r\n",
      "\n",
      "18 ===>>>>:::  amazon glitch stymies whole foods_ fresh grocery deliveries\r",
      "\r\n",
      "as covid_19 has spread_ weve seen a significant increase in people shopping online for groceries_ a spokeswoman said in a statement_ today this resulted in a systems impact affecting our ___\r",
      "\r\n",
      " \n",
      "19 ===>>>>:::  for those who aren't struggling_ please consider donating to a food bank or a nonprofit_ the demand for these services will increase as covid_19 impacts jobs_ and people's way of life_\n",
      "20 ===>>>>:::  with 100  nations inficted with  covid  19  the world must  not  play fair with china  100 goverments must demand  china  adopts new guilde  lines on food safty  the  chinese  goverment  is guilty of  being  irosponcible   with life  on a global scale\n",
      "21 ===>>>>:::  \n",
      "22 ===>>>>:::  we have amazing cheap deals_ for the _covid2019 going on to help you___\r",
      "\r\n",
      "_trials\r",
      "\r\n",
      "_monthly\r",
      "\r\n",
      "_yearly \r",
      "\r\n",
      "and resonable _prices _ _subscriptions\r",
      "\r\n",
      "just dm us_ _bestiptv _iptv _service _iptv _iptvdeals _cheap _iptv _football _hd _movies _adult _cinema _hotmovies _iptvnew _iptv2020 _adult\n",
      "23 ===>>>>:::  we have amazing cheap deals_ for the _covid2019 going on to help you___\r",
      "\r\n",
      "_trials\r",
      "\r\n",
      "_monthly\r",
      "\r\n",
      "_yearly \r",
      "\r\n",
      "and resonable _prices _ _subscriptions\r",
      "\r\n",
      "just dm us_ _bestiptv _iptv _service _iptv _iptvdeals _cheap _iptv _football _hd _movies _adult _cinema _hotmovies _iptv iptvlinks _18movies\n",
      "24 ===>>>>:::  _10downingstreet _grantshapps what is being done to ensure food and other essential products are being re_stocked at supermarkets and panic buying actively discouraged_ it cannot be left to checkout staff to police the actions of the selfish and profiteer\n",
      "25 ===>>>>:::  uk _consumer poll indicates the majority expect _covid19's impact to last 4_12 months (at 12 march)_ we expect this to increase at the next _tracker___ see full results of the _retailx coronavirus consumer confidence tracker here: \n",
      "26 ===>>>>:::  in preparation for higher demand and a potential food shortage_ the hunger coalition purchased 10 percent more food and implemented new protocols due to the covid_19 coronavirus_ \n",
      "27 ===>>>>:::  this morning i tested positive for covid 19_ i feel ok_ i have no symptoms so far but have been isolated since i found out about my possible exposure to the virus_  stay home people and be pragmatic_ i will keep you updated on how im doing ____ no panic_ \n",
      "28 ===>>>>:::  do you see malicious price increases in nyc_ the nyc department of consumer and worker protection (dcwp) has set up a page to digitally file a complaint_ click here: \n",
      "29 ===>>>>:::  _7sealsoftheend soon with dwindling supplies unlawful panicky people will be breaking into closed stores _amp; supermarkets to raid them as they normally do during a crisis so massive as the _coronavirus\r",
      "\r\n",
      "\r",
      "\r\n",
      "_stockup_amp;lockup\n",
      "30 ===>>>>:::  there is of in the country  the more empty shelves people see the more buying ensues the more food is out of stock\n",
      "31 ===>>>>:::  'hole' foods___\r",
      "\r\n",
      "\r",
      "\r\n",
      "___images from the nicest grocery store in one of the richest neighborhoods in the united states_\r",
      "\r\n",
      "\r",
      "\r\n",
      "\n",
      "32 ===>>>>:::  retail store closures could explode because of the _coronavirus (via _cnbc)_ _brickandmortar\r",
      "\r\n",
      "\r",
      "\r\n",
      "\n",
      "33 ===>>>>:::  coronavirus fun fact: if you cough at the grocery store_ you get the whole aisle to yourself pretty quickly_\r",
      "\r\n",
      "_coronavirusoutbreak _coronavirus _covid2019\n",
      "34 ===>>>>:::  we're sorry to say that our _finfabuk event is being cancelled due to covid_19_ the health and wellbeing of our attendees_ speakers and staff is our top priority_ apologies for any disappointment this may cause_ all faqs are answered in the link below:\r",
      "\r\n",
      "\n",
      "35 ===>>>>:::  went to the supermarket yesterday and the toilet paper was gone_ has this anything to do with the corona virus_ _covid2019\n",
      "36 ===>>>>:::  yes_ buy only what you need_\r",
      "\r\n",
      "\r",
      "\r\n",
      "but what's the point of posting photos of those people in the supermarket with a load of stuff_ they could be buying for all their elderly parents_ kids_ siblings_ etc who can't buy for themselves\r",
      "\r\n",
      "\r",
      "\r\n",
      "not everything needs to be viral_ covid_19 alr is\n",
      "37 ===>>>>:::  worried about the impact of the current covid_19 pandemic on your finances_ weve just published some tips to help you manage your money during these challenging times_ _covid19 \n",
      "38 ===>>>>:::  my wife works retail_amp;a customer came in yesterday_ coughing everywhere_ saying they have covid_19_ they requested a deep clean of the store _ her company objected to due to cost_ recommending the team spray disinfectant_amp;clean themselves_ we're gonna die_get sick due to capitalism\n",
      "39 ===>>>>:::  now i can go to the supermarket like this without being judged_ _ _coronavirusoutbreak _covid2019 \n",
      "40 ===>>>>:::  we're here to provide a safe shopping experience for our customers and a healthy environment for our associates and community_\r",
      "\r\n",
      "online orders can be placed here: \n",
      "41 ===>>>>:::  curious_  do we think retail shoppers will do a lot of online shopping bc they're home and unable to go out or do we think everyone is too spooked to get that extra pair of shoes_ _economy _onlineshopping _coronavirus _covid19 _stayhome\n",
      "42 ===>>>>:::  check video __ \n",
      "43 ===>>>>:::  breaking story: online clothes shopping rises as people find mysterious white patches forming on clothes_ _quarantinelife _coronavirusoutbreak _coronavirus _imadethisup _fakenews \n",
      "44 ===>>>>:::  this is the line outside  _target  in as customers wait for the store to open this morning\n",
      "45 ===>>>>:::  south africans stock up on food_ basic goods as coronavirus panic hits \n",
      "46 ===>>>>:::   please share  know someone who s 65 living on their own struggling to get 2 their local supermarket due to issues around 19 we re offering free deliveries of our healthy soups nationwide to anyone 65 in need plus their freezable\n",
      "47 ===>>>>:::  people posting and sharing photos of of half to completely empty shelves calling those people _dumb_ or _idiots__ all while shopping at the grocery store_ lol\r",
      "\r\n",
      "\r",
      "\r\n",
      "_coronavirus _covid19\n",
      "48 ===>>>>:::  never thought i'd say this_ but_ 2019_ will you come back__ please_ _coronavirus _covid19 _peoplearelosingtheirminds _stopthemadness _stoppanicbuying\n",
      "49 ===>>>>:::  covid_19 restrictions sparking a run on cannabis stores\r",
      "\r\n",
      "\r",
      "\r\n",
      "they're not closed yet_ but customers are stocking up on cannabis this weekend_ preparing for what could be more retail store restrictions in coming days_ \n",
      "50 ===>>>>:::  _everything were seeing in the current covid_19 outbreak has been seen before in previous epidemics and pandemics; the rise of fear_ racism_ panic buying of food and medicines_ conspiracy theories_ the proliferation of quack cures_ \n",
      "51 ===>>>>:::  everyone is closed_ but we remain open because we are an emergency store_ thank your retail workers_\r",
      "\r\n",
      "\r",
      "\r\n",
      "_covid_19 _pandemic _socialdistancing _retail \n",
      "52 ===>>>>:::  why we stock up on water___ cause utility companies will shut you off in the middle of a pandemic___ the schools close thier doors_ you lose out on work cause your kid has no where to go___ and you cant afford months worth of food_ _coronavirus _senatorromney \n",
      "53 ===>>>>:::  dear coronavirus_ \r",
      "\r\n",
      "i've been following social distancing rules and staying home to prevent the spread of you_  however_ now i've spent an alarming amount of money shopping online_  where can i submit my expenses to for reimbursement_ let me know_\r",
      "\r\n",
      "_coronapocolypse _coronavirus\n",
      "54 ===>>>>:::  global food prices before the spread of covid 19 intensified across several geographies we could see further downward pressures in the coming months due to continued well supplied markets and the negative impact on demand resulting from the virus\n",
      "55 ===>>>>:::  morning everyone have a great and safe day_ ___ _coronavirus _stoppanicbuying _bekind _mufc _mufc_family\n",
      "56 ===>>>>:::  of all the things to panic buy in an emergency_ i don't get why toilet paper is so important_ if you're afraid of the worst case scenario_ just wash up in the tub and use your money on food_ y'all crazy_ _coronavirus\n",
      "57 ===>>>>:::  thank your grocery clerk_\r",
      "\r\n",
      "went to grocery store today and looked into the weary eyes of the clerk_\r",
      "\r\n",
      "i thanked her and realized that she was thrust on the front line of this panick_ a new breed of first responders_ they are working hard to serve their communities_ _coronavirus\n",
      "58 ===>>>>:::  with the outbreak of covid_19 in entire world_ the retail shops in malaysia is facing a great challenges_ in the near future_ online shopping will be a surprise way for all the people while many will lost their jobs_ _malaysia2020 _malaysia _covid_19\n",
      "59 ===>>>>:::  my thoughts on impacts of coronavirus on food markets\r",
      "\r\n",
      "\n",
      "60 ===>>>>:::  consumer corner: _scammers taking advantage of _covid_19 fears\r",
      "\r\n",
      "\r",
      "\r\n",
      "_coronavirus _cdc _flu _trends _alert\r",
      "\r\n",
      "\r",
      "\r\n",
      "\n",
      "61 ===>>>>:::  4_ _both the masks made for medical personnel and for consumer purchase require a once_obscure material called melt_blown fabric__\r",
      "\r\n",
      "\r",
      "\r\n",
      "\n",
      "62 ===>>>>:::  my work is capitalizing on the  demand for packaged food and making us stay open as opposed to closing for all our health and safety _lockdowncanada\r",
      "\r\n",
      "_coronavirus\n",
      "63 ===>>>>:::  so_ are we feeling like it's ethical to still do stuff like order deliveries (food_ online shopping_ etc_)_ ship _isolation_ care packages to loved ones_ etc__ _covid2019\n",
      "64 ===>>>>:::  what 2k consumers told pymnts about how covid_19 changed their daily lives \n",
      "65 ===>>>>:::  bought a house during covid_19 panic_ didnt think to buy food for the house_ tragic_\n",
      "66 ===>>>>:::  seen in a facebook group _ businesses need to stop increasing prices on essentials while we are in an emergency situation _ its frankly despicable and is totally void community spirit_ _nameandshame _covid_19uk _coronavirus _liverpool \n",
      "67 ===>>>>:::  _bobjlowe sadly those are the misinformed thinking that covid_19 gives diarrhoea_ therefore they had to stock_pile toilet papers_ _ atm_ hygiene and food are more important_\n",
      "68 ===>>>>:::  _tinamccauley70 yeah my parents are risky people to the covid 19 thats why we stay at home just go to the supermarket when really necessary__ stay safe too ____\n",
      "69 ===>>>>:::  cn _ _coronavirus _covid19 \r",
      "\r\n",
      "\r",
      "\r\n",
      "i will be in the group (and so will my mum_ who i live with) in the group that needs to be _shielded_ for 12 weeks (3 months)_ this will mean staying in_ i hope i can still get the online shopping that i need_\n",
      "70 ===>>>>:::  its kind of like how saying a word over and over makes it not sound like a word anymore_\r",
      "\r\n",
      "\r",
      "\r\n",
      "for many of the people who dont think the covid_19 news is bs_ its making them go to the stores and panic buy food and basic necessities until theres nothing left_\n",
      "71 ===>>>>:::  hi_ covid_19_ thanks for making me do more online shopping_\n",
      "72 ===>>>>:::  corona scare sends sea_food prices skyrocketing in mumbai\r",
      "\r\n",
      "\r",
      "\r\n",
      "_gt;_gt; \n",
      "73 ===>>>>:::  pausing student loan payments in addition to halting interest accumulation amp stopping punitive student loan collections would provide much needed immediate relief to those individuals unable to work amp are facing economic hardship\n",
      "74 ===>>>>:::  _balajis on the consumer side _ the tech is there (some chinese group already demostrated elisa test strips for covid_19_ though details were lacking)_ for consumer though _us_fda would have to deem it as a waived test_ which doesnt come that easily\n",
      "75 ===>>>>:::  lost wages either due to illness from 19 or to the virus  economic impact will mean an increased demand we urge and to support a bill that includes support for food banks flexibility for and school meals and increased\n",
      "76 ===>>>>:::  the actions of some are so selfish_ if i were ceo of a grocery store_ from 7_9 am would be a time for people over 65 to shop; show id_ i just saw a young couple with 300 rolls of tp_ no one is that full of crap_ well maybe\r",
      "\r\n",
      "\r",
      "\r\n",
      "_coronavirusoutbreak \r",
      "\r\n",
      "\r",
      "\r\n",
      " \n",
      "77 ===>>>>:::  coronavirus poses a complex puzzle for food_delivery companies _ their delivery capacity may buckle under surging demand_ \n",
      "78 ===>>>>:::  _thejoshuaturner _loreign83 _peanut_astro _my_amigouk _afneil _borisjohnson _patel4witham this is both disgusting and disgraceful charging over inflated prices for items for stopping the spread of covid_19_ the government really needs to do something abou\n",
      "79 ===>>>>:::  as more retailers close physical stores or curtail hours as a result of covid_19_ it is agoing to put additional pressure on other omnichannel alternatives like grocery delivery and curbside pick up_  \n",
      "80 ===>>>>:::  check out what these folks are up to here in so cal _ i like this idea _\r",
      "\r\n",
      "\r",
      "\r\n",
      "la habra supermarket offers special hours for seniors amid covid_19 crisis \n",
      "81 ===>>>>:::  love it or hate it_ head advice _10downingstreet _amp; _borisjohnson \r",
      "\r\n",
      "blip in our lives but its happening_\r",
      "\r\n",
      "__ dont whinge about what you cant do \r",
      "\r\n",
      "__ dont panic buy as food wont run out\r",
      "\r\n",
      "__ do spend time with the family\r",
      "\r\n",
      "__ do use common sense\r",
      "\r\n",
      "_coronavirus _worldhealthorg2\n",
      "82 ===>>>>:::  an open letter to consumer_debt holding organizations and others: we are at the precipice of a crisis of household economy_ please suspend debts (and interest_fees) for sixty days in response to the covid_19 crisis_\r",
      "\r\n",
      "\r",
      "\r\n",
      "feel free to sign here:\r",
      "\r\n",
      "\r",
      "\r\n",
      "\n",
      "83 ===>>>>:::  _covid_19 _covid19aus _coronavirus just wanted to spread this news to all older australians_ particularly those still mobile but without family support: \n",
      "84 ===>>>>:::  sadly_ this does not surprise me\r",
      "\r\n",
      "heard from one payer exec that they are laying low_ hoping all blows over_ \r",
      "\r\n",
      "\r",
      "\r\n",
      "mind bogglingly stupid and this was a nonprofit blues plan_ \n",
      "85 ===>>>>:::  i work in retail i keep stock back for our older customers so when such as frank comes in store for his bread and he sees a empty shelve i say dont worry pal ive saved you 1_ same as pat n her beans_ could i get disciplined_ yes do i care _ no ive got a __ _coronavirus\n",
      "86 ===>>>>:::  in attempts to lengthen runways marketing budgets are being slashed hiring is being frozen and staffing matrices are being redrawn and dive deep into how consumer startups are battling the impact of on their business\n",
      "87 ===>>>>:::  ___at this time_ our distillery remains in operation_ but we will not be offering public tours or hosting functions or events_ our retail store is also closed____\r",
      "\r\n",
      "\n",
      "88 ===>>>>:::  please don't hoard food and water_ there's absolutely no need to panic buy; the supply chain is completely interrupted_ and above all_ please don't hoard sanitizing products; there are people out there who really need them_ probably more than you_ _dontpanicbuy _coronavirus\n",
      "89 ===>>>>:::  the fact that canned food_ toxic chemicals and store bought hand sanitizers are out of stock_ yet fresh fruit_ vegetables and herbs are fully stocked_ shows that humans have no idea how the immune system works_\r",
      "\r\n",
      "_quarantinelife _covid2019\n",
      "90 ===>>>>:::  just called mum and dad in uk (over 70)_ they are great but i offered help with online shopping etc_ we might sometimes forget that this is not always easy_\r",
      "\r\n",
      "\r",
      "\r\n",
      "do the same if you can_ __\r",
      "\r\n",
      "if you are far from your parents like me tech can be really useful_ _covid_19  _coronavirus\n",
      "91 ===>>>>:::  people seen stocking up on goods into trolleys after the panic buying rumours spread today at hypermarket in kajang march 16 2020 picture by shafwan zaidon\n",
      "92 ===>>>>:::  as we often see during major news events_ criminals will try to take advantage of any situation_ the coronavirus_ or covid_19_ is no exception_ here is some guidance from the attorney general's office: \n",
      "93 ===>>>>:::  pretty sure within a week or two_ supermarket supply chains will dry up as more counties are effected by covid_19 (and possibly go into lockdown)_ if so_ would the government introduce a form of rationing so that people can eat_ somehow i don't think so_\n",
      "94 ===>>>>:::  supermarket workers are at the frontline of covid_19_\r",
      "\r\n",
      "\r",
      "\r\n",
      "these are extraordinary times and retail is under extreme pressure_\r",
      "\r\n",
      "\r",
      "\r\n",
      "when shopping_ please remain calm and thank the workers that are doing everything they can to keep the shelves stocked and the checkouts moving_ \n",
      "95 ===>>>>:::  worried about covid_19_ \r",
      "\r\n",
      "\r",
      "\r\n",
      "i more worried about people panicking_\r",
      "\r\n",
      "\r",
      "\r\n",
      "having a plan:\r",
      "\r\n",
      "\r",
      "\r\n",
      "_gt; you're not panic buying food_\r",
      "\r\n",
      "_gt; you can focus on the important issues_ \r",
      "\r\n",
      "_gt; you have the best opportunity for a positive outcome_\r",
      "\r\n",
      "\r",
      "\r\n",
      "create structure_ reduce key decisions_ flourish\r",
      "\r\n",
      "\r",
      "\r\n",
      "stay safe_\n",
      "96 ===>>>>:::  __kroger is the biggest supermarket chain in the united states_\r",
      "\r\n",
      "\r",
      "\r\n",
      "it has 453_000 employees and many receive no sick leave_\r",
      "\r\n",
      "\r",
      "\r\n",
      "even after 2 employees tested positive for covid_19_ _kroger still won't provide paid sick leave to everyone\r",
      "\r\n",
      "\r",
      "\r\n",
      "\n",
      "97 ===>>>>:::  _kroger instead of paid sick leave_ _kroger is providing 2 weeks paid leave only to people who test positive for covid_19 or are placed under mandatory quarantine\r",
      "\r\n",
      "\r",
      "\r\n",
      "this is insufficient to protect staff and the public_ especially with little testing av\n",
      "98 ===>>>>:::  i followed this when i went shopping a few days ago_ it's a pain but necessary_ protect yourself from grocery shopping _ consumer reports _covid2019 _stayhealthy \n",
      "99 ===>>>>:::  _joncoopertweets i took these pictures today at my home grocery store in montgomery county_ md_ no flour_ sugar_ sweet potatoes_ potatoes_ orange juice_ paper towels_ or toilet paper_ low on meat_ mac _amp; cheese_ _coronapocolypse _covid_19 _panicbuying \n",
      "100 ===>>>>:::  i hate grocery shopping in general but i swear im doing it online next shop_ can not deal with the swathes of panic buyers at all_ _covid_19 _coronavirus _coronavirusuk _anxiety _panicbuyinguk _morons\n"
     ]
    }
   ],
   "source": [
    "for ind in covid_tweets.index:\n",
    "    print(ind, \"===>>>>::: \", covid_tweets['OriginalTweet'][ind])\n",
    "    if ind == 100:\n",
    "        break"
   ]
  },
  {
   "cell_type": "code",
   "execution_count": null,
   "id": "FKP_e03B-6If",
   "metadata": {
    "id": "FKP_e03B-6If"
   },
   "outputs": [],
   "source": []
  },
  {
   "cell_type": "code",
   "execution_count": 25,
   "id": "878a096f",
   "metadata": {
    "id": "878a096f"
   },
   "outputs": [
    {
     "name": "stderr",
     "output_type": "stream",
     "text": [
      "[nltk_data] Downloading package stopwords to\n",
      "[nltk_data]     C:\\Users\\sariya.ansari\\AppData\\Roaming\\nltk_data...\n",
      "[nltk_data]   Package stopwords is already up-to-date!\n",
      "[nltk_data] Downloading package punkt to\n",
      "[nltk_data]     C:\\Users\\sariya.ansari\\AppData\\Roaming\\nltk_data...\n",
      "[nltk_data]   Package punkt is already up-to-date!\n",
      "[nltk_data] Downloading package wordnet to\n",
      "[nltk_data]     C:\\Users\\sariya.ansari\\AppData\\Roaming\\nltk_data...\n",
      "[nltk_data]   Package wordnet is already up-to-date!\n",
      "[nltk_data] Downloading package averaged_perceptron_tagger to\n",
      "[nltk_data]     C:\\Users\\sariya.ansari\\AppData\\Roaming\\nltk_data...\n",
      "[nltk_data]   Package averaged_perceptron_tagger is already up-to-\n",
      "[nltk_data]       date!\n"
     ]
    }
   ],
   "source": [
    "#import nltk library for using its different functions\n",
    "import nltk\n",
    "import string\n",
    "import re\n",
    "\n",
    "nltk.download('stopwords')\n",
    "nltk.download('punkt')\n",
    "nltk.download('wordnet')\n",
    "nltk.download('averaged_perceptron_tagger')\n",
    "\n",
    "#  Sentence Tokenization  - Tokenizes sentences from text\n",
    "from nltk.tokenize import sent_tokenize\n",
    "\n",
    "# Word Tokenization  - Tokenizes words in sentences\n",
    "from nltk.tokenize import word_tokenize\n",
    "\n",
    "#Removal of stop words from the text\n",
    "from nltk.corpus import stopwords\n",
    "\n",
    "# Lemmatization\n",
    "from nltk.stem import WordNetLemmatizer\n"
   ]
  },
  {
   "cell_type": "code",
   "execution_count": 26,
   "id": "OPMukisj4Iee",
   "metadata": {
    "id": "OPMukisj4Iee"
   },
   "outputs": [
    {
     "name": "stdout",
     "output_type": "stream",
     "text": [
      "{'when', 'own', 'because', 'these', \"shan't\", 'from', 'theirs', 'was', 'each', \"don't\", 'were', 'my', 'down', 'some', 't', 'once', 'him', 'them', 'is', 'hasn', 'for', 'just', 'all', 'no', \"shouldn't\", 'over', \"you've\", 'ain', 'needn', \"isn't\", 'shouldn', 'his', 'doing', 'on', 'again', 'does', 'as', 'here', 'aren', 'o', 'they', \"needn't\", \"couldn't\", 'few', 'through', 'your', 'that', 'been', 'what', 'who', 'a', 'myself', 'their', 'do', 'and', 've', 'couldn', 'itself', 'at', 'did', \"weren't\", \"aren't\", 'we', 'by', 'the', 'wasn', 'haven', 'about', 'if', 'mustn', 'don', 'not', 'doesn', 'both', 'y', 'isn', \"doesn't\", \"mustn't\", 'until', 'which', 'should', 'more', 'are', 'themselves', 'shan', 'such', 'to', 'above', 'most', 'under', \"hasn't\", 'has', 'too', 're', \"that'll\", 'those', 'she', 'of', 'between', \"won't\", 'me', 'very', 'he', 'so', 'yourself', 'ma', 'won', 'during', 'same', 'in', 'herself', \"didn't\", 'than', 'there', \"you're\", 'or', 'can', 'while', \"wouldn't\", 'where', 'am', \"should've\", 'himself', 'then', 'into', 'further', 'didn', 'this', 'have', 'hers', 'being', 's', 'whom', 'm', 'will', 'be', \"mightn't\", 'you', 'below', 'before', 'nor', 'hadn', 'with', 'mightn', 'weren', 'yourselves', \"you'd\", 'having', 'it', 'any', 'now', 'our', \"you'll\", 'off', 'its', 'll', \"wasn't\", 'had', 'd', \"she's\", 'ourselves', 'why', \"haven't\", 'wouldn', 'after', 'out', 'only', 'ours', 'other', 'up', 'how', 'against', 'an', 'i', \"hadn't\", 'her', \"it's\", 'but', 'yours'}\n"
     ]
    }
   ],
   "source": [
    "# List of English stop words \n",
    "english_stop_words=set(stopwords.words(\"english\"))\n",
    "print(english_stop_words)"
   ]
  },
  {
   "cell_type": "code",
   "execution_count": 27,
   "id": "61SRZj06YLAB",
   "metadata": {
    "id": "61SRZj06YLAB"
   },
   "outputs": [
    {
     "data": {
      "text/html": [
       "<div>\n",
       "<style scoped>\n",
       "    .dataframe tbody tr th:only-of-type {\n",
       "        vertical-align: middle;\n",
       "    }\n",
       "\n",
       "    .dataframe tbody tr th {\n",
       "        vertical-align: top;\n",
       "    }\n",
       "\n",
       "    .dataframe thead th {\n",
       "        text-align: right;\n",
       "    }\n",
       "</style>\n",
       "<table border=\"1\" class=\"dataframe\">\n",
       "  <thead>\n",
       "    <tr style=\"text-align: right;\">\n",
       "      <th></th>\n",
       "      <th>UserName</th>\n",
       "      <th>ScreenName</th>\n",
       "      <th>Location</th>\n",
       "      <th>TweetAt</th>\n",
       "      <th>OriginalTweet</th>\n",
       "      <th>Sentiment</th>\n",
       "    </tr>\n",
       "  </thead>\n",
       "  <tbody>\n",
       "    <tr>\n",
       "      <th>0</th>\n",
       "      <td>3799.0</td>\n",
       "      <td>48751.0</td>\n",
       "      <td>london</td>\n",
       "      <td>16-03-2020</td>\n",
       "      <td>_menyrbie _phil_gahan _chrisitv</td>\n",
       "      <td>2.0</td>\n",
       "    </tr>\n",
       "    <tr>\n",
       "      <th>1</th>\n",
       "      <td>3800.0</td>\n",
       "      <td>48752.0</td>\n",
       "      <td>uk</td>\n",
       "      <td>16-03-2020</td>\n",
       "      <td>advice talk to your neighbours family to excha...</td>\n",
       "      <td>1.0</td>\n",
       "    </tr>\n",
       "    <tr>\n",
       "      <th>2</th>\n",
       "      <td>3801.0</td>\n",
       "      <td>48753.0</td>\n",
       "      <td>vagabonds</td>\n",
       "      <td>16-03-2020</td>\n",
       "      <td>coronavirus australia: woolworths to give elde...</td>\n",
       "      <td>1.0</td>\n",
       "    </tr>\n",
       "    <tr>\n",
       "      <th>3</th>\n",
       "      <td>3802.0</td>\n",
       "      <td>48754.0</td>\n",
       "      <td></td>\n",
       "      <td>16-03-2020</td>\n",
       "      <td>my food stock is not the only one which is emp...</td>\n",
       "      <td>1.0</td>\n",
       "    </tr>\n",
       "    <tr>\n",
       "      <th>4</th>\n",
       "      <td>3803.0</td>\n",
       "      <td>48755.0</td>\n",
       "      <td></td>\n",
       "      <td>16-03-2020</td>\n",
       "      <td>me_ ready to go at supermarket during the _cov...</td>\n",
       "      <td>0.0</td>\n",
       "    </tr>\n",
       "  </tbody>\n",
       "</table>\n",
       "</div>"
      ],
      "text/plain": [
       "  UserName ScreenName   Location     TweetAt  \\\n",
       "0   3799.0    48751.0     london  16-03-2020   \n",
       "1   3800.0    48752.0         uk  16-03-2020   \n",
       "2   3801.0    48753.0  vagabonds  16-03-2020   \n",
       "3   3802.0    48754.0             16-03-2020   \n",
       "4   3803.0    48755.0             16-03-2020   \n",
       "\n",
       "                                       OriginalTweet Sentiment  \n",
       "0                   _menyrbie _phil_gahan _chrisitv        2.0  \n",
       "1  advice talk to your neighbours family to excha...       1.0  \n",
       "2  coronavirus australia: woolworths to give elde...       1.0  \n",
       "3  my food stock is not the only one which is emp...       1.0  \n",
       "4  me_ ready to go at supermarket during the _cov...       0.0  "
      ]
     },
     "execution_count": 27,
     "metadata": {},
     "output_type": "execute_result"
    }
   ],
   "source": [
    "covid_tweets.head()"
   ]
  },
  {
   "cell_type": "code",
   "execution_count": 28,
   "id": "VUf6QtbFXN4g",
   "metadata": {
    "id": "VUf6QtbFXN4g"
   },
   "outputs": [],
   "source": [
    "#Creating empty data frame to represent X (i.e. cleaned_tweets) \n",
    "#and y (i.e. Sentiment)\n",
    "\n",
    "# column name list \n",
    "col_names =  ['X', 'y']\n",
    "  \n",
    "# create an empty dataframe with columns\n",
    "cleanedDf  = pd.DataFrame(columns = col_names)\n"
   ]
  },
  {
   "cell_type": "code",
   "execution_count": 29,
   "id": "f5444636",
   "metadata": {
    "id": "f5444636"
   },
   "outputs": [],
   "source": [
    "covid_tweets['CleanedTweets'] = \"\"\n",
    "i = 1\n",
    "X = []\n",
    "y = []\n",
    "for ind in covid_tweets.index:\n",
    "    #Removing punctuations\n",
    "    tweet_words = word_tokenize(covid_tweets['OriginalTweet'][ind])\n",
    "    tweet_only_words=[w for w in tweet_words if not w in string.punctuation]\n",
    "\n",
    "    # Removal of stop words from the text\n",
    "    keywords=[w for w in tweet_only_words if not w in english_stop_words]\n",
    "\n",
    "    #Normalize tweets by using Lemmatization.\n",
    "    wordnet_lemmatizer = WordNetLemmatizer()\n",
    "    keywords=[w for w in keywords if w in wordnet_lemmatizer.lemmatize(w)]\n",
    "\n",
    "    #not necessary but keeping it along with main dataset\n",
    "    covid_tweets['CleanedTweets'][ind] = keywords\n",
    "\n",
    "    #Preparing two objects 'X' as cleaned tweets & 'y' as Sentiments\n",
    "    X.append(' '.join(keywords))\n",
    "    y.append(covid_tweets['Sentiment'][ind])\n",
    "\n",
    "#Keeping X & y objects as dataframe for backup\n",
    "cleanedDf = pd.DataFrame({'X': X, 'y': y}) "
   ]
  },
  {
   "cell_type": "code",
   "execution_count": 30,
   "id": "RtGQeZEi3_G5",
   "metadata": {
    "id": "RtGQeZEi3_G5"
   },
   "outputs": [
    {
     "data": {
      "text/html": [
       "<div>\n",
       "<style scoped>\n",
       "    .dataframe tbody tr th:only-of-type {\n",
       "        vertical-align: middle;\n",
       "    }\n",
       "\n",
       "    .dataframe tbody tr th {\n",
       "        vertical-align: top;\n",
       "    }\n",
       "\n",
       "    .dataframe thead th {\n",
       "        text-align: right;\n",
       "    }\n",
       "</style>\n",
       "<table border=\"1\" class=\"dataframe\">\n",
       "  <thead>\n",
       "    <tr style=\"text-align: right;\">\n",
       "      <th></th>\n",
       "      <th>UserName</th>\n",
       "      <th>ScreenName</th>\n",
       "      <th>Location</th>\n",
       "      <th>TweetAt</th>\n",
       "      <th>OriginalTweet</th>\n",
       "      <th>Sentiment</th>\n",
       "      <th>CleanedTweets</th>\n",
       "    </tr>\n",
       "  </thead>\n",
       "  <tbody>\n",
       "    <tr>\n",
       "      <th>0</th>\n",
       "      <td>3799.0</td>\n",
       "      <td>48751.0</td>\n",
       "      <td>london</td>\n",
       "      <td>16-03-2020</td>\n",
       "      <td>_menyrbie _phil_gahan _chrisitv</td>\n",
       "      <td>2.0</td>\n",
       "      <td>[_menyrbie, _phil_gahan, _chrisitv]</td>\n",
       "    </tr>\n",
       "    <tr>\n",
       "      <th>1</th>\n",
       "      <td>3800.0</td>\n",
       "      <td>48752.0</td>\n",
       "      <td>uk</td>\n",
       "      <td>16-03-2020</td>\n",
       "      <td>advice talk to your neighbours family to excha...</td>\n",
       "      <td>1.0</td>\n",
       "      <td>[advice, talk, family, exchange, phone, create...</td>\n",
       "    </tr>\n",
       "    <tr>\n",
       "      <th>2</th>\n",
       "      <td>3801.0</td>\n",
       "      <td>48753.0</td>\n",
       "      <td>vagabonds</td>\n",
       "      <td>16-03-2020</td>\n",
       "      <td>coronavirus australia: woolworths to give elde...</td>\n",
       "      <td>1.0</td>\n",
       "      <td>[coronavirus, australia, give, elderly_, disab...</td>\n",
       "    </tr>\n",
       "    <tr>\n",
       "      <th>3</th>\n",
       "      <td>3802.0</td>\n",
       "      <td>48754.0</td>\n",
       "      <td></td>\n",
       "      <td>16-03-2020</td>\n",
       "      <td>my food stock is not the only one which is emp...</td>\n",
       "      <td>1.0</td>\n",
       "      <td>[food, stock, one, empty___, please_, n't, pan...</td>\n",
       "    </tr>\n",
       "    <tr>\n",
       "      <th>4</th>\n",
       "      <td>3803.0</td>\n",
       "      <td>48755.0</td>\n",
       "      <td></td>\n",
       "      <td>16-03-2020</td>\n",
       "      <td>me_ ready to go at supermarket during the _cov...</td>\n",
       "      <td>0.0</td>\n",
       "      <td>[me_, ready, go, supermarket, _covid19, outbre...</td>\n",
       "    </tr>\n",
       "  </tbody>\n",
       "</table>\n",
       "</div>"
      ],
      "text/plain": [
       "  UserName ScreenName   Location     TweetAt  \\\n",
       "0   3799.0    48751.0     london  16-03-2020   \n",
       "1   3800.0    48752.0         uk  16-03-2020   \n",
       "2   3801.0    48753.0  vagabonds  16-03-2020   \n",
       "3   3802.0    48754.0             16-03-2020   \n",
       "4   3803.0    48755.0             16-03-2020   \n",
       "\n",
       "                                       OriginalTweet Sentiment  \\\n",
       "0                   _menyrbie _phil_gahan _chrisitv        2.0   \n",
       "1  advice talk to your neighbours family to excha...       1.0   \n",
       "2  coronavirus australia: woolworths to give elde...       1.0   \n",
       "3  my food stock is not the only one which is emp...       1.0   \n",
       "4  me_ ready to go at supermarket during the _cov...       0.0   \n",
       "\n",
       "                                       CleanedTweets  \n",
       "0                [_menyrbie, _phil_gahan, _chrisitv]  \n",
       "1  [advice, talk, family, exchange, phone, create...  \n",
       "2  [coronavirus, australia, give, elderly_, disab...  \n",
       "3  [food, stock, one, empty___, please_, n't, pan...  \n",
       "4  [me_, ready, go, supermarket, _covid19, outbre...  "
      ]
     },
     "execution_count": 30,
     "metadata": {},
     "output_type": "execute_result"
    }
   ],
   "source": [
    "covid_tweets.head()"
   ]
  },
  {
   "cell_type": "code",
   "execution_count": 31,
   "id": "btFtDG74Vop8",
   "metadata": {
    "id": "btFtDG74Vop8"
   },
   "outputs": [
    {
     "data": {
      "text/html": [
       "<div>\n",
       "<style scoped>\n",
       "    .dataframe tbody tr th:only-of-type {\n",
       "        vertical-align: middle;\n",
       "    }\n",
       "\n",
       "    .dataframe tbody tr th {\n",
       "        vertical-align: top;\n",
       "    }\n",
       "\n",
       "    .dataframe thead th {\n",
       "        text-align: right;\n",
       "    }\n",
       "</style>\n",
       "<table border=\"1\" class=\"dataframe\">\n",
       "  <thead>\n",
       "    <tr style=\"text-align: right;\">\n",
       "      <th></th>\n",
       "      <th>X</th>\n",
       "      <th>y</th>\n",
       "    </tr>\n",
       "  </thead>\n",
       "  <tbody>\n",
       "    <tr>\n",
       "      <th>0</th>\n",
       "      <td>_menyrbie _phil_gahan _chrisitv</td>\n",
       "      <td>2.0</td>\n",
       "    </tr>\n",
       "    <tr>\n",
       "      <th>1</th>\n",
       "      <td>advice talk family exchange phone create conta...</td>\n",
       "      <td>1.0</td>\n",
       "    </tr>\n",
       "    <tr>\n",
       "      <th>2</th>\n",
       "      <td>coronavirus australia give elderly_ disabled d...</td>\n",
       "      <td>1.0</td>\n",
       "    </tr>\n",
       "    <tr>\n",
       "      <th>3</th>\n",
       "      <td>food stock one empty___ please_ n't panic_ eno...</td>\n",
       "      <td>1.0</td>\n",
       "    </tr>\n",
       "    <tr>\n",
       "      <th>4</th>\n",
       "      <td>me_ ready go supermarket _covid19 outbreak_ 'm...</td>\n",
       "      <td>0.0</td>\n",
       "    </tr>\n",
       "  </tbody>\n",
       "</table>\n",
       "</div>"
      ],
      "text/plain": [
       "                                                   X    y\n",
       "0                    _menyrbie _phil_gahan _chrisitv  2.0\n",
       "1  advice talk family exchange phone create conta...  1.0\n",
       "2  coronavirus australia give elderly_ disabled d...  1.0\n",
       "3  food stock one empty___ please_ n't panic_ eno...  1.0\n",
       "4  me_ ready go supermarket _covid19 outbreak_ 'm...  0.0"
      ]
     },
     "execution_count": 31,
     "metadata": {},
     "output_type": "execute_result"
    }
   ],
   "source": [
    "cleanedDf.head()"
   ]
  },
  {
   "cell_type": "code",
   "execution_count": 32,
   "id": "e3DwKhD6aA5r",
   "metadata": {
    "id": "e3DwKhD6aA5r"
   },
   "outputs": [
    {
     "name": "stdout",
     "output_type": "stream",
     "text": [
      "(2716, 7)\n",
      "(2716, 2)\n"
     ]
    }
   ],
   "source": [
    "#Verifying that cleanedDf contains all records as in main dataset\n",
    "print(covid_tweets.shape)\n",
    "print(cleanedDf.shape)"
   ]
  },
  {
   "cell_type": "markdown",
   "id": "03aFZ7BVfg9o",
   "metadata": {
    "id": "03aFZ7BVfg9o"
   },
   "source": [
    "**Difference Between CountVectorizer and TF-IDF**\n",
    "\n",
    "\n",
    "```\n",
    "# The only difference is that the TfidfVectorizer() returns floats while the CountVectorizer() returns ints. \n",
    "# TfidfVectorizer() assigns a score while CountVectorizer() counts.\n",
    "```\n",
    "We can understand the result of count vectorization and tf-idf result using below image\n",
    "\n",
    "![image.png](data:image/png;base64,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)\n"
   ]
  },
  {
   "cell_type": "code",
   "execution_count": 33,
   "id": "z7X2S1T3MJOY",
   "metadata": {
    "id": "z7X2S1T3MJOY"
   },
   "outputs": [
    {
     "name": "stdout",
     "output_type": "stream",
     "text": [
      "Vocabulary:  {'_menyrbie': 1139, '_phil_gahan': 1309, '_chrisitv': 499, 'advice': 1915, 'talk': 7651, 'family': 3950, 'exchange': 3859, 'phone': 6097, 'create': 3180, 'contact': 3045, 'list': 5191, 'employer': 3724, 'chemist': 2783, 'gp': 4374, 'set': 7032, 'online': 5835, 'shopping': 7101, 'adequate': 1900, 'regular': 6594, 'order': 5877, 'coronavirus': 3095, 'australia': 2223, 'give': 4318, 'elderly_': 3690, 'disabled': 3457, 'dedicated': 3315, 'amid': 2038, 'covid_19': 3152, 'outbreak': 5906, 'food': 4116, 'stock': 7416, 'one': 5828, 'empty___': 3728, 'please_': 6165, 'panic_': 5964, 'enough': 3755, 'everyone': 3833, 'take': 7641, 'need_': 5649, 'stay': 7389, 'calm_': 2622, 'safe_': 6846, '_covid19france': 613, '_covid_19': 634, '_covid19': 609, '_coronavirus': 569, '_confinement': 534, '_confinementotal': 536, '_confinementgeneral': 535, 'me_': 5392, 'ready': 6516, 'go': 4333, 'supermarket': 7550, 'outbreak_': 5907, 'paranoid_': 5988, 'litteraly': 5199, 'empty_': 3726, 'serious': 7022, 'thing_': 7744, 'shortage___': 7114, '_coronavirusfrance': 579, '_restezchezvous': 1390, '_stayathome': 1538, 'news': 5676, 'first': 4061, 'confirmed': 3009, 'case': 2683, 'came': 2624, 'sullivan': 7534, 'county': 3132, 'last': 5087, 'week_': 8271, 'people': 6048, 'flocked': 4087, 'area': 2147, 'purchase': 6423, 'cleaning': 2852, 'supplies_': 7558, 'hand': 4466, 'sanitizer_': 6884, 'food_': 4117, 'toilet': 7833, 'paper': 5979, 'goods_': 4354, '_tim_dodson': 1646, 'cashier': 2688, 'grocery': 4407, 'store': 7446, 'sharing': 7058, 'prove': 6391, 'credibility': 3188, 'commented': 2944, '_i': 932, 'civics': 2829, 'class': 2839, 'know': 5050, 'talking': 7654, 'about__': 1834, 'today_': 7824, 'buy': 2599, 'paper_': 5980, '_rebel': 1377, '_toiletpapercrisis': 1657, 'due': 3609, 'retail': 6723, 'classroom': 2844, 'atlanta': 2206, 'open': 5845, 'walk_in': 8203, 'business': 2590, 'next': 5681, 'two': 7982, 'weeks_': 8276, 'beginning': 2382, 'monday_': 5532, 'march': 5350, '16_': 33, 'continue': 3057, 'process': 6345, 'normal_': 5720, 'thank': 7716, 'understanding_': 8023, 'corona': 3093, 'prevention_we': 6305, 'stop': 7441, 'cash': 2686, 'use': 8093, 'payment': 6034, 'spread': 7335, 'notes_': 5734, 'also': 2011, 'prefer': 6269, 'home_': 4614, 'time': 7795, 'fight': 4018, 'covid': 3148, '19__': 49, '_govindia': 856, '_indiafightscorona': 961, 'month': 5546, 'crowding': 3206, 'restaurants_': 6706, 'however': 4663, 'reducing': 6568, 'closing': 2881, 'using': 8100, 'entrance': 3772, 'dependent': 3369, 'single': 7158, 'supermarket_': 7551, '_manila': 1101, '_lockdown': 1067, '_covid2019': 630, '_philippines': 1310, 'situation_': 7170, 'increased': 4804, 'demand': 3353, 'products_': 6356, 'wait': 8190, 'may': 5385, 'longer': 5240, 'orders_': 5884, 'particularly': 6004, 'beef': 2375, 'share': 7055, 'freezer': 4194, 'packs_': 5945, 'patience': 6020, 'time_': 7797, '_horningsea': 916, 'caring': 2669, 'community_': 2963, 'look': 5242, 'capable': 2648, 'village': 8148, 'ensure': 3760, 'healthy_': 4525, 'bringing': 2544, 'doors_': 3548, 'help': 4549, 'self': 6987, 'isolation': 4940, 'exposed': 3906, 'somebody': 7259, 'has_': 4497, 'need': 5648, 'll': 5209, 'amazon': 2029, 'deliver': 3339, 'whatever': 8303, 'adara': 1890, 'resource': 6687, 'center': 2725, 'travel': 7912, 'up_to_date': 8070, 'consumer': 3036, 'behavior': 2385, 'unpredictable_': 8054, 'eating': 3648, 'safe': 6845, 'alternative_': 2016, 'find': 4041, 'whether': 8315, 'avoiding': 2243, 'right': 6761, '_____': 254, '__': 251, '______': 256, '_______': 257, '_________': 259, '__________': 260, '____': 253, '13': 24, '_____________': 262, '___': 252, '_eyeonthearctic': 774, '16mar20': 34, 'russia': 6829, 'surveillance': 7590, 'watchdog': 8240, 'reported': 6658, 'high': 4574, 'arctic': 2145, 'man': 5327, 'traveled': 7914, 'iran': 4920, '101': 12, '_observed_': 1241, 'glitch': 4324, 'whole': 8326, 'foods_': 4130, 'fresh': 4201, 'spread_': 7336, 'weve': 8301, 'seen': 6983, 'significant': 7145, 'increase': 4803, 'groceries_': 4405, 'spokeswoman': 7325, 'said': 6854, 'statement_': 7380, 'today': 7823, 'resulted': 6720, 'impact': 4756, 'affecting': 1924, 'struggling_': 7494, 'please': 6164, 'consider': 3021, 'donating': 3536, 'bank': 2312, 'nonprofit_': 5712, 'jobs_': 4981, 'way': 8247, 'life_': 5158, '100': 6, 'inficted': 4834, '19': 42, 'world': 8395, 'must': 5607, 'play': 6160, 'fair': 3941, 'china': 2797, 'goverments': 4365, 'adopts': 1908, 'new': 5673, 'guilde': 4431, 'safty': 6853, 'chinese': 2800, 'goverment': 4364, 'guilty': 4433, 'irosponcible': 4926, 'life': 5157, 'global': 4325, 'scale': 6918, 'amazing': 2027, 'cheap': 2769, 'deals_': 3296, 'going': 4341, 'you___': 8455, '_trials': 1686, '_monthly': 1159, '_yearly': 1808, 'resonable': 6685, '_prices': 1330, '_subscriptions': 1580, 'dm': 3518, 'us_': 8088, '_bestiptv': 412, '_iptv': 968, '_service': 1471, '_iptvdeals': 970, '_cheap': 487, '_football': 819, '_hd': 889, '_movies': 1171, '_adult': 306, '_cinema': 503, '_hotmovies': 918, '_iptvnew': 971, '_iptv2020': 969, 'iptvlinks': 4919, '_18movies': 224, '_10downingstreet': 221, '_grantshapps': 860, 'done': 3539, 'essential': 3795, 're_stocked': 6505, 'panic': 5963, 'buying': 2603, 'actively': 1883, 'discouraged_': 3472, 'left': 5129, 'checkout': 2777, 'staff': 7351, 'police': 6184, 'selfish': 6996, 'profiteer': 6360, 'uk': 8002, '_consumer': 540, 'poll': 6193, 'indicates': 4816, 'majority': 5312, 'expect': 3877, '4_12': 139, '12': 22, '_tracker___': 1678, 'see': 6976, 'full': 4240, '_retailx': 1402, 'confidence': 3003, 'tracker': 7881, 'preparation': 6278, 'higher': 4578, 'potential': 6230, 'shortage_': 7113, 'hunger': 4680, 'coalition': 2901, 'purchased': 6425, '10': 5, 'percent': 6054, 'implemented': 4763, 'coronavirus_': 3096, 'morning': 5558, 'tested': 7707, 'positive': 6213, '19_': 48, 'feel': 4006, 'ok_': 5811, 'far': 3957, 'isolated': 4937, 'since': 7154, 'found': 4167, 'possible': 6216, 'exposure': 3907, 'virus_': 8159, 'home': 4613, 'pragmatic_': 6250, 'keep': 5016, 'updated': 8075, 'im': 4739, 'malicious': 5323, 'price': 6309, 'nyc_': 5763, 'nyc': 5762, 'department': 3366, 'worker': 8383, 'protection': 6385, 'dcwp': 3289, 'page': 5950, 'digitally': 3436, 'file': 4025, 'complaint_': 2979, 'click': 2866, '_7sealsoftheend': 247, 'soon': 7269, 'dwindling': 3620, 'unlawful': 8046, 'panicky': 5976, 'breaking': 2530, 'closed': 2877, '_amp': 344, 'raid': 6477, 'normally': 5722, 'crisis': 3196, 'massive': 5372, '_stockup_amp': 1563, 'lockup': 5229, 'country': 3129, 'empty': 3725, 'ensues': 3759, 'hole': 4610, 'foods___': 4131, '___images': 274, 'nicest': 5685, 'richest': 6752, 'united': 8041, 'states_': 7381, 'could': 3118, 'explode': 3898, 'via': 8133, '_cnbc': 519, '_brickandmortar': 451, 'fun': 4244, 'fact': 3937, 'cough': 3112, 'store_': 7447, 'get': 4306, 'aisle': 1968, 'pretty': 6298, 'quickly_': 6459, '_coronavirusoutbreak': 589, 're': 6503, 'sorry': 7276, 'say': 6914, '_finfabuk': 801, 'event': 3821, 'cancelled': 2636, 'covid_19_': 3153, 'health': 4520, 'wellbeing': 8291, 'attendees_': 2216, 'top': 7856, 'priority_': 6332, 'disappointment': 3464, 'cause_': 2708, 'answered': 2077, 'link': 5184, 'went': 8294, 'yesterday': 8448, 'gone_': 4347, 'anything': 2094, 'yes_': 8446, 'point': 6182, 'posting': 6224, 'load': 5212, 'stuff_': 7499, 'elderly': 3689, 'parents_': 5990, 'kids_': 5024, 'siblings_': 7132, 'etc': 3805, 'ca': 2608, 'everything': 3836, 'viral_': 8153, 'alr': 2005, 'worried': 8400, 'current': 3236, 'pandemic': 5959, 'finances_': 4038, 'published': 6415, 'manage': 5329, 'money': 5536, 'challenging': 2744, 'times_': 7801, 'wife': 8335, 'retail_amp': 6726, 'customer': 3246, 'yesterday_': 8449, 'coughing': 3115, 'everywhere_': 3840, 'saying': 6916, 'requested': 6663, 'deep': 3319, 'clean': 2847, 'company': 2967, 'objected': 5769, 'cost_': 3108, 'recommending': 6555, 'team': 7676, 'spray': 7333, 'disinfectant_amp': 3489, 'themselves_': 7729, 'gon': 4345, 'na': 5614, 'die_get': 3419, 'sick': 7133, 'capitalism': 2652, 'like': 5167, 'without': 8364, 'judged_': 5001, 'provide': 6393, 'experience': 3883, 'healthy': 4524, 'environment': 3775, 'placed': 6140, 'curious_': 3234, 'think': 7749, 'lot': 5257, 'bc': 2357, 'unable': 8012, 'spooked': 7328, 'extra': 3915, 'pair': 5956, 'shoes_': 7089, '_economy': 750, '_onlineshopping': 1256, '_stayhome': 1542, 'check': 2772, 'video': 8138, 'story': 7464, 'clothes': 2887, 'mysterious': 5611, 'white': 8321, 'forming': 4157, 'clothes_': 2888, '_quarantinelife': 1349, '_imadethisup': 950, '_fakenews': 780, 'line': 5179, 'outside': 5914, '_target': 1607, 'south': 7287, 'basic': 2339, 'someone': 7261, '65': 161, 'living': 5208, 'struggling': 7493, 'local': 5219, 'around': 2155, 'offering': 5796, 'free': 4189, 'nationwide': 5630, 'anyone': 2092, 'plus': 6176, 'freezable': 4192, 'half': 4455, 'completely': 2981, 'calling': 2619, '_dumb_': 736, '_idiots__': 939, 'lol': 5233, 'never': 5672, 'thought': 7760, 'this_': 7754, 'but_': 2595, '2019_': 66, 'come': 2933, 'back__': 2272, '_peoplearelosingtheirminds': 1303, '_stopthemadness': 1572, '_stoppanicbuying': 1568, 'sparking': 7296, 'run': 6823, 'cannabis': 2639, 'yet_': 8451, 'stocking': 7429, 'weekend_': 8274, 'preparing': 6281, 'coming': 2938, 'days_': 3288, '_everything': 773, 'seeing': 6977, 'previous': 6307, 'rise': 6770, 'fear_': 3988, 'racism_': 6469, 'medicines_': 5421, 'conspiracy': 3027, 'theories_': 7731, 'proliferation': 6368, 'quack': 6439, 'cures_': 3231, 'closed_': 2878, 'remain': 6623, 'emergency': 3713, 'workers_': 8385, '_pandemic': 1275, '_socialdistancing': 1513, '_retail': 1393, 'water___': 8244, 'cause': 2707, 'utility': 8104, 'shut': 7126, 'middle': 5460, 'pandemic___': 5961, 'close': 2875, 'thier': 7741, 'lose': 5252, 'work': 8379, 'kid': 5023, 'go___': 4335, 'cant': 2642, 'afford': 1927, 'worth': 8408, '_senatorromney': 1466, 'dear': 3297, 've': 8118, 'following': 4114, 'social': 7242, 'distancing': 3505, 'staying': 7390, 'prevent': 6301, 'you_': 8453, 'however_': 4664, 'spent': 7316, 'alarming': 1978, 'amount': 2045, 'online_': 5836, 'submit': 7506, 'reimbursement_': 6599, 'let': 5142, 'know_': 5051, '_coronapocolypse': 564, 'intensified': 4880, 'across': 1871, 'several': 7036, 'downward': 3566, 'continued': 3059, 'well': 8287, 'supplied': 7557, 'negative': 5655, 'resulting': 6721, 'virus': 8158, 'great': 4392, 'day_': 3286, '_bekind': 406, '_mufc': 1173, '_mufc_family': 1174, 'emergency_': 3714, 'important_': 4768, 'afraid': 1932, 'worst': 8406, 'scenario_': 6935, 'wash': 8229, 'tub': 7961, 'all': 1991, 'crazy_': 3176, 'clerk_': 2863, 'looked': 5243, 'weary': 8260, 'thanked': 7717, 'realized': 6527, 'thrust': 7781, 'front': 4218, 'panick_': 5972, 'breed': 2535, 'responders_': 6695, 'working': 8390, 'hard': 4489, 'serve': 7026, 'communities_': 2961, 'entire': 3770, 'world_': 8396, 'malaysia': 5320, 'facing': 3936, 'challenges_': 2743, 'near': 5639, 'future_': 4258, 'surprise': 7582, 'many': 5348, 'lost': 5256, '_malaysia2020': 1097, '_malaysia': 1096, 'corner': 3092, '_scammers': 1448, 'taking': 7649, 'advantage': 1911, '_cdc': 481, '_flu': 806, '_trends': 1685, '_alert': 328, '4_': 138, '_both': 440, 'made': 5297, 'medical': 5415, 'personnel': 6076, 'require': 6665, 'once_obscure': 5826, 'material': 5376, 'called': 2617, 'melt_blown': 5431, 'fabric__': 3924, 'capitalizing': 2656, 'packaged': 5942, 'making': 5318, 'opposed': 5863, 'safety': 6849, '_lockdowncanada': 1068, 'so_': 7235, 'feeling': 4008, 'ethical': 3811, 'still': 7409, 'stuff': 7498, 'shopping_': 7102, 'etc_': 3806, 'ship': 7077, '_isolation_': 976, 'care': 2662, 'loved': 5262, 'ones_': 5831, 'etc__': 3807, '2k': 97, 'told': 7837, 'pymnts': 6437, 'changed': 2749, 'daily': 3256, 'bought': 2496, 'house': 4655, 'didnt': 3416, 'house_': 4656, 'tragic_': 7893, 'facebook': 3927, 'group': 4410, 'increasing': 4806, 'situation': 7169, 'frankly': 4179, 'despicable': 3390, 'totally': 7860, 'void': 8172, 'community': 2962, 'spirit_': 7322, '_nameandshame': 1184, '_covid_19uk': 636, '_liverpool': 1063, '_bobjlowe': 430, 'sadly': 6843, 'misinformed': 5504, 'thinking': 7752, 'diarrhoea_': 3411, 'therefore': 7736, 'stock_pile': 7422, 'papers_': 5984, 'atm_': 2210, 'hygiene': 4695, '_tinamccauley70': 1647, 'yeah': 8436, 'risky': 6779, 'thats': 7723, 'really': 6531, 'necessary__': 5645, 'cn': 2895, 'mum_': 5598, 'live': 5202, '_shielded_': 1480, 'mean': 5400, 'in_': 4780, 'hope': 4629, 'kind': 5031, 'word': 8377, 'sound': 7280, 'anymore_': 2091, 'dont': 3543, 'bs_': 2560, 'nothing': 5735, 'left_': 5130, 'hi_': 4568, 'thanks': 7720, 'scare': 6927, 'sends': 7010, 'sea_food': 6957, 'skyrocketing': 7181, 'mumbai': 5599, '_gt': 875, 'pausing': 6027, 'student': 7496, 'loan': 5215, 'addition': 1895, 'halting': 4462, 'interest': 4886, 'accumulation': 1865, 'amp': 2046, 'stopping': 7445, 'punitive': 6421, 'would': 8409, 'much': 5590, 'needed': 5651, 'immediate': 4745, 'relief': 6613, 'economic': 3657, 'hardship': 4492, '_balajis': 387, 'side': 7137, 'tech': 7677, 'already': 2006, 'demostrated': 3362, 'elisa': 3701, 'test': 7705, 'though': 7758, 'lacking': 5071, '_us_fda': 1721, 'deem': 3318, 'waived': 8194, 'test_': 7706, 'doesnt': 3527, 'easily': 3638, 'either': 3687, 'illness': 4737, 'urge': 8083, 'support': 7565, 'bill': 2424, 'includes': 4794, 'flexibility': 4081, 'school': 6944, 'selfish_': 6997, 'ceo': 2733, '7_9': 190, 'shop': 7093, 'show': 7122, 'id_': 4713, 'saw': 6912, 'young': 8460, 'couple': 3134, '300': 101, 'tp_': 7878, 'crap_': 3166, 'maybe': 5386, 'complex': 2982, 'puzzle': 6434, 'food_delivery': 4120, 'delivery': 3348, 'capacity': 2649, 'buckle': 2565, 'surging': 7579, 'demand_': 3354, '_thejoshuaturner': 1636, '_loreign83': 1076, '_peanut_astro': 1301, '_my_amigouk': 1178, '_afneil': 313, '_borisjohnson': 437, '_patel4witham': 1292, 'disgusting': 3484, 'disgraceful': 3482, 'charging': 2759, 'inflated': 4837, 'government': 4367, 'something': 7262, 'abou': 1832, 'physical': 6101, 'curtail': 3241, 'result': 6718, 'agoing': 1953, 'put': 6432, 'additional': 1896, 'pressure': 6294, 'omnichannel': 5821, 'curbside': 3228, 'pick': 6107, 'up_': 8068, 'cal': 2612, 'idea': 4714, 'la': 5065, 'habra': 4450, 'special': 7300, 'love': 5261, 'hate': 4501, 'it_': 4949, 'head': 4515, 'blip': 2448, 'happening_': 4484, 'whinge': 8318, 'wont': 8376, 'spend': 7312, 'common': 2955, 'sense': 7013, '_worldhealthorg2': 1795, 'letter': 5143, 'consumer_debt': 3038, 'holding': 4609, 'others': 5899, 'precipice': 6262, 'household': 4657, 'economy_': 3662, 'suspend': 7603, 'interest_fees': 4887, 'sixty': 7172, 'response': 6698, 'crisis_': 3197, 'sign': 7143, '_covid19aus': 612, 'wanted': 8216, 'older': 5816, 'australians_': 2226, 'mobile': 5517, 'sadly_': 6844, 'heard': 4528, 'payer': 6032, 'exec': 3864, 'laying': 5109, 'low_': 5265, 'hoping': 4632, 'over_': 5916, 'mind': 5480, 'bogglingly': 2468, 'stupid': 7501, 'nonprofit': 5711, 'plan_': 6148, 'back': 2270, 'frank': 4178, 'bread': 2523, 'shelve': 7068, 'worry': 8401, 'pal': 5958, 'ive': 4957, 'saved': 6906, '1_': 51, 'pat': 6018, 'beans_': 2363, 'disciplined_': 3467, 'yes': 8445, 'got': 4358, 'lengthen': 5137, 'marketing': 5359, 'slashed': 7184, 'hiring': 4590, 'frozen': 4222, 'staffing': 7354, 'redrawn': 6565, 'dive': 3513, 'battling': 2352, '___at': 269, 'distillery': 3509, 'remains': 6626, 'operation_': 5858, 'public': 6412, 'hosting': 4646, 'events_': 3824, 'closed____': 2879, 'hoard': 4600, 'water_': 8243, 'absolutely': 1839, 'supply': 7561, 'chain': 2739, 'interrupted_': 4894, 'all_': 1992, 'sanitizing': 6887, 'them_': 7727, 'probably': 6339, '_dontpanicbuy': 714, 'canned': 2640, 'toxic': 7876, 'sanitizers': 6885, 'stock_': 7417, 'yet': 8450, 'fruit_': 4224, 'fully': 4243, 'stocked_': 7425, 'immune': 4747, 'system': 7628, 'works_': 8393, 'mum': 5597, 'dad': 3255, '70': 174, 'offered': 5794, 'might': 5465, 'sometimes': 7264, 'forget': 4151, 'always': 2022, 'easy_': 3642, 'can_': 2630, 'useful_': 8097, 'hypermarket': 4699, 'kajang': 5010, '16': 32, '2020': 67, 'picture': 6114, 'shafwan': 7046, 'zaidon': 8469, 'often': 5804, 'major': 5311, 'try': 7954, 'exception_': 3854, 'guidance': 4428, 'attorney': 2220, 'general': 4293, 'office': 5797, 'sure': 7572, 'within': 8363, 'week': 8270, 'two_': 7983, 'dry': 3603, 'effected': 3675, 'possibly': 6218, 'lockdown': 5224, 'introduce': 4900, 'form': 4153, 'rationing': 6500, 'eat_': 3644, 'somehow': 7260, 'frontline': 4220, 'extraordinary': 3916, 'extreme': 3917, 'pressure_': 6295, 'calm': 2621, 'stocked': 7424, 'moving_': 5581, 'panicking_': 5975, 'plan': 6147, 'focus': 4106, 'important': 4767, 'issues_': 4948, 'best': 2408, 'opportunity': 5861, 'outcome_': 5910, 'structure_': 7490, 'reduce': 6566, 'key': 5021, 'decisions_': 3309, 'flourish': 4094, '__kroger': 286, 'biggest': 2421, '453_000': 134, 'receive': 6543, 'leave_': 5126, 'even': 3818, '_kroger': 1037, 'wo': 8367, 'paid': 5952, 'leave': 5125, 'instead': 4869, 'providing': 6399, 'mandatory': 5338, 'quarantine': 6441, 'insufficient': 4873, 'protect': 6383, 'public_': 6413, 'especially': 3794, 'little': 5200, 'testing': 7709, 'av': 2232, 'followed': 4113, 'ago_': 1952, 'pain': 5954, 'necessary_': 5644, '_stayhealthy': 1541, '_joncoopertweets': 1006, 'took': 7854, 'montgomery': 5545, 'county_': 3133, 'md_': 5391, 'flour_': 4093, 'sugar_': 7525, 'sweet': 7615, 'potatoes_': 6229, 'orange': 5876, 'juice_': 5003, 'towels_': 7871, 'low': 5264, 'meat_': 5412, 'mac': 5289, 'cheese_': 2782, '_panicbuying': 1281, 'swear': 7611, 'shop_': 7094, 'deal': 3294, '_coronavirusuk': 599, '_anxiety': 355, '_panicbuyinguk': 1283, '_morons': 1162, 'rapid': 6491, 'elsewhere': 3706, 'seemed': 6980, 'fine': 4044, 'email': 3709, 'listing': 5195, 'deliver___one': 3341, 'bottle': 2492, '_whatashitshow': 1772, 'getting': 4308, 'fault': 3976, 'short': 7110, '_corona': 553, 'safely_': 6847, 'meaning_': 5404, 'risk': 6774, 'spreading': 7338, 'ft': 4228, 'washing': 8231, 'hands_': 4475, 'eliminate': 3700, '1_3': 54, 'recession': 6548, 'three': 7767, 'damage': 3262, 'main': 5306, 'street': 7472, 'ongoing': 5833, 'cb': 2717, 'rescue_': 6671, 'temp_': 7688, 'recovery': 6562, 'credit': 3190, 'mkt_': 5516, 'econ': 3656, 'unknown': 8045, 'second': 6964, 'shock': 7083, 'later': 5093, 'finally': 4035, 'brings': 2545, 'wall': 8208, 'altogether': 2020, '_spx': 1532, '_rut': 1424, '_ndx': 1191, 'end': 3737, '_bootsuk': 435, 'surgical': 7578, 'spirit': 7321, 'receiving': 6545, 'supposed': 7570, 'disinfect': 3486, '_panic': 1277, '_shopping': 1484, 'real': 6520, 'worlds_': 8398, 'petition': 6081, 'bev': 2411, 'colorado__': 2929, 'starbucks': 7363, 'to_go': 7821, 'abilene': 1828, 'bar': 2320, 'update': 8072, 'make': 5313, 'open_closed': 5847, 'chick_fil_a': 2787, 'drive': 3585, 'model': 5520, 'early': 3630, 'include': 4792, 'king': 5038, 'soopers_': 7274, 'sam': 6871, 'club': 2893, 'trying': 7956, 'opening': 5851, 'half_hour': 4457, 'day': 3284, 'exclusively': 3862, 'older_': 5817, 'older__': 5818, 'ton': 7845, 'first_': 4062, 'greedy': 4397, 'panick': 5971, '_stoppanickbuying': 1570, '_thinkingofothers': 1641, 'mild': 5468, 'symptoms_': 7626, 'chance': 2746, 'transmission': 7904, 'study': 7497, '_cspi': 655, 'guide': 4429, 'examines': 3848, '20': 60, 'largest': 5086, 'restaurant': 6704, 'handling': 4474, 'pandemic_': 5960, 'good': 4352, '60_': 158, 'disclose': 3468, 'policy': 6187, 'offer': 5793, '_sparintheuk': 1525, 'confirm': 3008, 'signage': 7144, 'light': 5164, 'stating': 7383, 'changing_': 2752, 'management': 5331, 'speed': 7309, 'crucial': 3209, 'here_': 4561, 'causing': 2711, 'unnecessary': 8052, 'rice': 6747, 'years_': 8441, '_panicshopping': 1286, '_pricegougers': 1328, '_idiots': 938, 'fringing': 4216, 'caused': 2709, 'shortages_': 7115, 'wasted': 8237, 'expiry': 3893, 'dates_': 3280, 'customers_': 3247, '_hoarders': 906, '_selfishpeople': 1458, 'congress': 3014, 'temporarily_': 7691, 'paralyzed': 5987, 'finalizing': 4034, 'technical': 7678, '_replouiegohmert': 1384, 'currently': 3237, 'anyway_': 2097, 'insisting': 4864, 'read': 6513, 'floor_': 4090, 'returning': 6736, 'senate': 7007, 'fighting': 4020, 'financial': 4039, 'bureau': 2583, 'employee': 3722, 'federal': 3996, 'mandating': 5337, '_aircanada': 319, 'poor': 6195, 'service': 7027, 'refund': 6580, '_airport_fra': 321, 'hour': 4650, 'preferably': 6270, 'population': 6203, 'compromised': 2988, 'good_': 4353, 'clear': 2856, 'thinking_': 7753, '_brianschatz': 450, '_maziehirono': 1123, '_nygovcuomo': 1232, '_govinslee': 857, 'temporarily': 7690, 'job_': 4979, 'amazon_': 2030, 'handle': 4472, 'surge': 7575, 'related': 6600, 'buying_': 2604, '_cgafun': 484, '_danielandrewsmp': 671, 'daughter': 3281, '_why': 1778, 'act': 1872, 'fault___': 3977, 'stand': 7358, 'middle_aged': 5461, 'woman': 8369, 'refused': 6584, 'isolating': 4939, 'symptomatic_': 7625, 'neighbour_': 5660, 'friend_': 4207, 'agreed': 1955, 'phone_': 6098, 'daily_': 3257, 'attempt': 2214, 'skype': 7179, 'call___': 2616, '_unitedagainstdementia': 1714, '_alzheimerssoc': 337, 'youre': 8461, 'walking': 8206, 'stores___': 7457, 'problem_': 6342, 'responsible': 6700, 'shit': 7080, 'guilty_': 4434, 'available': 2235, '_covid19walkout': 629, 'aware': 2246, 'uptick': 8080, 'media_': 5413, 'emails_': 3711, 'websites_': 8265, 'scam': 6920, 'involving': 4915, 'product': 6352, 'service_': 7028, 'visit': 8163, '_nydfs': 1231, 'website': 8263, 'call': 2615, 'hotline': 4648, '800': 195, '342_3736_': 109, '_unpopularopinion': 1716, 'able': 1830, 'tell': 7685, 'understands': 8024, 'restricted': 6714, 'movement': 5578, 'are_': 2146, 'katie': 5014, 'moving': 5580, 'weekend': 8273, 'amongst': 2044, 'respect': 6689, 'least': 5123, 'fyi': 4259, 'notice': 5737, 'nasty': 5625, 'supporting': 7568, 'market': 5357, 'trump': 7949, 'cut': 3248, 'medicare': 5417, 'security': 6973, 'remove': 6637, 'pre': 6256, 'existing': 3872, 'coverage': 3143, 'aca': 1845, 'charlotte': 2762, 'voluntarily': 8175, 'concerns_': 2996, 'tough': 7864, 'decision_': 3308, 'remember_': 6628, 'possible_': 6217, 'option': 5870, 'want': 8214, '_specnewsclt': 1527, '_heb': 896, 'h_e_b': 4446, 'fan_': 3953, 'appreciate': 2129, 'limit': 5174, 'shortage': 7112, 'spreading_': 7339, 'tho': 7757, 'concern': 2992, 'lack': 5070, 'push': 6429, 'towards': 7869, 'delivery_': 3349, '3_': 112, 'charge': 2757, 'per': 6052, 'item': 4953, 'cart': 2681, 'happy': 4487, 'uneasy': 8029, 'small': 7200, 'support_': 7566, 'ordering': 5881, 'move': 5576, 'tackling': 7638, 'implement': 4762, 'restrict': 6713, 'hoarding': 4604, 'supermarket_grocery': 7554, 'stores_': 7456, 'creating': 3184, 'prosecute': 6382, 'price_gougers': 6311, '_coronavirus_': 570, 'texan': 7711, '_pricegouging': 1329, 'complaint': 2978, '800_621_0508': 196, 'alert_': 1987, 'cyber': 3250, 'scams_': 6921, 'reveal': 6740, 'personal': 6072, 'info': 4842, 'avoid': 2241, 'clicking': 2867, 'unsolicited': 8059, 'links_': 5185, 'trusted': 7952, 'sources_': 7284, 'always_': 2023, 'report': 6656, 'attacks_': 2213, '23': 76, '31': 105, '_kenyantraffic': 1026, 'theyre': 7739, 'scared': 6928, 'happen': 4481, '_thetodayshow': 1640, 'la_': 5066, 'spark': 7294, 'manila': 5339, 'centre': 2729, 'routed': 6810, 'nz': 5766, 'based': 2336, 'deskers': 3387, 'asking': 2181, 'myspark': 5610, 'app': 2112, '_lottery': 1080, 'now_': 5744, '_stockmarket': 1557, '_toiletpaper': 1653, '_arizona': 362, '_foxnews': 824, '_fox10phoenix': 822, 'bad': 2280, 'habit': 4447, 'definitely': 3327, 'or_hospital': 5875, 'wearing': 8259, '_scrubs': 1454, 'nobody': 5703, '__covid19': 282, '_medtwitter': 1133, 'realize': 6526, '_kashmir': 1017, 'struggle_': 7492, 'state': 7377, 'water': 8242, 'imagine': 4742, 'months_': 5549, 'wake': 8196, 'up___': 8069, '_kashmirlockdown': 1019, '_kashmiris': 1018, 'doggo': 3529, 'european': 3815, 'covid_19____': 3156, 'ordered': 5880, 'more_': 5556, 'wonder': 8372, 'not_': 5728, 'rations_': 6501, 'past': 6012, 'start': 7364, 'distancing_': 3506, 'fml': 4103, '100_': 8, 'catch': 2700, 'saving': 6910, 'money_': 5537, 'hella': 4546, 'delayed_': 3336, 'car': 2658, 'wan': 8213, 'transport_': 7907, 'hell_': 4544, 'apparently': 2116, 'worked': 8382, 'wipe': 8354, 'ass_': 2185, 'hearing': 4529, 'national': 5628, 'wednesday': 8267, '18th_': 41, 'essentials_': 3798, 'ammo_': 2041, 'believe': 2392, 'ugly_': 8000, '_nationalquarantine': 1189, 'source': 7282, 'fckwits': 3984, 'panic_buying': 5968, 'everything_': 3837, 'broke': 2551, 'single_mum': 7159, 'feed': 4002, 'long': 5239, 'mths': 5589, 'pasta': 6013, 'stockpiled_': 7433, 'em': 3708, 'starve_': 7373, '__coronavirus': 281, 'hoarder': 4603, '_covid': 608, '_groceries': 866, 'effort': 3679, 'win': 8343, 'pr': 6243, 'game___': 4269, 'difference_': 3425, '_trumpisanidiot': 1692, '_trumpneedstoshutup': 1693, 'trending__': 7926, 'real__': 6522, 'freaked_': 4185, 'shelf_': 7064, 'control_': 3070, '_realdonaldtrump': 1370, 'sake': 6861, 'actually': 1886, 'mounted': 5574, 'dispenser': 3493, 'soap_': 7237, 'enter': 3762, 'plethora': 6170, 'dos_': 3550, 'unfortunately': 8036, 'retail_': 6724, 'bucking': 2564, 'down_': 3559, 'ill': 4733, 'feeding': 4005, 'hungry_': 4683, '_staysafe': 1549, '_frontlines': 831, 'stockup': 7436, 'crazy': 3175, 'chocolate': 2804, '2_': 88, 'remover': 6639, 'concealer': 2991, 'dark': 3271, 'chewing': 2785, 'gum': 4437, '5_': 150, 'pringles': 6324, '6_': 168, 'grow': 4413, '7_': 186, 'manual': 5343, 'survive': 7596, 'apocalypse': 2107, '8_': 200, '9_': 210, 'gin': 4314, '10_': 13, 'kitten': 5045, 'heel': 4539, 'lava': 5105, 'statement': 7379, 'announcement': 2069, 'electronics': 3698, 'computing': 2990, 'cleanshelf': 2854, '_walmart': 1750, 'add': 1891, 'delivery___': 3351, 'hire': 4589, '_winwin': 1785, '_stayindoorsandshop': 1545, '_northgateglzmrk': 1221, 'abuelos_as_': 1842, 'also_': 2012, 'sanitiser': 6877, 'roll_': 6794, 'leaving': 5127, 'rest': 6702, 'realise': 6523, 'too___': 7853, '79': 185, 'nearly': 5642, '80': 194, 'year': 8438, 'old': 5814, 'nana': 5620, 'hasnt': 4499, 'piled': 6119, 'rolls_': 6797, 'but___she': 2596, 'cupboard': 3224, 'horlicks': 4635, '_priorities': 1332, 'person': 6068, 'capability': 2647, 'encourage': 3733, 'relative': 6604, 'friend': 4206, 'acquaintance': 1869, 'city': 2825, 'alternate': 2014, 'person_': 6069, 'killing': 5029, 'selling': 7005, 'survival': 7593, '_750': 245, '60': 156, 'almost': 2001, '_200': 227, 'cheaper': 2770, 'edition': 3668, 'fitting': 4067, 'pact_': 5947, 'upset': 8079, 'thing': 7743, 'rn': 6782, 'fit': 4066, 'jeans_': 4968, 'reminded': 6631, 'ignorance': 4726, 'corporate': 3101, 'america': 2033, '_reverselogistics': 1405, 'apparent': 2115, 'locations_': 5222, 'turning': 7976, 'photo': 6099, 'edinburgh': 3667, 'night_': 5691, 'gov': 4362, 'classed': 2840, 'skilled': 7176, 'hit': 4594, 'bad_': 2281, '_thread': 1644, '__bbchealth': 279, 'high_risk': 4576, 'distance': 3501, 'relatives_': 6606, 'position': 6212, 'actual': 1885, 'footage': 4135, 'yall': 8434, 'remember': 6627, 'together_': 7830, '_panicbuyers': 1280, 'pop': 6199, 'various': 8116, 'groups_': 4412, 'toll': 7840, 'number': 5751, 'infant': 4827, 'formula_': 4159, 'formula': 4158, 'send': 7008, 'hoax___': 4607, 'checked': 2774, 'freeze': 4193, 'dried': 3582, 'companies_': 2966, 'seems': 6982, 'sold': 7251, 'out_': 5905, 'backlogged': 2275, 'although': 2018, 'stockpiling': 7434, 'silver': 7148, 'cloud': 2891, 'deliveries_': 3344, 'drive_thrus': 3587, 'post_mates_': 6222, '_thespoontech': 1638, 'panicked': 5973, 'idiot': 4720, 'smashed': 7206, 'mine': 5483, 'family_': 3951, 'mass': 5371, 'hysteria': 4701, 'isnt': 4935, 'successfully': 7514, 'contracting': 3064, 'flu': 4096, 'pack': 5940, 'milk': 5472, 'cat': 2695, 'well_': 8288, 'god': 4337, 'save': 6904, 'province': 6400, 'common_': 2956, 'paycheck': 6031, 'supplying': 7564, '_borisjohnson_': 438, 'sensible_': 7015, '_suggest_': 1583, 'feeble': 4001, 'self_isolate': 6990, 'telling': 7686, 'debt': 3303, 'american': 2035, 'impacted': 4758, 'petition_': 6082, 'taken': 7645, 'henk': 4557, 'zwoferink': 8483, 'saturday': 6898, 'wrgl_': 8415, 'black': 2438, 'beauty': 2367, 'hauled': 4504, 'train': 7894, '_workinghard': 1792, 'running': 6825, 'respecting': 6691, '_safety_': 1429, 'pleasure': 6166, '_dedicatedpeople_': 681, 'rise_': 6771, 'pasta___': 6015, '_nordstrom': 1218, 'rack': 6470, 'washington': 8233, 'st': 7347, '_jwn': 1013, '_retailapocalypse2020': 1396, '_retailnews': 1400, 'phishing': 6095, 'today____let': 7827, 'of__': 5788, '_lotl': 1079, 'colleague': 2918, '8pm': 203, 'ask': 2178, 'unsweetened': 8061, 'almond': 2000, 'convince': 3077, 'millennial': 5476, 'sh_t': 7044, 'currency': 3235, 'rate': 6496, 'oil': 5808, '_coronavirusindia': 580, 'lifestyle': 5161, 'correction': 3104, 'wisdom': 8358, 'collectiveness': 2921, 'nature': 5632, 'reciprocate': 6551, '_olson_jessie': 1250, '_nashterrance': 1187, '_mccroriejim': 1124, '_armyvet1775': 363, '_rogerscarmen': 1418, '_alim20698746': 330, '_jimbo_always': 1002, '_bill_wrights': 421, '_ddcampassr': 679, '_jewelsjones1': 1001, '_real_pat_henry': 1368, '_weseeyouweknow': 1766, '_____54_____': 255, '_randallkraft': 1363, '_datofreddy': 674, '_lennyinnecken6': 1051, '_sanmateogirl11': 1441, '_brandyls76': 445, '_spa': 1524, 'casper': 2692, 'provides': 6398, 'guess': 4426, 'press': 6291, 'hysterical': 4703, 'dysfunctional': 3622, 'ammo': 2040, 'step__': 7398, 'america_': 2034, 'shoot': 7090, 'pickup': 6111, 'crowding_': 3207, 'contamination_': 3055, 'strain': 7467, '_google': 853, 'build': 2569, 'savvy_': 6911, 'joining': 4990, 'uae': 7993, 'contain': 3052, 'considering': 3025, 'well_being': 8290, 'mall': 5324, 'gym_': 4444, 'amusement': 2047, 'lulu': 5274, 'operating': 5856, 'routine_': 6812, 'given': 4320, 'fic': 4016, 'postponed': 6227, 'til': 7791, '17': 35, '18': 39, 'nov': 5741, 'meeting': 5427, 'provoking': 6402, 'examining': 3849, 'experienced': 3885, 'epidemic': 3781, 'likely': 5171, 'forward': 4164, 'stuck': 7495, 'indoors': 4821, 'decided': 3306, 'wasnt': 8234, 'necessary': 5643, '_sarahhollenbeck': 1443, '_myclearwater': 1179, '_abcactionnews': 300, 'kept': 5020, '_boomers': 434, 'flights_': 4085, 'infect': 4828, 'meanwhile': 5407, 'hunkered': 4685, '_socialdista': 1511, '_massgovernor': 1115, 'announces': 2070, '_10m': 222, 'fund': 4248, 'administered': 1905, '_massgcc': 1114, '_75k': 246, 'ma_based': 5288, 'businesses_': 2592, 'including': 4795, 'nonprofits_': 5713, '_lt': 1083, '50': 142, 'full_': 4241, 'part_time': 6000, '_covid19_': 610, '_mabiz': 1087, 'release': 6609, 'pasta_': 6014, 'sauce': 6899, 'pizza': 6135, 'dallas': 3260, 'become': 2369, 'italian': 4950, 'grandmas_': 4383, '_dallas': 668, 'fear': 3987, 'killer': 5028, 'pres_': 6284, 'private': 6336, 'sector': 6970, 'access': 1853, 'turn': 7973, 'cnn_': 2897, 'resist': 6683, 'herd': 4560, 'mentality_': 5439, '_coronaviruspandemic': 591, 'hea_th': 4514, 'march_': 5351, 'fulfill': 4239, 'return': 6734, 'hours_': 4652, '_drsanjaygupta': 730, '_johnberman': 1005, '_newday': 1196, 'touted': 7867, 'really_': 6532, 'no': 5699, 'critical': 3199, 'avail_': 2233, '_socialdistancing_': 1514, 'arena_': 2149, '_coronavir': 568, 'multiple': 5595, 'citizens_': 2824, 'warning': 8225, 'late_': 5090, '_coronavirusupdates': 600, 'latest': 5095, 'extent': 3912, 'auto': 2229, 'transportation_': 7909, 'travel_': 7913, 'banking': 2314, 'investing_': 4906, 'useful': 8096, 'article': 2164, 'sane': 6875, 'happy_': 4488, 'escalated': 3789, 'impending': 4761, 'lockdown_': 5225, 'ministry': 5492, 'domestic': 3533, 'trade': 7883, 'warned': 8224, 'fake': 3943, 'farhan': 3960, 'yusoff': 8467, '_buying': 466, 'increasingly': 4807, 'becoming': 2371, 'chaotic_': 2756, 'animalistic': 2064, 'kicked': 5022, 'starting': 7369, '_cct320': 480, 'foraging': 4138, 'saffron': 6851, 'flapjack_': 4074, 'nose': 5727, 'drink': 3583, 'writer': 8416, 'usual': 8101, 'say_': 6915, 'recipe': 6550, '_manchestereveningnose': 1099, '_saffronflapjack': 1431, '_panicforage': 1284, '_panicforaging': 1285, 'regarding': 6587, 'occoquan_': 5779, '_mandrilltoys': 1100, 'pregnant': 6271, 'date_': 3278, 'frequently_': 4200, 'away': 2247, 'coughing_': 3116, 'common_sense': 2957, 'ways_': 8249, '_drguptamd_': 722, 'chief': 2790, 'officer_': 5799, 'fee': 3999, 'online__gt': 5838, 'rainbow_': 6481, 'boost': 2479, '_immunesystem': 954, 'medicine': 5420, '_immunesupport': 953, 'fridge': 4205, 'pantry': 5978, '_food': 810, '_foodshortage': 818, '_foodsecurity': 817, '_stockpile': 1559, '_markhoplamazian': 1109, '3_13_20': 114, 'sad_': 6841, 'hotel': 4647, 'vendor': 8125, 'associated': 2193, '_marchmadness': 1103, 'consumer_': 3037, 'room': 6804, 'costing': 3110, '_2_230_58': 232, 'nights_': 5694, 'willing': 8342, '10_000': 14, 'hyatt': 4694, 'gone': 4346, '_in': 957, 'usa': 8090, 'france_': 4174, 'u_k_': 7990, '_fashions': 784, 'collapse': 2915, '_travel_': 1684, '_stockmarkets_': 1558, '_economic': 748, 'slipping': 7189, '_governments': 855, '_businesses': 463, '_covid_19_': 635, '_ulta': 1712, 'shuts': 7129, 'in__store': 4782, '_services': 1472, 'the': 7724, 'pilers': 6120, 'drop': 3594, 'every': 3828, 'fucking': 4234, 'bog': 2466, 'roll': 6793, 'toilet_': 7834, 'off_': 5791, 'eat': 3643, 'worse': 8404, 'pricks_': 6317, '_canada_': 470, '_meat': 1129, 'section': 6968, '_herionlines': 899, 'infection_': 4831, 'contact_': 3046, 'heri': 4563, 'ensures': 3761, 'safest': 6848, 'space': 7290, 'shall': 7048, 'ransacked_': 6489, 'craziness': 3174, '_retailworkers': 1401, 'schooler_': 6946, 'btw': 2562, 'infrastructure': 4849, 'sudden_': 7517, 'nice': 5684, 'pay': 6029, 'reflected': 6575, 'risk_': 6775, 'socialise': 7243, '1000_person': 7, 'survey': 7591, 'guard': 4423, 'placing': 6143, 'military': 5470, 'raided_': 6478, 'needing': 5653, 'work_': 8380, 'driver': 3591, 'banning': 2318, 'dinning': 3444, '1_2': 53, 'shame': 7049, '_news4buffalo': 1200, '_chrishorvatits4': 498, 'leading': 5116, 'lead': 5112, 'heavily': 4534, 'implied': 4764, 'interaction': 4882, '_dtc': 734, 'looking': 5244, 'toward': 7868, 'brick': 2538, 'mortar': 5563, '_stores': 1576, 'facilitate': 3934, 'growth_': 4417, 'changing': 2751, '_news1130': 1198, 'question': 6448, 'have_': 4507, 'happens': 4485, 'classic': 2843, 'wheels_': 8306, 'big': 2418, 'meal': 5397, 'mcdonalds': 5389, 'r30': 6465, 'ubereats': 7995, 'promo': 6370, 'code': 2903, 'bigmacza_': 2422, 't_amp': 7632, 'apply_': 2126, 'hyvee': 4704, 'hyvee_': 4705, 'sunday_': 7543, '15_': 31, '2020_': 68, 'blue': 2456, 'springs_': 7343, 'missouri_': 5511, 'develops': 3400, 'begin': 2381, 'obtaining': 5775, 'needs_': 5654, '_asda': 368, '_tesco': 1623, '_morrisons': 1164, '_sainsburys': 1433, 'minimum': 5489, 'basket': 2343, '40': 126, 'forgot': 4152, 'people_': 6049, 'wish': 8361, 'physic': 6100, 'predicted': 6266, 'sanitizer': 6883, 'real_': 6521, 'air': 1966, 'iraqi': 4921, 'dealing': 3295, 'greatest': 4395, 'governance': 4366, 'challenge': 2742, '2014': 63, 'invasion_': 4902, '_middleeasteye': 1143, '_dcislamabad': 678, 'd_watson': 3254, 'f10_': 3921, 'bill_receipt_': 2425, '_coronavirusinpakistan': 582, 'now___': 5745, 'florida': 4091, '_toiletpaper_': 1654, 'door': 3545, 'medical_': 5416, 'hospital': 4639, 'along': 2004, 'pizza_': 6136, 'seem': 6979, 'fate': 3973, 'announced': 2068, '_mna': 1150, 'jeopardy': 4972, 'fluctuate': 4097, 'encouraged': 3734, 'gathering_': 4286, '_airenangel_10': 320, 'madam': 5296, 'baka': 2295, 'di': 3406, 'nyo': 5764, 'naranasan': 5623, 'ang': 2056, '_no': 1213, 'pay_': 6030, 'isang': 4931, 'kahig': 5009, 'tuka_': 7965, 'realizing': 6530, 'country___': 3131, 'thread': 7763, 'centred': 2730, 'aggressive': 1948, 'behaviour': 2387, 'australia_': 2224, 'thrilled': 7770, 'war': 8218, 'threat_': 7766, 'true': 7946, 'emerge': 3712, 'stress': 7476, 'failing': 3938, 'lax': 5107, 'worry_': 8402, 'shop___': 7095, 'fruit': 4223, 'veg': 8119, 'hell': 4543, 'eat__': 3645, 'cheese': 2781, 'coffee_': 2906, 'participating': 6002, 'era': 3787, 'lean_': 5117, 'difficult': 3430, 'accommodate': 1856, 'huge': 4669, 'discrete': 3474, 'strong_': 7488, '_nytimes': 1234, 'unprecedented': 8053, 'retailers_': 6731, 'opting': 5869, 'indefinitely': 4810, 'novel': 5742, 'us_others': 8089, 'walmart': 8211, 'fl': 4071, 'agriculture': 1958, 'commissioner': 2949, 'dept': 3376, 'svcs': 7610, 'theyve': 7740, 'activated': 1879, 'summer': 7538, 'breakspot': 2532, 'closures_': 2885, 'afternoon_': 1937, 'bet': 2409, 'learn': 5118, 'drink_': 3584, 'beauty_': 2368, 'wellness': 8292, 'reacting': 6510, 'coz': 3160, 'danger': 3266, 'neighbouring': 5662, 'kenya': 5019, 'requesting': 6664, 'orphanage': 5896, 'tonight': 7849, 'cases_': 2685, 'tonight_': 7850, '_french': 829, 'president': 6290, 'emmanuel': 3716, 'macron': 5294, 'imposed': 4772, 'two_week': 7984, 'declaring': 3311, 'municipal': 5601, 'elections__citizens': 3695, 'allowed': 1996, 'pharmacy_': 6092, 'fraud': 4181, 'attempts_': 2215, 'information': 4844, 'commission_': 2948, 'religious': 6619, 'anything_': 2095, 'finding': 4043, 'children_': 2794, 'clearing': 2859, 'shelf': 7063, 'kill': 5025, 'winning': 8351, 'games_': 4270, 'vulnerable': 8181, '200': 61, 'trendies': 7924, 'costco': 3109, 'multiply': 5596, 'megachurch': 5429, 'zombie': 8478, 'die_': 3418, 'mountain': 5573, 'members_': 5434, 'financially': 4040, '_mountainamericacu': 1170, 'unique': 8040, 'mpe': 5583, 'prepared': 6280, 'reliable': 6611, 'electric': 3696, 'measures_': 5410, 'binge': 2428, 'dream': 3580, 'reid': 6597, 'overstate': 5930, 'enjoy': 3752, 'everyday': 3832, '11am': 20, '11pm': 21, 'millennials': 5477, 'generation': 4296, 'personal___': 6073, 'allow': 1995, 'change': 2747, 'normal': 5719, 'beyond': 2415, 'disappointed': 3463, 'humanity_': 4677, 'think_': 7750, '_the': 1631, 'planning': 6152, 'insurance__': 4875, '_stayinformed': 1546, '_stayconnected': 1540, '_nailba2020': 1182, '_no_silenced': 1214, 'hello': 4547, 'brother': 2555, 'sister': 7163, 'connect': 3016, 'mainly': 5307, 'place': 6138, 'drc': 3579, 'congo': 3013, 'devastating': 3398, 'effect': 3673, 'depression_': 3375, '_zakat': 1820, 'yelled': 8444, 'yucky': 8466, 'garlic': 4279, 'australian': 2225, 'garlic_': 4280, 'soo___': 7267, 'xenophobe': 8432, 'commerce': 2945, 'started': 7366, 'use_': 8094, 'level': 5146, 'disappear': 3460, 'cursing': 3240, 'government_': 4368, 'northgate': 5725, 'allowing': 1997, '___gt': 273, 'dying': 3621, 'alone': 2002, 'deserve': 3383, 'nation': 5627, 'shit_': 7081, 'live_': 5203, 'else': 3704, 'daves': 3282, 'bread___': 2525, '_bread': 447, '_stockup': 1562, '_davesbread': 675, 'korea': 5055, '8200__': 199, '550__': 147, 'malaysia_____empty': 5321, 'there_': 7735, 'limiting': 5176, 'necessity': 5647, 'market_': 5358, '__amazon': 276, 'giant': 4312, 'adding': 1894, '100_000': 9, 'full_time': 4242, '_cannabisindustry': 473, 'importantly': 4769, 'prioritizing': 6330, 'marijuana': 5354, 'grab': 4377, '_convid19': 547, 'courier': 3137, '_amazonin': 341, '_flipkart': 805, 'vast': 8117, 'flights_trains': 4086, 'handled': 4473, 'carriers__': 2677, 'hiking': 4585, 'cashing': 2691, 'ebay': 3650, 'etc__i': 3808, 'together__': 7831, 'ridiculous': 6759, 'impacting': 4760, 'chain_': 2740, 'trade_': 7884, 'workforce': 8389, '_pwc': 1344, 'barely': 2325, 'is_': 4929, 'troubling': 7940, 'tracking': 7882, 'industry': 4823, 'step': 7397, 'way_': 8248, 'blog': 2452, 'tuned': 7968, 'wednesday_': 8268, 'friday_': 4204, 'alert': 1986, 'bogus': 2469, '_amazon': 338, 'u_s_': 7992, 'crush': 3213, 'pm': 6178, 'assures': 2199, '_stopthespread': 1574, '_research': 1386, 'shown': 7125, 'faster': 3970, 'moved': 5577, 'designed': 3386, 'slow': 7192, 'disease_': 3480, 'saved__': 6907, '_npr': 1223, 'amazes': 2026, 'me___i': 5394, 'facemask_': 3931, 'catching': 2701, '_covid2019_': 631, 'proper': 6378, '_letspanic': 1055, 'scarcity': 6926, 'resources_': 6688, 'buggy_': 2568, 'demolished_': 3361, 'reading_': 6515, 'hopefully': 4631, 'locally': 5220, 'course': 3139, 'survive_': 7597, 'strong': 7487, '_supermarkets': 1587, 'san': 6873, 'francsisco': 4177, 'mayor': 5387, 'london': 5235, 'announce': 2066, 'april': 2139, 'midnight': 5462, 'tuesday': 7963, 'plunging': 6175, 'drove': 3600, 'two_year': 7985, 'according': 1859, '_morningconsult': 1161, 'apple': 2124, '27th_': 86, 'reopened': 6649, '42': 130, 'greater': 4394, 'grown': 4415, 'woman_': 8370, 'highest': 4579, 'colorado_______and': 2930, 'off____my': 5792, 'hours___so': 4654, 'loving': 5263, 'quiet': 6460, 'tube': 7962, 'terrible': 7700, 'fantastic': 3955, '2_50': 91, 'ticket_': 7786, '_owhealth': 1273, 'turmoil': 7972, 'formation': 4154, 'deeper': 3321, 'society': 7247, 'large': 5083, 'welfare': 8286, 'odisha': 5786, 'effective': 3677, 'protective': 6387, 'state_': 7378, '_odisha': 1244, '_odishanews': 1245, '_ommcomnews': 1252, 'oregon': 5886, 'gov_': 4363, 'kate': 5013, 'brown': 2558, 'monday': 5531, 'afternoon': 1936, 'on_site': 5824, 'dining': 3441, 'takeout': 7647, '_europe': 770, 'muppets': 5602, 'again_': 1940, '_yorkshire': 1814, '_uk': 1706, 'anthony': 2079, 'fauci': 3975, 'perceive': 6053, 'inconvenient': 4801, 'far_': 3958, 'reflect': 6574, 'deteriorating': 3397, 'assessment': 2187, 'containment': 3053, 'seriously_': 7025, '_it': 980, 'overreaction': 5928, 'disease': 3479, 'control': 3069, 'recommended': 6554, 'cancel': 2634, 'postpone': 6226, 'eight': 3686, 'issued': 4947, '_iran_prisoners': 974, 'released': 6610, 'view': 8141, '_coronavirus_in': 572, '_italy': 981, 'created': 3182, 'nuisance': 5750, 'burnt': 2585, 'prison': 6333, 'cell': 2722, 'suspect': 7601, 'prison_whereas': 6334, '_india_prisoners': 960, 'face': 3925, 'extremely': 3918, 'prices_': 6313, '_bharat': 416, 'page_': 5951, 'dhs': 3405, 'ndia': 5637, 'updates_': 8076, 'rule': 6818, 'changes_': 2750, 'surveyed': 7592, 'lives_': 5207, '_karenmpd': 1015, 'arent': 2150, 'losing': 5253, 'income_': 4798, 'homes_': 4621, 'bailing': 2291, 'times__': 7802, '_coronavirus_just': 573, 'virtue': 8157, 'oncoming': 5827, 'excessive': 3856, 'maximizing': 5382, 'self_check': 6988, 'exposure_': 3908, '_makro': 1095, '_selfquarantine': 1462, 'suggests': 7531, '90_': 206, 'medication_': 5419, 'birth': 2430, 'shaky': 7047, 'ground': 4409, 'hear': 4527, '_shellykhagan': 1478, 'listen': 5193, 'absolute': 1838, 'chaos_': 2755, 'hardly': 4491, 'paracetamol_': 5986, 'tills_': 7793, 'snuff': 7229, 'haunt': 4506, 'quick': 6456, 'question_': 6449, 'homeless_': 4619, 'answer': 2075, 'cant_': 2643, 'meals_': 5399, 'limited': 5175, 'services_': 7029, 'homeless': 4618, 'seriously': 7024, 'hungry': 4682, 'school_': 6945, 'denying': 3365, 'condition': 2998, 'isolate': 4936, 'homecare': 4617, 'postal': 6223, 'throughout': 7775, 'forefront': 4145, '_oliverscampaign': 1249, 'type': 7987, 'piling': 6121, 'stopped_': 7444, 'loo': 5241, 'walk_': 8202, 'knitting': 5048, 'online___': 5837, 'moms__': 5529, 'watching': 8241, 'movies_': 5579, 'playing': 6161, 'outside_': 5915, 'pile': 6118, 'weeks__': 8277, 'homeschool': 4622, 'curriculum__': 3239, 'doing___': 3531, '_covid19ireland': 617, 'monitored': 5542, 'draconian': 3571, '_igetit': 944, '_staythefhome': 1550, '_selfisolation': 1460, 'scene': 6936, 'finland': 4050, '_group_': 873, 'ron': 6801, '95': 209, 'diesel': 3422, 'teksi': 7682, 'hailing': 4454, 'combat': 2931, '_psucreamery': 1339, 'notice_': 5738, 'evolving': 3842, 'rapidly_': 6493, 'reopen': 6648, 'date': 3277, 'uncertain': 8014, 'creamery': 3179, 'sell': 7001, 'wholesale': 8327, '_jeremy_hunt': 998, 'intervention': 4895, 'helping_': 4555, 'disagree': 3458, 'strategy': 7470, 'campaign': 2626, 'frightened_': 4213, 'fears_': 3994, '_energytwitter': 764, 'fall': 3945, 'energy': 3743, 'natural': 5631, 'gas': 4281, 'production': 6354, 'drop_': 3595, 'crushing': 3214, 'coal': 2900, 'or_': 5874, 'production_': 6355, 'shift': 7074, 'power_': 6238, 'welcome_': 8284, '_stophoarding': 1566, 'officer': 5798, 'alan': 1975, 'jones': 4995, 'radio': 6475, 'silly': 7147, 'perhaps_': 6061, 'exactly': 3846, 'that_': 7722, 'inconsistency': 4799, 'gobsmacking': 4336, 'journal': 4996, '30am': 104, 'paraphrase': 5989, 'simpson': 7153, 'clothier': 2889, '_landsend': 1045, '29th': 87, 'period_': 6063, 'hunt': 4686, 'valley': 8109, 'towne': 7874, 'center_': 2726, '_huntvalley': 930, 'trading': 7887, 'settlement': 7034, 'pse_sccp': 6407, 'tomorrow_': 7844, '17_': 36, 'enhanced': 3751, 'luzon_': 5281, '_coronavirussa': 593, 'lvmh': 5283, 'converting': 3076, 'perfume': 6059, 'ikea': 4732, 'ecommerce': 3655, 'crowd': 3204, 'ulta': 8006, '_ecommerce': 747, '_coronapocalypse': 563, 'quarantined': 6443, '14': 27, 'dubai': 3605, 'hospital_': 4640, 'safety_': 6850, 'e_learning': 3626, 'classes_': 2841, 'frustating_': 4226, 'insure': 4876, 'post': 6219, 'trellis': 7921, 'room_': 6805, 'closure': 2883, 'mon_mar_23rd_': 5530, 'wine': 8348, 'contacted': 3047, 'paypal': 6036, 'beemit': 2378, 'addiction': 1893, 'wherever': 8313, 'compassion': 2970, 'tissue': 7813, '_coronaoutbreak': 562, '_falsepanic': 782, '_worldshutdown': 1796, 'talked': 7653, 'employees_': 3723, '_foodsafety': 816, 'immunocompromised': 4752, 'opt': 5866, 'pre_packaging': 6258, 'vegetables_': 8121, '_download': 718, '_applications': 360, 'smartphones': 7205, 'easier': 3637, 'recover': 6559, '_find': 800, 'secure': 6972, 'cattle': 2705, 'sheep': 7061, 'plates_': 6158, 'shared': 7057, 'available_': 2236, 'reach': 6506, 'together': 7829, 'smart__': 7204, 'infected': 4829, 'smart': 7203, '_ignoranthumans': 945, 'lil': 5172, 'math': 5378, 'we_': 8252, '_krogersupport': 1038, '_walmarthelp': 1751, '_woodmansfood': 1787, '_milwaukee': 1146, '_highriskcovid19': 902, 'alibabas': 1988, 'beijing': 2391, 'faring': 3961, 'china_': 2798, '_selinawangtv': 1463, 'manager': 5332, 'mypov': 5609, 'chatter': 2767, 'background': 2274, 'lock': 5223, '2_weeks_': 94, 'true_': 7947, 'do_': 3519, 'cash_': 2687, 'preppers': 6282, 'wks': 8365, 'peak': 6039, '_sarscov2': 1444, 'homebound': 4615, 'cramped': 3165, 'conditions_': 2999, 'workstation': 8394, 'guy': 4441, 'stride_': 7483, 'panicking': 5974, 'generally': 4294, 'enjoying': 3753, 'self_isolation_': 6994, '_mainecoon': 1091, '_supermarket': 1585, 'groats_': 4403, 'remained': 6624, '_blrcitypolice': 428, 'address': 1897, 'issue': 4944, 'registered': 6592, 'multi_specialty': 5594, 'clinic': 2871, 'mis_selling': 5502, '_bengaluru': 407, 'plenty': 6169, 'alarmed': 1977, '_grocery': 868, 'shelves_': 7069, 'insist': 4863, 'bulk': 2573, 'excessively_': 3858, 'ministry_': 5493, 'importantly_': 4770, 'texas': 7712, 'hotline_': 4649, '682': 167, '236_7601': 78, 'spoken': 7323, 'nurse': 5753, 'questions_': 6452, 'prevention': 6304, 'better': 2410, 'cure_': 3230, 'beat': 2365, 'frequently': 4199, 'soap': 7236, 'wear': 8258, 'cloth': 2886, 'cover': 3142, 'mouth': 5575, 'crowded': 3205, 'meter': 5453, 'homemade': 4620, 'kroger': 5060, 'recovering_': 6560, 'employed': 3721, 'soopers': 7273, 'colorado_': 2928, 'fred': 4188, 'meyer_': 5455, '_jack': 988, '_cdcgov': 482, 'box': 2502, 'rule_suggestion_': 6820, 'store____': 7450, '_blakkrasta': 425, 'pls': 6172, 'pharmacist': 6089, 'cruel': 3211, '_africanhistoryclass': 315, '_taxidrivershow': 1608, '_taxijam': 1609, '_blackpot': 424, '_the_evangelist3': 1632, '_gumahdok': 876, '_teejay63': 1615, '_borbor_sly': 436, '_rastakwadzo': 1366, '_eugenpeprah': 768, '_bukari_ba': 460, 'id': 4712, 'sales_': 6866, '50_': 145, '_tweeter4trump1': 1699, '_deus_rock': 691, '_angelaorme3': 349, '_capone20201': 474, '_teetrumpette': 1616, '_ks_jhawk': 1039, '_gayrepublicswag': 839, 'willfully': 8341, 'ignorant': 4727, 'deliberately': 3337, 'blind_': 2447, 'accurate': 1866, '45_': 135, 'lies_': 5156, 'despite': 3391, 'opec_': 5844, 'affect': 1921, '_oil': 1247, 'sharp': 7060, 'shock_': 7084, 'startof': 7370, 'prolonged': 6369, 'period': 6062, 'lower': 5267, '_refinitiv': 1379, 'ehsan': 3684, 'ul_haq': 8005, 'roger': 6790, 'hirst_': 4591, 'freaked': 4184, 'nervous': 5665, 'too_': 7852, 'remember___this': 6629, 'measure': 5408, 'stick': 7407, 'figures_': 4023, 'voice': 8171, 'spending': 7314, 'confidence_': 3004, 'asset': 2188, 'perspective': 6078, 'react': 6509, 'adobeexpcloud': 1907, 'surged': 7576, '800__': 197, '_roguesnradvisor': 1419, 'defund': 3328, 'border': 2483, '_10bil': 220, 'loans_': 5217, 'mortgages_': 5564, 'expenses_': 3881, 'treatments_': 7920, '_sta': 1533, 'footing_': 4136, 'follow': 4111, 'crashing_': 3170, 'bothered': 2491, 'washing_': 8232, 'supply_': 7562, 'fuck': 4230, 'looting': 5248, 'shooting_': 7092, 'inflation': 4838, 'consumption': 3043, 'fold': 4108, 'growing': 4414, 'uncertainty': 8015, 'triggered': 7932, 'alike_': 1989, 'restocking': 6710, 'reduced': 6567, 'restock': 6708, 'sanitize': 6881, 'h_amp': 4445, 'billion': 2426, '_boltgrrl': 431, 'a_': 1823, 'referring': 6572, 'to_': 7820, 'b_': 2264, 'downturn': 3565, 'activity': 1884, 'd_t': 3253, 'dispute_': 3497, 'dow': 3558, 'thought_': 7761, 'hygienic': 4697, 'storing': 7462, 'nan': 5619, 'bright': 2540, 'spot_': 7331, 'spared': 7293, 'severe': 7037, 'wow': 8412, 'open_': 5846, 'barely_': 2326, 'standing': 7360, 'child_': 2792, 'hey_': 4566, 'keeping': 5017, 'lady_': 5075, 'assholes_': 2189, 'vile_': 8147, '_rossstores1': 1421, '_marshalls': 1110, 'renton': 6647, 'non_essential': 5707, 'opens_these': 5854, 'hub': 4668, 'york': 8452, 'ap': 2102, 'produce': 6349, 'college': 2922, 'morning_': 5559, '_toronto': 1669, '_newzealand': 1204, 'canada': 2631, 'surging_': 7580, 'previously': 6308, 'rerouted': 6669, 'canada_': 2632, '48_': 137, '_supplies': 1594, '_virus': 1739, '_fear': 789, '_spreads': 1530, 'elizabeth': 3702, 'warren_': 8227, 'target_': 7661, 'returns_': 6737, 'pharma': 6086, 'language': 5080, 'preventing': 6303, 'future': 4257, 'vaccines_': 8107, 'drug': 3601, 'funding': 4251, 'wins_': 8352, 'father': 3974, 'restriction_': 6716, 'bank_': 2313, 'station_': 7385, 'hang': 4478, 'del': 3333, 'taco': 7639, 'friends_': 4209, 'diligent': 3438, 'appreciative': 2134, 'after_': 1935, 'sanitized': 6882, 'minimise': 5487, 'deadly': 3293, 'large_': 5084, 'portable': 6208, 'sanitizers_': 6886, '_makabayimercie': 1092, '_tmcgltd': 1649, '_priscilla_atim': 1333, '_spartakussug': 1526, '_hopefortunate': 914, '_davisthedoc': 676, '_drjohnmark_b': 728, '_akorapriscilla': 323, '_osbertmwijukye': 1264, '_sandrabwengye': 1435, '_minofhealthug': 1147, '_mondaymotivation': 1155, '_wallstreet': 1749, 'appreciation': 2133, 'term': 7698, 'driven': 3590, 'tax': 7665, 'funded': 4250, 'planet': 6149, 'shore': 7109, 'accounts_': 1863, 'raw': 6502, 'prognosis': 6364, 'sitting': 7168, 'internet': 4892, 'traffic': 7890, 'earn': 3633, 'raise': 6482, 'power_up': 6239, 'remote': 6635, 'workflow': 8388, 'bitcoin': 2433, 'falling': 3946, 'technology': 7680, '_todayshow': 1651, 'reporter': 6659, 'vicky': 8136, 'ngyuen': 5683, 'qualified': 6440, 'anywhere_': 2101, '_justsayin': 1012, '_pmoindia': 1319, '_narendramodi_request': 1185, 'bring': 2543, 'agncy': 1950, 'action': 1876, 'gt': 4419, 'hold': 4608, 'tkng': 7816, 'advntge': 1919, 'mrp': 5585, '50_amp': 146, '400_': 127, 'suffer': 7518, 'town': 7872, 'trip': 7934, 'waste_': 8236, 'speechless_': 7308, 'heading': 4518, 'purpose': 6427, '_ebay_uk': 745, 'ashamed': 2172, 'yourself_': 8462, 'though_': 7759, 'flocking': 4088, 'shouldnt': 7120, 'hazard': 4511, 'survived': 7598, '_supremecourt': 1600, 'atleast': 2208, 'carry': 2679, 'mask_': 5368, 'chant': 2753, 'corona_': 3094, 'go_': 4334, 'huh_': 4671, '_aetna': 309, 'broad': 2549, 'plans_': 6153, 'industry_': 4824, 'communication': 2960, 'whose': 8329, 'belong': 2396, 'queue': 6454, '_bushey': 461, 'jersey': 4974, 'phil': 6094, 'murphy': 5604, 'except': 3853, 'take_out': 7644, 'smlr': 7212, 'ashley': 2174, 'conway': 3078, '_njbiz': 1211, 'ahead': 1960, '_coronavirusnj': 584, '_njcoronavirus': 1212, 'wave': 8245, 'bulk_': 2574, 'donate': 3535, 'behind_': 2390, 'thread_': 7764, 'asked': 2180, 'recently': 6547, '_pressrelease': 1326, 'detailed': 3394, 'wallet': 8209, '_abidsuleri': 301, '_shiffa_zy': 1481, 'shanghai': 7052, 'worsening': 8405, 'circumstances_': 2822, 'spring': 7342, 'bargain': 2327, 'sale': 6864, 'season': 6959, 'china_nobody': 2799, 'come_sad_': 2934, 'apeshit': 2106, 'defined': 3326, 'easy': 3641, 'engagement_': 3748, 'course_': 3140, 'sick_': 7134, 'seek': 6978, 'attention_': 2218, 'ihss': 4730, '_ihss': 946, '_sanfrancisco': 1437, '_amzn': 347, 'strained': 7468, 'mask': 5367, 'highly': 4581, 'cost': 3107, 'rs_': 6814, 'kindly': 5035, 'variety': 8115, 'earth_': 3635, 'request': 6662, '_cmopb': 518, 'punjab_': 6422, '_coronavirusoutbreaks': 590, 'practice': 6245, 'occupation': 5781, 'monitor': 5541, 'required': 6666, 'assist': 2190, 'unknowingly': 8044, 'gripping': 4402, 'sainsbury': 6857, 'tesco': 7703, 'approaching': 2136, 'doomsday': 3544, 'fast___': 3968, '_coronavirusnz': 587, '_chch': 486, 'privileged': 6337, 'places_': 6142, 'transport': 7906, 'shops_': 7107, '2_2': 90, '_melbourne': 1134, 'grandma': 4382, 'hospital___': 4642, 'gloves_': 4331, 'gouging': 4360, 'gabon_': 4261, 'pangolin': 5962, 'falter': 3947, 'affected_': 1923, 'vigilant': 8143, 'proactive_': 6338, 'au': 2221, 'ventes': 8126, 'de': 3290, 'flanchent': 4073, 'avec': 2238, 'le': 5111, 'greed': 4396, 'death': 3298, 'swept': 7617, 'rich': 6750, 'sustain': 7608, 'bare': 2323, 'poor_': 6196, 'refrain': 6578, 'unnecessarily': 8051, 'bulks_': 2576, 'message': 5449, 'isb': 4932, 'continuity': 3062, 'partners_': 6006, 'clients_': 2869, 'reporting': 6660, 'agency': 1944, 'cognizant': 2907, 'ever': 3826, 'rely': 6621, 'verified': 8128, 'data': 3275, 'identity': 4719, 'remote_': 6636, 'nyt': 5765, 'yes_no': 8447, 'year_': 8439, 'pretty_': 6299, '_nytopinion': 1236, '_mcdonalds': 1125, '_subway': 1581, '_chickfila': 492, '_crackerbarrel': 644, '_outback': 1269, '_cheesecake': 488, 'hint': 4588, '_ryan_holdaway': 1427, '_harrysteindc': 886, 'felt': 4012, 'chains_': 2741, 'severely': 7038, 'debit_credit_store': 3302, 'problem': 6341, 'touching': 7863, 'packaging': 5943, 'touched': 7862, 'age': 1942, '_pittsburgh': 1313, '_icelandfoods': 937, 'lifeline': 5159, 'finished': 4049, 'nursing': 5756, 'empty__': 3727, 'role': 6791, 'wildlife': 8339, 'scrutiny_': 6955, 'pushing': 6431, 'brink': 2546, 'extinction': 3913, 'animal': 2063, 'endangered': 3739, 'species_': 7304, 'prc': 6255, 'principal': 6323, '1_4': 55, '_quarantine': 1347, '_elderly': 758, '_cnnhealth': 522, '_bbchealth': 396, '7_14': 188, 'homebound_': 4616, 'old_': 5815, 'alone_': 2003, 'help_': 4550, 'we_govt_': 8253, 'modeling': 5522, 'stealth': 7393, 'sars_cov2': 6895, 'contagious_': 3051, 'undocumented': 8027, 'supported': 7567, 'geographic': 4301, 'harder': 4490, '_stopstockpiling_': 1571, 'waiting': 8191, 'los': 5251, 'angeles': 2057, 'rainbow': 6480, 'hope_': 4630, '_rainbow': 1359, 'bakkt': 2300, 'marching': 5352, 'launch': 5101, 'app_': 2113, '_300m': 236, 'series': 7021, 'coffee': 2905, 'entertainment': 3769, 'non': 5706, 'field': 4017, 'veterinarian': 8131, 'mailing': 5305, 'ups': 8078, 'gratitude': 4391, 'helping': 4554, 'lines_': 5180, 'healthcare': 4522, 'police_': 6185, 'fire': 4052, 'fighters_': 4019, 'emts_': 3731, 'ou': 5903, '_rmantri': 1412, 'yeah_': 8437, 'economy': 3661, 'shape_': 7054, 'fudging': 4237, 'hide': 4572, 'degrowrth_': 3331, 'correlated': 3105, 'crude': 3210, 'kashmir': 5012, 'elsewhere_': 3707, 'and_': 2051, 'responding': 6696, 'covid_1': 3151, 'contagion_': 3049, 'stimulate': 7411, 'foresee': 4146, 'maxing': 5384, 'intention': 4881, 'paying': 6033, 'card': 2661, '_federalreserve_people': 791, 'stretching': 7481, '_economics': 749, '_finance': 799, '_ivankatrump': 986, 'kind_': 5032, 'hysteria_': 4702, 'livelihood': 5206, '_nomoreclosings': 1217, '_stopthepanic': 1573, '_stoppanicbuyin': 1567, 'stir': 7414, 'practicing': 6247, 'sweep_': 7613, '_lesdoggg': 1053, '_lockedupwithatoddler': 1071, 'nightmare_': 5693, 'ask__': 2179, 'putting': 6433, '_us': 1720, 'ammunition': 2042, 'soar': 7238, 'knives_': 5049, '_toiletpaperpanic': 1659, '_gunsandammo': 877, 'chaos': 2754, 'ensued': 3758, 'indian': 4814, 'sf': 7041, 'bay': 2353, 'area_': 2148, 'friday': 4203, '_bayareacoronavirus': 394, '_bbcbreakfast': 395, 'option_': 5871, 'accepting': 1852, 'order_': 5878, 'checking': 2775, 'store___': 7449, 'hon_': 4624, 'back___and': 2273, 'bag': 2285, 'produce_': 6350, '_bettersafethansorry': 413, 'drama': 3575, 'epicenter': 3780, 'seattle': 6963, '_fredmeyerstores': 826, 'note': 5731, 'shelter': 7066, 'bingo____will': 2429, 'not___covid_19uk': 5729, '_headache': 890, '_itsmainakageni': 984, 'total': 7859, 'starve': 7372, 'die': 3417, 'fellow': 4011, 'human': 4673, 'okay_': 5813, 'piling_': 6122, 's_l1jhx4wml': 6834, 'primark': 6319, 'kingfisher': 5040, 'europe': 3813, 'dinner': 3442, 'till': 7792, 'month_': 5547, 'friendly': 4208, 'picky': 6113, 'eater': 3647, 'approved_': 2137, '_mealplan': 1127, '_mealprep': 1128, '_howtokeeppeoplehome': 924, '_schoolclosure': 1450, '_delivery': 682, '_templetonf': 1619, '_rnzconcert': 1413, 'feel_': 4007, 'saver': 6909, 'listening': 5194, 'weekly': 8275, 'quite': 6463, 'surreal': 7587, 'risking': 6777, 'infection___': 4832, 'stockpile': 7431, 'incase': 4789, 'contract': 3063, 'what_': 8302, 'enough_': 3756, 'fuck_': 4231, '_stockpiling': 1560, 'items_': 4954, 'away_': 2248, 'dollar': 3532, 'bodegas_': 2464, '7_11_': 187, 'friends_neighbors_': 4210, 'recent': 6546, 'affected': 1922, 'biz_': 2437, '_techpals_uk': 1614, '_smallbiz': 1501, 'howard': 4662, 'meat': 5411, 'chicken_': 2789, 'rapidly': 6492, 'globally_': 4328, 'actions_': 1878, 'prep': 6276, 'prep_': 6277, 'ready_': 6517, '_supplychainmanagement': 1597, '_smart': 1502, 'device': 3402, 'ordering_': 5882, '_kuwait': 1043, '_online': 1255, '_sites': 1495, 'finger': 4046, 'tips_': 7809, 'trust': 7950, 'kuwait': 5064, 'law': 5106, '_thankingkuwaitcorona': 1628, 'tempting': 7694, 'boredom': 2486, 'bum': 2580, 'no_': 5700, 'nope_': 5717, 'fmi': 4102, 'foodborne_': 4129, 'sparked': 7295, 'association': 2194, 'stressing': 7480, 'foodborne': 4128, 'illness_': 4738, 'nike_': 5695, 'urban': 8082, 'armour': 2154, 'joined': 4989, '__consumeraction_': 280, '30': 100, 'recognition': 6552, '_energy': 763, '_banking': 389, 'behind': 2389, 'part': 5998, 'slowing': 7195, 'result_': 6719, '401': 128, 'richmond': 6753, '_staythefuckhome': 1551, 'cult': 3218, 'wreaking': 8414, 'havoc': 4509, '_wholefoods_': 1777, 'prime': 6320, '_amazonfresh': 340, 'another': 2074, 'coming___stock': 2940, 'blood': 2453, 'bath': 2348, 'now____': 5746, 'jobs__': 4982, 'medicaid__': 5414, 'security___': 6975, 'psychosis_': 6408, 'fascinating': 3965, 'piece_': 6116, '_nikkisixx': 1209, 'honest': 4625, 'god_': 4338, 'tv_': 7978, 'baby': 2268, 'boom': 2478, '1919': 43, '1945': 44, '_babyboom2020': 384, 'hoarding_': 4605, 'ten': 7695, 'subsequent': 7509, 'repeat': 6652, '_newscarolyn': 1201, 'happened': 4482, 'received': 6544, 'informing': 4848, 'glad': 4322, 'managed': 5330, 'delivered': 3342, 'toda': 7822, 'precautionary': 6259, '_sydney_': 1602, '_australia_': 376, '_bennotweets': 408, '_coronavirusaustralia': 576, 'governor': 4370, 'cuomo': 3222, 'husband': 4690, 'expose': 3905, 'unless': 8047, 'nonstop': 5715, 'dispatched': 3492, 'portugal': 6211, '_covid2019pt': 632, 'francisco': 4175, 'curfew': 3232, 'banned': 2317, '_curfew': 656, 'oh': 5806, 'estimating': 3803, 'max': 5381, 'akka': 1973, 'wtf': 8423, 'influencing': 4839, 'ripple': 6769, '_dairy': 667, 'battered': 2350, 'depressed': 3373, '_brucehillmelb': 458, 'shes': 7072, 'garden': 4277, 'planting': 6154, 'commodity': 2954, 'unfair': 8033, 'display': 3494, '_drharshvardhan': 723, '_mohfw_india': 1152, '_coronaindia': 558, 'wic': 8331, 'symbol': 7622, 'beside': 2406, 'price_': 6310, 'else_': 3705, 'switch': 7621, 'brand': 2516, 'wic_approved': 8332, 'options_': 5873, 'empty_handed_': 3729, '_mepolitics': 1140, '_makemytrip': 1094, '_dgcaindia': 693, 'flight': 4083, 'dated': 3279, 'cheating': 2771, 'circular': 2820, 'cancellation': 2635, '_fmi_org': 809, '_fmi_foodsafety': 808, '_foodindustry': 813, 'communicating': 2959, 'ran': 6487, 'dinner_': 3443, 'lime': 5173, 'bare_': 2324, 'vote': 8178, 'biden': 2417, 'bernie': 2404, 'illegals': 4735, '_50': 241, 'bread_': 2524, 'unfortunately_': 8037, 'cancelling': 2637, 'ultimate': 8007, 'causes_': 2710, 'bo': 2460, 'jo': 4977, 'gave': 4287, 'conference': 3001, 'ago': 1951, 'appears': 2122, 'slot': 7191, 'was_': 8228, 'surrounding': 7589, 'org': 5887, 'leslie': 5140, 'sarasin': 6892, 'reassuring': 6541, 'resilience': 6680, 'dropped': 3598, '_30': 235, 'barrel': 2329, 'amidst': 2039, 'saudi': 6902, 'arabia': 2143, 'russia_': 6830, 'monica': 5540, 'nickelsburg_geekwire': 5686, 'lightly': 5166, 'saute': 6903, 'tp': 7877, 'bagel': 2286, 'seasoning': 6961, 'trader': 7885, 'joe': 4984, '_coronavid19': 567, '_abc': 299, '_almchriis': 332, 'tomato': 7842, 'sauce_': 6900, 'cleaners_': 2851, 'disinfectant_': 3488, 'cereal_': 2735, 'margarine_': 5353, 'diet': 3423, 'coke_': 2911, 'trying_': 7957, 'shift_increase': 7075, 'esp': 3793, 'healthcare_': 4523, 'legged': 5132, 'stool_': 7440, 'disappeared_': 3461, 'printing': 6325, 'fiat': 4015, 'prop': 6376, 'bamksters': 2308, 'corporations_': 3102, 'quickly': 6458, 'requires': 6668, 'location': 5221, '_pocket_rocket96': 1320, 'anxious_': 2088, 'anxiety': 2086, 'schizo': 6941, 'affective': 1926, 'disorder_': 3491, 'miss': 5506, 'boyfriend': 2506, 'covid_19s': 3158, 'traffic_': 7891, 'agile': 1949, '_bestbuy': 411, 'basically': 2340, 'probably_': 6340, 'asymptomatic': 2202, 'case_': 2684, 'virus_yall': 8161, 'pattaya': 6026, 'makro': 5319, 'gym': 4443, 'nightmare': 5692, 'fuel': 4238, 'sympathy': 7623, 'effecting': 3676, 'express': 3909, 'job': 4978, 'loss_': 5255, 'rent_mortgage': 6644, 'ect___and': 3664, 'temporary': 7692, 'mandated': 5336, 'asap_': 2169, 'messages__': 5451, '_repost': 1385, '_quarantineandchill': 1348, '_socialdistance': 1512, '_wtf': 1798, 'walked': 8204, 'quieter': 6461, 'usual_': 8102, 'eerie': 3672, 'suspense': 7607, 'permeated': 6066, 'dessert': 3392, 'deserted_': 3382, 'staples_': 7362, 'eggs_': 3682, 'ourselves_': 5904, 'positive_': 6214, '_alonetogether': 334, 'suspending': 7606, 'shutoffs': 7128, 'senior': 7011, 'income': 4797, 'meet': 5426, 'monday__': 5533, '_jobs': 1004, 'damaged': 3263, '_usa': 1722, '_sp500': 1523, 'discretionary': 3475, 'sector_': 6971, 'firmly': 4058, 'system_': 7629, 'chart_': 2764, 'buy_': 2600, 'sell_': 7002, '_xly': 1806, '_stocks': 1561, '_luxury': 1084, '_trading': 1682, '_investing': 967, '_covidusa': 641, 'watch': 8238, 'expected': 3878, '_or': 1262, 'waste': 8235, 'i_e_': 4707, 'expiration': 3890, 'package': 5941, 'gop': 4357, 'opposition': 5865, '_homedepot': 911, 'showing': 7124, 'complaining': 2977, 'buyer': 2602, '327': 106, 'million': 5479, 'visiting': 8166, 'weather': 8261, 'storm_': 7463, 'e_commerce': 3625, 'solution_': 7257, 'tailor_made': 7640, 'specialty': 7303, '_we': 1757, 'appealing': 2120, 'steps_': 7403, 'other_': 5898, 'spread__': 7337, 'defended_': 3325, 'cautiously': 2715, 'adjusts': 1904, 'abroad': 1836, '_already': 335, 'nearest': 5641, 'money___': 5538, 'fucked': 4232, 'economically': 3659, 'profit': 6357, 'texts_': 7714, 'claim': 2833, 'cure': 3229, 'everyone_': 3834, 'strip': 7484, 'neighbour': 5659, 'essential_': 3796, '_randomactsofkindness': 1365, '_ni': 1206, 'unsung': 8060, 'cashiers_': 2690, 'prelim': 6272, 'univ': 8042, 'michigan': 5456, 'sentiment': 7019, 'index': 4811, '5_0__': 151, 'decline': 3312, 'accelerates_': 1849, '_thinkwhyitmatters': 1642, 'regina': 6589, 'anticipating': 2084, 'cbc': 2718, 'uh': 8001, 'end_': 3738, '_hoarding_': 908, 'preece': 6268, 'wheelchair': 8305, 'her_': 4558, 'arrived': 2160, 'cat_': 2696, 'partner': 6005, '11': 19, 'm_c': 5285, 'political': 6190, 'tribalism': 7929, '_helpers': 898, '_nurses': 1224, '_doctor': 707, 'shopper': 7098, 'me_co_workers': 5396, 'verbally': 8127, 'assaulted': 2186, 'tip': 7808, 'pace': 5938, 'madness': 5298, 'and_or': 2054, 'exploitation': 3900, '_hoarding': 907, 'berlin': 2403, '_vicderbyshire': 1732, '_victorialive': 1734, '_bbctwo': 398, '_bbcnews': 397, 'book': 2475, 'joes': 4985, 'week___all': 8272, 'fave': 3978, 'section_': 6969, 'exaggeration': 3847, '___except': 272, '_traderjoes': 1680, '_annelies_goger': 353, 'low_income': 5266, 'typically': 7988, 'federal_': 3997, 'targeted': 7662, '_cexalsobrooks': 483, 'prince': 6322, 'george': 4302, 'md': 5390, 'tank': 7657, 'halted_': 4461, 'fixed': 4070, 'place_': 6139, 'nothing_': 5736, 'phase': 6093, 'slowly_': 7197, '_diesel': 694, '33_7': 108, 'gallon': 4267, 'fell': 4010, 'country_': 3130, '_midwest': 1144, 'decrease': 3313, '9_8': 212, '_2_591_': 233, '_connorinthenews_': 538, '_eiagov': 757, '_dieselprice': 696, '_dieselfuel': 695, '_fuel': 833, 'trastra': 7910, 'transactions_': 7900, 'season_': 6960, '_parked': 1290, '_safeway': 1430, '_oakland': 1239, '_parkinglot': 1291, '_lol': 1073, '_apocalypse2020': 358, 'turmeric': 7971, 'tea_': 7672, 'ginger_lemon': 4315, 'honey': 4627, 'herbal': 4559, 'tea': 7671, 'sugar_you': 7526, 'asda_': 2171, '_renetrevor': 1381, 'self_quarantine': 6995, 'shopping___i': 7104, 'loan___to': 5216, '_sos': 1518, '_aldiusa': 327, 'aldi': 1984, 'sad': 6840, 'is___': 4930, 'exhausted': 3870, 'stockup_': 7437, '_fight': 794, 'will_': 8340, '_coronavirussouthafrica': 595, 'commitment': 2950, 'adjusting': 1903, 'scheduled': 6939, '24_7': 80, 'portal': 6209, '_covid19au': 611, 'pumping': 6420, '_money': 1156, '_economy_': 751, 'lowering': 5269, 'solve': 7258, '_earning__': 740, 'drawing': 3578, 'stopped': 7443, 'non_essentials': 5708, 'reassurance': 6538, 'specific': 7305, 'product_': 6353, 'clear___if': 2857, 'trolley': 7938, 'bug_': 2567, 'fuckin': 4233, 'unlike': 8048, 'ftc': 4229, 'immediately': 4746, '_valenciacounty': 1726, '_smiths': 1504, '_hiring': 905, 'openly': 5853, '_suchetadalal': 1582, '_moneylifers': 1158, '_moneylifeindia': 1157, 'weighing': 8278, 'company_': 2968, 'surpassed': 7581, '3_000': 113, 'sunday__': 7544, 'mintel': 5494, 'experts_': 3889, 'source_': 7283, '_consumers': 544, '_drink_': 724, '_beauty_': 401, '_retail_': 1394, '_health': 891, '_marketresearch': 1107, '_consumerinsights': 543, '_consumerbehavior': 541, '_trustedsource': 1696, 'outfitters_': 5911, 'entity': 3771, 'calculated': 2613, 'loss': 5254, 'overhyped': 5923, 'virus___': 8160, 'bomb_': 2471, 'invisible': 4909, '_indiavscorona': 962, 'behalf': 2383, 'around_the_clock': 2157, 'labor': 5069, 'breathe_': 2534, 'refilling': 6573, 'fast': 3967, 'supply_chain': 7563, 'demands__grocerystores': 3357, '_wholefoods': 1776, 'happening': 4483, 'now_____': 5747, '_supermarketsweep': 1590, '_souq': 1519, 'expects': 3880, 'heightened': 4540, 'distribution': 3511, '_jeffkeeling12': 997, 'describe': 3378, 'brought': 2557, 'essentially': 3797, 'while_': 8316, 'stop_': 7442, 'doubt': 3554, 'slowed': 7193, 'humane': 4674, 'eastern': 3640, 'carolina': 2673, 'hsec': 4667, 'mission': 5510, 'forever': 4147, 'care_': 2663, 'pension': 6045, 'tried': 7930, 'midst': 5463, 'seating': 6962, 'person_to_person': 6071, 'wv': 8427, 'ag': 1939, 'clean_up': 2850, '_316day': 237, 'regret': 6593, 'purchasing': 6426, 'junk': 5006, 'comfort': 2936, 'arrive': 2159, 'stock__': 7418, 'anticipated': 2083, 'tt_5': 7959, 'revenue': 6741, 'account': 1861, '_trinidad': 1687, '_tobago': 1650, 'finance': 4037, 'minister': 5490, 'regulator': 6596, '2b': 96, 'walter': 8212, 'cautious': 2714, 'dude': 3607, 'montreal_': 5553, '_gethuel_': 843, 'protein': 6388, 'heal': 4519, 'waitrose': 8192, 'muji': 5592, 'launched': 5102, 'person_couple': 6070, 'simply': 7152, 'lewisville_frisco': 5150, 'figure': 4021, 'bold': 2470, 'proof': 6375, 'retailer': 6730, 'hassle_free': 4500, 'instead_': 4870, 'colombo': 2927, 'suburb_': 7512, 'solidarity': 7255, 'refraining': 6579, 'exacerbate': 3844, 'suffering___drtedros': 7522, '_like': 1059, 'applauding': 2123, '_healthworkers': 894, 'balconies_': 2303, 'community___drtedros': 2964, 'piano': 6103, 'guild': 4430, 'ptg': 6409, 'compiled': 2975, 'advisory': 1918, 'explaining': 3896, 'piano_': 6104, 'prompted': 6373, 'continuing': 3061, 'document': 3523, 'website_': 8264, 'finish': 4047, 'repacking': 6650, 'smaller': 7202, 'bags_containers_': 2288, 'overly': 5924, 'prices___': 6314, 'earth__________________': 3636, 'training': 7898, 'explained': 3895, '_petersgoodman': 1307, '_mikiebarb': 1145, 'pretend': 6296, 'marketplace': 5360, 'quarantine_': 6442, 'bills_': 2427, 'time__coronavirus': 7798, 'january_': 4965, 'yougov': 8458, 'gathering': 4285, 'different': 3427, 'shifting': 7076, 'behavior_': 2386, 'democracy_': 3359, 'impacted_': 4759, 'explore': 3902, '_physicaldistancing': 1311, '_breaking': 448, '_llbean': 1064, 'close_': 2876, 'flagship': 4072, 'freeport_': 4191, '3_29_': 118, '5th': 155, 'history': 4593, 'closethe': 2880, '24': 79, '_newscentermaine': 1202, 'draft': 3572, 'amendment': 2032, '_chmnmendelson': 496, '_wage': 1747, 'replacement_': 6654, 'relief_': 6614, 'health_': 4521, 'protection_': 6386, '_cryptogodfatha': 651, 'imo': 4754, 'bottom_': 2495, 'contrary': 3065, 'popular': 6202, '_bitcoin': 423, 'gold_': 4342, 'worldwide': 8399, 'risk_off_': 6776, '_crypto': 649, 'opportunity_': 5862, '_cryptoc': 650, '________________': 263, '________': 258, '___________': 261, 'chicken': 2788, 'pork': 6206, '_perduefarms': 1304, 'diced': 3413, 'estate': 3802, 'ingenious': 4850, 'placement': 6141, 'handwash_': 4476, 'facemasks_': 3932, 'diy': 3517, 'kit_': 5041, 'welcoming': 8285, 'born': 2489, '_womeninstem': 1786, 'serving': 7031, 'luxury': 5279, 'self_isolate_': 6991, 'thanking': 7719, 'enduring': 3741, 'trauma': 7911, 'uncivilized': 8017, '_groceryshopping': 869, '_grocerystore': 870, '_grocer': 865, '_thankyou': 1630, '_thankful': 1627, '_thankunext': 1629, 'solution': 7256, 'covid_19__': 3154, 'later_': 5094, 'availability': 2234, 'extended': 3911, 'break_': 2528, 'retail__': 6725, '_arvindkejriwal': 366, 'sir': 7161, 'like_croma': 5170, 'vijaysale': 8145, '_more': 1160, '_closetheretailstore': 515, 'affraid': 1930, 'evening': 3819, 'currently_': 3238, 'rideshare': 6757, '_uber': 1702, '_asklyft': 370, 'cratering': 3171, '_increasing__': 959, '_800': 248, 'a_m_': 1824, '_coronavirusseattle': 594, 'prediciton': 6264, 'bored': 2485, 'sofa': 7250, '15': 28, 'passed_': 6010, 'reaction': 6511, 'meant': 5406, 'foodbanks_': 4127, 'establishes': 3800, 'spain': 7291, 'ta': 7635, '_news12nj': 1199, 'news12': 5677, 'nj': 5698, 'clerks_': 2864, 'restrictions_': 6717, '_nycs': 1230, 'farmers_': 3964, 'truckers_': 7944, 'working_': 8391, 'gone___there': 4350, 'humanity': 4676, 'disability_': 3456, 'disgusted': 3483, 'couponers': 3136, 'vibing': 8134, 'rn_': 6783, 'slim': 7188, 'pickins': 6110, 'creativity': 3186, 'cooking_': 3085, 'episode': 3783, 'chopped_': 2809, 'risen': 6772, 'filling': 4030, 'storerooms__': 7455, '_demand': 684, 'increases__': 4805, 'lord': 5249, 'poor_______': 6197, 'pragmatic': 6249, '_telstra': 1618, '_andy_penn': 348, 'giving': 4321, 'broadband': 2550, 'unlimited': 8050, '__gt': 284, 'joke_': 4993, 'bigger': 2420, 'moment_': 5527, 'worker_': 8384, 'rather': 6497, 'whereverremember': 8314, 'headed': 4517, 'extinction_level': 3914, 'brands_': 2518, 'digital_first': 3435, 'model_': 5521, 'traditional': 7889, 'in_store': 4787, 'accelerant': 1847, 'trends_': 7927, '_dramalinabakri': 721, 'sugar': 7524, 'milk_': 5473, 'engineer_': 3749, 'milk_amp': 5474, 'pasteurisation': 6017, 'process_': 6346, 'bacteri': 2279, 'weed': 8269, 'besides': 2407, 'married': 5364, '_doomsdayprepper': 715, 'france': 4173, 'curb': 3226, 'xboxs': 8431, 'playstations': 6162, 'constantly____': 3032, 'minecraft': 5484, 'whilst': 8317, 'monkey': 5543, 'ebay_': 3651, 'reasonable': 6536, 'california': 2614, 'seller': 7003, 'welcome': 8283, 'busy': 2594, '_____run': 267, 'walk': 8201, '____get': 268, '_do': 706, 'tv': 7977, 'reschedule': 6670, 'cook': 3079, '_coronavirususa': 601, 'evening_': 3820, 'mad': 5295, 'selfishness': 6998, 'pointless': 6183, 'hand_': 4467, 'shit___why': 7082, 'acting': 1875, 'dead': 3291, 'baffling': 2284, 'said_': 6855, 'finna': 4051, 'ctfu': 3216, '_socialdistancing___if': 1515, 'labeled': 5068, 'chose': 2810, 'brand_': 2517, 'cannot_': 2641, 'fired': 4054, 'things____this': 7748, 'badly_': 2283, 'honestly': 4626, 'danish': 3269, 'jalanalanakanakakak': 4962, 'guardian_': 4425, 'whod': 8324, 'reality': 6525, 'check_': 2773, 'joke': 4992, 'complete': 2980, 'chicago': 2786, 'bacp': 2278, 'soliciting': 7254, 'feedback': 4004, 'develop': 3399, 'death_': 3299, 'f___ing': 3923, 'meltdown': 5432, 'well___': 8289, 'wondering': 8374, 'register': 6591, 'none_': 5710, 'doctor': 3521, 'insurance_': 4874, 'offered_': 5795, '_america': 342, '_sickofwinning': 1490, 'socially': 7246, 'distanced': 3503, 'kitchen_': 5043, 'hurdle': 4688, 'doing_': 3530, 'boris': 2487, 'sensible': 7014, 'reason_': 6535, 'expecting': 3879, 'tomorrow': 7843, '_bangkok': 388, 'everybody_': 3831, 'soon_': 7270, 'constantly': 3030, 'covid19': 3149, 'pascal': 6008, 'montagne': 5544, '_37degres': 238, '_studiohanslucas': 1579, '_france': 825, '_shortage': 1486, '_paranoia': 1288, '_disease': 702, 'shop___yes_': 7096, 'interested': 4888, 'isolation_': 4941, 'eg': 3680, 'stick_': 7408, 'consumption_': 3044, 'affecting_': 1925, 'ur': 8081, 'minworth': 5499, 'nappies_': 5621, 'tbh': 7669, 'fb': 3981, 'psa': 6406, 'mall_': 5325, 'capitalism_': 2653, 'retail_people': 6729, 'choice': 2806, 'montral': 5552, 'bit': 2432, 'relieved': 6617, 'direction': 3449, 'strategy_': 7471, '_votebluenomatterwho2020': 1746, '_democraticsocialism': 686, '_nofood': 1215, '_trump2020': 1691, '_maga': 1090, '_kag': 1014, 'like__': 5168, '_drudge': 731, 'tool': 7855, '_wuhancoronavius': 1802, '_wuflu': 1800, 'everything_cmon': 3838, 'grip_': 4401, 'bullshit_no': 2579, 'found_': 4168, 'underwear': 8025, 'commando_': 2941, '_maryland': 1111, '_aacounty': 298, '_emptyshelves': 762, '_wwg1wga': 1804, '_q': 1345, 'offline': 5803, 'normal_corona': 5721, 'barrier_': 2333, 'aint': 1965, 'shoukd': 7118, '_housearrest': 921, '_kumailn': 1042, 'suffering': 7520, 'serious_': 7023, 'high_': 4575, '30_000': 102, 'fami': 3949, 'infection': 4830, '_nytimestech': 1235, 'yell': 8443, 'alcohol_': 1983, 'confusion_': 3011, 'soooo': 7271, 'this__': 7755, 'store__': 7448, 'answers____': 2078, '_coronavirusny': 586, 'ration': 6498, '_____________________': 264, 'small___': 7201, 'fill': 4027, 'questionaire': 6451, 'quetion': 6453, '_nakuulmehta': 1183, '_fanforever': 783, 'jsc': 4999, '13th': 26, 'figured': 4022, 'happens_': 4486, 'understand': 8020, 'closing_': 2882, 'lol_': 5234, 'son': 7266, 'niece': 5688, 'hut_': 4692, 'thru': 7779, 'caregiver_': 2667, 'repairs_': 6651, 'eachother': 3627, 'mere': 5446, 'damn': 3264, 'downfall': 3561, 'relax': 6607, 'overnight': 5925, 'sporting': 7330, 'boggling': 2467, '70s_': 177, '90': 205, 'mother_': 5571, 'gf': 4310, 'er_': 3786, '_stayhomechallenge': 1544, 'continues': 3060, 'sweep': 7612, 'do___': 3520, 'sending': 7009, 'covid_19___': 3155, 'indicate': 4815, 'moment': 5526, 'lab': 5067, 'growth': 4416, 'crippled': 3195, 'import': 4765, 'similar': 7150, 'mother': 5570, 'unseasoned': 8058, 'demanding': 3356, 'asylum': 2201, '_ukhomeoffice': 1710, '_aspencard': 371, 'food_essentials': 4122, '_hostileenvironment': 917, '_symaag': 1603, '_refugeeaction': 1380, '_voicesnetworkuk': 1742, 'majid': 5310, 'al': 1974, 'futtaim': 4256, 'operates': 5855, 'excluding': 3860, 'carrefour': 2675, '_rosie': 1420, 'baked': 2297, 'goods__': 4355, 'dr': 3570, 'qasabi': 6438, 'filmed': 4031, 'personally': 6074, 'inspecting': 4865, 'catastrophe': 2698, 'operation': 5857, 'addressed_': 1898, 'insecurity': 4860, 'kindergarten': 5034, 'riots_': 6768, 'untransformed_': 8064, 'sa': 6835, 'coining': 2910, '_confiscatory_': 537, 'pricing': 6316, 'practices_': 6246, '_who': 1775, 'blackfriday': 2440, 'anyway': 2096, 'steep': 7396, 'cream': 3178, 'covid__': 3159, '_greedybastards': 861, 'active_': 1882, 'bagp': 2287, 'pillitteri': 6125, 'tour': 7866, 'tasting': 7663, 'winery': 8350, 'shipping': 7079, 'virology': 8154, 'stressful': 7479, 'rt': 6815, 'chris': 2811, '67': 166, 'caught': 2706, 'crossfire': 3203, 'norah': 5718, 'press_': 6292, 'chip': 2803, 'nationally': 5629, 'nimmo': 5696, 'hey': 4565, 'fortune': 4163, 'eu': 3812, 'avoidance': 2242, 'directive': 3451, 'shout': 7121, 'crazed': 3173, 'salute': 6869, '_shoutout': 1487, '_supermarketsemployees': 1588, '_coles': 525, '_woolworths': 1788, '_aldiaustralia': 325, 'conduct': 3000, 'ri': 6745, 'caller': 2618, 'nicole': 5687, 'toddler': 7828, 'newborn': 5674, 'emotion': 3717, 'describes': 3380, 'jeremy': 4973, 'difficulty': 3432, 'survivalist': 7595, 'bent': 2401, 'active': 1881, 'bars_': 2334, 'included': 4793, 'john': 4986, 'carney': 2672, 'declaration': 3310, 'delaware': 3334, 'influx': 4841, 'unemployment': 8030, 'claims__so': 2836, 'many_': 5349, '_egypt': 755, 'truck': 7941, 'stepping': 7402, 'duty': 3618, '2019': 65, 'microsoft': 5457, 'impressed': 4775, 'shot': 7117, 'tin': 7804, 'last_': 5088, 'stockmarkets': 7430, '250': 83, 'penne': 6044, 'thankful': 7718, 'driving': 3593, 'lived': 5205, 'january': 4964, 'differently': 3429, 'ummmmmmmmmm_': 8010, 'bout_': 2501, 'need__': 5650, 'jeanyuses': 4969, '_cnn': 521, 'rock_solid': 6788, 'information_': 4845, 'ay': 2254, 'dios': 3445, 'mio_': 5500, 'widespread': 8334, 'double': 3551, '407': 129, 'skewed': 7175, '1st': 59, 'mini': 5486, 'freakout': 4187, 'blasio': 2444, '48': 136, 'angrily': 2062, 'responded': 6694, 'table': 7636, 'deserving': 3384, 'wage': 8187, 'disaster': 3465, '_moscow': 1166, '_russia': 1423, 'accelerating_': 1850, 'digital': 3434, '_23_9': 231, '2018': 64, 'forecast': 4144, '_59_5': 243, '2023_': 71, 'rice_': 6748, 'flour': 4092, 'cooking': 3084, 'soared': 7239, 'predominantly': 6267, 'asian': 2175, 'muslim': 5606, 'machine': 5290, 'learning': 5120, 'network': 5669, 'loading': 5213, '_covid19germany': 614, '_covid19usa': 628, '_covid19turkey': 626, '_chinesevirus': 495, 'johnson': 4987, 'sunak': 7542, 'voluntary': 8176, 'inched': 4790, 'autistic': 2228, 'child': 2791, '_autism': 377, 'site': 7164, 'share_': 7056, 'viral': 8152, 'misleading': 5505, 'hitting': 4595, 'patience_': 6021, 'provided': 6395, 'gear_': 4291, 'sent': 7017, 'compensate': 2971, 'allows': 1998, 'every1': 3829, 'pickup_': 6112, 'gear': 4290, 'italy': 4951, 'knowing': 5052, 'noted': 5733, 'korean_owned': 5056, 'wiping': 8357, 'constantly_': 3031, 'concerned': 2993, 'ppl': 6242, '_haggenfood': 878, '000': 0, 'reason': 6534, 'jill': 4976, 'horrible': 4637, 'realizes': 6528, 'jcpenney': 4966, 'critized': 3201, 'bashed': 2338, 'writing': 8418, 'acted': 1874, 'internationally_': 4891, 'equity': 3784, 'markets_': 5361, 'announcing': 2071, 'threat': 7765, 'climate': 2870, 'govt': 4372, 'underestimate': 8018, 'power': 6237, 'awful': 2252, 'provider': 6396, 'smile': 7208, 'mart': 5365, 'forced': 4141, 'pharmacy': 6091, 'walkin': 8205, 'think________': 7751, '_perintahkawalanpergerakan': 1305, 'akan': 1971, 'gather': 4284, 'dekat': 3332, 'stesen': 7405, 'bus': 2586, 'balai': 2301, 'polis': 6188, 'lord_': 5250, 'frontliners_': 4221, 'bpo_': 2508, '_handsanitizers': 884, '_uk_': 1707, 'distributed': 3510, '_saudiarabia': 1446, 'uk_': 8003, '_coronauk': 566, '_deweysim': 692, 'taken_': 7646, 'saint': 6859, 'denis': 3363, 'tightening': 7790, 'literally': 5196, 'store_retail': 7454, 'freak': 4183, '_justinel_h': 1011, 'agree': 1954, 'primarily': 6318, 'stories_': 7461, 'credible': 3189, 'journalism': 4997, 'shadows_': 7045, 'view_': 8142, 'cologne': 2925, 'germany': 4304, 'overtime': 5931, 'stressed': 7478, '_small': 1500, '_wutang': 1803, 'grift': 4399, 'nonsense': 5714, 'visible': 8162, 'oriental': 5892, 'racism': 6468, 'relief_my': 6616, 'monthly': 5548, 'arrived_': 2161, 'stock_including': 7421, 'understandable': 8022, 'events_i': 3825, 'adapting': 1889, 'grateful': 4389, 'chronic': 2813, 'wild_': 8337, '5_324': 153, 'moronavirus': 5560, 'version': 8129, '_trumpplague': 1694, 'hated': 4502, 'clarify': 2838, 'freaking': 4186, 'soul': 7279, 'angrier': 2061, 'stuffed': 7500, 'popped': 6200, 'moscow': 5565, 'thailand': 7715, 'epidemic_': 3782, 'site_': 7165, 'arrested': 2158, 'scattered': 6934, 'flee_': 4078, 'intercept': 4884, 'road': 6785, 'optimistic_': 5868, 'lazada': 5110, 'zalora': 8471, 'shopee': 7097, 'respective': 6692, 'operational': 5859, 'dan': 3265, 'mummy': 5600, 'famous': 3952, 'german': 4303, 'cheddar_': 2779, 'folks_': 4110, 'wrst': 8422, 'kse': 5061, '_zewrstjokeimdaswelt': 1822, 'asks': 2182, '_lockedinwithmom': 1070, 'rant': 6490, 'proud': 6390, 'el': 3688, 'salvador': 6870, 'fearful': 3990, 'creates': 3183, 'outcome': 5909, 'cussing': 3244, 'treatment': 7919, 'once_': 5825, 'phlegm': 6096, 'disappears': 3462, 'breath': 2533, 'recovers': 6561, 'smoothly_': 7215, 'secret': 6966, 'experienced_': 3886, 'tweeted': 7979, 'blocked_': 2451, 'thrown': 7778, '_ebberger': 746, 'shocked': 7085, 'anglo': 2060, 'govs___': 4371, '_list': 1062, 'co': 2898, 'ordination': 5885, 'committee': 2953, 'artificially': 2167, 'strongly': 7489, '_grocerystorehero': 871, '_logistics': 1072, 'staff_': 7352, '_truckers': 1689, '_coronavirusworkers': 602, '_truckdrivers': 1688, '_coronavirusnc': 583, 'ok': 5810, 'bunch': 2582, 'pharmacies_': 6088, 'learned': 5119, 'carrots_': 2678, '_carrots': 479, '_nyc': 1228, 'germany_gt': 4305, 'explain': 3894, '_hamsterkauf': 882, 'harm': 4493, '70_': 176, 'workplace': 8392, 'bakery': 2299, 'seniors_': 7012, 'saw_': 6913, '_californiacoronavirus': 468, 'beverage': 2412, 'aways': 2249, 'platform': 6159, '2nd': 98, '3rd': 125, 'balik': 2304, 'kampung': 5011, 'station': 7384, '4th': 141, 'sampai': 6872, '_restrictedmovementorder': 1392, 'turkey': 7970, 'queuing': 6455, 'maintaining': 5309, 'islamabad': 4933, 'counter': 3124, 'grind': 4400, 'supreme': 7571, 'commercial': 2946, 'complexes_': 2983, 'catering': 2703, 'clinics_': 2872, 'optical': 5867, 'reserve': 6676, 'ofa': 5789, 'urging': 8087, 'ontarians': 5841, 'produced': 6351, 'processed': 6347, 'wouldnt': 8410, 'cleared': 2858, 'cupboards_': 3225, '_selfish': 1457, '_humanity': 926, 'breakfast': 2529, 'program': 6365, 'suspended': 7604, 'lunchtime': 5276, 'isolated___': 4938, 'creative': 3185, 'doesn': 3526, 't__': 7631, '_coronacrisis': 557, 'loop': 5245, 'shutting': 7131, 'elected': 3692, 'decision': 3307, 'obviously': 5778, 'excessively': 3857, 'cant_wont': 2644, 'letting': 5144, 'becomes': 2370, '_dubai': 735, '_uae': 1701, '_residence': 1387, '_citizens': 504, '_education': 752, '_knowledge': 1035, 'baby_': 2269, 'choose': 2807, 'faves': 3979, 'korang': 5054, 'berpusu_pusu': 2405, 'beratur': 2402, 'tu_': 7960, '_covidmalaysia': 640, '_lockdownmalaysia': 1069, 'justin': 5007, 'trudeau': 7945, 'hi': 4567, 'affordable': 1928, 'carbon': 2660, 'farm': 3962, 'slap': 7183, 'meee': 5424, 'plsss': 6173, 'alternative': 2015, 'collection': 2919, 'only_': 5839, 'rethink': 6732, '_iam_udit_t': 934, '_piyushgoyal': 1314, '_railminindia': 1358, 'ticket': 7785, 'stations_': 7386, '_covidindia': 639, '__jeffbezos_': 285, '__amazon_': 277, 'fam': 3948, 'building': 2570, '0645': 3, 'camping': 2629, 'rock': 6786, 'show_': 7123, 'nuts_': 5759, 'tryna': 7958, 'chinese_asian': 2802, 'cultures_': 3219, 'race': 6466, '_haileesteinfeld': 880, 'duty_': 3619, 'dickinson': 3414, 'awesome_': 2251, 'assure': 2197, 'dutch': 3617, 'nah': 5616, 'shopping___lets': 7105, '_marketcrash': 1105, '_marketslump': 1108, '_socialdistancingworks': 1516, 'purse': 6428, 'disposable': 3496, '_booksamillion': 433, 'statewide': 7382, 'disgusting_': 3485, 'charles': 2761, 'hospital__': 4641, 'secondhand': 6965, 'pawn': 6028, '_supernatural': 1592, 'everybody': 3830, 'cunts___': 3221, '_01': 215, 'night': 5690, 'simple': 7151, 'mode': 5519, '_coronavirus__covid2019': 571, 'egg': 3681, 'hording': 4634, 'supplies___': 7559, 'behaviour_': 2388, '94': 208, 'yr': 8465, 'chill': 2796, '_nz': 1237, 'jeez': 4971, 'learnt': 5122, 'magic': 5302, 'spell': 7311, 'joking': 4994, '_19': 225, 'sore': 7275, 'throat': 7771, 'ball': 2305, 'appear': 2121, 'mess': 5448, 'russian': 6831, 'cashier_': 2689, 'imp_': 4755, 'correct': 3103, 'missing__like': 5509, 'discounted': 3471, 'prices__or': 6315, 'enuf': 3773, 'santizers_': 6891, '_coronavirusinindia': 581, '3_5': 119, 'truck_driving': 7942, 'towns_': 7875, '_donaldjtrumpjr': 709, 'category': 2702, 'chronically': 2814, 'importance': 4766, '133': 25, '157': 30, 'tldr': 7817, 'scaring': 6931, 'rear_end': 6533, 'alright_': 2009, 'swiss': 7620, 'status_': 7388, 'in____': 4781, 'suggest_': 7529, 'street_': 7473, 'anymore': 2090, 'trust_': 7951, 'mostly': 5569, 'virtually': 8156, '_disabilitysucks': 701, 'with_': 8362, 'brawling': 2522, 'vinegar': 8149, 'metro': 5454, 'hackney_': 4451, '_shoppingwars': 1485, '_london': 1074, 'fragility': 4172, 'interconnected': 4885, 'laid': 5078, 'rampant': 6486, 'individualism': 4820, 'formed': 4155, 'gun': 4438, 'contagious': 3050, 'beating': 2366, 'vehicle': 8124, 'matter': 5379, 'bullshit': 2578, 'sleeping': 7185, 'apps': 2138, 'wuhan': 8425, 'treating': 7918, 'proved': 6392, 'jp': 4998, 'kr': 5057, 'assistance': 2191, 'massively': 5373, 'scary_': 6933, '_usa_': 1723, 'civil': 2830, 'unrest': 8057, '__ryanair': 293, 'waiving': 8195, 'miraculously': 5501, 'expensive': 3882, 'original': 5894, 'flight_': 4084, 'rigged_': 6760, '_skynews': 1499, 'thursday': 7782, 'flyer': 4100, 'three_ply': 7768, '_3_44_': 239, 'lineup_': 5182, '_1005freshradio': 217, '6__': 169, 'fruits_veggies_chicken_ground': 4225, 'beef_potatoes_bread_soup': 2377, 'member': 5433, 'union': 8039, 'join': 4988, 'organise': 5889, 'abused': 1844, 'like___': 5169, 'earliest': 3629, 'improve': 4777, 'bangor': 2311, 'opened': 5848, '7am': 191, 'handing': 4471, 'individual': 4819, '_cmo_odisha': 517, 'sky': 7178, 'central': 2728, 'action_': 1877, '_covi': 607, 'dropping': 3599, 'litre': 5197, 'van': 8112, 'lowest': 5270, 'flowing': 4095, 'doug': 3555, 'baker': 2298, 'cbs': 2719, 'protecting': 6384, 'layer': 5108, 'travelling': 7915, '_torbay': 1668, 'others_': 5900, 'wold': 8368, 'sainsburys': 6858, 'where_': 8308, '__potus': 292, 'waive': 8193, 'citizen': 2823, '_fiercehealth_': 793, 'recession_': 6549, 'costly': 3111, 'patients_': 6024, '_sandrodemaio': 1436, '_vichealth': 1733, '_raf_epstein': 1356, '_drive': 727, 'speak': 7298, 'conversation': 3074, 'socks_': 7249, 'particular': 6003, 'day__': 3287, '_youcantaskthat': 1816, '9pm_': 214, '_menards': 1136, 'accused': 1868, 'doubling': 3553, 'experiencing': 3887, 'rights_': 6765, 'relating': 6602, 'advertising': 1914, 'stock____': 7420, 'reminder_': 6633, '_coffee': 524, 'surprisingly': 7586, '_ralphs': 1361, '_mcdonaldscoffee': 1126, 'doctors_': 3522, 'nurses_': 5755, 'teachers_': 7675, 'contributing': 3068, 'beware': 2413, '_coronavirusdc': 577, 'ineffective': 4825, 'solicit': 7253, 'charity': 2760, 'pretending': 6297, 'victims_': 8137, 'netherlands': 5668, 'exporter': 3904, 'usa_': 8091, 'buy___': 2601, '_rutte': 1425, '_coronanederland': 561, '_amsterdam': 345, 'irony': 4925, 'party': 6007, 'size_': 7173, 'cletus_': 2865, 'memes2riches': 5437, '_get_repost': 842, '_heybitch': 900, '_store': 1575, '_customer': 657, '_bevigilant': 414, 'six': 7171, 'deep_': 3320, 'stripped': 7485, 'flying': 4101, 'donation': 3537, 'onto': 5842, 'passed': 6009, 'straight': 7466, 'lesson': 5141, 'turner': 7975, 'lav': 5104, 'aggarwal_': 1946, 'joint': 4991, 'secretary_': 6967, 'icmr': 4711, 'council': 3120, 'research': 6672, 'appealed': 2119, 'diagnosis': 3409, 'emotionally': 3718, 'hurts_': 4689, 'empathic': 3719, 'tapped': 7660, 'ty': 7986, 'reassured': 6540, 'clock': 2873, '_retailgazette': 1398, 'expands': 3874, '3500': 111, '_corvid19uk': 604, '_businessnews': 464, '_newjobs': 1197, 'bias_': 2416, 'diligently': 3439, 'data_': 3276, '_diymrx': 705, 'useless': 8098, 'boosting': 2480, 'tumble': 7966, 'pump': 6419, '77_9': 182, '_toronto_': 1670, '_rogermcknight_': 1417, '_torontodotcom': 1671, 'braving': 2520, '55_000_': 148, 'officially': 5801, 'scared_': 6929, 'manipulated': 5340, 'one___': 5830, 'depreciate': 3372, 'role_': 6792, 'upcoming': 8071, 'elections_': 3694, 'campaign_': 2627, 'rwanda': 6832, 'considerate': 3022, 'walloped': 8210, 'vanishing': 8113, 'ei': 3685, 'patient_': 6023, 'visited': 8165, 'gafoors': 4263, 'leytonstone': 5151, 'advised': 1916, 'imcresed': 4744, 'referred': 6571, 'advisor': 1917, 'abrupt': 1837, 'ended': 3740, 'aspect': 2183, 'worrying': 8403, 'inject': 4855, 'everywhere': 3839, 'rent': 6643, 'judging': 5002, 'barren': 2331, 'bean': 2362, 'british': 2547, 'intends': 4879, 'defeat': 3323, 'flatulence_': 4077, '_skift': 1497, 'post__coronavirus': 6220, 'pledge': 6167, 'beer': 2379, '_beercentralltd_': 403, '_thedramshopuk_': 1634, '_hophideout': 915, '_greenshopsheff': 862, '_shoplocal': 1483, '_supportlocal': 1599, 'lone': 5236, 'anonymous': 2073, 'mystery': 5612, 'among': 2043, '_anonymous': 354, '_allcannedout': 331, '_aluminumcan': 336, '_donotforgetthecanopener': 710, 'checklist': 2776, '_safoodbank': 1432, '_grocers': 867, 'modify': 5524, '_hours': 920, '_clean': 507, '_restock': 1391, '_closures': 516, 'twice': 7980, 'contribute': 3067, 'describing': 3381, 'if': 4723, 'dozen': 3567, '_shutdownaustralia': 1489, '_rwandatrade': 1426, '_leadership': 1048, '_cyrilramaphosa': 663, 'fix': 4069, 'effect_': 3674, 'collusion': 2924, 'mineral': 5485, 'respectful': 6690, 'specifically': 7306, 'er': 3785, 'perishable': 6064, 'une': 8028, 'centaine': 2724, 'personnes': 6077, 'se': 6956, 'pressent': 6293, 'aux': 2231, 'dun': 3612, 'supermarch': 7549, 'saint_denis_': 6860, 'en': 3732, 'banlieue': 2316, 'parisienne_': 5992, 'lendemain': 5135, 'lannonce': 5081, 'du': 3604, 'prsident': 6403, 'renforant': 6642, 'dplacement': 3569, '_afp': 314, '_deplorables_': 687, 'rough_': 6807, 'oil_': 5809, 'hospitals_': 4645, 'fires_': 4056, 'streets_': 7474, 'on_': 5822, '_halfurman': 881, '_stevehosid': 1553, 'brave': 2519, 'trucker_': 7943, 'fearless': 3993, 'nurse_': 5754, 'humble': 4678, 'stocker': 7427, 'count': 3122, 'fancy': 3954, 'graduate': 4379, 'degrees_': 3330, 'everyones': 3835, 'africa': 1933, 'fourth': 4171, '_waitrose': 1748, 'maintain': 5308, 'virtual': 8155, 'example': 3850, 'stupid_': 7502, 'said_____': 6856, 'buying_____': 2606, 'education': 3670, 'escaping': 3792, 'judge': 5000, 'owe': 5933, 'incredible': 4808, 'sacrifice': 6838, 'trial': 7928, '_telemedicine': 1617, '_psychtwitter': 1341, '_meded': 1131, '_captwitter': 475, '_workfromhome': 1790, '_parentinginapandemic': 1289, 'elderly_only': 3691, 'menwhile': 5443, 'overseas': 5929, 'stole': 7438, 'inside': 4861, 'absurd': 1840, 'expansive': 3876, 'kudos': 5063, 'seldom': 6984, 'appreciated': 2130, '__sephora': 295, 'theyll': 7738, 'fees_': 4009, 'adjusted': 1902, 'hiatus_': 4569, 'lemay': 5134, 'schnucks': 6943, 'masnou_': 5370, 'north': 5723, 'barcelona_': 2322, 'spain_': 7292, 'reuters_': 6739, 'albert': 1981, 'gea': 4289, 'reuters': 6738, '_coronavirusespaa': 578, 'added': 1892, '43': 131, 'unlikely': 8049, 'average': 2239, '_michelcombes': 1142, '_sprint': 1531, 'concerning': 2995, 'severity': 7039, 'covid_19_reduced': 3157, 'deter': 3396, 'spreading_only': 7340, '_british_airways': 455, 'ba': 2267, 'chooses': 2808, 'ban_': 2309, 'wrong_': 8420, 'evil_': 3841, '_gamestop': 836, 'five': 4068, 'scarborough': 6923, 'u_s': 7991, '_2': 226, 'coronavirus_induced': 3099, '_crisis': 647, '_jobcreation': 1003, 'zoom': 8480, '_vons': 1744, '_ralphsgrocery': 1362, '_albertsons': 324, '_wincofoods': 1782, '_pavilions': 1294, '_staterbrosmkts': 1537, '_gelsonsmarkets': 840, '_bristolfarms': 454, 'overheard': 5922, 'anyways_': 2099, 'boyyyy': 2507, 'ex': 3843, 'girl_': 4317, 'firearms_': 4053, 'why___': 8330, '_____quicktake': 266, 'curfew_': 3233, 'jump': 5004, 'overnight_': 5926, 'hugely': 4670, 'performance': 6058, 'urgent': 8085, '_mosul': 1168, 'enterances_': 3764, '_mosul2020': 1169, '__govtimwalzs': 283, '00_': 1, 'takeout_': 7648, '_kstp': 1040, 'badger': 2282, 'winchester': 8344, 'ther': 7732, 'moral': 5554, 'highground': 4580, 'agricultural': 1957, 'haulier': 4505, 'wonderful': 8373, 'hse': 4666, 'gps': 4376, 'attention': 2217, 'shoppers_': 7099, 'apply': 2125, 'booze__': 2482, 'heartfelt': 4532, 'custodial': 3245, 'enforcement': 3746, 'dedication': 3317, '_starbuckshelp': 1535, 'arizona': 2153, 'fatal': 3972, 'hom': 4612, 'sprayed': 7334, 'lysol': 5284, 'went_': 8295, 'coughed': 3114, 'alcohol': 1982, 'sneeze': 7223, 'cough_': 3113, 'towel': 7870, 'pocket': 6179, 'bathroom': 2349, 'door_': 3546, 'derivative': 3377, 'motion': 5572, 'depression': 3374, 'contagion': 3048, 'enhance': 3750, 'migration___': 5466, 'pet': 6079, 'liquor': 5190, 'nintendo_': 5697, 'magazines_': 5301, 'projects_': 6367, '_aldiuk': 326, 'staff_they': 7353, 'public_will': 6414, 'restricting': 6715, 'super': 7545, 'resonse': 6686, 'amani': 2025, 'chattanooga': 2765, 'town_': 7873, 'chattanooga_': 2766, 'running_': 6826, '_leoo_ray': 1052, 'hello_': 4548, 'leo_': 5139, '_healthcare': 893, '_payers': 1295, '_customerengagement': 658, 'propaganda': 6377, '_whatsapp': 1773, 'artificial': 2166, '_pakistan': 1274, 'alarm_': 1976, 'start_': 7365, 'profiteering': 6361, 'black_marketing': 2439, 'poverty_': 6236, 'appointment': 2127, 'counting': 3126, 'lifesaving': 5160, 'colombia': 2926, 'former': 4156, '_mauriciocard': 1118, 'aq': 2141, 'triple': 7935, 'capital': 2650, 'fiscal': 4063, 'stimulus': 7412, '_unavoidable_': 1713, 'latin': 5096, 'store_bank_coffee': 7452, 'theyd': 7737, 'mindful': 5482, '_kijiji': 1029, 'insanity': 4859, 'reselling': 6674, '_fordnation': 821, '_ontariogov': 1260, '_covid19ontario': 622, '_showmeyourshelves': 1488, 'reserved': 6677, 'dubuque_': 3606, 'iowa___': 4916, 'rice___': 6749, 'ashamed_': 2173, 'nappy': 5622, '_disgusting': 703, 'cybercriminals': 3251, 'pitching': 6133, 'masks_': 5369, 'santiago_': 6890, 'chile': 2795, '_aa': 297, 'cristobal': 3198, 'saavedra': 6836, 'vogel': 8170, 'preventative': 6302, 'viva': 8169, 'fresh_': 4202, 'dante': 3270, 'galeazzi': 4266, 'discusses___': 3477, '_tradeshow': 1681, '_tradeassociation': 1679, '_texasinternationalproduceassociation': 1625, 'gamestop': 4271, 'refusing': 6585, 'jackass': 4960, 'butter': 2597, 'opening_': 5852, '_jessebubecci': 999, 'mike': 5467, 'dewine': 3404, 'workers___': 8386, 'desperate': 3388, 'raisin': 6483, '_attention': 372, 'zuppardo': 8482, '_doors': 716, '8am': 202, '_customers': 660, '65_': 162, 'wherein': 8310, 'remind': 6630, 'helped': 4551, 'create_dont': 3181, 'mean_go': 5402, 'supermarket_fear': 7553, 'god_panic': 4339, 'symptom': 7624, 'sinister': 7160, 'aspect__i': 2184, 'you__': 8454, 'regardless': 6588, 'merit_': 5447, 'hawaii': 4510, 'clare': 2837, 'e_': 3624, 'connors': 3019, 'executive': 3865, 'director': 3454, 'stephen': 7400, 'levins': 5148, 'of_': 5787, 'report_': 6657, '587_4272': 149, 'bash': 2337, 'officials_': 5802, 'reactive': 6512, 'fluid': 4098, 'vigilant_': 8144, 'precautions_': 6260, '_onpoli': 1257, 'getting_': 4309, 'rosie': 6806, 'riveter': 6781, 'met': 5452, '_ehende': 756, 'odd_': 5785, 'appeal': 2118, 'no_one': 5702, 'carnage_': 2671, 'okay': 5812, 'you_____covid2019': 8457, 'facilitates': 3935, 'spend_': 7313, 'ar': 2142, '_asahutchinson': 367, 'continue_': 3058, 'engage': 3747, '_arnews': 364, '_katv7': 1020, '6yrs': 173, '1950': 45, 's_60': 6833, '73': 179, 'uc': 7996, 'months_90_000': 5550, 'cohort': 2909, 'years_then': 8442, 'mp': 5582, 'disgrace': 3481, '_onevoice': 1254, '_ageconcern': 316, '_mentalhealth': 1137, '_dwpcrimes': 739, 'marked': 5356, 'logo': 5232, 'handed_': 4469, 'substitute_': 7510, '_mypsafortoday': 1181, 'blast': 2445, '_immigrantsong': 951, 'radiate': 6473, 'alive': 1990, '_canadalockdown': 471, '_duscarla': 737, '_wanda1606': 1752, '_carolinevoaden': 477, '_emmanuelmacron': 761, 'certainly': 2737, 'stance': 7357, 'years': 8440, 'materials_': 5377, 'idiot_': 4721, 'had_': 4452, 'departmental': 3367, 'hereby': 4562, 'bound': 2500, 'selflessly': 7000, 'touch': 7861, 'treat': 7916, 'substitutes_': 7511, '44': 132, '_selfisolate': 1459, '3months_': 124, 'cope_': 3090, '_corovid19': 603, '_spencers_retail': 1528, 'shameless': 7051, 'charged': 2758, 'mrp_': 5586, 'peple': 6050, 'nutritious': 5758, 'work_from_home': 8381, 'gift': 4313, '_mentalhealth_': 1138, '_selfcare': 1456, 'anxious': 2087, 'brad': 2513, 'hoard_': 4601, '_klew': 1034, 'emptying': 3730, 'alarming_': 1979, 'news_': 5678, 'restocked_': 6709, 'destined': 3393, 'peppa': 6051, 'pig': 6117, 'peas_': 6042, 'tbh_': 7670, '_corinnavirus': 552, '_koronavirus': 1036, '_coronavirusnorge': 585, 'sanity': 6888, 'izers': 4958, 'makeup': 5315, 'sniff': 7228, 'lockdown__our': 5226, 'most_': 5567, 'expert': 3888, 'issue_': 4945, 'stacking': 7350, 'reflects': 6576, '_reviewjournal': 1406, 'ah_': 1959, 'conscience_': 3020, '_terribleherbst_': 1621, 'gaming': 4272, 'tending': 7697, 'machines_': 5291, '_murderers': 1176, 'trifold': 7931, 'resiliency_': 6681, 'establish': 3799, 'consideration': 3023, 'alternative_____the': 2017, 'sun': 7541, 'newspaper__': 5680, '_toryshambles': 1673, '_sunnews': 1584, 'tinned': 7807, 'throttle': 7773, 'infinite': 4835, 'gaseous': 4282, 'warming_': 8223, 'trending': 7925, 'bushwick_': 2588, 'brooklyn': 2553, '10pm': 17, 'earlier': 3628, 'restocking_cleaning': 6712, 'fish': 4064, 'minus': 5495, 'opener': 5850, 'broke_': 2552, 'cooked_': 3081, 'eaten_': 3646, 'breaking_': 2531, 'bro': 2548, 'different_': 3428, 'services__necessary': 7030, 'distancing__': 3507, 'writes': 8417, '_d_kuehn': 664, 'onmsft_': 5840, '100k': 10, '_sindh': 1492, 'spokesman': 7324, '_murtazawahab1': 1177, '_taftaan': 1604, 'exclusive': 3861, 'visuals': 8167, 'criminal': 3194, 'negligence': 5656, '_cia': 502, '_washyourhands': 1755, '_germx': 841, '_beervirus': 404, '_damnbeervirus': 670, '_coronabeer': 555, '_coronabeervirus': 556, '_apocalypse': 357, 'supermarket___': 7552, 'addressing': 1899, 'leadership_': 5115, 'truely': 7948, 'ministerial': 5491, '_pressconference': 1325, 'eye': 3919, 'debit': 3301, 'fraudulent': 4182, 'ted': 7681, 'talk_': 7652, '__nielsen_': 288, 'constituency': 3033, 'appalled': 2114, 'responsibly': 6701, 'platedemic': 6157, 'weird': 8280, 'remaining': 6625, 'through_': 7774, 'connectivity': 3018, '_cwaunion': 661, 'lift': 5163, 'caps_': 2657, '_standwithprager': 1534, 'fargo': 3959, 'committed': 2952, 'assistance_': 2192, '1_800_219_9739': 56, 'trained': 7896, 'specialist': 7301, 'lending_': 5136, '_karileeak907': 1016, 'busi': 2589, '_theindigoauthor': 1635, '_winatlifeonline': 1781, 'assured': 2198, 'tirelessly': 7811, 'removed_': 6638, 'prohibits': 6366, 'profiting': 6362, 'tragedy': 7892, 'disaster_': 3466, 'mention_': 5440, 'pushed': 6430, 'limits_': 5177, '1__': 57, 'atlanta_based': 2207, 'furniture': 4254, 'havertys': 4508, '_nurses2020': 1225, '_nhs': 1205, '_actsofkindness': 304, '_tuesdaythoughts': 1698, '_dontbeaspreader': 712, '_business': 462, '32c': 107, 'disrupted': 3499, 'globally': 4327, 'more___': 5557, 'zanottos': 8472, '_sanjose': 1440, 'dedicate': 3314, '8_9am': 201, 'sterilize_': 7404, 'enter_': 3763, '_ktvu': 1041, '_cnbcnow': 520, 'kinda': 5033, 'weird_': 8281, '_you': 1815, 'mail': 5304, 'foodbank': 4126, 'patriotic': 6025, 'heartlessly': 4533, '500_': 144, 'job_most': 4980, 'certain': 2736, 'instability_': 4868, 'syrup_': 7627, '_bringmeauntjemima': 453, '_finalstraw': 798, 'peanut': 6040, 'butter___': 2598, 'postponing': 6228, '_holbycity': 909, '6pm': 171, 'bulletin_': 2577, '_bbva_usa': 399, 'bbva': 2356, 'bcrea': 2359, 'intelligence': 4877, 'sketching': 7174, 'housing': 4658, 'explores': 3903, '___especially': 271, 'whining': 8319, 'flesh': 4079, 'frigging': 4211, '_animalagriculture': 351, 'perishables_': 6065, 'youll': 8459, 'throw': 7776, 'sanitisers': 6878, 'mate': 5375, 'prevalent': 6300, 'snap_authorized': 7219, 'populations_': 6205, 'break': 2527, 'dod': 3524, 'recommends': 6556, 'prescription': 6285, 'comprehensive': 2987, 'interviewing': 4898, 'interview': 4896, 'roof': 6802, 'crashed': 3169, 'owner': 5934, 'weapon': 8257, 'therapy': 7733, 'barrie': 2332, 'bracing': 2511, '_barrie': 390, '_barriefoodbank': 391, '_madamearth': 1088, 'gone___': 4348, 'bloody': 2454, 'enforce': 3744, 'how_': 4661, 'relatively': 6605, 'half_hour_': 4458, 'hand_wash_': 4468, '_imperial': 956, 'leather_': 5124, 'smelling': 7207, 'baseball': 2335, 'faster_': 3971, 'shipped': 7078, 'whereas': 8309, 'nepal_': 5664, 'hiding': 4573, 'pitty': 6134, 'shame___': 7050, 'thanks_': 7721, '_elonmusk': 760, 'elon_': 3703, 'feared': 3989, 'responsably': 6697, 'strict': 7482, 'strainful': 7469, 'confinement': 3006, 'harvest': 4496, 'monetary': 5535, 'clothing': 2890, '20_': 72, 'madness_': 5299, 'none': 5709, 'green': 4398, 'downtown': 3564, 'dartmouth': 3272, 'respond': 6693, 'time3': 7796, 'wks_': 8366, 'attack': 2211, 'enemy': 3742, 'timeto': 7803, 'kill_': 5026, 'groceries_amp': 4406, 'storesremains': 7460, 'paid_': 5953, 'schedule': 6938, 'minutes_': 5498, 'occurs': 5782, 'often_': 5805, 'whats': 8304, 'ipad___my': 4918, 'roll___and': 6795, '_21stcentury': 229, '_thisislife': 1643, 'carers': 2668, 'surgery': 7577, 'epedimiologists': 3778, 'jam': 4963, '_set': 1473, 'accounts____': 1864, '_toiletpaperpanic_': 1660, 'inventory': 4903, 'months___': 5551, 'stock___': 7419, 'cat___': 2697, 'internet___': 4893, 'dumb': 3610, '_flatearth': 804, 'vids': 8139, 'laugh': 5098, 'at___': 2204, 'ingrained': 4851, 'classes_high': 2842, 'college_': 2923, 'expansion': 3875, 'telemedicine': 7683, 'residential': 6679, 'loneliness_': 5237, '_vancouvercorona': 1728, 'fever': 4013, 'four': 4170, 'tested_': 7708, '_yvr': 1819, '_vancouver': 1727, 'pioneer': 6129, 'rolling': 6796, 'laughing': 5099, '21st_century_ers': 73, '_panic_': 1278, 'teach': 7673, '_stevepogson1': 1554, 'transferred': 7902, 'provide_': 6394, 'italy_': 4952, 'scary': 6932, 'supoort': 7556, 'nutrition': 5757, 'quarter': 6444, 'round': 6809, 'centrex': 2731, 'ward': 8220, '65s': 164, 'b8': 2262, 'b9': 2263, 'b23': 2256, 'b24': 2257, 'b34': 2258, 'b35': 2259, 'b36': 2260, 'b37': 2261, 'fone': 4115, 'suit_': 7533, 'advertise': 1913, 'precise': 6263, 'done_': 3540, '_bigthreeconsulting': 419, '_bain': 385, 'bainalerts': 2294, 'focused': 4107, 'coordinated': 3088, 'agenda': 1945, 'cpg': 3161, 'ceo_': 2734, 'congestive': 3012, 'heart': 4530, 'failure': 3940, 'diabetes_': 3407, 'timeline': 7799, 'frightening': 4214, 'hanging': 4479, 'around_': 2156, 'appreciates': 2132, 'convenient_': 3073, 'direct_': 3447, 'site_to_home': 7166, 'beware_': 2414, 'merchandise_': 5444, 'fearing': 3992, 'closure_': 2884, 'nielsen': 5689, '_seo': 1469, '_sem': 1465, '_smo': 1506, '_smm': 1505, '_websitedesign': 1759, '_websitedevelopment': 1760, '_mobileappdevelopment': 1151, '_digitalmarketing': 699, 'singapore': 7155, 'fed': 3995, 'lie': 5155, 'superior': 7548, '_agkarlracine': 318, 'sir_': 7162, 'district': 3512, 'violation': 8151, '780': 183, '453': 133, '0101': 2, '_weareopen': 1758, '_blissbakedgoods': 427, 'raiding': 6479, '_chinavirus': 494, '_losangeles': 1077, '25': 82, 'struggle': 7491, 'brace': 2509, 'yourselves_': 8463, 'ufc': 7997, 'coming_': 2939, 'surviving': 7599, 'neighborhood': 5657, '_omaha': 1251, '_downtownomaha': 719, 'omaha': 5819, 'rush': 6827, 'heck': 4536, 'wrong': 8419, 'panicbuy': 5970, 'argued': 2151, 'unusual': 8066, 'prescriptions_': 6286, 'finally_': 4036, 'diktat': 3437, 'helpful': 4552, 'moratorium': 5555, 'debt_': 3304, 'example_': 3851, 'all_time': 1994, 'esto': 3804, 'un': 8011, 'abrir_': 1835, 'personas___': 6075, '_yomequedoencasa': 1813, 'convert': 3075, 'premises_': 6274, 'gain': 4264, 'presence': 6287, 'globe_': 4329, 'scale_': 6919, 'education_': 3671, 'investments_': 4908, 'imagining': 4743, 'hours____the': 4653, 'creativity_': 3187, 'salad': 6862, '_thetedallen': 1639, '_foodnetwork': 814, 'morphing': 5562, 'akash': 1972, 'prakash': 6251, 'brilliant': 2541, '_bsindia': 459, 'crash': 3167, 'liquidity': 5188, 'record': 6557, 'india': 4813, 'tackle': 7637, '2_1_1': 89, 'dial': 3410, 'flexible': 4082, 'fund_': 4249, 'dunnes_': 3614, 'obvious': 5777, 'beef_': 2376, 'readymade': 6518, 'sauces_': 6901, 'scratch_': 6952, 'heineken': 4541, 'federation': 3998, 'merchants_': 5445, 'advance': 1910, 'councillor': 3121, '_its': 982, 'for_': 4137, 'no__': 5701, 'stocked__': 7426, '_plantbased': 1315, '_plantbasedfood': 1316, '_veggieburger': 1731, '_beyondmeat': 415, '_fakefood': 779, '_ouch': 1267, '_haha': 879, '_beef': 402, '_realmeat': 1374, '_meatballs': 1130, '_apple': 359, 'laptop': 5082, '_compub': 532, '_coronaireland': 559, 'electricity': 3697, 'wind': 8345, 'significantly': 7146, 'combination': 2932, '_renewableenergy': 1382, '_windpower': 1784, '_windeurope': 1783, '_momlife': 1153, '_fattyforlife': 785, '_technology': 1613, 'covic_19': 3147, 'gender': 4292, 'neutral_': 5671, '_amid': 343, 'vulnerable__': 8183, '_amyvhaddad': 346, '_covidaus': 637, 'isps': 4942, 'usage_based': 8092, 'ice_': 4710, 'prepping': 6283, 'aka': 1970, 'wealthy': 8256, 'surrender': 7588, 'excuse': 3863, 'rising': 6773, 'enforced': 3745, 'minute': 5496, 'involuntarily': 4912, 'entering': 3766, '_supermarketsweeps___except': 1591, 'spin': 7319, '75': 180, 'discount': 3470, 'grandparents_in_law': 4386, 'wine_': 8349, 'priorities__': 6328, 'fortunately_': 4162, 'now__covid19': 5748, 'interviewed': 4897, 'kelly': 5018, 'podcast': 6180, 'below_': 2398, 'discussion': 3478, '_liquidity': 1061, 'informed': 4847, 'enoug': 3754, 'soooo_': 7272, '_houston': 922, 'resupply': 6722, 'apocalyptic': 2109, 'zero': 8476, 'hedge': 4537, 'shoe': 7088, 'zone': 8479, '500': 143, 'park': 5993, 'reached': 6507, 'disruption': 3500, 'wake_up': 8197, 'carl': 2670, 'safina': 6852, 'mediumwhy': 5422, 'ebola_': 3652, 'sars_and': 6894, 'coronavirus_2_3of': 3097, 'emerging': 3715, 'originate': 5895, 'develops_': 3401, 'spire': 7320, 'mental': 5438, 'minimize': 5488, 'article_': 2165, '_quarentine': 1351, 'stores_other': 7458, '_retailers': 1397, 'cleaning_': 2853, 'turned': 7974, '65_year_old': 163, 'racial': 6467, 'slur': 7198, 'blaming': 2443, 'him_': 4587, 'part_': 5999, 'mattessich': 5380, 'northern': 5724, 'northmart': 5726, 'freezing': 4196, 'saskatoon': 6896, 'at_risk': 2205, 'crowds_': 3208, 'reserving': 6678, 'group_': 4411, 'atm': 2209, 'pin': 6127, 'elevator': 3699, 'communal': 2958, 'madness__': 5300, 'fcac': 3982, 'composed': 2985, 'volatile': 8173, 'opportunities_': 5860, 'risks_': 6778, 'cmc': 2894, 'gm': 4332, '_supernovamedia': 1593, 'sm': 7199, 'hypermarket_': 4700, 'savemore_': 6908, 'stand_alone': 7359, '7pm': 192, 'mall_based': 5326, '9am': 213, 'mark': 5355, 'foster': 4166, 'city_': 2826, '605': 157, '22': 74, 'died': 3420, 'edt_': 3669, 'liu': 5201, 'guanguan_cnsphoto': 4421, 'sephora': 7020, 'undermines': 8019, 'spending_': 7315, 'biz': 2436, 'chamber': 2745, '_globeandmail_': 847, '_feeding9billion': 792, '_foodprofessor': 815, 'comment': 2942, '_just_in_time_': 1010, 'apologizes': 2110, 'hike': 4582, 'tonight__so14_': 7851, 'so15_': 7230, 'so16_': 7231, 'so17_': 7232, 'so18': 7233, 'so19_': 7234, '25_': 84, 'menu': 5442, 'fee_': 4000, '5_30pm_': 152, 'ring': 6766, '_thrive': 1645, '_vegan': 1730, '_caremongering': 476, 'zehrs': 8475, '_bolton': 432, 'most_vulnerable': 5568, '_caledon': 467, '_covid19kindess': 619, 'uganda': 7998, 'bomb__': 2472, 'early_': 3631, '_ifyouknowyouknow': 943, 'booked': 2476, 'relinquish': 6620, 'schenectady': 6940, 'tolerated_': 7838, '_covid19southafrica': 625, 'christ': 2812, '_bchapman151': 400, '_dont': 711, 'immunosuppressed': 4753, 'healthy__': 4526, 'depot': 3371, 'store___keep': 7451, 'walking_': 8207, 'pull': 6416, 'red': 6564, 'light___dont': 5165, 'window': 8346, 'wave_': 8246, 'tissues_': 7815, '_cruise': 648, 'security_': 6974, '_grocerystores': 872, 'am_': 2024, 'newly': 5675, '_limit': 1060, '3__': 121, 'sudden': 7516, '_health_': 892, 'plentiful': 6168, 'scarce___': 6925, 'alrighty_': 2010, '_nutrition': 1226, 'amy': 2048, 'explains': 3897, 'prepare': 6279, 'glance': 4323, 'houston': 4659, 'plunge': 6174, 'degree': 3329, 'sensitivity': 7016, 'sale_': 6865, '_fintech': 802, '_contactless': 545, '_payment': 1297, '_paytech': 1298, '_lendtech': 1050, '_processing': 1335, '_ach': 303, 'consumer_members': 3039, 'co_op': 2899, '_bradpaisley': 444, '_kimwilliamspais': 1030, 'nashville': 5624, 'organizing': 5891, 'neighbors_': 5658, 'amazing_': 2028, '_etnow': 767, 'continually': 3056, 'wisely': 8360, 'srpeading': 7346, 'holiday': 4611, 'constant': 3029, 'snacking': 7217, 'bar_restaurant': 2321, 'half_': 4456, 'catherine_': 2704, 'parents__': 5991, 'stealing': 7392, 'drop_off': 3596, 'row': 6813, '_dradrianheald': 720, 'french': 4197, 'anti': 2080, 'maximum': 5383, 'euros_': 3816, 'panic_buying__': 5969, 'polite_': 6189, 'rolls___': 6799, 'organization': 5890, '_foodbank_': 812, 'thursday_': 7783, 'expired': 3891, 'castoff': 2694, 'largely': 5085, '_panicbuying_': 1282, 'word_': 8378, 'spice': 7317, 'rack_': 6471, 'floor': 4089, 'lamp': 5079, '2x': 99, 'brushes_': 2559, 'wbu_': 8251, '_adulting': 307, 'ever_': 3827, '_maysbusiness': 1122, '_retailing': 1399, '_tamu': 1606, 'tradeshow': 7886, '_vivafreshexpo': 1740, 'event_': 3822, '2021': 69, 'partial_full': 6001, 'refund_': 6581, '_b2b': 382, 'interactive': 4883, 'index_': 4812, '_restaurants': 1389, 'humanitas': 4675, '_human': 925, 'nature_': 5633, 'kindness__': 5037, 'exploiting': 3901, 'reflex_': 6577, '_worktogether': 1794, '_ukcoronavirus': 1708, 'drafted': 3573, 'apocalypse_': 2108, 'pray': 6252, '_stpatricksday': 1577, '_stayathomechallenge': 1539, '_firstresponders': 803, '_tuesdaymorning': 1697, 'manufacturers_': 5346, 'mile': 5469, 'radius': 6476, 'sidewalk_': 7140, 'scarier': 6930, 'guns_': 4439, 'bottled': 2493, 'note_': 5732, 'bat_': 2347, '_wuhanbat': 1801, 'cool': 3087, '_piersmorgan': 1312, 'adult_': 1909, 'train_': 7895, 'pub_': 6411, 'toughen': 7865, '_snowflake': 1508, 'car_': 2659, 'lately_': 5092, '_chefpassportmagazine': 489, '_cookingclass': 549, '_pantry': 1287, 'sacrificing': 6839, 'tremendous': 7922, 'then_': 7730, 'supplies_food': 7560, 'force': 4140, '_trump': 1690, 'aside': 2177, '_dollargeneral': 708, '_rheum_covid': 1407, '_psufka': 1340, '_acejointhealth': 302, '_arthritis': 365, 'patient': 6022, 'listed': 5192, 'sponsor_': 7327, 'arthritis': 2163, 'slower': 7194, 'curbed': 3227, 'steadily': 7391, 'returned': 6735, 'official': 5800, 'tuesday_': 7964, 'basis': 2342, 'overall': 5919, 'hikes_': 4584, 'vital': 8168, 'bread_milk_toilet': 2526, 'honored': 4628, 'refunded': 6582, '_govraimondo': 858, '_rihospitality': 1410, 'transfer': 7901, 'wel': 8282, 'euros__': 3817, 'thing_____': 7746, 'right__': 6763, '_euro2020': 769, '_transfermarkt': 1683, 'genius': 4298, 'women_': 8371, 'game': 4268, 'pacman': 5946, 'picking': 6109, 'bump': 2581, '_australia': 375, '_baking': 386, '_masterchefau': 1116, 'surprising': 7585, 'tonic': 7848, 'g_amp': 4260, 'unthinkable_': 8063, '_lawsuits': 1046, 'dressed': 3581, 'hazmat': 4513, '_protip': 1338, '_lysol': 1086, 'disinfectant': 3487, 'laundry': 5103, '_survivaltips': 1601, '_realjameswoods': 1372, 'something_': 7263, '_quarenteen': 1350, 'lowered': 5268, 'ebook': 3653, '_99': 250, 'fantasy': 3956, 'covered': 3145, '_stayhomeandread': 1543, 'patenting': 6019, 'world_famous': 8397, 'vegetable': 8120, 'phall': 6085, 'fin': 4033, 'monde': 5534, 'behave': 2384, 'frustration': 4227, 'leaders_': 5113, 'faced': 3929, 'confusion': 3010, 'lent': 5138, 'band': 2310, 'together___and': 7832, '_workingthefrontlines': 1793, '_jaketapper': 990, 'cross': 3202, 'clorox': 2874, 'opposite': 5864, '_feckinggrandpa': 790, 'grandpa': 4385, 'ramen_': 6485, 'seller_': 7004, 'levity': 5149, 'owns': 5936, 'comedy': 2935, 'includingthe': 4796, 'improv_levity': 4776, 'live_copper': 5204, 'blues_': 2457, '_cancelation': 472, '_levityliveoxnard': 1056, '6am_7': 170, 'designated': 3385, '60__': 159, 'intended': 4878, 'environment_': 3776, '30a_8p_': 103, '_bridgeport': 452, '_publichealth': 1343, '_prevention': 1327, 'tritax': 7936, 'bbox': 2355, 'fright': 4212, 'logistics': 5231, 'firms_': 4059, 'prompting': 6374, 'ultimately': 8008, 'indicator': 4817, 'value_': 8111, '_100k': 218, 'pharmacists_': 6090, 'orderlies_': 5883, 'workers_people': 8387, 'much_': 5591, 'reevaluate': 6570, 'skip': 7177, 'cookwme_fe8vlt_': 3086, '_stayinghome': 1548, '_community': 528, '_uppernorlibhub': 1719, 'managing': 5333, 'facetime': 3933, '_crystalpalace': 652, '_communityspirit': 530, '_communitymatters': 529, '_digitaldivide': 698, '_cpneighbours': 642, '_crystalpalacett': 653, '_pgtimebank': 1308, '_kingswoodshop': 1032, '_se19': 1455, 'dunedin_': 3613, 'octagon': 5783, '7pm_': 193, 'shoot_out': 7091, 'self_isolation': 6993, 'mid': 5458, 'cheshire': 2784, 'practise': 6248, 'whenever': 8307, '_freedelivery': 828, '_avoidcrowds': 379, '_southafrica': 1522, '_besafe': 410, '_keepcalm': 1023, '_drinkcoffee': 725, '_cleanyourmachine': 512, '_descale': 688, 'wage_': 8188, 'disallowing': 3459, 'predict': 6265, 'site_wide_': 7167, '_chrislines01': 500, '_peter_fitz': 1306, '_newscomauhq': 1203, 'grocer': 4404, 'started_': 7367, 'claiming': 2834, 'overwhelmed': 5932, '_merkle': 1141, '_dutcherkimberly': 738, '_marketingland': 1106, '_media': 1132, '_advertisers_': 308, 'warehouse': 8221, '_textscore': 1626, 'consistently': 3026, '_companywatch': 531, 'recruit': 6563, 'cope': 3089, 'hospitality': 4643, 'save__': 6905, 'mix': 5512, 'match': 5374, 'bake': 2296, 'dough': 3556, 'cookie': 3082, 'mix___buy': 5514, 'free_': 4190, '_40': 240, 'delivery__': 3350, '780_570_5080': 184, 'sales_confettisweets_ca': 6867, 'order__': 5879, '__shpk': 296, '_yeg': 1809, '_yegfood': 1810, 'expired_': 3892, 'missed': 5507, 'tesla': 7704, 'supercharger': 7547, 'apartment': 2105, 'hospitalized': 4644, 'therapy_': 7734, 'aye_': 2255, 'lmfaooooo': 5211, 'construction': 3034, 'dalma': 3261, 'capital_': 2651, 'zachary': 8468, 'cefaratti_': 2720, '_dalmacapital': 669, '_tenantsvic': 1620, '_anglicarevic': 350, '_claylucas': 506, '_smh': 1503, '_theage': 1633, 'rental': 6645, 'halt': 4460, '_flyfrontier': 807, 'stepped': 7401, 'appreciated_': 2131, 'brewery': 2537, 'navigate': 5634, 'unfolding': 8034, 'mind_': 5481, 'provincial': 6401, 'wal_mart_': 8200, '_keepcalmandcarryon': 1024, 'resisted': 6684, 'noise': 5704, 'ad': 1887, 'epic': 3779, 'fine_': 4045, 'vomit_': 8177, '3_21_': 117, '_shelterinplace': 1479, '_stoelrives': 1564, 'client': 2868, 'stephanie': 7399, 'meier_': 5430, 'craig': 3163, 'pacheco_': 5939, 'breweries_': 2536, 'distilleries_': 3508, 'direct': 3446, '_drinklocal': 726, '_covidincalifornia': 638, 'rode': 6789, 'bike': 2423, 'backpack': 2276, 'lunchables_': 5275, 'airport': 1967, 'transportation': 7908, 'gonzalez': 4351, 'vallarta': 8108, 'supermarkets_': 7555, '_seniors': 1468, 'injured': 4856, 'uber': 7994, 'vaccination': 8106, 'f___': 3922, 'all__': 1993, 'idiots__': 4722, '_baba': 383, '_jd': 996, '_pdd': 1299, '_tcehy': 1611, '_tcom': 1612, '_wynn': 1805, '_lvs': 1085, '_mlco': 1149, '_iq': 972, '_bili': 420, '_yumc': 1818, 'craig_bespokeintel_com': 3164, 'surprised': 7584, 'clearly': 2860, 'over_70': 5917, 'aisles_': 1969, '_rebecca_mehra': 1376, 'inspired': 4867, 'noticed': 5739, 'relieved_': 6618, 'trend': 7923, 'momentum': 5528, 'anyway___': 2098, 'commission': 2947, 'identifying': 4718, 'prompt': 6372, 'cnn': 2896, 'jeeeez': 4970, 'overreacting': 5927, '_ryanair': 1428, 'error': 3788, 'reservation': 6675, 'incorrect_': 4802, 'lad': 5073, 'trans': 7899, 'male': 5322, 'oap': 5767, 'washed': 8230, 'theme': 7728, 'birthday': 2431, 'download': 3562, 'boxtops': 2504, 'scanning': 6922, '_boxtops': 441, '_hollywoodmerkin': 910, '_dansewell': 672, '_confessionsofashopaholic': 533, 'nadad': 5615, '100m': 11, 'c19': 2607, 'suggest': 7528, 'pharmaceutical': 6087, 'outrageous': 5913, 'guard_': 4424, '_humannature': 927, '_old_school_alps': 1248, '_wesstreeting': 1768, 'wes_': 8297, '_handsanitizer': 883, 'cap_': 2646, 'cap': 2645, 'sto': 7415, 'leggings_': 5133, 't_shirts_': 7634, 'makeup_': 5316, 'accidentally': 1855, 'bran': 2514, 'delicious': 3338, 'crunch': 3212, 'version___im': 8130, '_1': 216, 'refuse': 6583, '___coronavirus': 270, 'picked': 6108, 'lineup': 5181, 'apart_': 2104, 'wheres': 8311, '_coronamemes': 560, '_sanitizer': 1439, 'reliance': 6612, '_hire': 904, 'volume': 8174, '_supplychain': 1595, '_demand_': 685, 'me___im': 5395, 'introvert': 4901, 'items____lifeadjustment': 4955, 'oh_': 5807, 'replace': 6653, 'overbooked': 5921, 'genuinely': 4300, 'revert': 6742, 'tine': 7806, 'replenish': 6655, 'stocks_': 7435, 'displaying': 3495, 'present_': 6288, 'committal': 2951, 'approach': 2135, 'temperature': 7689, 'testing_': 7710, 'appointment_': 2128, 'in_laws': 4785, 'welp_': 8293, 'luck_': 5272, 'milling': 5478, 'gtfo_': 4420, 'shocked_': 7086, 'saddened': 6842, '_coronavirusaus': 575, 'april_': 2140, 'awesome': 2250, 'plague_mageddon': 6146, 'gloriously': 4330, 'circa': 2818, '1996': 46, 'pic': 6105, '_iwillsurvive': 987, '_2020': 228, '_gasprices': 838, 'ya': 8433, 'cup': 3223, '_nielsen': 1208, 'investigation': 4905, 'identified': 4717, 'threshold': 7769, 'tie': 7788, 'directly': 3452, 'toiletpaper': 7835, 'laughter': 5100, '_citynews': 505, '_rogerfpetersen': 1416, 'nuts___': 5760, 'craze': 3172, 'tor_': 7857, 'speaking': 7299, 'basics_': 2341, 'frills_': 4215, 'shutter': 7130, 'thin': 7742, 'classy__': 2845, 'sort': 7277, '_torybritain': 1672, 'sometimes_': 7265, '_covid19malaysia': 620, 'generated': 4295, 'grace': 4378, 'levels_': 5147, 'expand': 3873, '_pandemic_': 1276, '_highstreet': 903, 'carphone': 2674, 'blame_': 2442, '_cx': 662, '_customerexperience': 659, '_retailapocalypse': 1395, 'sufficient': 7523, 'wakeup': 8198, 'sustainably': 7609, 'turbulent': 7969, 'licking': 5154, 'excess': 3855, 'bought_': 2497, 'genitals': 4297, 'pox': 6241, 'ridden': 6755, 'eternity____': 3810, '_jaysonlusk': 993, 'lusk': 5278, 'coughs_': 3117, '_invasionofthebodysnatchers': 966, '_marcorubio': 1104, 'bailouts': 2293, '_23_': 230, 'rat': 6495, '0__': 4, 'sweetheart': 7616, 'lobbyist_': 5218, '_debbymohindra': 680, 'accuse': 1867, 'back_': 2271, 'morons_': 5561, 'stupidity': 7503, '_reuters': 1404, 'fails_': 3939, 'delivering': 3345, 'haul': 4503, 'drive_': 3586, '350': 110, 'americans_': 2037, 'sudde': 7515, '9_11': 211, 'killed': 5027, '2_996': 92, '7_514': 189, 'dead__': 3292, 'crash_': 3168, 'bno': 2459, 'sight_': 7142, 'golden': 4343, 'farmer': 3963, 'polk': 6192, '_coronavirus_related': 574, 'price_gouging': 6312, 'filed': 4026, '621_0508': 160, '_texas': 1624, '_coronavirustexas': 597, '_anxious': 356, 'snatching': 7221, 'gird': 4316, 'limits__': 5178, '_skyireland': 1498, 'hiya': 4596, 'entertained': 3767, '__liveinhope': 287, 'pwani': 6436, 'reduction': 6569, 'firm': 4057, '150': 29, 'handwashing': 4477, '_weshallovercome': 1767, '_covid19ke': 618, 'regional': 6590, 'terry': 7702, 'schmitt': 6942, 'europe_': 3814, 'deeply': 3322, 'afghan': 1931, 'population_': 6204, '__pakistan': 290, '_afghanistan': 312, '_iran_': 973, 'doubled': 3552, 'kabul': 5008, 'mom': 5525, 'starved': 7374, 'sim': 7149, '_momthoughts': 1154, 'prime_': 6321, 'noodles_': 5716, 'awhile_': 2253, 'roof_': 6803, 'catastrophic': 2699, 'foodservice': 4132, 'dog': 3528, 'baskets_': 2345, 'ugly': 7999, 'be_': 2361, 'tone_deaf': 7847, 'wondrously': 8375, 'diverse': 3514, 'multi': 5593, 'talented': 7650, 'premier': 6273, 'ford': 4143, 'described': 3379, 'prevents': 6306, 'follow_': 4112, 'cohabitants': 2908, 'entertained_': 3768, 'francisco_': 4176, 'hustle': 4691, 'grass': 4388, 'organic': 5888, 'skyrocket': 7180, 'duration': 3616, 'plague_': 6145, '_randalls': 1364, 'denver': 3364, 'warns': 8226, 'hidden': 4571, '_stoppanicbuying_covid19': 1569, 'bulk_buying': 2575, 'cutting': 3249, 'drag': 3574, 'wipe_': 8355, 'im_not_playing_': 4740, '_toiletpaperemergency': 1658, '_nordstrom_': 1219, '_bigbearf1': 417, '_vdvart': 1729, 'wounder': 8411, 'sparse_': 7297, 'worst_': 8407, 'high_risk_': 4577, 'age_health': 1943, 'physically': 6102, 'forcing': 4142, 'frequent': 4198, 'painful': 5955, 't_p_': 7633, 'b_c': 2265, '_plsstophoarding': 1318, 'furry': 4255, '__pets': 291, 'administration': 1906, 'slowly': 7196, 'countless': 3127, 'lady': 5074, 'salary': 6863, 'smiling': 7210, 'cheerful': 2780, 'carefully': 2666, 'trainer': 7897, 'confinement_': 3007, '_attestation': 373, '_carrefourmarket': 478, 'piece': 6115, 'relates': 6601, 'creaking': 3177, '_sainsburysnews': 1434, 'prioritise': 6329, '_detroitnews': 690, 'whitmer': 8323, 'liar': 5152, 'gain_': 4265, 'shape': 7053, 'compared': 2969, 'countries_': 3128, 'influenza_': 4840, '_outbreak': 1270, '_10_': 219, '_coronavirussupplies': 596, 'trinitysswellness': 7933, 'ihomecctv': 4729, 'reaching': 6508, 'castle': 2693, 'donington': 3541, '_free': 827, 'self_isolating': 6992, 'sanitise': 6876, 'drop_off_': 3597, 'details_': 3395, 'believed': 2393, 'function': 4245, 'garbage': 4276, 'compensated': 2972, 'anywhere': 2100, 'demand__': 3355, 'ummmm': 8009, 'boris_': 2488, 'food__': 4118, 'down___': 3560, '_intotheunknown': 965, '_wegotthis': 1762, '_supermarketstaffareheros': 1589, 'cium': 2828, 'tangan': 7656, 'packed': 5944, 'alright': 2008, 'summore': 7540, 'ngeles': 5682, 'tap': 7658, 'perfectly': 6057, 'horde': 4633, 'speechless': 7307, 'act_': 1873, 'bodega': 2463, '10_20_': 15, 'burn': 2584, 'buck': 2563, 'gouging_': 4361, 'bite': 2434, '_nyclockdown': 1229, '_tips': 1648, 'medication': 5418, '_wellbeing': 1764, 'shops_businesses': 7108, 'accc': 1846, '_siouxsiew': 1494, 'loose': 5246, 'squeeze_': 7345, 'rinse': 6767, 'habit__': 4448, '_co': 523, '8pm_': 204, 'finish_': 4048, 'hmmm_': 4599, '_ubereats': 1703, '_hcw': 888, 'unusual_': 8067, 'ludicrously': 5273, 'guinness': 4436, 'sarawak': 6893, 'wet': 8300, 'excellent': 3852, '774': 181, 'consume': 3035, 'timely': 7800, '_ftc': 832, '_scams': 1449, '_sephora_': 1470, 'chocolate_': 2805, 'ice': 4709, 'want_': 8215, 'balance': 2302, 'diet_': 3424, 'carefree_': 2665, '_covid19india': 616, 'fortunately': 4161, 'facemask': 3930, 'shey': 7073, 'paper___': 5981, '_cspan': 654, 'defeated_': 3324, 'hmm': 4598, 'conspiracy_': 3028, 'agreement': 1956, 'pl': 6137, 'facebook_': 3928, 'google': 4356, 'aggregate': 1947, '_including': 958, 'distances_': 3504, 'bracket_': 2512, 'me__': 5393, 'bod': 2462, '_eyesuphere': 775, '_dadbod': 665, 'twitter': 7981, 'tissue_type': 7814, 'wipes_': 8356, 'desperation_': 3389, '_idontunerstand': 940, 'capitalize': 2654, 'asda': 2170, 'amend': 2031, 'passing': 6011, '_maudnetteys': 1117, '_covid19ghana': 615, '_closebordersnow': 514, '2am': 95, 'lot_': 5258, 'adhering': 1901, 'dz': 3623, 'tomahawk': 7841, 'ribeye_': 6746, '_keto': 1027, '_steak': 1552, '_ribeye': 1408, '_tomahawkribeye': 1664, '_grilledmeat': 863, '_grilling': 864, '_sousvide': 1520, '_sousvidecooking': 1521, '_ketofood': 1028, '_ny': 1227, 'wilding': 8338, 'fairly': 3942, 'missing_': 5508, 'campaigns_': 2628, 'slogans_': 7190, 'civilization': 2832, 'incredibly': 4809, 'change_': 2748, 'reminding': 6634, 'cavalier': 2716, 'deaths_': 3300, 'delayed': 3335, 'unemployment_': 8031, 'poverty': 6235, 'kills_': 5030, 'accordingly_': 1860, 'dude_': 3608, 'wtf_': 8424, '_houstoncoronavirus': 923, '3_500': 120, 'coronavirus__': 3098, 'liquid': 5187, 'foaming': 4105, '_madness': 1089, '_shefshakespeare': 1477, '_aggiegoatmother': 317, '_tommoriarty16': 1665, 'onus': 5843, 'otc': 5897, 'don': 3534, 't_': 7630, 'reassure': 6539, 'half_year': 4459, 'interim': 4890, 'incites': 4791, 'powerful': 6240, 'tone': 7846, 'forward__': 4165, 'sneezed': 7225, 'murdering': 5603, 'head_': 4516, 'unexpected': 8032, 'sneeze_': 7224, 'condiments_': 2997, 'obscene': 5771, '_scoopit': 1451, 'i_': 4706, '_gradschool': 859, 'graduation': 4380, 'funny': 4252, 'ironic': 4924, 'gvmnts': 4442, 'usually': 8103, 'fashioned': 3966, 'one_': 5829, 'ima': 4741, 'makin': 5317, 'instils': 4871, 'knew': 5047, 'wanting': 8217, 'soup': 7281, '_elevenseswithemmabunting': 759, 'again___': 1941, '_chewy_': 491, 'linus': 5186, 'eats': 3649, 'apologizing': 2111, 'rock_': 6787, 'sickness': 7136, 'coverage_': 3144, 'widely_': 8333, 'track': 7880, 'dine_in': 3440, 'this___': 7756, '_toiletpaperapocalypse': 1655, 'peter': 6080, 'andre': 2055, 'irresponsible': 4928, 'perception': 6055, '__nytimes_': 289, '_shawnjelebi': 1476, 'inconvenience_': 4800, '_talking': 1605, '_paying': 1296, '_staying': 1547, '_considering': 539, 'nowhere': 5749, 'meds_': 5423, 'necessities_': 5646, '_nohoarding': 1216, 'escape': 3791, 'feed_': 4003, '_otisrtaylorjr': 1266, 'w_': 8185, '_jbellnews': 995, '_pattireising': 1293, '_kcbsradio': 1022, '230p': 77, 'east': 3639, 'bay_': 2354, 'truth': 7953, 'wow_': 8413, 'socialism_': 7244, 'socialist': 7245, 'decide': 3305, 'peop': 6047, 'ally': 1999, 'david': 3283, 'pecker_amis': 6043, 'enquirer': 3757, 'disinformation': 3490, 'pulled': 6418, 'candid': 2638, 'chatting': 2768, '_yikes': 1811, '_lowstock': 1082, '_goodnessgracious': 852, '_lidlgb': 1058, 'urgently': 8086, 'establishing': 3801, 'shopping_delivery_': 7106, '_covid2019uk': 633, '_covid19uk': 627, 'habits_': 4449, 'priorities_': 6327, 'lifestyle_': 5162, 'inner': 4857, 'peace_': 6038, 'teach_': 7674, '_dontpanic': 713, '_repcharliecrist': 1383, 'bailout': 2292, '_if': 941, 'taxpayers__': 7667, '_wfla': 1771, 'ill_': 4734, 'fewer': 4014, 'make_': 5314, '_supplychnqueen': 1598, '_taxumo': 1610, 'self_employed': 6989, 'owners_': 5935, 'impact_': 4757, 'subscription': 7508, 'affordably_': 1929, 'forfeit': 4149, 'practical': 6244, 'ideas_': 4716, 'austerity': 2222, 'enveloped': 3774, 'propped': 6381, 'raising': 6484, 'poorest': 6198, 'renter': 6646, 'net_': 5667, '_impact': 955, 'hoarded': 4602, '_realkidpoker': 1373, 'youve': 8464, 'answer_': 2076, 'toliet': 7839, 'fijian': 4024, 'competition': 2973, '_fijisports': 797, '_fbcsports': 787, 'carrying': 2680, '_fbcnews': 786, '_fijinews': 796, '_fiji': 795, '_watch': 1756, '_learn': 1049, 'ability': 1829, 'renewed': 6641, 'utilize': 8105, 'benefits_': 2400, 'bcla': 2358, 'sheets_': 7062, 'ecps': 3663, 'consumers_': 3041, 'illinois': 4736, 'entered': 3765, 'pills_': 6126, 'potions_': 6232, 'lotions_': 5259, 'over_the_counter': 5918, 'treat_cure': 7917, 'coronavirus_related': 3100, 'subject': 7505, 'exacting': 3845, 'record_': 6558, 'sumer': 7535, 'summer_': 7539, 'winter': 8353, 'southern': 7288, 'hemisphere_': 4556, 'global_': 4326, '_jaythealbertan': 994, '_zellersstore': 1821, 'biway': 2435, 'ed': 3665, 'paracetamol': 5985, 'nurofen_': 5752, 'quit': 6462, 'food_loo': 4123, 'rolls_meds': 6800, 'altogether_': 2021, 'ibuprofen': 4708, 'used': 8095, 'bmj': 2458, '_homequarantine': 912, '_earth': 741, '_peace': 1300, '_mask': 1112, '_cleanlife': 510, '_cleancity': 509, '_cleanworld': 511, '_designer': 689, '_awareness': 381, 'irishman': 4923, '_happystpatricksday_': 885, 'guiness': 4435, 'corned': 3091, 'cabbage': 2610, 'irish': 4922, 'pub': 6410, 'tradition_': 7888, 'pritzker': 6335, 'nestlequick': 5666, 'coca': 2902, 'cola': 2912, 'acquired': 1870, 'donations_': 3538, 'unt': 8062, '_chopped': 497, 'means_': 5405, 'banks_': 2315, 'short_': 7111, 'heartbreaking_': 4531, 'the_coronavirus': 7725, 'outbreakhas': 5908, 'seven': 7035, 'tempted': 7693, 'unproven': 8055, 'questionable': 6450, 'claims_': 2835, 'provider_': 6397, 'cold': 2913, '6th': 172, 'guilt': 4432, 'abled': 1831, 'vunerable': 8184, 'ifpri': 4725, 'complacent': 2976, 'govts': 4373, '_kkmputrajaya': 1033, 'deploy': 3370, 'measurement': 5409, 'spree': 7341, 'pairwise_': 5957, 'pre_packaged': 6257, 'boxes_': 2503, 'nea': 5638, 'hunger_': 4681, 'grapple': 4387, 'pantries_': 5977, 'altered': 2013, 'scrambling': 6950, 'profound': 6363, 'varied': 8114, '_supplychain_': 1596, 'processing': 6348, 'b_c_': 2266, '_weekend': 1761, 'gap_': 4274, 'hampering': 4465, 'exempt': 3866, 'manufacturing': 5347, 'klang': 5046, 'doorstep': 3549, '_coleyworld': 526, 'opened_': 5849, 'parking': 5994, 'bustling_': 2593, 'clerk': 2862, 'concerned_': 2994, 'piss': 6130, 'already_': 2007, 'boujee_': 2498, 'latter': 5097, 'theknock_on': 7726, 'innovative': 4858, 'competitive': 2974, 'survival_': 7594, 'clean_': 2848, 'leadership': 5114, 'bail': 2290, '_onemileatatime': 1253, '_garyleff': 837, '_godsavethepoint': 848, 'congressional': 3015, 'musing': 5605, 'idea_': 4715, 'comforting': 2937, '_msnbc': 1172, 'sfbayarea': 7042, 'day1_were': 3285, 'lockdown_this': 5227, 'distance_we': 3502, 'drive_walk_go': 3589, 'thru_take': 7780, 'store_pharmacy': 7453, 'calm_safe_was': 2623, 'x2': 8429, 'experience__': 3884, 'hy_vee_': 4693, 'inc_': 4788, 'and___': 2052, 'today____': 7826, '_meme': 1135, 'find___': 4042, '_fuzzpugz': 835, '_eurusd': 772, 'hovering': 4660, 'mid_1_11': 5459, 'await': 2244, 'slew': 7186, '_eurozone': 771, 'potentially': 6231, '_volatility': 1743, 'clawed': 2846, 'collapsing': 2916, 'barrel_': 2330, 'covering_': 3146, 'priority': 6331, '17th': 38, '_jackiekarmatica': 989, 'sneezed_': 7226, 'relax_': 6608, 'mean_': 5401, 'sneezing': 7227, 'although_': 2019, 'faking': 3944, 'mig': 5464, '3_18_': 116, 'calls_': 2620, 'anybody': 2089, 'cautioned': 2713, 'urged': 8084, 'gpb': 4375, '_blissavidge': 426, 'reaffirm': 6519, 'manna': 5341, 'bracebridge': 2510, 'anticipate': 2082, 'escalates': 3790, 'waking': 8199, 'great_': 4393, 'loaf': 5214, 'snatched': 7220, 'demographic': 3360, 'in_person': 4786, 'gabriel': 4262, 'dumont': 3611, 'institute': 4872, 'outlet': 5912, '_saskatoon': 1445, 'suspended_': 7605, 'novelty_': 5743, 'gate': 4283, 'stall': 7356, 'starving': 7375, 'bravo': 2521, '66': 165, 'buffer': 2566, 'portion': 6210, 'goi': 4340, 'indirect': 4818, 'ww': 8428, '_nzlabour': 1238, 'perhaps': 6060, 'paywave': 6037, 'presented_': 6289, 'recommend': 6553, 'fo': 4104, 'collateral': 2917, '_rbi': 1367, '_necessity__': 1192, 'abundance_': 1843, '_totinosarelifenow': 1674, 'dunno': 3615, 'restaurants______i': 6707, 'event_travel': 3823, 'in_demand': 4783, 'skyrocketing_': 7182, 'whoever': 8325, 'horrendous': 4636, 'scored': 6949, '_eatlikekings': 744, '_hawtdawgs': 887, '_preppers': 1323, '_coronatime': 565, 'frisco_': 4217, '_sanparksknp': 1442, '_snwright59': 1509, 'pound': 6233, 'ridge_': 6758, 'ny': 5761, 'rush_': 6828, '_westchestercounty': 1769, 'smiled': 7209, '4_pack': 140, 'sides_': 7139, '_supermarketapocalypse': 1586, 'swine': 7619, 'bed': 2372, 'ridden_': 6756, 'died_': 3421, 'seemingly': 6981, 'manufactured': 5344, 'logic': 5230, 'realistic': 6524, 'firefighter': 4055, 'accountant': 1862, 'santa': 6889, 'hilarious_': 4586, 'checkout_': 2778, 'watch_': 8239, 'humor': 4679, '_coronaapocalypse': 554, '_humorcoronavirus': 928, '_gibneylegal': 845, 'ip': 4917, 'angelo': 2058, 'mazza': 5388, 'counterfeit': 3125, 'brother_': 2556, 'sanitising': 6879, 'cleansing': 2855, 'couldnt': 3119, 'user': 8099, 'download_': 3563, 'circulate': 2821, '_wsendzik': 1797, '_niagara_411': 1207, 'exempt_': 3867, '_thepencentre': 1637, 'shoppi': 7100, 'television': 7684, '_coronaviruspanic': 592, 'flatten': 4076, 'curve_': 3243, 'bombay': 2473, '_wetones': 1770, '_cloroxwipes': 513, '_unused': 1718, '_ugh': 1705, '_keepyourdistance': 1025, '_sixfeetapart': 1496, 'll_': 5210, 'today___': 7825, 'luck': 5271, '_sethmeyermu': 1474, '_tyne_ag': 1700, '_usda_ams': 1725, 'front_': 4219, 'weaken': 8254, 'macroeconomic': 5293, 'weakness': 8255, 'near_term_': 5640, 'tbd': 7668, 'retail_based': 6727, '_chaos': 485, '_goko': 849, '_footprints': 820, 'gust_': 4440, 'announce_': 2067, 'bless': 2446, '_goko_restaurant': 850, 'promote': 6371, 'tp__': 7879, 'booty': 2481, 'investment': 4907, 'discussed': 3476, 'sharmin': 7059, 'mossavar_rahmani_': 5566, 'division': 3515, 'goldman': 4344, 'sachs_': 6837, 'repurposed': 6661, 'soviet': 7289, 'diary': 3412, 'voting': 8180, 'apparently_': 2117, 'pearled': 6041, 'barley_': 2328, 'tostada': 7858, 'shells_': 7065, 'vinegar_': 8150, '_behaviors': 405, 'update_': 8073, 'were_': 8296, 'impossible': 4774, 'fearful_': 3991, '_gsfromthep': 874, 'style': 7504, 'renee': 6640, 'arbitrarily': 2144, 'ploy': 6171, 'sneaky': 7222, 'milky': 5475, 'perfect': 6056, 'blame': 2441, 'vf_': 8132, 'pvh_': 6435, 'gap': 4273, 'sourcing': 7285, 'aviation': 2240, '__sectors': 294, 'stores_supermarket_hypermarket': 7459, 'stations_bus': 7387, 'rnr': 6784, 'beloved': 2397, 'hometown': 4623, 'did_': 3415, 'inffected': 4833, 'cellular': 2723, 'terrified': 7701, 'unfolds': 8035, 'suffering_': 7521, 'bcz': 2360, 'king_': 5039, '_realestate': 1371, 'pilling': 6124, 'starvation': 7371, '_tomswarbrick1': 1666, '_darrenadam': 673, '_lbcnews': 1047, 'israeli': 4943, 'forbidden': 4139, 'invited': 4910, '_israel': 979, 'paducah': 5949, 'accept': 1851, 'on_line': 5823, '18_': 40, '_lidl': 1057, '_iceland': 936, '_nationwide': 1190, 'vulnerable_': 8182, '_kindness': 1031, '_corg': 551, '_aprn': 361, '_wtrh': 1799, 'ghost': 4311, '_otcmarket': 1265, '_nasdaq': 1186, '_nyse': 1233, '_please': 1317, '_aware_': 380, '_help': 897, '_people_': 1302, '_run': 1422, '_affected_': 311, '_clean_': 508, '_avoid': 378, '_out_': 1268, '_make': 1093, '_distance_': 704, '_sell': 1464, '_sanitisers': 1438, '_masks': 1113, '_reasonable': 1375, '_prices_': 1331, '_eat': 743, '_hygienic': 931, '_food_': 811, '_healthy': 895, '_immune_': 952, '_good': 851, '_dbz_diary': 677, 'shopping___': 7103, 'big_city': 2419, 'stripping': 7486, '_profiteering': 1336, 'early___as': 3632, 'favour': 3980, 'mentioning': 5441, 'scrapped': 6951, 'surely': 7574, 'panic____amp': 5965, 'profit_': 6358, '_auspol': 374, 'interesting': 4889, 'economist': 3660, 'dramatic': 3576, 'depend': 3368, 'lining': 5183, 'caution': 2712, 'rubbing': 6816, 'radical': 6474, 'reasons_': 6537, 'stress_': 7477, 'selfishness_': 6999, 'zealand': 8474, '_12': 223, '_500m': 242, '_8_7b': 249, '_2_8b': 234, '_stopcoronamadness': 1565, 'uncertainty_': 8016, '80_': 198, 'lasting': 5089, 'que': 6445, 'proceeded': 6344, '_virginholidays': 1738, 'fly': 4099, '25th': 85, 'rebook': 6542, 'racking': 6472, 'hourly': 4651, 'difference__': 3426, '_mostexpensiveholiday': 1167, '_virginatlantic': 1737, 'leeds': 5128, 'message_': 5450, 'deliver_': 3340, 'reimbursement': 6598, 'petrol_': 6084, '_selfisolationhelp': 1461, '_joyfightsfear': 1008, '_inthistogether': 964, 'sorta': 7278, 'katrina': 5015, 'rita': 6780, 'ike': 4731, 'mres': 5584, 'difficulties_': 3431, '_ontag': 1258, 'still_': 7410, '__america_': 278, '_risinguptothechallenges': 1411, 'hunting': 4687, 'involved': 4913, 'wild': 8336, 'post_coronavirus': 6221, 'involves': 4914, 'bouncing': 2499, 'supercenter': 7546, 'purchase_': 6424, 'election': 3693, 'impt': 4779, 'manufacturer': 5345, 'shelter_': 7067, 'forever_': 4148, 'adapt': 1888, 'quick_': 6457, '_universalbasicincome': 1715, 'otherwise_': 5901, '_borisresign': 439, 'dramatically': 3577, 'jumped': 5005, 'folder': 4109, 'tally_': 7655, 'affairs_': 1920, 'jacking': 4961, 'childcare': 2793, '_mygovindia': 1180, 'ofall': 5790, 'shutdown': 7127, '_down': 717, 'circuit': 2819, 'economical': 3658, 'stability': 7348, 'plz': 6177, 'vegetarian': 8122, 'pac': 5937, 'direction_': 3450, 'meaning': 5403, 'oriented': 5893, 'egoism': 3683, 'coexistence': 2904, 'mutual': 5608, 'regard': 6586, 'haha__': 4453, 'misfit': 5503, 'at_': 2203, 'visit_': 8164, 'bs___': 2561, '_workers': 1789, '_unprotected': 1717, '_proftimlang': 1337, 'filled_': 4029, 'wholesalers_': 8328, 'whitechapel': 8322, 'filled': 4028, 'ones___': 5832, 'furnish': 4253, 'obvi': 5776, 'doormen_': 3547, 'postmen_': 6225, 'transit': 7903, 'baidu': 2289, 'auto_focused': 2230, 'wager': 8189, '_broadcastdialog': 456, '_biologicalweapon_': 422, 'invoke': 4911, '_terrorism': 1622, '_society': 1517, 'function_': 4246, 'borders_': 2484, 'collap': 2914, '_letseathh': 1054, '_funder': 834, 'chinese_': 2801, 'wuhan_': 8426, 'restaurant_': 6705, 'shoul': 7119, 'tired': 7810, 'proposing': 6380, '_buy': 465, 'american_': 2036, 'mandate_': 5335, 'harming': 4494, '_hhsgov': 901, '_whitehouse': 1774, 'emailing': 3710, 'info_brewline_co_uk_': 4843, '_process': 1334, 'ticking': 7787, 'immunity': 4750, '_roe_con': 1415, '_annekasaba': 352, '_rachelpatzerphd': 1354, 'irrational': 4927, 'mobs_': 5518, 'sugary': 7527, 'stash': 7376, 'exempted': 3868, '_covid19ph': 623, '_frontlinersph': 830, '_easyjet': 742, '_iag': 933, 'weighs': 8279, '_ezj': 776, '_dstv': 732, '_dstvcare': 733, 'compact': 2965, 'premium': 6275, 'sport': 7329, '3_17_20_': 115, 'update___we': 8074, 'procedures_': 6343, 'notification': 5740, 'abt': 1841, '_eggs': 754, 'lactose': 5072, 'cart_': 2682, 'meera': 5425, 'branches_': 2515, 'extend': 3910, 'needed_': 5652, 'covid_': 3150, '_qatar': 1346, '_iloveqatar': 948, '_almeeraqatar': 333, 'loosing': 5247, '_epidemic': 765, '_ukgoverment': 1709, '_mayoroflondon': 1121, 'commentary': 2943, 'nate': 5626, 'donnay_': 3542, 'dairy': 3258, 'insight': 4862, 'intl': 4899, 'fcstone': 3986, 'fcm': 3985, 'division_': 3516, 'quoted': 6464, '_droversctn': 729, '_oatt': 1240, '_ifcsdairy': 942, '_ispup': 978, '_covid19pt': 624, '_yjack224': 1812, '_richmykola': 1409, '_robprovince': 1414, '_giantprepper': 844, '_aliengamer79': 329, 'functioning_': 4247, 'west_': 8298, 'pissed': 6132, 'reading': 6514, 'comprehension': 2986, 'ai': 1961, '_neverbiden': 1195, '_bigpharma': 418, 'stooge': 7439, '_bernieforpresident': 409, 'neilson_': 5663, '_ocado': 1242, 'block': 2450, 'booking': 2477, 'sh': 7043, 'manchester': 5334, 'uni': 8038, 'deliveroo_': 3346, 'dpd_': 3568, 'hermes': 4564, 'couriers_': 3138, 'delivered_': 3343, 'wed': 8266, 'trivial': 7937, 'penultimate': 6046, 'demise_': 3358, 'whereupon': 8312, 'realizewed': 6529, '_cordonedbycorona': 550, '_natashakorecki': 1188, '_bartvargasii': 392, 'drugstore': 3602, 'profitability': 6359, 'empire': 3720, 'squeeze': 7344, 'exploit': 3899, 'forge': 4150, 'seamless': 6958, 'connection': 3017, '_amazon__': 339, '_digitalcapitalism': 697, 'frantic': 4180, 'anyone_': 2093, 'prayer': 6253, 'strength': 7475, '_faithoverfear': 778, '_loveistheanswer': 1081, '_prayerforapandemic': 1322, 'fish_': 4065, 'baos_': 2319, 'laguna': 5076, 'luzon': 5280, '_inquirerslb': 963, '_kbaraoidaninq': 1021, 'luzon_wide': 5282, 'laguna_': 5077, 'observed': 5774, 'observe': 5772, 'stimulus_': 7413, 'afterwards_': 1938, 'tax_': 7666, 'lurking': 5277, 'mkt': 5515, 'effects_': 3678, 'before_': 2380, 'beast': 2364, 'prudent': 6404, 'macro': 5292, 'required_': 6667, '_efipm': 753, 'summarizes_': 7536, '_dailyfintech': 666, 'direct_to_consumer': 3448, 'existential_': 3871, 'side_': 7138, 'brilliant_': 2542, 'understand_': 8021, '_munch': 1175, '_toiletroll': 1661, 'upping': 8077, 'vile': 8146, 'right_': 6762, 'citysuper': 2827, 'ifc': 4724, '_hongkong': 913, 'hk_': 4597, 'abating': 1826, 'tim': 7794, 'leunig': 5145, 'rid': 6754, 'politics': 6191, 'camp': 2625, 'bedsheet': 2374, 'taped': 7659, 'brooms_': 2554, 'sandwiches_': 6874, 'smores': 7216, 'optional_': 5872, 'meal_': 5398, 'hashtag': 4498, '_togetherapart': 1652, 'saying_': 6917, 'x_y_z': 8430, 'vote_': 8179, 'thing__': 7745, '_ohioprimary': 1246, 'courtesy': 3141, 'whispered': 8320, 'cookies_': 3083, '10_30': 16, '_morrison': 1163, '_blyth': 429, 'queses': 6447, 'activating': 1880, 'regulated': 6595, 'clean___': 2849, 'culvers': 3220, 'yall_': 8435, '_consumerimpact': 542, 'buying__': 2605, 'food_drinks': 4121, 'rich_': 6751, 'corrupt_20_': 3106, 'pasta_toilet': 6016, 'paper_hand': 5982, 'anti_social': 2081, 'huh____theres': 4672, 'modern': 5523, 'plague': 6144, '_washes': 1754, '_is': 975, 'food_water': 4125, '_still': 1555, 'board': 2461, '_netflix': 1194, 'parrishable': 5997, 'hell_____': 4545, '_hunkerdown': 929, 'abc': 1827, 'anaheim': 2049, 'ca_': 2609, 'boycott': 2505, 'clowns_': 2892, '1216': 23, 'magnolia': 5303, 'ave_': 2237, 'anaheim_': 2050, '92804': 207, '714': 178, '229_0618': 75, '_voiceofoc': 1741, '_ocregistrar': 1243, '_foxla': 823, 'steam': 7394, 'heavy': 4535, 'pullback': 6417, 'wrought': 8421, '_rail': 1357, 'flex': 4080, '3m': 123, 'n95': 5613, 'charmin': 2763, 'sanitization': 6880, 'rest_': 6703, '_containcovid19': 546, '_jpak': 1009, '_shippingtoja': 1482, 'eod_': 3777, 'business_': 2591, 'temp': 7687, 'gdp': 4288, 'retraction': 6733, 'surprise_': 7583, 'toiletries_': 7836, '_hottopicsht': 919, 'assurance': 2196, 'msia': 5588, 'suicide': 7532, '_singapore': 1493, 'flat': 4075, 'ignoring': 4728, 'susan_': 7600, 'tn': 7819, 'investigated': 4904, 'stock_piled': 7423, '17_700': 37, 'bottles_': 2494, 'suspected': 7602, '_costinflation': 606, '_stateofemergency': 1536, '_nj_': 1210, '_queenawakened': 1352, 'tight_': 7789, 'jobsite': 4983, 'ncb': 5636, 'observe_': 5773, 'encouraging': 3736, 'tina': 7805, 'hamilton': 4464, '_glnrtoday': 846, '_ukjay': 1711, '_breakingnews': 449, 'discovered': 3473, 'carried': 2676, 'infirm': 4836, 'trouble': 7939, 'sickening': 7135, 'beds_': 2373, 'helpful_': 4553, 'dangling': 3268, 'face_': 3926, '_facemasks': 777, 'minute_': 5497, 'left__': 5131, 'pint': 6128, 'assume': 2195, 'pillaging': 6123, 'bushes_': 2587, 'zsah': 8481, 'policie': 6186, 'proti': 6389, 'spekulant_m': 7310, 'roukami_': 6808, 'm_j': 5286, 'popud': 6201, 'hejtman': 4542, 'steckho': 7395, 'kraje': 5058, 'spoluprci': 7326, '_policiecz': 1321, 'podle': 6181, 'krizovho': 5059, 'zkona': 8477, 'zajistil': 8470, 'tm__': 7818, '700': 175, 'tis_rouek': 7812, 'od': 5784, 'firmy_': 4060, 'kter': 5062, 'je': 4967, 'm_la': 5287, 'dodat': 3525, 'zdravotnk_m_': 8473, 'ale': 1985, 'posledn': 6215, 'chvli': 2816, 'snaila': 7218, 'navyovat': 5635, 'cenu_': 2732, '_spolutozvladneme': 1529, 'itll': 4956, 'man_': 5328, 'routine': 6811, '_actuallyautistic': 305, 'war____': 8219, 'shocking': 7087, 'obesity': 5768, 'hedging': 4538, 'veggies_': 8123, '_prepping': 1324, '_chrismartenson': 501, 'fucktards': 4236, '19___where': 50, '1_18': 52, '_wankers': 1753, '_tp': 1675, '_tpmp': 1676, '_tpshortage2020': 1677, 'basketball': 2344, 'hazardous': 4512, 'locked': 5228, 'indoors_': 4822, 'newsletter': 5679, 'mschf': 5587, 'antics_': 2085, '_airtreevc': 322, 'meetup': 5428, 'spike': 7318, 'immuno_compromised_': 4751, '_ibd': 935, 'name': 5617, 'names_': 5618, 'jack': 4959, 'disrupt': 3498, 'bliss': 2449, '10years': 18, 'occupancy': 5780, 'accommodation': 1858, 'nominal': 5705, 'borne': 2490, 'singapore_': 7156, '_malaysialockdown': 1098, 'suburban': 7513, 'couple_': 3135, 'configure': 3005, '_mayorofla': 1120, '_lacity': 1044, 'directly_': 3453, 'relief_financial': 6615, 'aid': 1963, 'austria': 2227, 'socal': 7241, 'rightly': 6764, 'consumer_powered': 3040, 'hunker': 4684, 'swift_': 7618, 'wise': 8359, '_jaycshambaugh': 992, '_brookingsinst_': 457, '_senior_only': 1467, 'try_': 7955, 'bone': 2474, 'fucks_': 4235, 'boeing': 2465, '_60': 244, '_public': 1342, 'liquidity_': 5189, 'guarantees_': 4422, 'filthy': 4032, 'animals_': 2065, 'omgggg': 5820, '_notablynaulty': 1222, 'sure_': 7573, 'meme': 5435, 'schooling_': 6947, 'pic_collage': 6106, 'notability': 5730, 'submitted': 7507, 'schoology': 6948, 'brief': 2539, 'summary': 7537, 'meme_': 5436, 'sentence': 7018, 'starter_this': 7368, 'about_': 1833, 'tumblr': 7967, 'delving': 3352, 'libtard': 5153, 'unbelievable': 8013, 'blown': 2455, 'proportion_': 6379, 'taught': 7664, 'gross': 4408, 'shelving': 7071, 'built': 2572, 'rumored': 6821, 'impossibility': 4773, 'computer': 2989, 'digit': 3433, '1999': 47, '2000': 62, '_y2k': 1807, '_itsrealthistime': 985, '_falloutshelter': 781, 'mongolia_': 5539, 'semi_lockdown': 7006, 'food___toilet': 4119, 'issue__': 4946, 'reminder': 6632, 'gargle': 4278, 'warm': 8222, 'salt': 6868, 'throatinfection': 7772, 'cooked': 3080, 'range': 6488, 'specially': 7302, 'selected': 6986, 'inspiration_': 4866, 'onion': 5834, 'parmesan': 5996, 'sourdough': 7286, 'artisan': 2168, 'consuming': 3042, 'criticising': 3200, 'harshly': 4495, 'unkindly': 8043, 'get_': 4307, 'thursday_friday_': 7784, 'benefit': 2399, 'value': 8110, 'disabilities_illness': 3455, 'learning_': 5121, 'accessible': 1854, '_realcdnss': 1369, '_norfolkcountyca': 1220, '_simcoe': 1491, '_ontario_': 1259, '_ontariolockdown': 1261, '_coronavirusontario': 588, '_coronavirustoronto': 598, 'western': 8299, 'controlling': 3071, 'retail_grocery': 6728, 'technicians_': 7679, 'drivers_': 3592, 'military_': 5471, 'attitude': 2219, 'screaming': 6954, 'garage': 4275, 'take_': 7643, 'petrol': 6083, '_bp': 442, '_bpgarage': 443, '_localcommunity': 1066, '_toiletrollcrisis': 1662, 'shortly': 7116, 'steve': 7406, 'smith': 7211, 'suggesting': 7530, 'freezer_': 4195, 'countdown': 3123, 'delivers_': 3347, 'kitchen': 5042, 'scarce': 6924, 'dove': 3557, 'hickory': 4570, 'smoked': 7214, 'bacon': 2277, 'improvised': 4778, '_organic': 1263, '_wildfood': 1780, 'panic_bought': 5966, 'unused': 8065, '_trusselltrust': 1695, 'ways___': 8250, '1_those': 58, '2_those': 93, 'exercising': 3869, 'responsibility': 6699, 'fortunate': 4160, 'panic_bulk': 5967, 'foot': 4134, 'lately': 5091, 'battled': 2351, '_outoftouchwithreality': 1272, '___meanwhile': 275, 'uk______': 8004, '_toiletpaperblues_': 1656, '_costcocanada': 605, '_sobeys': 1510, '_saveonfoods': 1447, 'impose': 4771, 'canadian': 2633, 'known': 5053, 'cry_': 3215, 'kindness': 5036, 'piss_': 6131, 'genuine': 4299, 'astronomical_': 2200, 'advantage_': 1912, 'text': 7713, '_jordanatheresa': 1007, 'annoying': 2072, 'dangerous': 3267, 'mix_': 5513, 'plate_': 6156, '_fbp': 788, '_retweeet': 1403, '_whyhasgodforsakenme': 1779, '_tolietpaper': 1663, '_stpatricksday2020': 1578, 'belive': 2394, 'hoax': 4606, 'dasani_': 3274, 'gotten': 4359, 'dasani': 3273, '_lossofjob': 1078, '_gotsick': 854, '_affected': 310, '_creditcard': 646, 'payments_': 6035, '_mortgagepayments': 1165, 'creditors_': 3191, '_your850': 1817, '_credit': 645, 'kitsap': 5044, 'collectively': 2920, 'ecart': 3654, '_maybe': 1119, 'parking_spots_': 5995, 'fast_food': 3969, 'drive_up_': 3588, 'spots_': 7332, '_raleys': 1360, '_missmagickal23': 1148, 'pleasant': 6163, 'contrast_': 3066, 'neighbourhood': 5661, 're_look': 6504, 'paperless': 5983, 'ai_robot': 1962, 'africa_': 1934, 'take3': 7642, '_scottmorrisonmp': 1452, 'sat': 6897, 'devise': 3403, 'stable_': 7349, 'rationed': 6499, 'transparent_': 7905, 'obligated': 5770, 'creedence': 3192, 'clearwater': 2861, 'revival': 6743, 'louder_': 5260, '_convid19uk': 548, 'relying': 6622, '_brawlstop': 446, '_rebel_harrie': 1378, '_basedpoland': 393, '_marcelxttt': 1102, 'sceptical': 6937, 'pademic_he': 5948, 'accelerated_go': 1848, 'hiked': 4583, '2021_': 70, 'suppose': 7569, 'apart': 2103, 'comply': 2984, 'relationship': 6603, 'ps_': 6405, '_itscoronatime': 983, '_top': 1667, 'earth': 3634, 'revolves': 6744, 'markets__': 5362, '_well_': 1763, 'sexy__': 7040, '_quick_': 1353, 'rolls__': 6798, '_looroll': 1075, '_weredoomedmrmannering': 1765, '_scottmorrisonmp___': 1453, 'rumours_': 6822, 'fcking': 3983, 'inhaling': 4853, 'cigarette': 2817, 'smoke': 7213, 'throwing': 7777, 'inhale': 4852, 'manners_': 5342, '_smokers': 1507, '_uscpsc': 1724, 'encourages': 3735, '_cpsc': 643, 'food_service': 4124, 'staple': 7361, 'grueling_': 4418, 'eye_opening_': 3920, 'career': 2664, 'cpg_': 3162, 'w_o': 8186, 'resilient': 6682, 'arguing': 2152, 'isle': 4934, 'queensland': 6446, 'shelves__': 7070, 'unreal_': 8056, 'planned': 6151, 'run_': 6824, 'praying': 6254, 'accommodate_': 1857, 'creep': 3193, 'rule_': 6819, '3_week_': 122, 'in_home': 4784, '_can': 469, '_essential': 766, '_restaurant': 1388, 'historical': 4592, 'precedent': 6261, 'researchers_': 6673, 'stockers_': 7428, 'angels_': 2059, 'eternally': 3809, 'grateful_': 4390, '_workingfromhome': 1791, 'setting': 7033, 'sobeys': 7240, 'mart_': 5366, 'ponyboy': 6194, 'curtis': 3242, 'church': 2815, 'windricksville___': 8347, '_illinoisprimary': 947, '_needfood': 1193, '_voteblue2020': 1745, 'edible': 3666, 'plants___': 6155, 'lonely': 5238, 'informative_': 4846, '__________stayhomechallenge': 265, '_ilovereading': 949, 'civilised': 2831, 'society_': 7248, '_covid19nz': 621, '_sharethelove': 1475, 'grandmother': 4384, 'screamed': 6953, 'solely': 7252, 'asian_': 2176, 'attacked': 2212, 'poured': 6234, '_dirty': 700, 'ch_nk__': 2738, '_racismisavirus': 1355, '5pm': 154, 'typically_': 7989, 'ham_': 4463, 'markets___': 5363, 'ballarat': 2306, 'awaits': 2245, 'ballarat_': 2307, 'vic': 8135, 'gone___and': 4349, 'prior': 6326, 'diagnosed_': 3408, 'fooling': 4133, '_china': 493, '_asf': 369, '_outbreaks': 1271, 'government_mandated': 4369, 'disclosure': 3469, 'inhibited': 4854, 'stages_': 7355, '_jamestowntweets': 991, 'thought___': 7762, '_dem_': 683, '_panic__': 1279, '_ispellzgood': 977, 'sierra': 7141, 'otto_': 5902, 'founder': 4169, 'jewelry_': 4975, 'abate_': 1825, '_jewelry': 1000, 'dedicating': 3316, 'immune_compromised': 4749, 'conferences_': 3002, 'port': 6207, 'alaska': 1980, 'grand': 4381, 'litterally': 5198, 'and____': 2053, 'soo_____': 7268, 'celebrated_': 2721, 'sweeping': 7614, 'planet_': 6150, 'overall_': 5920, 'you_______': 8456, 'hype': 4698, 'slightly': 7187, 'neurotic': 5670, 'building_': 2571, 'bell': 2395, 'contamination': 3054, 'handedly': 4470, 'undo': 8026, 'horror': 4638, 'story_': 7465, 'centipede_': 2727, 'dairy_': 3259, 'caetgories': 2611, '_vietnam': 1735, 'suffered': 7519, 'vietnam': 8140, '_vietnamese': 1736, 'tendency': 7696, 'hygiene_': 4696, 'convenience': 3072, 'aids_': 1964, 'immune_boosting': 4748, 'term_': 7699, 'webinar': 8262, 'giveaway': 4319, 'hankering': 4480, 'bat': 2346, 'cubao': 3217, 'hrs_': 4665, '24_hour': 81, 'considered': 3024, 'stockpile_': 7432, '_commonsense': 527, 'restocking_': 6711, '_ubs': 1704, 'rarely': 6494, '_stimuluspackage': 1556, '_localbusiness': 1065, 'select': 6985, 'inevitable': 4826, 'capitalized': 2655, 'cycle_': 3252, 'permitted': 6067, '_cheltenham': 490, 'art': 2162, 'singing_': 7157, 'things_': 7747, 'guest': 4427, 'rudely': 6817}\n",
      "Result after Encoding\n",
      "  (0, 499)\t1\n",
      "  (0, 1139)\t1\n",
      "  (0, 1309)\t1\n",
      "  (1, 1900)\t1\n",
      "  (1, 1915)\t1\n",
      "  (1, 2783)\t1\n",
      "  (1, 3045)\t1\n",
      "  (1, 3180)\t1\n",
      "  (1, 3724)\t1\n",
      "  (1, 3859)\t1\n",
      "  (1, 3950)\t1\n",
      "  (1, 4374)\t1\n",
      "  (1, 5191)\t1\n",
      "  (1, 5835)\t1\n",
      "  (1, 5877)\t1\n",
      "  (1, 6097)\t2\n",
      "  (1, 6594)\t1\n",
      "  (1, 7032)\t1\n",
      "  (1, 7101)\t1\n",
      "  (1, 7651)\t1\n",
      "  (2, 2038)\t1\n",
      "  (2, 2223)\t1\n",
      "  (2, 3095)\t1\n",
      "  (2, 3152)\t1\n",
      "  (2, 3315)\t1\n",
      "  :\t:\n",
      "  (1770, 3252)\t1\n",
      "  (1770, 4949)\t1\n",
      "  (1770, 5167)\t1\n",
      "  (1770, 6067)\t1\n",
      "  (1770, 6107)\t1\n",
      "  (1770, 6855)\t1\n",
      "  (1770, 7157)\t1\n",
      "  (1770, 7550)\t1\n",
      "  (1770, 7747)\t1\n",
      "  (1770, 8214)\t1\n",
      "  (1770, 8379)\t1\n",
      "  (1771, 251)\t1\n",
      "  (1771, 630)\t1\n",
      "  (1771, 1607)\t1\n",
      "  (1771, 2280)\t1\n",
      "  (1771, 3036)\t1\n",
      "  (1771, 3286)\t1\n",
      "  (1771, 3722)\t1\n",
      "  (1771, 4427)\t1\n",
      "  (1771, 4742)\t1\n",
      "  (1771, 5297)\t1\n",
      "  (1771, 5959)\t1\n",
      "  (1771, 6817)\t1\n",
      "  (1771, 7685)\t1\n",
      "  (1771, 7749)\t1\n"
     ]
    }
   ],
   "source": [
    "#Count Vectorization on feature X which is a representation of multiple document \n",
    "\n",
    "from sklearn.feature_extraction.text import CountVectorizer\n",
    "# Create a Vectorizer Object\n",
    "vectorizer = CountVectorizer()\n",
    "  \n",
    "vectorizer.fit(X)\n",
    "  \n",
    "# Printing the identified Unique words along with their indices\n",
    "print(\"Vocabulary: \", vectorizer.vocabulary_)\n",
    "  \n",
    "# Encode the Document\n",
    "vector = vectorizer.transform(X)\n",
    "\n",
    "print(\"Result after Encoding\")\n",
    "print(vector)"
   ]
  },
  {
   "cell_type": "code",
   "execution_count": 34,
   "id": "vWtVarsvWXwn",
   "metadata": {
    "id": "vWtVarsvWXwn"
   },
   "outputs": [
    {
     "name": "stdout",
     "output_type": "stream",
     "text": [
      "\n",
      "Word indexes:\n",
      "{'_menyrbie': 1139, '_phil_gahan': 1309, '_chrisitv': 499, 'advice': 1915, 'talk': 7651, 'family': 3950, 'exchange': 3859, 'phone': 6097, 'create': 3180, 'contact': 3045, 'list': 5191, 'employer': 3724, 'chemist': 2783, 'gp': 4374, 'set': 7032, 'online': 5835, 'shopping': 7101, 'adequate': 1900, 'regular': 6594, 'order': 5877, 'coronavirus': 3095, 'australia': 2223, 'give': 4318, 'elderly_': 3690, 'disabled': 3457, 'dedicated': 3315, 'amid': 2038, 'covid_19': 3152, 'outbreak': 5906, 'food': 4116, 'stock': 7416, 'one': 5828, 'empty___': 3728, 'please_': 6165, 'panic_': 5964, 'enough': 3755, 'everyone': 3833, 'take': 7641, 'need_': 5649, 'stay': 7389, 'calm_': 2622, 'safe_': 6846, '_covid19france': 613, '_covid_19': 634, '_covid19': 609, '_coronavirus': 569, '_confinement': 534, '_confinementotal': 536, '_confinementgeneral': 535, 'me_': 5392, 'ready': 6516, 'go': 4333, 'supermarket': 7550, 'outbreak_': 5907, 'paranoid_': 5988, 'litteraly': 5199, 'empty_': 3726, 'serious': 7022, 'thing_': 7744, 'shortage___': 7114, '_coronavirusfrance': 579, '_restezchezvous': 1390, '_stayathome': 1538, 'news': 5676, 'first': 4061, 'confirmed': 3009, 'case': 2683, 'came': 2624, 'sullivan': 7534, 'county': 3132, 'last': 5087, 'week_': 8271, 'people': 6048, 'flocked': 4087, 'area': 2147, 'purchase': 6423, 'cleaning': 2852, 'supplies_': 7558, 'hand': 4466, 'sanitizer_': 6884, 'food_': 4117, 'toilet': 7833, 'paper': 5979, 'goods_': 4354, '_tim_dodson': 1646, 'cashier': 2688, 'grocery': 4407, 'store': 7446, 'sharing': 7058, 'prove': 6391, 'credibility': 3188, 'commented': 2944, '_i': 932, 'civics': 2829, 'class': 2839, 'know': 5050, 'talking': 7654, 'about__': 1834, 'today_': 7824, 'buy': 2599, 'paper_': 5980, '_rebel': 1377, '_toiletpapercrisis': 1657, 'due': 3609, 'retail': 6723, 'classroom': 2844, 'atlanta': 2206, 'open': 5845, 'walk_in': 8203, 'business': 2590, 'next': 5681, 'two': 7982, 'weeks_': 8276, 'beginning': 2382, 'monday_': 5532, 'march': 5350, '16_': 33, 'continue': 3057, 'process': 6345, 'normal_': 5720, 'thank': 7716, 'understanding_': 8023, 'corona': 3093, 'prevention_we': 6305, 'stop': 7441, 'cash': 2686, 'use': 8093, 'payment': 6034, 'spread': 7335, 'notes_': 5734, 'also': 2011, 'prefer': 6269, 'home_': 4614, 'time': 7795, 'fight': 4018, 'covid': 3148, '19__': 49, '_govindia': 856, '_indiafightscorona': 961, 'month': 5546, 'crowding': 3206, 'restaurants_': 6706, 'however': 4663, 'reducing': 6568, 'closing': 2881, 'using': 8100, 'entrance': 3772, 'dependent': 3369, 'single': 7158, 'supermarket_': 7551, '_manila': 1101, '_lockdown': 1067, '_covid2019': 630, '_philippines': 1310, 'situation_': 7170, 'increased': 4804, 'demand': 3353, 'products_': 6356, 'wait': 8190, 'may': 5385, 'longer': 5240, 'orders_': 5884, 'particularly': 6004, 'beef': 2375, 'share': 7055, 'freezer': 4194, 'packs_': 5945, 'patience': 6020, 'time_': 7797, '_horningsea': 916, 'caring': 2669, 'community_': 2963, 'look': 5242, 'capable': 2648, 'village': 8148, 'ensure': 3760, 'healthy_': 4525, 'bringing': 2544, 'doors_': 3548, 'help': 4549, 'self': 6987, 'isolation': 4940, 'exposed': 3906, 'somebody': 7259, 'has_': 4497, 'need': 5648, 'll': 5209, 'amazon': 2029, 'deliver': 3339, 'whatever': 8303, 'adara': 1890, 'resource': 6687, 'center': 2725, 'travel': 7912, 'up_to_date': 8070, 'consumer': 3036, 'behavior': 2385, 'unpredictable_': 8054, 'eating': 3648, 'safe': 6845, 'alternative_': 2016, 'find': 4041, 'whether': 8315, 'avoiding': 2243, 'right': 6761, '_____': 254, '__': 251, '______': 256, '_______': 257, '_________': 259, '__________': 260, '____': 253, '13': 24, '_____________': 262, '___': 252, '_eyeonthearctic': 774, '16mar20': 34, 'russia': 6829, 'surveillance': 7590, 'watchdog': 8240, 'reported': 6658, 'high': 4574, 'arctic': 2145, 'man': 5327, 'traveled': 7914, 'iran': 4920, '101': 12, '_observed_': 1241, 'glitch': 4324, 'whole': 8326, 'foods_': 4130, 'fresh': 4201, 'spread_': 7336, 'weve': 8301, 'seen': 6983, 'significant': 7145, 'increase': 4803, 'groceries_': 4405, 'spokeswoman': 7325, 'said': 6854, 'statement_': 7380, 'today': 7823, 'resulted': 6720, 'impact': 4756, 'affecting': 1924, 'struggling_': 7494, 'please': 6164, 'consider': 3021, 'donating': 3536, 'bank': 2312, 'nonprofit_': 5712, 'jobs_': 4981, 'way': 8247, 'life_': 5158, '100': 6, 'inficted': 4834, '19': 42, 'world': 8395, 'must': 5607, 'play': 6160, 'fair': 3941, 'china': 2797, 'goverments': 4365, 'adopts': 1908, 'new': 5673, 'guilde': 4431, 'safty': 6853, 'chinese': 2800, 'goverment': 4364, 'guilty': 4433, 'irosponcible': 4926, 'life': 5157, 'global': 4325, 'scale': 6918, 'amazing': 2027, 'cheap': 2769, 'deals_': 3296, 'going': 4341, 'you___': 8455, '_trials': 1686, '_monthly': 1159, '_yearly': 1808, 'resonable': 6685, '_prices': 1330, '_subscriptions': 1580, 'dm': 3518, 'us_': 8088, '_bestiptv': 412, '_iptv': 968, '_service': 1471, '_iptvdeals': 970, '_cheap': 487, '_football': 819, '_hd': 889, '_movies': 1171, '_adult': 306, '_cinema': 503, '_hotmovies': 918, '_iptvnew': 971, '_iptv2020': 969, 'iptvlinks': 4919, '_18movies': 224, '_10downingstreet': 221, '_grantshapps': 860, 'done': 3539, 'essential': 3795, 're_stocked': 6505, 'panic': 5963, 'buying': 2603, 'actively': 1883, 'discouraged_': 3472, 'left': 5129, 'checkout': 2777, 'staff': 7351, 'police': 6184, 'selfish': 6996, 'profiteer': 6360, 'uk': 8002, '_consumer': 540, 'poll': 6193, 'indicates': 4816, 'majority': 5312, 'expect': 3877, '4_12': 139, '12': 22, '_tracker___': 1678, 'see': 6976, 'full': 4240, '_retailx': 1402, 'confidence': 3003, 'tracker': 7881, 'preparation': 6278, 'higher': 4578, 'potential': 6230, 'shortage_': 7113, 'hunger': 4680, 'coalition': 2901, 'purchased': 6425, '10': 5, 'percent': 6054, 'implemented': 4763, 'coronavirus_': 3096, 'morning': 5558, 'tested': 7707, 'positive': 6213, '19_': 48, 'feel': 4006, 'ok_': 5811, 'far': 3957, 'isolated': 4937, 'since': 7154, 'found': 4167, 'possible': 6216, 'exposure': 3907, 'virus_': 8159, 'home': 4613, 'pragmatic_': 6250, 'keep': 5016, 'updated': 8075, 'im': 4739, 'malicious': 5323, 'price': 6309, 'nyc_': 5763, 'nyc': 5762, 'department': 3366, 'worker': 8383, 'protection': 6385, 'dcwp': 3289, 'page': 5950, 'digitally': 3436, 'file': 4025, 'complaint_': 2979, 'click': 2866, '_7sealsoftheend': 247, 'soon': 7269, 'dwindling': 3620, 'unlawful': 8046, 'panicky': 5976, 'breaking': 2530, 'closed': 2877, '_amp': 344, 'raid': 6477, 'normally': 5722, 'crisis': 3196, 'massive': 5372, '_stockup_amp': 1563, 'lockup': 5229, 'country': 3129, 'empty': 3725, 'ensues': 3759, 'hole': 4610, 'foods___': 4131, '___images': 274, 'nicest': 5685, 'richest': 6752, 'united': 8041, 'states_': 7381, 'could': 3118, 'explode': 3898, 'via': 8133, '_cnbc': 519, '_brickandmortar': 451, 'fun': 4244, 'fact': 3937, 'cough': 3112, 'store_': 7447, 'get': 4306, 'aisle': 1968, 'pretty': 6298, 'quickly_': 6459, '_coronavirusoutbreak': 589, 're': 6503, 'sorry': 7276, 'say': 6914, '_finfabuk': 801, 'event': 3821, 'cancelled': 2636, 'covid_19_': 3153, 'health': 4520, 'wellbeing': 8291, 'attendees_': 2216, 'top': 7856, 'priority_': 6332, 'disappointment': 3464, 'cause_': 2708, 'answered': 2077, 'link': 5184, 'went': 8294, 'yesterday': 8448, 'gone_': 4347, 'anything': 2094, 'yes_': 8446, 'point': 6182, 'posting': 6224, 'load': 5212, 'stuff_': 7499, 'elderly': 3689, 'parents_': 5990, 'kids_': 5024, 'siblings_': 7132, 'etc': 3805, 'ca': 2608, 'everything': 3836, 'viral_': 8153, 'alr': 2005, 'worried': 8400, 'current': 3236, 'pandemic': 5959, 'finances_': 4038, 'published': 6415, 'manage': 5329, 'money': 5536, 'challenging': 2744, 'times_': 7801, 'wife': 8335, 'retail_amp': 6726, 'customer': 3246, 'yesterday_': 8449, 'coughing': 3115, 'everywhere_': 3840, 'saying': 6916, 'requested': 6663, 'deep': 3319, 'clean': 2847, 'company': 2967, 'objected': 5769, 'cost_': 3108, 'recommending': 6555, 'team': 7676, 'spray': 7333, 'disinfectant_amp': 3489, 'themselves_': 7729, 'gon': 4345, 'na': 5614, 'die_get': 3419, 'sick': 7133, 'capitalism': 2652, 'like': 5167, 'without': 8364, 'judged_': 5001, 'provide': 6393, 'experience': 3883, 'healthy': 4524, 'environment': 3775, 'placed': 6140, 'curious_': 3234, 'think': 7749, 'lot': 5257, 'bc': 2357, 'unable': 8012, 'spooked': 7328, 'extra': 3915, 'pair': 5956, 'shoes_': 7089, '_economy': 750, '_onlineshopping': 1256, '_stayhome': 1542, 'check': 2772, 'video': 8138, 'story': 7464, 'clothes': 2887, 'mysterious': 5611, 'white': 8321, 'forming': 4157, 'clothes_': 2888, '_quarantinelife': 1349, '_imadethisup': 950, '_fakenews': 780, 'line': 5179, 'outside': 5914, '_target': 1607, 'south': 7287, 'basic': 2339, 'someone': 7261, '65': 161, 'living': 5208, 'struggling': 7493, 'local': 5219, 'around': 2155, 'offering': 5796, 'free': 4189, 'nationwide': 5630, 'anyone': 2092, 'plus': 6176, 'freezable': 4192, 'half': 4455, 'completely': 2981, 'calling': 2619, '_dumb_': 736, '_idiots__': 939, 'lol': 5233, 'never': 5672, 'thought': 7760, 'this_': 7754, 'but_': 2595, '2019_': 66, 'come': 2933, 'back__': 2272, '_peoplearelosingtheirminds': 1303, '_stopthemadness': 1572, '_stoppanicbuying': 1568, 'sparking': 7296, 'run': 6823, 'cannabis': 2639, 'yet_': 8451, 'stocking': 7429, 'weekend_': 8274, 'preparing': 6281, 'coming': 2938, 'days_': 3288, '_everything': 773, 'seeing': 6977, 'previous': 6307, 'rise': 6770, 'fear_': 3988, 'racism_': 6469, 'medicines_': 5421, 'conspiracy': 3027, 'theories_': 7731, 'proliferation': 6368, 'quack': 6439, 'cures_': 3231, 'closed_': 2878, 'remain': 6623, 'emergency': 3713, 'workers_': 8385, '_pandemic': 1275, '_socialdistancing': 1513, '_retail': 1393, 'water___': 8244, 'cause': 2707, 'utility': 8104, 'shut': 7126, 'middle': 5460, 'pandemic___': 5961, 'close': 2875, 'thier': 7741, 'lose': 5252, 'work': 8379, 'kid': 5023, 'go___': 4335, 'cant': 2642, 'afford': 1927, 'worth': 8408, '_senatorromney': 1466, 'dear': 3297, 've': 8118, 'following': 4114, 'social': 7242, 'distancing': 3505, 'staying': 7390, 'prevent': 6301, 'you_': 8453, 'however_': 4664, 'spent': 7316, 'alarming': 1978, 'amount': 2045, 'online_': 5836, 'submit': 7506, 'reimbursement_': 6599, 'let': 5142, 'know_': 5051, '_coronapocolypse': 564, 'intensified': 4880, 'across': 1871, 'several': 7036, 'downward': 3566, 'continued': 3059, 'well': 8287, 'supplied': 7557, 'negative': 5655, 'resulting': 6721, 'virus': 8158, 'great': 4392, 'day_': 3286, '_bekind': 406, '_mufc': 1173, '_mufc_family': 1174, 'emergency_': 3714, 'important_': 4768, 'afraid': 1932, 'worst': 8406, 'scenario_': 6935, 'wash': 8229, 'tub': 7961, 'all': 1991, 'crazy_': 3176, 'clerk_': 2863, 'looked': 5243, 'weary': 8260, 'thanked': 7717, 'realized': 6527, 'thrust': 7781, 'front': 4218, 'panick_': 5972, 'breed': 2535, 'responders_': 6695, 'working': 8390, 'hard': 4489, 'serve': 7026, 'communities_': 2961, 'entire': 3770, 'world_': 8396, 'malaysia': 5320, 'facing': 3936, 'challenges_': 2743, 'near': 5639, 'future_': 4258, 'surprise': 7582, 'many': 5348, 'lost': 5256, '_malaysia2020': 1097, '_malaysia': 1096, 'corner': 3092, '_scammers': 1448, 'taking': 7649, 'advantage': 1911, '_cdc': 481, '_flu': 806, '_trends': 1685, '_alert': 328, '4_': 138, '_both': 440, 'made': 5297, 'medical': 5415, 'personnel': 6076, 'require': 6665, 'once_obscure': 5826, 'material': 5376, 'called': 2617, 'melt_blown': 5431, 'fabric__': 3924, 'capitalizing': 2656, 'packaged': 5942, 'making': 5318, 'opposed': 5863, 'safety': 6849, '_lockdowncanada': 1068, 'so_': 7235, 'feeling': 4008, 'ethical': 3811, 'still': 7409, 'stuff': 7498, 'shopping_': 7102, 'etc_': 3806, 'ship': 7077, '_isolation_': 976, 'care': 2662, 'loved': 5262, 'ones_': 5831, 'etc__': 3807, '2k': 97, 'told': 7837, 'pymnts': 6437, 'changed': 2749, 'daily': 3256, 'bought': 2496, 'house': 4655, 'didnt': 3416, 'house_': 4656, 'tragic_': 7893, 'facebook': 3927, 'group': 4410, 'increasing': 4806, 'situation': 7169, 'frankly': 4179, 'despicable': 3390, 'totally': 7860, 'void': 8172, 'community': 2962, 'spirit_': 7322, '_nameandshame': 1184, '_covid_19uk': 636, '_liverpool': 1063, '_bobjlowe': 430, 'sadly': 6843, 'misinformed': 5504, 'thinking': 7752, 'diarrhoea_': 3411, 'therefore': 7736, 'stock_pile': 7422, 'papers_': 5984, 'atm_': 2210, 'hygiene': 4695, '_tinamccauley70': 1647, 'yeah': 8436, 'risky': 6779, 'thats': 7723, 'really': 6531, 'necessary__': 5645, 'cn': 2895, 'mum_': 5598, 'live': 5202, '_shielded_': 1480, 'mean': 5400, 'in_': 4780, 'hope': 4629, 'kind': 5031, 'word': 8377, 'sound': 7280, 'anymore_': 2091, 'dont': 3543, 'bs_': 2560, 'nothing': 5735, 'left_': 5130, 'hi_': 4568, 'thanks': 7720, 'scare': 6927, 'sends': 7010, 'sea_food': 6957, 'skyrocketing': 7181, 'mumbai': 5599, '_gt': 875, 'pausing': 6027, 'student': 7496, 'loan': 5215, 'addition': 1895, 'halting': 4462, 'interest': 4886, 'accumulation': 1865, 'amp': 2046, 'stopping': 7445, 'punitive': 6421, 'would': 8409, 'much': 5590, 'needed': 5651, 'immediate': 4745, 'relief': 6613, 'economic': 3657, 'hardship': 4492, '_balajis': 387, 'side': 7137, 'tech': 7677, 'already': 2006, 'demostrated': 3362, 'elisa': 3701, 'test': 7705, 'though': 7758, 'lacking': 5071, '_us_fda': 1721, 'deem': 3318, 'waived': 8194, 'test_': 7706, 'doesnt': 3527, 'easily': 3638, 'either': 3687, 'illness': 4737, 'urge': 8083, 'support': 7565, 'bill': 2424, 'includes': 4794, 'flexibility': 4081, 'school': 6944, 'selfish_': 6997, 'ceo': 2733, '7_9': 190, 'shop': 7093, 'show': 7122, 'id_': 4713, 'saw': 6912, 'young': 8460, 'couple': 3134, '300': 101, 'tp_': 7878, 'crap_': 3166, 'maybe': 5386, 'complex': 2982, 'puzzle': 6434, 'food_delivery': 4120, 'delivery': 3348, 'capacity': 2649, 'buckle': 2565, 'surging': 7579, 'demand_': 3354, '_thejoshuaturner': 1636, '_loreign83': 1076, '_peanut_astro': 1301, '_my_amigouk': 1178, '_afneil': 313, '_borisjohnson': 437, '_patel4witham': 1292, 'disgusting': 3484, 'disgraceful': 3482, 'charging': 2759, 'inflated': 4837, 'government': 4367, 'something': 7262, 'abou': 1832, 'physical': 6101, 'curtail': 3241, 'result': 6718, 'agoing': 1953, 'put': 6432, 'additional': 1896, 'pressure': 6294, 'omnichannel': 5821, 'curbside': 3228, 'pick': 6107, 'up_': 8068, 'cal': 2612, 'idea': 4714, 'la': 5065, 'habra': 4450, 'special': 7300, 'love': 5261, 'hate': 4501, 'it_': 4949, 'head': 4515, 'blip': 2448, 'happening_': 4484, 'whinge': 8318, 'wont': 8376, 'spend': 7312, 'common': 2955, 'sense': 7013, '_worldhealthorg2': 1795, 'letter': 5143, 'consumer_debt': 3038, 'holding': 4609, 'others': 5899, 'precipice': 6262, 'household': 4657, 'economy_': 3662, 'suspend': 7603, 'interest_fees': 4887, 'sixty': 7172, 'response': 6698, 'crisis_': 3197, 'sign': 7143, '_covid19aus': 612, 'wanted': 8216, 'older': 5816, 'australians_': 2226, 'mobile': 5517, 'sadly_': 6844, 'heard': 4528, 'payer': 6032, 'exec': 3864, 'laying': 5109, 'low_': 5265, 'hoping': 4632, 'over_': 5916, 'mind': 5480, 'bogglingly': 2468, 'stupid': 7501, 'nonprofit': 5711, 'plan_': 6148, 'back': 2270, 'frank': 4178, 'bread': 2523, 'shelve': 7068, 'worry': 8401, 'pal': 5958, 'ive': 4957, 'saved': 6906, '1_': 51, 'pat': 6018, 'beans_': 2363, 'disciplined_': 3467, 'yes': 8445, 'got': 4358, 'lengthen': 5137, 'marketing': 5359, 'slashed': 7184, 'hiring': 4590, 'frozen': 4222, 'staffing': 7354, 'redrawn': 6565, 'dive': 3513, 'battling': 2352, '___at': 269, 'distillery': 3509, 'remains': 6626, 'operation_': 5858, 'public': 6412, 'hosting': 4646, 'events_': 3824, 'closed____': 2879, 'hoard': 4600, 'water_': 8243, 'absolutely': 1839, 'supply': 7561, 'chain': 2739, 'interrupted_': 4894, 'all_': 1992, 'sanitizing': 6887, 'them_': 7727, 'probably': 6339, '_dontpanicbuy': 714, 'canned': 2640, 'toxic': 7876, 'sanitizers': 6885, 'stock_': 7417, 'yet': 8450, 'fruit_': 4224, 'fully': 4243, 'stocked_': 7425, 'immune': 4747, 'system': 7628, 'works_': 8393, 'mum': 5597, 'dad': 3255, '70': 174, 'offered': 5794, 'might': 5465, 'sometimes': 7264, 'forget': 4151, 'always': 2022, 'easy_': 3642, 'can_': 2630, 'useful_': 8097, 'hypermarket': 4699, 'kajang': 5010, '16': 32, '2020': 67, 'picture': 6114, 'shafwan': 7046, 'zaidon': 8469, 'often': 5804, 'major': 5311, 'try': 7954, 'exception_': 3854, 'guidance': 4428, 'attorney': 2220, 'general': 4293, 'office': 5797, 'sure': 7572, 'within': 8363, 'week': 8270, 'two_': 7983, 'dry': 3603, 'effected': 3675, 'possibly': 6218, 'lockdown': 5224, 'introduce': 4900, 'form': 4153, 'rationing': 6500, 'eat_': 3644, 'somehow': 7260, 'frontline': 4220, 'extraordinary': 3916, 'extreme': 3917, 'pressure_': 6295, 'calm': 2621, 'stocked': 7424, 'moving_': 5581, 'panicking_': 5975, 'plan': 6147, 'focus': 4106, 'important': 4767, 'issues_': 4948, 'best': 2408, 'opportunity': 5861, 'outcome_': 5910, 'structure_': 7490, 'reduce': 6566, 'key': 5021, 'decisions_': 3309, 'flourish': 4094, '__kroger': 286, 'biggest': 2421, '453_000': 134, 'receive': 6543, 'leave_': 5126, 'even': 3818, '_kroger': 1037, 'wo': 8367, 'paid': 5952, 'leave': 5125, 'instead': 4869, 'providing': 6399, 'mandatory': 5338, 'quarantine': 6441, 'insufficient': 4873, 'protect': 6383, 'public_': 6413, 'especially': 3794, 'little': 5200, 'testing': 7709, 'av': 2232, 'followed': 4113, 'ago_': 1952, 'pain': 5954, 'necessary_': 5644, '_stayhealthy': 1541, '_joncoopertweets': 1006, 'took': 7854, 'montgomery': 5545, 'county_': 3133, 'md_': 5391, 'flour_': 4093, 'sugar_': 7525, 'sweet': 7615, 'potatoes_': 6229, 'orange': 5876, 'juice_': 5003, 'towels_': 7871, 'low': 5264, 'meat_': 5412, 'mac': 5289, 'cheese_': 2782, '_panicbuying': 1281, 'swear': 7611, 'shop_': 7094, 'deal': 3294, '_coronavirusuk': 599, '_anxiety': 355, '_panicbuyinguk': 1283, '_morons': 1162, 'rapid': 6491, 'elsewhere': 3706, 'seemed': 6980, 'fine': 4044, 'email': 3709, 'listing': 5195, 'deliver___one': 3341, 'bottle': 2492, '_whatashitshow': 1772, 'getting': 4308, 'fault': 3976, 'short': 7110, '_corona': 553, 'safely_': 6847, 'meaning_': 5404, 'risk': 6774, 'spreading': 7338, 'ft': 4228, 'washing': 8231, 'hands_': 4475, 'eliminate': 3700, '1_3': 54, 'recession': 6548, 'three': 7767, 'damage': 3262, 'main': 5306, 'street': 7472, 'ongoing': 5833, 'cb': 2717, 'rescue_': 6671, 'temp_': 7688, 'recovery': 6562, 'credit': 3190, 'mkt_': 5516, 'econ': 3656, 'unknown': 8045, 'second': 6964, 'shock': 7083, 'later': 5093, 'finally': 4035, 'brings': 2545, 'wall': 8208, 'altogether': 2020, '_spx': 1532, '_rut': 1424, '_ndx': 1191, 'end': 3737, '_bootsuk': 435, 'surgical': 7578, 'spirit': 7321, 'receiving': 6545, 'supposed': 7570, 'disinfect': 3486, '_panic': 1277, '_shopping': 1484, 'real': 6520, 'worlds_': 8398, 'petition': 6081, 'bev': 2411, 'colorado__': 2929, 'starbucks': 7363, 'to_go': 7821, 'abilene': 1828, 'bar': 2320, 'update': 8072, 'make': 5313, 'open_closed': 5847, 'chick_fil_a': 2787, 'drive': 3585, 'model': 5520, 'early': 3630, 'include': 4792, 'king': 5038, 'soopers_': 7274, 'sam': 6871, 'club': 2893, 'trying': 7956, 'opening': 5851, 'half_hour': 4457, 'day': 3284, 'exclusively': 3862, 'older_': 5817, 'older__': 5818, 'ton': 7845, 'first_': 4062, 'greedy': 4397, 'panick': 5971, '_stoppanickbuying': 1570, '_thinkingofothers': 1641, 'mild': 5468, 'symptoms_': 7626, 'chance': 2746, 'transmission': 7904, 'study': 7497, '_cspi': 655, 'guide': 4429, 'examines': 3848, '20': 60, 'largest': 5086, 'restaurant': 6704, 'handling': 4474, 'pandemic_': 5960, 'good': 4352, '60_': 158, 'disclose': 3468, 'policy': 6187, 'offer': 5793, '_sparintheuk': 1525, 'confirm': 3008, 'signage': 7144, 'light': 5164, 'stating': 7383, 'changing_': 2752, 'management': 5331, 'speed': 7309, 'crucial': 3209, 'here_': 4561, 'causing': 2711, 'unnecessary': 8052, 'rice': 6747, 'years_': 8441, '_panicshopping': 1286, '_pricegougers': 1328, '_idiots': 938, 'fringing': 4216, 'caused': 2709, 'shortages_': 7115, 'wasted': 8237, 'expiry': 3893, 'dates_': 3280, 'customers_': 3247, '_hoarders': 906, '_selfishpeople': 1458, 'congress': 3014, 'temporarily_': 7691, 'paralyzed': 5987, 'finalizing': 4034, 'technical': 7678, '_replouiegohmert': 1384, 'currently': 3237, 'anyway_': 2097, 'insisting': 4864, 'read': 6513, 'floor_': 4090, 'returning': 6736, 'senate': 7007, 'fighting': 4020, 'financial': 4039, 'bureau': 2583, 'employee': 3722, 'federal': 3996, 'mandating': 5337, '_aircanada': 319, 'poor': 6195, 'service': 7027, 'refund': 6580, '_airport_fra': 321, 'hour': 4650, 'preferably': 6270, 'population': 6203, 'compromised': 2988, 'good_': 4353, 'clear': 2856, 'thinking_': 7753, '_brianschatz': 450, '_maziehirono': 1123, '_nygovcuomo': 1232, '_govinslee': 857, 'temporarily': 7690, 'job_': 4979, 'amazon_': 2030, 'handle': 4472, 'surge': 7575, 'related': 6600, 'buying_': 2604, '_cgafun': 484, '_danielandrewsmp': 671, 'daughter': 3281, '_why': 1778, 'act': 1872, 'fault___': 3977, 'stand': 7358, 'middle_aged': 5461, 'woman': 8369, 'refused': 6584, 'isolating': 4939, 'symptomatic_': 7625, 'neighbour_': 5660, 'friend_': 4207, 'agreed': 1955, 'phone_': 6098, 'daily_': 3257, 'attempt': 2214, 'skype': 7179, 'call___': 2616, '_unitedagainstdementia': 1714, '_alzheimerssoc': 337, 'youre': 8461, 'walking': 8206, 'stores___': 7457, 'problem_': 6342, 'responsible': 6700, 'shit': 7080, 'guilty_': 4434, 'available': 2235, '_covid19walkout': 629, 'aware': 2246, 'uptick': 8080, 'media_': 5413, 'emails_': 3711, 'websites_': 8265, 'scam': 6920, 'involving': 4915, 'product': 6352, 'service_': 7028, 'visit': 8163, '_nydfs': 1231, 'website': 8263, 'call': 2615, 'hotline': 4648, '800': 195, '342_3736_': 109, '_unpopularopinion': 1716, 'able': 1830, 'tell': 7685, 'understands': 8024, 'restricted': 6714, 'movement': 5578, 'are_': 2146, 'katie': 5014, 'moving': 5580, 'weekend': 8273, 'amongst': 2044, 'respect': 6689, 'least': 5123, 'fyi': 4259, 'notice': 5737, 'nasty': 5625, 'supporting': 7568, 'market': 5357, 'trump': 7949, 'cut': 3248, 'medicare': 5417, 'security': 6973, 'remove': 6637, 'pre': 6256, 'existing': 3872, 'coverage': 3143, 'aca': 1845, 'charlotte': 2762, 'voluntarily': 8175, 'concerns_': 2996, 'tough': 7864, 'decision_': 3308, 'remember_': 6628, 'possible_': 6217, 'option': 5870, 'want': 8214, '_specnewsclt': 1527, '_heb': 896, 'h_e_b': 4446, 'fan_': 3953, 'appreciate': 2129, 'limit': 5174, 'shortage': 7112, 'spreading_': 7339, 'tho': 7757, 'concern': 2992, 'lack': 5070, 'push': 6429, 'towards': 7869, 'delivery_': 3349, '3_': 112, 'charge': 2757, 'per': 6052, 'item': 4953, 'cart': 2681, 'happy': 4487, 'uneasy': 8029, 'small': 7200, 'support_': 7566, 'ordering': 5881, 'move': 5576, 'tackling': 7638, 'implement': 4762, 'restrict': 6713, 'hoarding': 4604, 'supermarket_grocery': 7554, 'stores_': 7456, 'creating': 3184, 'prosecute': 6382, 'price_gougers': 6311, '_coronavirus_': 570, 'texan': 7711, '_pricegouging': 1329, 'complaint': 2978, '800_621_0508': 196, 'alert_': 1987, 'cyber': 3250, 'scams_': 6921, 'reveal': 6740, 'personal': 6072, 'info': 4842, 'avoid': 2241, 'clicking': 2867, 'unsolicited': 8059, 'links_': 5185, 'trusted': 7952, 'sources_': 7284, 'always_': 2023, 'report': 6656, 'attacks_': 2213, '23': 76, '31': 105, '_kenyantraffic': 1026, 'theyre': 7739, 'scared': 6928, 'happen': 4481, '_thetodayshow': 1640, 'la_': 5066, 'spark': 7294, 'manila': 5339, 'centre': 2729, 'routed': 6810, 'nz': 5766, 'based': 2336, 'deskers': 3387, 'asking': 2181, 'myspark': 5610, 'app': 2112, '_lottery': 1080, 'now_': 5744, '_stockmarket': 1557, '_toiletpaper': 1653, '_arizona': 362, '_foxnews': 824, '_fox10phoenix': 822, 'bad': 2280, 'habit': 4447, 'definitely': 3327, 'or_hospital': 5875, 'wearing': 8259, '_scrubs': 1454, 'nobody': 5703, '__covid19': 282, '_medtwitter': 1133, 'realize': 6526, '_kashmir': 1017, 'struggle_': 7492, 'state': 7377, 'water': 8242, 'imagine': 4742, 'months_': 5549, 'wake': 8196, 'up___': 8069, '_kashmirlockdown': 1019, '_kashmiris': 1018, 'doggo': 3529, 'european': 3815, 'covid_19____': 3156, 'ordered': 5880, 'more_': 5556, 'wonder': 8372, 'not_': 5728, 'rations_': 6501, 'past': 6012, 'start': 7364, 'distancing_': 3506, 'fml': 4103, '100_': 8, 'catch': 2700, 'saving': 6910, 'money_': 5537, 'hella': 4546, 'delayed_': 3336, 'car': 2658, 'wan': 8213, 'transport_': 7907, 'hell_': 4544, 'apparently': 2116, 'worked': 8382, 'wipe': 8354, 'ass_': 2185, 'hearing': 4529, 'national': 5628, 'wednesday': 8267, '18th_': 41, 'essentials_': 3798, 'ammo_': 2041, 'believe': 2392, 'ugly_': 8000, '_nationalquarantine': 1189, 'source': 7282, 'fckwits': 3984, 'panic_buying': 5968, 'everything_': 3837, 'broke': 2551, 'single_mum': 7159, 'feed': 4002, 'long': 5239, 'mths': 5589, 'pasta': 6013, 'stockpiled_': 7433, 'em': 3708, 'starve_': 7373, '__coronavirus': 281, 'hoarder': 4603, '_covid': 608, '_groceries': 866, 'effort': 3679, 'win': 8343, 'pr': 6243, 'game___': 4269, 'difference_': 3425, '_trumpisanidiot': 1692, '_trumpneedstoshutup': 1693, 'trending__': 7926, 'real__': 6522, 'freaked_': 4185, 'shelf_': 7064, 'control_': 3070, '_realdonaldtrump': 1370, 'sake': 6861, 'actually': 1886, 'mounted': 5574, 'dispenser': 3493, 'soap_': 7237, 'enter': 3762, 'plethora': 6170, 'dos_': 3550, 'unfortunately': 8036, 'retail_': 6724, 'bucking': 2564, 'down_': 3559, 'ill': 4733, 'feeding': 4005, 'hungry_': 4683, '_staysafe': 1549, '_frontlines': 831, 'stockup': 7436, 'crazy': 3175, 'chocolate': 2804, '2_': 88, 'remover': 6639, 'concealer': 2991, 'dark': 3271, 'chewing': 2785, 'gum': 4437, '5_': 150, 'pringles': 6324, '6_': 168, 'grow': 4413, '7_': 186, 'manual': 5343, 'survive': 7596, 'apocalypse': 2107, '8_': 200, '9_': 210, 'gin': 4314, '10_': 13, 'kitten': 5045, 'heel': 4539, 'lava': 5105, 'statement': 7379, 'announcement': 2069, 'electronics': 3698, 'computing': 2990, 'cleanshelf': 2854, '_walmart': 1750, 'add': 1891, 'delivery___': 3351, 'hire': 4589, '_winwin': 1785, '_stayindoorsandshop': 1545, '_northgateglzmrk': 1221, 'abuelos_as_': 1842, 'also_': 2012, 'sanitiser': 6877, 'roll_': 6794, 'leaving': 5127, 'rest': 6702, 'realise': 6523, 'too___': 7853, '79': 185, 'nearly': 5642, '80': 194, 'year': 8438, 'old': 5814, 'nana': 5620, 'hasnt': 4499, 'piled': 6119, 'rolls_': 6797, 'but___she': 2596, 'cupboard': 3224, 'horlicks': 4635, '_priorities': 1332, 'person': 6068, 'capability': 2647, 'encourage': 3733, 'relative': 6604, 'friend': 4206, 'acquaintance': 1869, 'city': 2825, 'alternate': 2014, 'person_': 6069, 'killing': 5029, 'selling': 7005, 'survival': 7593, '_750': 245, '60': 156, 'almost': 2001, '_200': 227, 'cheaper': 2770, 'edition': 3668, 'fitting': 4067, 'pact_': 5947, 'upset': 8079, 'thing': 7743, 'rn': 6782, 'fit': 4066, 'jeans_': 4968, 'reminded': 6631, 'ignorance': 4726, 'corporate': 3101, 'america': 2033, '_reverselogistics': 1405, 'apparent': 2115, 'locations_': 5222, 'turning': 7976, 'photo': 6099, 'edinburgh': 3667, 'night_': 5691, 'gov': 4362, 'classed': 2840, 'skilled': 7176, 'hit': 4594, 'bad_': 2281, '_thread': 1644, '__bbchealth': 279, 'high_risk': 4576, 'distance': 3501, 'relatives_': 6606, 'position': 6212, 'actual': 1885, 'footage': 4135, 'yall': 8434, 'remember': 6627, 'together_': 7830, '_panicbuyers': 1280, 'pop': 6199, 'various': 8116, 'groups_': 4412, 'toll': 7840, 'number': 5751, 'infant': 4827, 'formula_': 4159, 'formula': 4158, 'send': 7008, 'hoax___': 4607, 'checked': 2774, 'freeze': 4193, 'dried': 3582, 'companies_': 2966, 'seems': 6982, 'sold': 7251, 'out_': 5905, 'backlogged': 2275, 'although': 2018, 'stockpiling': 7434, 'silver': 7148, 'cloud': 2891, 'deliveries_': 3344, 'drive_thrus': 3587, 'post_mates_': 6222, '_thespoontech': 1638, 'panicked': 5973, 'idiot': 4720, 'smashed': 7206, 'mine': 5483, 'family_': 3951, 'mass': 5371, 'hysteria': 4701, 'isnt': 4935, 'successfully': 7514, 'contracting': 3064, 'flu': 4096, 'pack': 5940, 'milk': 5472, 'cat': 2695, 'well_': 8288, 'god': 4337, 'save': 6904, 'province': 6400, 'common_': 2956, 'paycheck': 6031, 'supplying': 7564, '_borisjohnson_': 438, 'sensible_': 7015, '_suggest_': 1583, 'feeble': 4001, 'self_isolate': 6990, 'telling': 7686, 'debt': 3303, 'american': 2035, 'impacted': 4758, 'petition_': 6082, 'taken': 7645, 'henk': 4557, 'zwoferink': 8483, 'saturday': 6898, 'wrgl_': 8415, 'black': 2438, 'beauty': 2367, 'hauled': 4504, 'train': 7894, '_workinghard': 1792, 'running': 6825, 'respecting': 6691, '_safety_': 1429, 'pleasure': 6166, '_dedicatedpeople_': 681, 'rise_': 6771, 'pasta___': 6015, '_nordstrom': 1218, 'rack': 6470, 'washington': 8233, 'st': 7347, '_jwn': 1013, '_retailapocalypse2020': 1396, '_retailnews': 1400, 'phishing': 6095, 'today____let': 7827, 'of__': 5788, '_lotl': 1079, 'colleague': 2918, '8pm': 203, 'ask': 2178, 'unsweetened': 8061, 'almond': 2000, 'convince': 3077, 'millennial': 5476, 'sh_t': 7044, 'currency': 3235, 'rate': 6496, 'oil': 5808, '_coronavirusindia': 580, 'lifestyle': 5161, 'correction': 3104, 'wisdom': 8358, 'collectiveness': 2921, 'nature': 5632, 'reciprocate': 6551, '_olson_jessie': 1250, '_nashterrance': 1187, '_mccroriejim': 1124, '_armyvet1775': 363, '_rogerscarmen': 1418, '_alim20698746': 330, '_jimbo_always': 1002, '_bill_wrights': 421, '_ddcampassr': 679, '_jewelsjones1': 1001, '_real_pat_henry': 1368, '_weseeyouweknow': 1766, '_____54_____': 255, '_randallkraft': 1363, '_datofreddy': 674, '_lennyinnecken6': 1051, '_sanmateogirl11': 1441, '_brandyls76': 445, '_spa': 1524, 'casper': 2692, 'provides': 6398, 'guess': 4426, 'press': 6291, 'hysterical': 4703, 'dysfunctional': 3622, 'ammo': 2040, 'step__': 7398, 'america_': 2034, 'shoot': 7090, 'pickup': 6111, 'crowding_': 3207, 'contamination_': 3055, 'strain': 7467, '_google': 853, 'build': 2569, 'savvy_': 6911, 'joining': 4990, 'uae': 7993, 'contain': 3052, 'considering': 3025, 'well_being': 8290, 'mall': 5324, 'gym_': 4444, 'amusement': 2047, 'lulu': 5274, 'operating': 5856, 'routine_': 6812, 'given': 4320, 'fic': 4016, 'postponed': 6227, 'til': 7791, '17': 35, '18': 39, 'nov': 5741, 'meeting': 5427, 'provoking': 6402, 'examining': 3849, 'experienced': 3885, 'epidemic': 3781, 'likely': 5171, 'forward': 4164, 'stuck': 7495, 'indoors': 4821, 'decided': 3306, 'wasnt': 8234, 'necessary': 5643, '_sarahhollenbeck': 1443, '_myclearwater': 1179, '_abcactionnews': 300, 'kept': 5020, '_boomers': 434, 'flights_': 4085, 'infect': 4828, 'meanwhile': 5407, 'hunkered': 4685, '_socialdista': 1511, '_massgovernor': 1115, 'announces': 2070, '_10m': 222, 'fund': 4248, 'administered': 1905, '_massgcc': 1114, '_75k': 246, 'ma_based': 5288, 'businesses_': 2592, 'including': 4795, 'nonprofits_': 5713, '_lt': 1083, '50': 142, 'full_': 4241, 'part_time': 6000, '_covid19_': 610, '_mabiz': 1087, 'release': 6609, 'pasta_': 6014, 'sauce': 6899, 'pizza': 6135, 'dallas': 3260, 'become': 2369, 'italian': 4950, 'grandmas_': 4383, '_dallas': 668, 'fear': 3987, 'killer': 5028, 'pres_': 6284, 'private': 6336, 'sector': 6970, 'access': 1853, 'turn': 7973, 'cnn_': 2897, 'resist': 6683, 'herd': 4560, 'mentality_': 5439, '_coronaviruspandemic': 591, 'hea_th': 4514, 'march_': 5351, 'fulfill': 4239, 'return': 6734, 'hours_': 4652, '_drsanjaygupta': 730, '_johnberman': 1005, '_newday': 1196, 'touted': 7867, 'really_': 6532, 'no': 5699, 'critical': 3199, 'avail_': 2233, '_socialdistancing_': 1514, 'arena_': 2149, '_coronavir': 568, 'multiple': 5595, 'citizens_': 2824, 'warning': 8225, 'late_': 5090, '_coronavirusupdates': 600, 'latest': 5095, 'extent': 3912, 'auto': 2229, 'transportation_': 7909, 'travel_': 7913, 'banking': 2314, 'investing_': 4906, 'useful': 8096, 'article': 2164, 'sane': 6875, 'happy_': 4488, 'escalated': 3789, 'impending': 4761, 'lockdown_': 5225, 'ministry': 5492, 'domestic': 3533, 'trade': 7883, 'warned': 8224, 'fake': 3943, 'farhan': 3960, 'yusoff': 8467, '_buying': 466, 'increasingly': 4807, 'becoming': 2371, 'chaotic_': 2756, 'animalistic': 2064, 'kicked': 5022, 'starting': 7369, '_cct320': 480, 'foraging': 4138, 'saffron': 6851, 'flapjack_': 4074, 'nose': 5727, 'drink': 3583, 'writer': 8416, 'usual': 8101, 'say_': 6915, 'recipe': 6550, '_manchestereveningnose': 1099, '_saffronflapjack': 1431, '_panicforage': 1284, '_panicforaging': 1285, 'regarding': 6587, 'occoquan_': 5779, '_mandrilltoys': 1100, 'pregnant': 6271, 'date_': 3278, 'frequently_': 4200, 'away': 2247, 'coughing_': 3116, 'common_sense': 2957, 'ways_': 8249, '_drguptamd_': 722, 'chief': 2790, 'officer_': 5799, 'fee': 3999, 'online__gt': 5838, 'rainbow_': 6481, 'boost': 2479, '_immunesystem': 954, 'medicine': 5420, '_immunesupport': 953, 'fridge': 4205, 'pantry': 5978, '_food': 810, '_foodshortage': 818, '_foodsecurity': 817, '_stockpile': 1559, '_markhoplamazian': 1109, '3_13_20': 114, 'sad_': 6841, 'hotel': 4647, 'vendor': 8125, 'associated': 2193, '_marchmadness': 1103, 'consumer_': 3037, 'room': 6804, 'costing': 3110, '_2_230_58': 232, 'nights_': 5694, 'willing': 8342, '10_000': 14, 'hyatt': 4694, 'gone': 4346, '_in': 957, 'usa': 8090, 'france_': 4174, 'u_k_': 7990, '_fashions': 784, 'collapse': 2915, '_travel_': 1684, '_stockmarkets_': 1558, '_economic': 748, 'slipping': 7189, '_governments': 855, '_businesses': 463, '_covid_19_': 635, '_ulta': 1712, 'shuts': 7129, 'in__store': 4782, '_services': 1472, 'the': 7724, 'pilers': 6120, 'drop': 3594, 'every': 3828, 'fucking': 4234, 'bog': 2466, 'roll': 6793, 'toilet_': 7834, 'off_': 5791, 'eat': 3643, 'worse': 8404, 'pricks_': 6317, '_canada_': 470, '_meat': 1129, 'section': 6968, '_herionlines': 899, 'infection_': 4831, 'contact_': 3046, 'heri': 4563, 'ensures': 3761, 'safest': 6848, 'space': 7290, 'shall': 7048, 'ransacked_': 6489, 'craziness': 3174, '_retailworkers': 1401, 'schooler_': 6946, 'btw': 2562, 'infrastructure': 4849, 'sudden_': 7517, 'nice': 5684, 'pay': 6029, 'reflected': 6575, 'risk_': 6775, 'socialise': 7243, '1000_person': 7, 'survey': 7591, 'guard': 4423, 'placing': 6143, 'military': 5470, 'raided_': 6478, 'needing': 5653, 'work_': 8380, 'driver': 3591, 'banning': 2318, 'dinning': 3444, '1_2': 53, 'shame': 7049, '_news4buffalo': 1200, '_chrishorvatits4': 498, 'leading': 5116, 'lead': 5112, 'heavily': 4534, 'implied': 4764, 'interaction': 4882, '_dtc': 734, 'looking': 5244, 'toward': 7868, 'brick': 2538, 'mortar': 5563, '_stores': 1576, 'facilitate': 3934, 'growth_': 4417, 'changing': 2751, '_news1130': 1198, 'question': 6448, 'have_': 4507, 'happens': 4485, 'classic': 2843, 'wheels_': 8306, 'big': 2418, 'meal': 5397, 'mcdonalds': 5389, 'r30': 6465, 'ubereats': 7995, 'promo': 6370, 'code': 2903, 'bigmacza_': 2422, 't_amp': 7632, 'apply_': 2126, 'hyvee': 4704, 'hyvee_': 4705, 'sunday_': 7543, '15_': 31, '2020_': 68, 'blue': 2456, 'springs_': 7343, 'missouri_': 5511, 'develops': 3400, 'begin': 2381, 'obtaining': 5775, 'needs_': 5654, '_asda': 368, '_tesco': 1623, '_morrisons': 1164, '_sainsburys': 1433, 'minimum': 5489, 'basket': 2343, '40': 126, 'forgot': 4152, 'people_': 6049, 'wish': 8361, 'physic': 6100, 'predicted': 6266, 'sanitizer': 6883, 'real_': 6521, 'air': 1966, 'iraqi': 4921, 'dealing': 3295, 'greatest': 4395, 'governance': 4366, 'challenge': 2742, '2014': 63, 'invasion_': 4902, '_middleeasteye': 1143, '_dcislamabad': 678, 'd_watson': 3254, 'f10_': 3921, 'bill_receipt_': 2425, '_coronavirusinpakistan': 582, 'now___': 5745, 'florida': 4091, '_toiletpaper_': 1654, 'door': 3545, 'medical_': 5416, 'hospital': 4639, 'along': 2004, 'pizza_': 6136, 'seem': 6979, 'fate': 3973, 'announced': 2068, '_mna': 1150, 'jeopardy': 4972, 'fluctuate': 4097, 'encouraged': 3734, 'gathering_': 4286, '_airenangel_10': 320, 'madam': 5296, 'baka': 2295, 'di': 3406, 'nyo': 5764, 'naranasan': 5623, 'ang': 2056, '_no': 1213, 'pay_': 6030, 'isang': 4931, 'kahig': 5009, 'tuka_': 7965, 'realizing': 6530, 'country___': 3131, 'thread': 7763, 'centred': 2730, 'aggressive': 1948, 'behaviour': 2387, 'australia_': 2224, 'thrilled': 7770, 'war': 8218, 'threat_': 7766, 'true': 7946, 'emerge': 3712, 'stress': 7476, 'failing': 3938, 'lax': 5107, 'worry_': 8402, 'shop___': 7095, 'fruit': 4223, 'veg': 8119, 'hell': 4543, 'eat__': 3645, 'cheese': 2781, 'coffee_': 2906, 'participating': 6002, 'era': 3787, 'lean_': 5117, 'difficult': 3430, 'accommodate': 1856, 'huge': 4669, 'discrete': 3474, 'strong_': 7488, '_nytimes': 1234, 'unprecedented': 8053, 'retailers_': 6731, 'opting': 5869, 'indefinitely': 4810, 'novel': 5742, 'us_others': 8089, 'walmart': 8211, 'fl': 4071, 'agriculture': 1958, 'commissioner': 2949, 'dept': 3376, 'svcs': 7610, 'theyve': 7740, 'activated': 1879, 'summer': 7538, 'breakspot': 2532, 'closures_': 2885, 'afternoon_': 1937, 'bet': 2409, 'learn': 5118, 'drink_': 3584, 'beauty_': 2368, 'wellness': 8292, 'reacting': 6510, 'coz': 3160, 'danger': 3266, 'neighbouring': 5662, 'kenya': 5019, 'requesting': 6664, 'orphanage': 5896, 'tonight': 7849, 'cases_': 2685, 'tonight_': 7850, '_french': 829, 'president': 6290, 'emmanuel': 3716, 'macron': 5294, 'imposed': 4772, 'two_week': 7984, 'declaring': 3311, 'municipal': 5601, 'elections__citizens': 3695, 'allowed': 1996, 'pharmacy_': 6092, 'fraud': 4181, 'attempts_': 2215, 'information': 4844, 'commission_': 2948, 'religious': 6619, 'anything_': 2095, 'finding': 4043, 'children_': 2794, 'clearing': 2859, 'shelf': 7063, 'kill': 5025, 'winning': 8351, 'games_': 4270, 'vulnerable': 8181, '200': 61, 'trendies': 7924, 'costco': 3109, 'multiply': 5596, 'megachurch': 5429, 'zombie': 8478, 'die_': 3418, 'mountain': 5573, 'members_': 5434, 'financially': 4040, '_mountainamericacu': 1170, 'unique': 8040, 'mpe': 5583, 'prepared': 6280, 'reliable': 6611, 'electric': 3696, 'measures_': 5410, 'binge': 2428, 'dream': 3580, 'reid': 6597, 'overstate': 5930, 'enjoy': 3752, 'everyday': 3832, '11am': 20, '11pm': 21, 'millennials': 5477, 'generation': 4296, 'personal___': 6073, 'allow': 1995, 'change': 2747, 'normal': 5719, 'beyond': 2415, 'disappointed': 3463, 'humanity_': 4677, 'think_': 7750, '_the': 1631, 'planning': 6152, 'insurance__': 4875, '_stayinformed': 1546, '_stayconnected': 1540, '_nailba2020': 1182, '_no_silenced': 1214, 'hello': 4547, 'brother': 2555, 'sister': 7163, 'connect': 3016, 'mainly': 5307, 'place': 6138, 'drc': 3579, 'congo': 3013, 'devastating': 3398, 'effect': 3673, 'depression_': 3375, '_zakat': 1820, 'yelled': 8444, 'yucky': 8466, 'garlic': 4279, 'australian': 2225, 'garlic_': 4280, 'soo___': 7267, 'xenophobe': 8432, 'commerce': 2945, 'started': 7366, 'use_': 8094, 'level': 5146, 'disappear': 3460, 'cursing': 3240, 'government_': 4368, 'northgate': 5725, 'allowing': 1997, '___gt': 273, 'dying': 3621, 'alone': 2002, 'deserve': 3383, 'nation': 5627, 'shit_': 7081, 'live_': 5203, 'else': 3704, 'daves': 3282, 'bread___': 2525, '_bread': 447, '_stockup': 1562, '_davesbread': 675, 'korea': 5055, '8200__': 199, '550__': 147, 'malaysia_____empty': 5321, 'there_': 7735, 'limiting': 5176, 'necessity': 5647, 'market_': 5358, '__amazon': 276, 'giant': 4312, 'adding': 1894, '100_000': 9, 'full_time': 4242, '_cannabisindustry': 473, 'importantly': 4769, 'prioritizing': 6330, 'marijuana': 5354, 'grab': 4377, '_convid19': 547, 'courier': 3137, '_amazonin': 341, '_flipkart': 805, 'vast': 8117, 'flights_trains': 4086, 'handled': 4473, 'carriers__': 2677, 'hiking': 4585, 'cashing': 2691, 'ebay': 3650, 'etc__i': 3808, 'together__': 7831, 'ridiculous': 6759, 'impacting': 4760, 'chain_': 2740, 'trade_': 7884, 'workforce': 8389, '_pwc': 1344, 'barely': 2325, 'is_': 4929, 'troubling': 7940, 'tracking': 7882, 'industry': 4823, 'step': 7397, 'way_': 8248, 'blog': 2452, 'tuned': 7968, 'wednesday_': 8268, 'friday_': 4204, 'alert': 1986, 'bogus': 2469, '_amazon': 338, 'u_s_': 7992, 'crush': 3213, 'pm': 6178, 'assures': 2199, '_stopthespread': 1574, '_research': 1386, 'shown': 7125, 'faster': 3970, 'moved': 5577, 'designed': 3386, 'slow': 7192, 'disease_': 3480, 'saved__': 6907, '_npr': 1223, 'amazes': 2026, 'me___i': 5394, 'facemask_': 3931, 'catching': 2701, '_covid2019_': 631, 'proper': 6378, '_letspanic': 1055, 'scarcity': 6926, 'resources_': 6688, 'buggy_': 2568, 'demolished_': 3361, 'reading_': 6515, 'hopefully': 4631, 'locally': 5220, 'course': 3139, 'survive_': 7597, 'strong': 7487, '_supermarkets': 1587, 'san': 6873, 'francsisco': 4177, 'mayor': 5387, 'london': 5235, 'announce': 2066, 'april': 2139, 'midnight': 5462, 'tuesday': 7963, 'plunging': 6175, 'drove': 3600, 'two_year': 7985, 'according': 1859, '_morningconsult': 1161, 'apple': 2124, '27th_': 86, 'reopened': 6649, '42': 130, 'greater': 4394, 'grown': 4415, 'woman_': 8370, 'highest': 4579, 'colorado_______and': 2930, 'off____my': 5792, 'hours___so': 4654, 'loving': 5263, 'quiet': 6460, 'tube': 7962, 'terrible': 7700, 'fantastic': 3955, '2_50': 91, 'ticket_': 7786, '_owhealth': 1273, 'turmoil': 7972, 'formation': 4154, 'deeper': 3321, 'society': 7247, 'large': 5083, 'welfare': 8286, 'odisha': 5786, 'effective': 3677, 'protective': 6387, 'state_': 7378, '_odisha': 1244, '_odishanews': 1245, '_ommcomnews': 1252, 'oregon': 5886, 'gov_': 4363, 'kate': 5013, 'brown': 2558, 'monday': 5531, 'afternoon': 1936, 'on_site': 5824, 'dining': 3441, 'takeout': 7647, '_europe': 770, 'muppets': 5602, 'again_': 1940, '_yorkshire': 1814, '_uk': 1706, 'anthony': 2079, 'fauci': 3975, 'perceive': 6053, 'inconvenient': 4801, 'far_': 3958, 'reflect': 6574, 'deteriorating': 3397, 'assessment': 2187, 'containment': 3053, 'seriously_': 7025, '_it': 980, 'overreaction': 5928, 'disease': 3479, 'control': 3069, 'recommended': 6554, 'cancel': 2634, 'postpone': 6226, 'eight': 3686, 'issued': 4947, '_iran_prisoners': 974, 'released': 6610, 'view': 8141, '_coronavirus_in': 572, '_italy': 981, 'created': 3182, 'nuisance': 5750, 'burnt': 2585, 'prison': 6333, 'cell': 2722, 'suspect': 7601, 'prison_whereas': 6334, '_india_prisoners': 960, 'face': 3925, 'extremely': 3918, 'prices_': 6313, '_bharat': 416, 'page_': 5951, 'dhs': 3405, 'ndia': 5637, 'updates_': 8076, 'rule': 6818, 'changes_': 2750, 'surveyed': 7592, 'lives_': 5207, '_karenmpd': 1015, 'arent': 2150, 'losing': 5253, 'income_': 4798, 'homes_': 4621, 'bailing': 2291, 'times__': 7802, '_coronavirus_just': 573, 'virtue': 8157, 'oncoming': 5827, 'excessive': 3856, 'maximizing': 5382, 'self_check': 6988, 'exposure_': 3908, '_makro': 1095, '_selfquarantine': 1462, 'suggests': 7531, '90_': 206, 'medication_': 5419, 'birth': 2430, 'shaky': 7047, 'ground': 4409, 'hear': 4527, '_shellykhagan': 1478, 'listen': 5193, 'absolute': 1838, 'chaos_': 2755, 'hardly': 4491, 'paracetamol_': 5986, 'tills_': 7793, 'snuff': 7229, 'haunt': 4506, 'quick': 6456, 'question_': 6449, 'homeless_': 4619, 'answer': 2075, 'cant_': 2643, 'meals_': 5399, 'limited': 5175, 'services_': 7029, 'homeless': 4618, 'seriously': 7024, 'hungry': 4682, 'school_': 6945, 'denying': 3365, 'condition': 2998, 'isolate': 4936, 'homecare': 4617, 'postal': 6223, 'throughout': 7775, 'forefront': 4145, '_oliverscampaign': 1249, 'type': 7987, 'piling': 6121, 'stopped_': 7444, 'loo': 5241, 'walk_': 8202, 'knitting': 5048, 'online___': 5837, 'moms__': 5529, 'watching': 8241, 'movies_': 5579, 'playing': 6161, 'outside_': 5915, 'pile': 6118, 'weeks__': 8277, 'homeschool': 4622, 'curriculum__': 3239, 'doing___': 3531, '_covid19ireland': 617, 'monitored': 5542, 'draconian': 3571, '_igetit': 944, '_staythefhome': 1550, '_selfisolation': 1460, 'scene': 6936, 'finland': 4050, '_group_': 873, 'ron': 6801, '95': 209, 'diesel': 3422, 'teksi': 7682, 'hailing': 4454, 'combat': 2931, '_psucreamery': 1339, 'notice_': 5738, 'evolving': 3842, 'rapidly_': 6493, 'reopen': 6648, 'date': 3277, 'uncertain': 8014, 'creamery': 3179, 'sell': 7001, 'wholesale': 8327, '_jeremy_hunt': 998, 'intervention': 4895, 'helping_': 4555, 'disagree': 3458, 'strategy': 7470, 'campaign': 2626, 'frightened_': 4213, 'fears_': 3994, '_energytwitter': 764, 'fall': 3945, 'energy': 3743, 'natural': 5631, 'gas': 4281, 'production': 6354, 'drop_': 3595, 'crushing': 3214, 'coal': 2900, 'or_': 5874, 'production_': 6355, 'shift': 7074, 'power_': 6238, 'welcome_': 8284, '_stophoarding': 1566, 'officer': 5798, 'alan': 1975, 'jones': 4995, 'radio': 6475, 'silly': 7147, 'perhaps_': 6061, 'exactly': 3846, 'that_': 7722, 'inconsistency': 4799, 'gobsmacking': 4336, 'journal': 4996, '30am': 104, 'paraphrase': 5989, 'simpson': 7153, 'clothier': 2889, '_landsend': 1045, '29th': 87, 'period_': 6063, 'hunt': 4686, 'valley': 8109, 'towne': 7874, 'center_': 2726, '_huntvalley': 930, 'trading': 7887, 'settlement': 7034, 'pse_sccp': 6407, 'tomorrow_': 7844, '17_': 36, 'enhanced': 3751, 'luzon_': 5281, '_coronavirussa': 593, 'lvmh': 5283, 'converting': 3076, 'perfume': 6059, 'ikea': 4732, 'ecommerce': 3655, 'crowd': 3204, 'ulta': 8006, '_ecommerce': 747, '_coronapocalypse': 563, 'quarantined': 6443, '14': 27, 'dubai': 3605, 'hospital_': 4640, 'safety_': 6850, 'e_learning': 3626, 'classes_': 2841, 'frustating_': 4226, 'insure': 4876, 'post': 6219, 'trellis': 7921, 'room_': 6805, 'closure': 2883, 'mon_mar_23rd_': 5530, 'wine': 8348, 'contacted': 3047, 'paypal': 6036, 'beemit': 2378, 'addiction': 1893, 'wherever': 8313, 'compassion': 2970, 'tissue': 7813, '_coronaoutbreak': 562, '_falsepanic': 782, '_worldshutdown': 1796, 'talked': 7653, 'employees_': 3723, '_foodsafety': 816, 'immunocompromised': 4752, 'opt': 5866, 'pre_packaging': 6258, 'vegetables_': 8121, '_download': 718, '_applications': 360, 'smartphones': 7205, 'easier': 3637, 'recover': 6559, '_find': 800, 'secure': 6972, 'cattle': 2705, 'sheep': 7061, 'plates_': 6158, 'shared': 7057, 'available_': 2236, 'reach': 6506, 'together': 7829, 'smart__': 7204, 'infected': 4829, 'smart': 7203, '_ignoranthumans': 945, 'lil': 5172, 'math': 5378, 'we_': 8252, '_krogersupport': 1038, '_walmarthelp': 1751, '_woodmansfood': 1787, '_milwaukee': 1146, '_highriskcovid19': 902, 'alibabas': 1988, 'beijing': 2391, 'faring': 3961, 'china_': 2798, '_selinawangtv': 1463, 'manager': 5332, 'mypov': 5609, 'chatter': 2767, 'background': 2274, 'lock': 5223, '2_weeks_': 94, 'true_': 7947, 'do_': 3519, 'cash_': 2687, 'preppers': 6282, 'wks': 8365, 'peak': 6039, '_sarscov2': 1444, 'homebound': 4615, 'cramped': 3165, 'conditions_': 2999, 'workstation': 8394, 'guy': 4441, 'stride_': 7483, 'panicking': 5974, 'generally': 4294, 'enjoying': 3753, 'self_isolation_': 6994, '_mainecoon': 1091, '_supermarket': 1585, 'groats_': 4403, 'remained': 6624, '_blrcitypolice': 428, 'address': 1897, 'issue': 4944, 'registered': 6592, 'multi_specialty': 5594, 'clinic': 2871, 'mis_selling': 5502, '_bengaluru': 407, 'plenty': 6169, 'alarmed': 1977, '_grocery': 868, 'shelves_': 7069, 'insist': 4863, 'bulk': 2573, 'excessively_': 3858, 'ministry_': 5493, 'importantly_': 4770, 'texas': 7712, 'hotline_': 4649, '682': 167, '236_7601': 78, 'spoken': 7323, 'nurse': 5753, 'questions_': 6452, 'prevention': 6304, 'better': 2410, 'cure_': 3230, 'beat': 2365, 'frequently': 4199, 'soap': 7236, 'wear': 8258, 'cloth': 2886, 'cover': 3142, 'mouth': 5575, 'crowded': 3205, 'meter': 5453, 'homemade': 4620, 'kroger': 5060, 'recovering_': 6560, 'employed': 3721, 'soopers': 7273, 'colorado_': 2928, 'fred': 4188, 'meyer_': 5455, '_jack': 988, '_cdcgov': 482, 'box': 2502, 'rule_suggestion_': 6820, 'store____': 7450, '_blakkrasta': 425, 'pls': 6172, 'pharmacist': 6089, 'cruel': 3211, '_africanhistoryclass': 315, '_taxidrivershow': 1608, '_taxijam': 1609, '_blackpot': 424, '_the_evangelist3': 1632, '_gumahdok': 876, '_teejay63': 1615, '_borbor_sly': 436, '_rastakwadzo': 1366, '_eugenpeprah': 768, '_bukari_ba': 460, 'id': 4712, 'sales_': 6866, '50_': 145, '_tweeter4trump1': 1699, '_deus_rock': 691, '_angelaorme3': 349, '_capone20201': 474, '_teetrumpette': 1616, '_ks_jhawk': 1039, '_gayrepublicswag': 839, 'willfully': 8341, 'ignorant': 4727, 'deliberately': 3337, 'blind_': 2447, 'accurate': 1866, '45_': 135, 'lies_': 5156, 'despite': 3391, 'opec_': 5844, 'affect': 1921, '_oil': 1247, 'sharp': 7060, 'shock_': 7084, 'startof': 7370, 'prolonged': 6369, 'period': 6062, 'lower': 5267, '_refinitiv': 1379, 'ehsan': 3684, 'ul_haq': 8005, 'roger': 6790, 'hirst_': 4591, 'freaked': 4184, 'nervous': 5665, 'too_': 7852, 'remember___this': 6629, 'measure': 5408, 'stick': 7407, 'figures_': 4023, 'voice': 8171, 'spending': 7314, 'confidence_': 3004, 'asset': 2188, 'perspective': 6078, 'react': 6509, 'adobeexpcloud': 1907, 'surged': 7576, '800__': 197, '_roguesnradvisor': 1419, 'defund': 3328, 'border': 2483, '_10bil': 220, 'loans_': 5217, 'mortgages_': 5564, 'expenses_': 3881, 'treatments_': 7920, '_sta': 1533, 'footing_': 4136, 'follow': 4111, 'crashing_': 3170, 'bothered': 2491, 'washing_': 8232, 'supply_': 7562, 'fuck': 4230, 'looting': 5248, 'shooting_': 7092, 'inflation': 4838, 'consumption': 3043, 'fold': 4108, 'growing': 4414, 'uncertainty': 8015, 'triggered': 7932, 'alike_': 1989, 'restocking': 6710, 'reduced': 6567, 'restock': 6708, 'sanitize': 6881, 'h_amp': 4445, 'billion': 2426, '_boltgrrl': 431, 'a_': 1823, 'referring': 6572, 'to_': 7820, 'b_': 2264, 'downturn': 3565, 'activity': 1884, 'd_t': 3253, 'dispute_': 3497, 'dow': 3558, 'thought_': 7761, 'hygienic': 4697, 'storing': 7462, 'nan': 5619, 'bright': 2540, 'spot_': 7331, 'spared': 7293, 'severe': 7037, 'wow': 8412, 'open_': 5846, 'barely_': 2326, 'standing': 7360, 'child_': 2792, 'hey_': 4566, 'keeping': 5017, 'lady_': 5075, 'assholes_': 2189, 'vile_': 8147, '_rossstores1': 1421, '_marshalls': 1110, 'renton': 6647, 'non_essential': 5707, 'opens_these': 5854, 'hub': 4668, 'york': 8452, 'ap': 2102, 'produce': 6349, 'college': 2922, 'morning_': 5559, '_toronto': 1669, '_newzealand': 1204, 'canada': 2631, 'surging_': 7580, 'previously': 6308, 'rerouted': 6669, 'canada_': 2632, '48_': 137, '_supplies': 1594, '_virus': 1739, '_fear': 789, '_spreads': 1530, 'elizabeth': 3702, 'warren_': 8227, 'target_': 7661, 'returns_': 6737, 'pharma': 6086, 'language': 5080, 'preventing': 6303, 'future': 4257, 'vaccines_': 8107, 'drug': 3601, 'funding': 4251, 'wins_': 8352, 'father': 3974, 'restriction_': 6716, 'bank_': 2313, 'station_': 7385, 'hang': 4478, 'del': 3333, 'taco': 7639, 'friends_': 4209, 'diligent': 3438, 'appreciative': 2134, 'after_': 1935, 'sanitized': 6882, 'minimise': 5487, 'deadly': 3293, 'large_': 5084, 'portable': 6208, 'sanitizers_': 6886, '_makabayimercie': 1092, '_tmcgltd': 1649, '_priscilla_atim': 1333, '_spartakussug': 1526, '_hopefortunate': 914, '_davisthedoc': 676, '_drjohnmark_b': 728, '_akorapriscilla': 323, '_osbertmwijukye': 1264, '_sandrabwengye': 1435, '_minofhealthug': 1147, '_mondaymotivation': 1155, '_wallstreet': 1749, 'appreciation': 2133, 'term': 7698, 'driven': 3590, 'tax': 7665, 'funded': 4250, 'planet': 6149, 'shore': 7109, 'accounts_': 1863, 'raw': 6502, 'prognosis': 6364, 'sitting': 7168, 'internet': 4892, 'traffic': 7890, 'earn': 3633, 'raise': 6482, 'power_up': 6239, 'remote': 6635, 'workflow': 8388, 'bitcoin': 2433, 'falling': 3946, 'technology': 7680, '_todayshow': 1651, 'reporter': 6659, 'vicky': 8136, 'ngyuen': 5683, 'qualified': 6440, 'anywhere_': 2101, '_justsayin': 1012, '_pmoindia': 1319, '_narendramodi_request': 1185, 'bring': 2543, 'agncy': 1950, 'action': 1876, 'gt': 4419, 'hold': 4608, 'tkng': 7816, 'advntge': 1919, 'mrp': 5585, '50_amp': 146, '400_': 127, 'suffer': 7518, 'town': 7872, 'trip': 7934, 'waste_': 8236, 'speechless_': 7308, 'heading': 4518, 'purpose': 6427, '_ebay_uk': 745, 'ashamed': 2172, 'yourself_': 8462, 'though_': 7759, 'flocking': 4088, 'shouldnt': 7120, 'hazard': 4511, 'survived': 7598, '_supremecourt': 1600, 'atleast': 2208, 'carry': 2679, 'mask_': 5368, 'chant': 2753, 'corona_': 3094, 'go_': 4334, 'huh_': 4671, '_aetna': 309, 'broad': 2549, 'plans_': 6153, 'industry_': 4824, 'communication': 2960, 'whose': 8329, 'belong': 2396, 'queue': 6454, '_bushey': 461, 'jersey': 4974, 'phil': 6094, 'murphy': 5604, 'except': 3853, 'take_out': 7644, 'smlr': 7212, 'ashley': 2174, 'conway': 3078, '_njbiz': 1211, 'ahead': 1960, '_coronavirusnj': 584, '_njcoronavirus': 1212, 'wave': 8245, 'bulk_': 2574, 'donate': 3535, 'behind_': 2390, 'thread_': 7764, 'asked': 2180, 'recently': 6547, '_pressrelease': 1326, 'detailed': 3394, 'wallet': 8209, '_abidsuleri': 301, '_shiffa_zy': 1481, 'shanghai': 7052, 'worsening': 8405, 'circumstances_': 2822, 'spring': 7342, 'bargain': 2327, 'sale': 6864, 'season': 6959, 'china_nobody': 2799, 'come_sad_': 2934, 'apeshit': 2106, 'defined': 3326, 'easy': 3641, 'engagement_': 3748, 'course_': 3140, 'sick_': 7134, 'seek': 6978, 'attention_': 2218, 'ihss': 4730, '_ihss': 946, '_sanfrancisco': 1437, '_amzn': 347, 'strained': 7468, 'mask': 5367, 'highly': 4581, 'cost': 3107, 'rs_': 6814, 'kindly': 5035, 'variety': 8115, 'earth_': 3635, 'request': 6662, '_cmopb': 518, 'punjab_': 6422, '_coronavirusoutbreaks': 590, 'practice': 6245, 'occupation': 5781, 'monitor': 5541, 'required': 6666, 'assist': 2190, 'unknowingly': 8044, 'gripping': 4402, 'sainsbury': 6857, 'tesco': 7703, 'approaching': 2136, 'doomsday': 3544, 'fast___': 3968, '_coronavirusnz': 587, '_chch': 486, 'privileged': 6337, 'places_': 6142, 'transport': 7906, 'shops_': 7107, '2_2': 90, '_melbourne': 1134, 'grandma': 4382, 'hospital___': 4642, 'gloves_': 4331, 'gouging': 4360, 'gabon_': 4261, 'pangolin': 5962, 'falter': 3947, 'affected_': 1923, 'vigilant': 8143, 'proactive_': 6338, 'au': 2221, 'ventes': 8126, 'de': 3290, 'flanchent': 4073, 'avec': 2238, 'le': 5111, 'greed': 4396, 'death': 3298, 'swept': 7617, 'rich': 6750, 'sustain': 7608, 'bare': 2323, 'poor_': 6196, 'refrain': 6578, 'unnecessarily': 8051, 'bulks_': 2576, 'message': 5449, 'isb': 4932, 'continuity': 3062, 'partners_': 6006, 'clients_': 2869, 'reporting': 6660, 'agency': 1944, 'cognizant': 2907, 'ever': 3826, 'rely': 6621, 'verified': 8128, 'data': 3275, 'identity': 4719, 'remote_': 6636, 'nyt': 5765, 'yes_no': 8447, 'year_': 8439, 'pretty_': 6299, '_nytopinion': 1236, '_mcdonalds': 1125, '_subway': 1581, '_chickfila': 492, '_crackerbarrel': 644, '_outback': 1269, '_cheesecake': 488, 'hint': 4588, '_ryan_holdaway': 1427, '_harrysteindc': 886, 'felt': 4012, 'chains_': 2741, 'severely': 7038, 'debit_credit_store': 3302, 'problem': 6341, 'touching': 7863, 'packaging': 5943, 'touched': 7862, 'age': 1942, '_pittsburgh': 1313, '_icelandfoods': 937, 'lifeline': 5159, 'finished': 4049, 'nursing': 5756, 'empty__': 3727, 'role': 6791, 'wildlife': 8339, 'scrutiny_': 6955, 'pushing': 6431, 'brink': 2546, 'extinction': 3913, 'animal': 2063, 'endangered': 3739, 'species_': 7304, 'prc': 6255, 'principal': 6323, '1_4': 55, '_quarantine': 1347, '_elderly': 758, '_cnnhealth': 522, '_bbchealth': 396, '7_14': 188, 'homebound_': 4616, 'old_': 5815, 'alone_': 2003, 'help_': 4550, 'we_govt_': 8253, 'modeling': 5522, 'stealth': 7393, 'sars_cov2': 6895, 'contagious_': 3051, 'undocumented': 8027, 'supported': 7567, 'geographic': 4301, 'harder': 4490, '_stopstockpiling_': 1571, 'waiting': 8191, 'los': 5251, 'angeles': 2057, 'rainbow': 6480, 'hope_': 4630, '_rainbow': 1359, 'bakkt': 2300, 'marching': 5352, 'launch': 5101, 'app_': 2113, '_300m': 236, 'series': 7021, 'coffee': 2905, 'entertainment': 3769, 'non': 5706, 'field': 4017, 'veterinarian': 8131, 'mailing': 5305, 'ups': 8078, 'gratitude': 4391, 'helping': 4554, 'lines_': 5180, 'healthcare': 4522, 'police_': 6185, 'fire': 4052, 'fighters_': 4019, 'emts_': 3731, 'ou': 5903, '_rmantri': 1412, 'yeah_': 8437, 'economy': 3661, 'shape_': 7054, 'fudging': 4237, 'hide': 4572, 'degrowrth_': 3331, 'correlated': 3105, 'crude': 3210, 'kashmir': 5012, 'elsewhere_': 3707, 'and_': 2051, 'responding': 6696, 'covid_1': 3151, 'contagion_': 3049, 'stimulate': 7411, 'foresee': 4146, 'maxing': 5384, 'intention': 4881, 'paying': 6033, 'card': 2661, '_federalreserve_people': 791, 'stretching': 7481, '_economics': 749, '_finance': 799, '_ivankatrump': 986, 'kind_': 5032, 'hysteria_': 4702, 'livelihood': 5206, '_nomoreclosings': 1217, '_stopthepanic': 1573, '_stoppanicbuyin': 1567, 'stir': 7414, 'practicing': 6247, 'sweep_': 7613, '_lesdoggg': 1053, '_lockedupwithatoddler': 1071, 'nightmare_': 5693, 'ask__': 2179, 'putting': 6433, '_us': 1720, 'ammunition': 2042, 'soar': 7238, 'knives_': 5049, '_toiletpaperpanic': 1659, '_gunsandammo': 877, 'chaos': 2754, 'ensued': 3758, 'indian': 4814, 'sf': 7041, 'bay': 2353, 'area_': 2148, 'friday': 4203, '_bayareacoronavirus': 394, '_bbcbreakfast': 395, 'option_': 5871, 'accepting': 1852, 'order_': 5878, 'checking': 2775, 'store___': 7449, 'hon_': 4624, 'back___and': 2273, 'bag': 2285, 'produce_': 6350, '_bettersafethansorry': 413, 'drama': 3575, 'epicenter': 3780, 'seattle': 6963, '_fredmeyerstores': 826, 'note': 5731, 'shelter': 7066, 'bingo____will': 2429, 'not___covid_19uk': 5729, '_headache': 890, '_itsmainakageni': 984, 'total': 7859, 'starve': 7372, 'die': 3417, 'fellow': 4011, 'human': 4673, 'okay_': 5813, 'piling_': 6122, 's_l1jhx4wml': 6834, 'primark': 6319, 'kingfisher': 5040, 'europe': 3813, 'dinner': 3442, 'till': 7792, 'month_': 5547, 'friendly': 4208, 'picky': 6113, 'eater': 3647, 'approved_': 2137, '_mealplan': 1127, '_mealprep': 1128, '_howtokeeppeoplehome': 924, '_schoolclosure': 1450, '_delivery': 682, '_templetonf': 1619, '_rnzconcert': 1413, 'feel_': 4007, 'saver': 6909, 'listening': 5194, 'weekly': 8275, 'quite': 6463, 'surreal': 7587, 'risking': 6777, 'infection___': 4832, 'stockpile': 7431, 'incase': 4789, 'contract': 3063, 'what_': 8302, 'enough_': 3756, 'fuck_': 4231, '_stockpiling': 1560, 'items_': 4954, 'away_': 2248, 'dollar': 3532, 'bodegas_': 2464, '7_11_': 187, 'friends_neighbors_': 4210, 'recent': 6546, 'affected': 1922, 'biz_': 2437, '_techpals_uk': 1614, '_smallbiz': 1501, 'howard': 4662, 'meat': 5411, 'chicken_': 2789, 'rapidly': 6492, 'globally_': 4328, 'actions_': 1878, 'prep': 6276, 'prep_': 6277, 'ready_': 6517, '_supplychainmanagement': 1597, '_smart': 1502, 'device': 3402, 'ordering_': 5882, '_kuwait': 1043, '_online': 1255, '_sites': 1495, 'finger': 4046, 'tips_': 7809, 'trust': 7950, 'kuwait': 5064, 'law': 5106, '_thankingkuwaitcorona': 1628, 'tempting': 7694, 'boredom': 2486, 'bum': 2580, 'no_': 5700, 'nope_': 5717, 'fmi': 4102, 'foodborne_': 4129, 'sparked': 7295, 'association': 2194, 'stressing': 7480, 'foodborne': 4128, 'illness_': 4738, 'nike_': 5695, 'urban': 8082, 'armour': 2154, 'joined': 4989, '__consumeraction_': 280, '30': 100, 'recognition': 6552, '_energy': 763, '_banking': 389, 'behind': 2389, 'part': 5998, 'slowing': 7195, 'result_': 6719, '401': 128, 'richmond': 6753, '_staythefuckhome': 1551, 'cult': 3218, 'wreaking': 8414, 'havoc': 4509, '_wholefoods_': 1777, 'prime': 6320, '_amazonfresh': 340, 'another': 2074, 'coming___stock': 2940, 'blood': 2453, 'bath': 2348, 'now____': 5746, 'jobs__': 4982, 'medicaid__': 5414, 'security___': 6975, 'psychosis_': 6408, 'fascinating': 3965, 'piece_': 6116, '_nikkisixx': 1209, 'honest': 4625, 'god_': 4338, 'tv_': 7978, 'baby': 2268, 'boom': 2478, '1919': 43, '1945': 44, '_babyboom2020': 384, 'hoarding_': 4605, 'ten': 7695, 'subsequent': 7509, 'repeat': 6652, '_newscarolyn': 1201, 'happened': 4482, 'received': 6544, 'informing': 4848, 'glad': 4322, 'managed': 5330, 'delivered': 3342, 'toda': 7822, 'precautionary': 6259, '_sydney_': 1602, '_australia_': 376, '_bennotweets': 408, '_coronavirusaustralia': 576, 'governor': 4370, 'cuomo': 3222, 'husband': 4690, 'expose': 3905, 'unless': 8047, 'nonstop': 5715, 'dispatched': 3492, 'portugal': 6211, '_covid2019pt': 632, 'francisco': 4175, 'curfew': 3232, 'banned': 2317, '_curfew': 656, 'oh': 5806, 'estimating': 3803, 'max': 5381, 'akka': 1973, 'wtf': 8423, 'influencing': 4839, 'ripple': 6769, '_dairy': 667, 'battered': 2350, 'depressed': 3373, '_brucehillmelb': 458, 'shes': 7072, 'garden': 4277, 'planting': 6154, 'commodity': 2954, 'unfair': 8033, 'display': 3494, '_drharshvardhan': 723, '_mohfw_india': 1152, '_coronaindia': 558, 'wic': 8331, 'symbol': 7622, 'beside': 2406, 'price_': 6310, 'else_': 3705, 'switch': 7621, 'brand': 2516, 'wic_approved': 8332, 'options_': 5873, 'empty_handed_': 3729, '_mepolitics': 1140, '_makemytrip': 1094, '_dgcaindia': 693, 'flight': 4083, 'dated': 3279, 'cheating': 2771, 'circular': 2820, 'cancellation': 2635, '_fmi_org': 809, '_fmi_foodsafety': 808, '_foodindustry': 813, 'communicating': 2959, 'ran': 6487, 'dinner_': 3443, 'lime': 5173, 'bare_': 2324, 'vote': 8178, 'biden': 2417, 'bernie': 2404, 'illegals': 4735, '_50': 241, 'bread_': 2524, 'unfortunately_': 8037, 'cancelling': 2637, 'ultimate': 8007, 'causes_': 2710, 'bo': 2460, 'jo': 4977, 'gave': 4287, 'conference': 3001, 'ago': 1951, 'appears': 2122, 'slot': 7191, 'was_': 8228, 'surrounding': 7589, 'org': 5887, 'leslie': 5140, 'sarasin': 6892, 'reassuring': 6541, 'resilience': 6680, 'dropped': 3598, '_30': 235, 'barrel': 2329, 'amidst': 2039, 'saudi': 6902, 'arabia': 2143, 'russia_': 6830, 'monica': 5540, 'nickelsburg_geekwire': 5686, 'lightly': 5166, 'saute': 6903, 'tp': 7877, 'bagel': 2286, 'seasoning': 6961, 'trader': 7885, 'joe': 4984, '_coronavid19': 567, '_abc': 299, '_almchriis': 332, 'tomato': 7842, 'sauce_': 6900, 'cleaners_': 2851, 'disinfectant_': 3488, 'cereal_': 2735, 'margarine_': 5353, 'diet': 3423, 'coke_': 2911, 'trying_': 7957, 'shift_increase': 7075, 'esp': 3793, 'healthcare_': 4523, 'legged': 5132, 'stool_': 7440, 'disappeared_': 3461, 'printing': 6325, 'fiat': 4015, 'prop': 6376, 'bamksters': 2308, 'corporations_': 3102, 'quickly': 6458, 'requires': 6668, 'location': 5221, '_pocket_rocket96': 1320, 'anxious_': 2088, 'anxiety': 2086, 'schizo': 6941, 'affective': 1926, 'disorder_': 3491, 'miss': 5506, 'boyfriend': 2506, 'covid_19s': 3158, 'traffic_': 7891, 'agile': 1949, '_bestbuy': 411, 'basically': 2340, 'probably_': 6340, 'asymptomatic': 2202, 'case_': 2684, 'virus_yall': 8161, 'pattaya': 6026, 'makro': 5319, 'gym': 4443, 'nightmare': 5692, 'fuel': 4238, 'sympathy': 7623, 'effecting': 3676, 'express': 3909, 'job': 4978, 'loss_': 5255, 'rent_mortgage': 6644, 'ect___and': 3664, 'temporary': 7692, 'mandated': 5336, 'asap_': 2169, 'messages__': 5451, '_repost': 1385, '_quarantineandchill': 1348, '_socialdistance': 1512, '_wtf': 1798, 'walked': 8204, 'quieter': 6461, 'usual_': 8102, 'eerie': 3672, 'suspense': 7607, 'permeated': 6066, 'dessert': 3392, 'deserted_': 3382, 'staples_': 7362, 'eggs_': 3682, 'ourselves_': 5904, 'positive_': 6214, '_alonetogether': 334, 'suspending': 7606, 'shutoffs': 7128, 'senior': 7011, 'income': 4797, 'meet': 5426, 'monday__': 5533, '_jobs': 1004, 'damaged': 3263, '_usa': 1722, '_sp500': 1523, 'discretionary': 3475, 'sector_': 6971, 'firmly': 4058, 'system_': 7629, 'chart_': 2764, 'buy_': 2600, 'sell_': 7002, '_xly': 1806, '_stocks': 1561, '_luxury': 1084, '_trading': 1682, '_investing': 967, '_covidusa': 641, 'watch': 8238, 'expected': 3878, '_or': 1262, 'waste': 8235, 'i_e_': 4707, 'expiration': 3890, 'package': 5941, 'gop': 4357, 'opposition': 5865, '_homedepot': 911, 'showing': 7124, 'complaining': 2977, 'buyer': 2602, '327': 106, 'million': 5479, 'visiting': 8166, 'weather': 8261, 'storm_': 7463, 'e_commerce': 3625, 'solution_': 7257, 'tailor_made': 7640, 'specialty': 7303, '_we': 1757, 'appealing': 2120, 'steps_': 7403, 'other_': 5898, 'spread__': 7337, 'defended_': 3325, 'cautiously': 2715, 'adjusts': 1904, 'abroad': 1836, '_already': 335, 'nearest': 5641, 'money___': 5538, 'fucked': 4232, 'economically': 3659, 'profit': 6357, 'texts_': 7714, 'claim': 2833, 'cure': 3229, 'everyone_': 3834, 'strip': 7484, 'neighbour': 5659, 'essential_': 3796, '_randomactsofkindness': 1365, '_ni': 1206, 'unsung': 8060, 'cashiers_': 2690, 'prelim': 6272, 'univ': 8042, 'michigan': 5456, 'sentiment': 7019, 'index': 4811, '5_0__': 151, 'decline': 3312, 'accelerates_': 1849, '_thinkwhyitmatters': 1642, 'regina': 6589, 'anticipating': 2084, 'cbc': 2718, 'uh': 8001, 'end_': 3738, '_hoarding_': 908, 'preece': 6268, 'wheelchair': 8305, 'her_': 4558, 'arrived': 2160, 'cat_': 2696, 'partner': 6005, '11': 19, 'm_c': 5285, 'political': 6190, 'tribalism': 7929, '_helpers': 898, '_nurses': 1224, '_doctor': 707, 'shopper': 7098, 'me_co_workers': 5396, 'verbally': 8127, 'assaulted': 2186, 'tip': 7808, 'pace': 5938, 'madness': 5298, 'and_or': 2054, 'exploitation': 3900, '_hoarding': 907, 'berlin': 2403, '_vicderbyshire': 1732, '_victorialive': 1734, '_bbctwo': 398, '_bbcnews': 397, 'book': 2475, 'joes': 4985, 'week___all': 8272, 'fave': 3978, 'section_': 6969, 'exaggeration': 3847, '___except': 272, '_traderjoes': 1680, '_annelies_goger': 353, 'low_income': 5266, 'typically': 7988, 'federal_': 3997, 'targeted': 7662, '_cexalsobrooks': 483, 'prince': 6322, 'george': 4302, 'md': 5390, 'tank': 7657, 'halted_': 4461, 'fixed': 4070, 'place_': 6139, 'nothing_': 5736, 'phase': 6093, 'slowly_': 7197, '_diesel': 694, '33_7': 108, 'gallon': 4267, 'fell': 4010, 'country_': 3130, '_midwest': 1144, 'decrease': 3313, '9_8': 212, '_2_591_': 233, '_connorinthenews_': 538, '_eiagov': 757, '_dieselprice': 696, '_dieselfuel': 695, '_fuel': 833, 'trastra': 7910, 'transactions_': 7900, 'season_': 6960, '_parked': 1290, '_safeway': 1430, '_oakland': 1239, '_parkinglot': 1291, '_lol': 1073, '_apocalypse2020': 358, 'turmeric': 7971, 'tea_': 7672, 'ginger_lemon': 4315, 'honey': 4627, 'herbal': 4559, 'tea': 7671, 'sugar_you': 7526, 'asda_': 2171, '_renetrevor': 1381, 'self_quarantine': 6995, 'shopping___i': 7104, 'loan___to': 5216, '_sos': 1518, '_aldiusa': 327, 'aldi': 1984, 'sad': 6840, 'is___': 4930, 'exhausted': 3870, 'stockup_': 7437, '_fight': 794, 'will_': 8340, '_coronavirussouthafrica': 595, 'commitment': 2950, 'adjusting': 1903, 'scheduled': 6939, '24_7': 80, 'portal': 6209, '_covid19au': 611, 'pumping': 6420, '_money': 1156, '_economy_': 751, 'lowering': 5269, 'solve': 7258, '_earning__': 740, 'drawing': 3578, 'stopped': 7443, 'non_essentials': 5708, 'reassurance': 6538, 'specific': 7305, 'product_': 6353, 'clear___if': 2857, 'trolley': 7938, 'bug_': 2567, 'fuckin': 4233, 'unlike': 8048, 'ftc': 4229, 'immediately': 4746, '_valenciacounty': 1726, '_smiths': 1504, '_hiring': 905, 'openly': 5853, '_suchetadalal': 1582, '_moneylifers': 1158, '_moneylifeindia': 1157, 'weighing': 8278, 'company_': 2968, 'surpassed': 7581, '3_000': 113, 'sunday__': 7544, 'mintel': 5494, 'experts_': 3889, 'source_': 7283, '_consumers': 544, '_drink_': 724, '_beauty_': 401, '_retail_': 1394, '_health': 891, '_marketresearch': 1107, '_consumerinsights': 543, '_consumerbehavior': 541, '_trustedsource': 1696, 'outfitters_': 5911, 'entity': 3771, 'calculated': 2613, 'loss': 5254, 'overhyped': 5923, 'virus___': 8160, 'bomb_': 2471, 'invisible': 4909, '_indiavscorona': 962, 'behalf': 2383, 'around_the_clock': 2157, 'labor': 5069, 'breathe_': 2534, 'refilling': 6573, 'fast': 3967, 'supply_chain': 7563, 'demands__grocerystores': 3357, '_wholefoods': 1776, 'happening': 4483, 'now_____': 5747, '_supermarketsweep': 1590, '_souq': 1519, 'expects': 3880, 'heightened': 4540, 'distribution': 3511, '_jeffkeeling12': 997, 'describe': 3378, 'brought': 2557, 'essentially': 3797, 'while_': 8316, 'stop_': 7442, 'doubt': 3554, 'slowed': 7193, 'humane': 4674, 'eastern': 3640, 'carolina': 2673, 'hsec': 4667, 'mission': 5510, 'forever': 4147, 'care_': 2663, 'pension': 6045, 'tried': 7930, 'midst': 5463, 'seating': 6962, 'person_to_person': 6071, 'wv': 8427, 'ag': 1939, 'clean_up': 2850, '_316day': 237, 'regret': 6593, 'purchasing': 6426, 'junk': 5006, 'comfort': 2936, 'arrive': 2159, 'stock__': 7418, 'anticipated': 2083, 'tt_5': 7959, 'revenue': 6741, 'account': 1861, '_trinidad': 1687, '_tobago': 1650, 'finance': 4037, 'minister': 5490, 'regulator': 6596, '2b': 96, 'walter': 8212, 'cautious': 2714, 'dude': 3607, 'montreal_': 5553, '_gethuel_': 843, 'protein': 6388, 'heal': 4519, 'waitrose': 8192, 'muji': 5592, 'launched': 5102, 'person_couple': 6070, 'simply': 7152, 'lewisville_frisco': 5150, 'figure': 4021, 'bold': 2470, 'proof': 6375, 'retailer': 6730, 'hassle_free': 4500, 'instead_': 4870, 'colombo': 2927, 'suburb_': 7512, 'solidarity': 7255, 'refraining': 6579, 'exacerbate': 3844, 'suffering___drtedros': 7522, '_like': 1059, 'applauding': 2123, '_healthworkers': 894, 'balconies_': 2303, 'community___drtedros': 2964, 'piano': 6103, 'guild': 4430, 'ptg': 6409, 'compiled': 2975, 'advisory': 1918, 'explaining': 3896, 'piano_': 6104, 'prompted': 6373, 'continuing': 3061, 'document': 3523, 'website_': 8264, 'finish': 4047, 'repacking': 6650, 'smaller': 7202, 'bags_containers_': 2288, 'overly': 5924, 'prices___': 6314, 'earth__________________': 3636, 'training': 7898, 'explained': 3895, '_petersgoodman': 1307, '_mikiebarb': 1145, 'pretend': 6296, 'marketplace': 5360, 'quarantine_': 6442, 'bills_': 2427, 'time__coronavirus': 7798, 'january_': 4965, 'yougov': 8458, 'gathering': 4285, 'different': 3427, 'shifting': 7076, 'behavior_': 2386, 'democracy_': 3359, 'impacted_': 4759, 'explore': 3902, '_physicaldistancing': 1311, '_breaking': 448, '_llbean': 1064, 'close_': 2876, 'flagship': 4072, 'freeport_': 4191, '3_29_': 118, '5th': 155, 'history': 4593, 'closethe': 2880, '24': 79, '_newscentermaine': 1202, 'draft': 3572, 'amendment': 2032, '_chmnmendelson': 496, '_wage': 1747, 'replacement_': 6654, 'relief_': 6614, 'health_': 4521, 'protection_': 6386, '_cryptogodfatha': 651, 'imo': 4754, 'bottom_': 2495, 'contrary': 3065, 'popular': 6202, '_bitcoin': 423, 'gold_': 4342, 'worldwide': 8399, 'risk_off_': 6776, '_crypto': 649, 'opportunity_': 5862, '_cryptoc': 650, '________________': 263, '________': 258, '___________': 261, 'chicken': 2788, 'pork': 6206, '_perduefarms': 1304, 'diced': 3413, 'estate': 3802, 'ingenious': 4850, 'placement': 6141, 'handwash_': 4476, 'facemasks_': 3932, 'diy': 3517, 'kit_': 5041, 'welcoming': 8285, 'born': 2489, '_womeninstem': 1786, 'serving': 7031, 'luxury': 5279, 'self_isolate_': 6991, 'thanking': 7719, 'enduring': 3741, 'trauma': 7911, 'uncivilized': 8017, '_groceryshopping': 869, '_grocerystore': 870, '_grocer': 865, '_thankyou': 1630, '_thankful': 1627, '_thankunext': 1629, 'solution': 7256, 'covid_19__': 3154, 'later_': 5094, 'availability': 2234, 'extended': 3911, 'break_': 2528, 'retail__': 6725, '_arvindkejriwal': 366, 'sir': 7161, 'like_croma': 5170, 'vijaysale': 8145, '_more': 1160, '_closetheretailstore': 515, 'affraid': 1930, 'evening': 3819, 'currently_': 3238, 'rideshare': 6757, '_uber': 1702, '_asklyft': 370, 'cratering': 3171, '_increasing__': 959, '_800': 248, 'a_m_': 1824, '_coronavirusseattle': 594, 'prediciton': 6264, 'bored': 2485, 'sofa': 7250, '15': 28, 'passed_': 6010, 'reaction': 6511, 'meant': 5406, 'foodbanks_': 4127, 'establishes': 3800, 'spain': 7291, 'ta': 7635, '_news12nj': 1199, 'news12': 5677, 'nj': 5698, 'clerks_': 2864, 'restrictions_': 6717, '_nycs': 1230, 'farmers_': 3964, 'truckers_': 7944, 'working_': 8391, 'gone___there': 4350, 'humanity': 4676, 'disability_': 3456, 'disgusted': 3483, 'couponers': 3136, 'vibing': 8134, 'rn_': 6783, 'slim': 7188, 'pickins': 6110, 'creativity': 3186, 'cooking_': 3085, 'episode': 3783, 'chopped_': 2809, 'risen': 6772, 'filling': 4030, 'storerooms__': 7455, '_demand': 684, 'increases__': 4805, 'lord': 5249, 'poor_______': 6197, 'pragmatic': 6249, '_telstra': 1618, '_andy_penn': 348, 'giving': 4321, 'broadband': 2550, 'unlimited': 8050, '__gt': 284, 'joke_': 4993, 'bigger': 2420, 'moment_': 5527, 'worker_': 8384, 'rather': 6497, 'whereverremember': 8314, 'headed': 4517, 'extinction_level': 3914, 'brands_': 2518, 'digital_first': 3435, 'model_': 5521, 'traditional': 7889, 'in_store': 4787, 'accelerant': 1847, 'trends_': 7927, '_dramalinabakri': 721, 'sugar': 7524, 'milk_': 5473, 'engineer_': 3749, 'milk_amp': 5474, 'pasteurisation': 6017, 'process_': 6346, 'bacteri': 2279, 'weed': 8269, 'besides': 2407, 'married': 5364, '_doomsdayprepper': 715, 'france': 4173, 'curb': 3226, 'xboxs': 8431, 'playstations': 6162, 'constantly____': 3032, 'minecraft': 5484, 'whilst': 8317, 'monkey': 5543, 'ebay_': 3651, 'reasonable': 6536, 'california': 2614, 'seller': 7003, 'welcome': 8283, 'busy': 2594, '_____run': 267, 'walk': 8201, '____get': 268, '_do': 706, 'tv': 7977, 'reschedule': 6670, 'cook': 3079, '_coronavirususa': 601, 'evening_': 3820, 'mad': 5295, 'selfishness': 6998, 'pointless': 6183, 'hand_': 4467, 'shit___why': 7082, 'acting': 1875, 'dead': 3291, 'baffling': 2284, 'said_': 6855, 'finna': 4051, 'ctfu': 3216, '_socialdistancing___if': 1515, 'labeled': 5068, 'chose': 2810, 'brand_': 2517, 'cannot_': 2641, 'fired': 4054, 'things____this': 7748, 'badly_': 2283, 'honestly': 4626, 'danish': 3269, 'jalanalanakanakakak': 4962, 'guardian_': 4425, 'whod': 8324, 'reality': 6525, 'check_': 2773, 'joke': 4992, 'complete': 2980, 'chicago': 2786, 'bacp': 2278, 'soliciting': 7254, 'feedback': 4004, 'develop': 3399, 'death_': 3299, 'f___ing': 3923, 'meltdown': 5432, 'well___': 8289, 'wondering': 8374, 'register': 6591, 'none_': 5710, 'doctor': 3521, 'insurance_': 4874, 'offered_': 5795, '_america': 342, '_sickofwinning': 1490, 'socially': 7246, 'distanced': 3503, 'kitchen_': 5043, 'hurdle': 4688, 'doing_': 3530, 'boris': 2487, 'sensible': 7014, 'reason_': 6535, 'expecting': 3879, 'tomorrow': 7843, '_bangkok': 388, 'everybody_': 3831, 'soon_': 7270, 'constantly': 3030, 'covid19': 3149, 'pascal': 6008, 'montagne': 5544, '_37degres': 238, '_studiohanslucas': 1579, '_france': 825, '_shortage': 1486, '_paranoia': 1288, '_disease': 702, 'shop___yes_': 7096, 'interested': 4888, 'isolation_': 4941, 'eg': 3680, 'stick_': 7408, 'consumption_': 3044, 'affecting_': 1925, 'ur': 8081, 'minworth': 5499, 'nappies_': 5621, 'tbh': 7669, 'fb': 3981, 'psa': 6406, 'mall_': 5325, 'capitalism_': 2653, 'retail_people': 6729, 'choice': 2806, 'montral': 5552, 'bit': 2432, 'relieved': 6617, 'direction': 3449, 'strategy_': 7471, '_votebluenomatterwho2020': 1746, '_democraticsocialism': 686, '_nofood': 1215, '_trump2020': 1691, '_maga': 1090, '_kag': 1014, 'like__': 5168, '_drudge': 731, 'tool': 7855, '_wuhancoronavius': 1802, '_wuflu': 1800, 'everything_cmon': 3838, 'grip_': 4401, 'bullshit_no': 2579, 'found_': 4168, 'underwear': 8025, 'commando_': 2941, '_maryland': 1111, '_aacounty': 298, '_emptyshelves': 762, '_wwg1wga': 1804, '_q': 1345, 'offline': 5803, 'normal_corona': 5721, 'barrier_': 2333, 'aint': 1965, 'shoukd': 7118, '_housearrest': 921, '_kumailn': 1042, 'suffering': 7520, 'serious_': 7023, 'high_': 4575, '30_000': 102, 'fami': 3949, 'infection': 4830, '_nytimestech': 1235, 'yell': 8443, 'alcohol_': 1983, 'confusion_': 3011, 'soooo': 7271, 'this__': 7755, 'store__': 7448, 'answers____': 2078, '_coronavirusny': 586, 'ration': 6498, '_____________________': 264, 'small___': 7201, 'fill': 4027, 'questionaire': 6451, 'quetion': 6453, '_nakuulmehta': 1183, '_fanforever': 783, 'jsc': 4999, '13th': 26, 'figured': 4022, 'happens_': 4486, 'understand': 8020, 'closing_': 2882, 'lol_': 5234, 'son': 7266, 'niece': 5688, 'hut_': 4692, 'thru': 7779, 'caregiver_': 2667, 'repairs_': 6651, 'eachother': 3627, 'mere': 5446, 'damn': 3264, 'downfall': 3561, 'relax': 6607, 'overnight': 5925, 'sporting': 7330, 'boggling': 2467, '70s_': 177, '90': 205, 'mother_': 5571, 'gf': 4310, 'er_': 3786, '_stayhomechallenge': 1544, 'continues': 3060, 'sweep': 7612, 'do___': 3520, 'sending': 7009, 'covid_19___': 3155, 'indicate': 4815, 'moment': 5526, 'lab': 5067, 'growth': 4416, 'crippled': 3195, 'import': 4765, 'similar': 7150, 'mother': 5570, 'unseasoned': 8058, 'demanding': 3356, 'asylum': 2201, '_ukhomeoffice': 1710, '_aspencard': 371, 'food_essentials': 4122, '_hostileenvironment': 917, '_symaag': 1603, '_refugeeaction': 1380, '_voicesnetworkuk': 1742, 'majid': 5310, 'al': 1974, 'futtaim': 4256, 'operates': 5855, 'excluding': 3860, 'carrefour': 2675, '_rosie': 1420, 'baked': 2297, 'goods__': 4355, 'dr': 3570, 'qasabi': 6438, 'filmed': 4031, 'personally': 6074, 'inspecting': 4865, 'catastrophe': 2698, 'operation': 5857, 'addressed_': 1898, 'insecurity': 4860, 'kindergarten': 5034, 'riots_': 6768, 'untransformed_': 8064, 'sa': 6835, 'coining': 2910, '_confiscatory_': 537, 'pricing': 6316, 'practices_': 6246, '_who': 1775, 'blackfriday': 2440, 'anyway': 2096, 'steep': 7396, 'cream': 3178, 'covid__': 3159, '_greedybastards': 861, 'active_': 1882, 'bagp': 2287, 'pillitteri': 6125, 'tour': 7866, 'tasting': 7663, 'winery': 8350, 'shipping': 7079, 'virology': 8154, 'stressful': 7479, 'rt': 6815, 'chris': 2811, '67': 166, 'caught': 2706, 'crossfire': 3203, 'norah': 5718, 'press_': 6292, 'chip': 2803, 'nationally': 5629, 'nimmo': 5696, 'hey': 4565, 'fortune': 4163, 'eu': 3812, 'avoidance': 2242, 'directive': 3451, 'shout': 7121, 'crazed': 3173, 'salute': 6869, '_shoutout': 1487, '_supermarketsemployees': 1588, '_coles': 525, '_woolworths': 1788, '_aldiaustralia': 325, 'conduct': 3000, 'ri': 6745, 'caller': 2618, 'nicole': 5687, 'toddler': 7828, 'newborn': 5674, 'emotion': 3717, 'describes': 3380, 'jeremy': 4973, 'difficulty': 3432, 'survivalist': 7595, 'bent': 2401, 'active': 1881, 'bars_': 2334, 'included': 4793, 'john': 4986, 'carney': 2672, 'declaration': 3310, 'delaware': 3334, 'influx': 4841, 'unemployment': 8030, 'claims__so': 2836, 'many_': 5349, '_egypt': 755, 'truck': 7941, 'stepping': 7402, 'duty': 3618, '2019': 65, 'microsoft': 5457, 'impressed': 4775, 'shot': 7117, 'tin': 7804, 'last_': 5088, 'stockmarkets': 7430, '250': 83, 'penne': 6044, 'thankful': 7718, 'driving': 3593, 'lived': 5205, 'january': 4964, 'differently': 3429, 'ummmmmmmmmm_': 8010, 'bout_': 2501, 'need__': 5650, 'jeanyuses': 4969, '_cnn': 521, 'rock_solid': 6788, 'information_': 4845, 'ay': 2254, 'dios': 3445, 'mio_': 5500, 'widespread': 8334, 'double': 3551, '407': 129, 'skewed': 7175, '1st': 59, 'mini': 5486, 'freakout': 4187, 'blasio': 2444, '48': 136, 'angrily': 2062, 'responded': 6694, 'table': 7636, 'deserving': 3384, 'wage': 8187, 'disaster': 3465, '_moscow': 1166, '_russia': 1423, 'accelerating_': 1850, 'digital': 3434, '_23_9': 231, '2018': 64, 'forecast': 4144, '_59_5': 243, '2023_': 71, 'rice_': 6748, 'flour': 4092, 'cooking': 3084, 'soared': 7239, 'predominantly': 6267, 'asian': 2175, 'muslim': 5606, 'machine': 5290, 'learning': 5120, 'network': 5669, 'loading': 5213, '_covid19germany': 614, '_covid19usa': 628, '_covid19turkey': 626, '_chinesevirus': 495, 'johnson': 4987, 'sunak': 7542, 'voluntary': 8176, 'inched': 4790, 'autistic': 2228, 'child': 2791, '_autism': 377, 'site': 7164, 'share_': 7056, 'viral': 8152, 'misleading': 5505, 'hitting': 4595, 'patience_': 6021, 'provided': 6395, 'gear_': 4291, 'sent': 7017, 'compensate': 2971, 'allows': 1998, 'every1': 3829, 'pickup_': 6112, 'gear': 4290, 'italy': 4951, 'knowing': 5052, 'noted': 5733, 'korean_owned': 5056, 'wiping': 8357, 'constantly_': 3031, 'concerned': 2993, 'ppl': 6242, '_haggenfood': 878, '000': 0, 'reason': 6534, 'jill': 4976, 'horrible': 4637, 'realizes': 6528, 'jcpenney': 4966, 'critized': 3201, 'bashed': 2338, 'writing': 8418, 'acted': 1874, 'internationally_': 4891, 'equity': 3784, 'markets_': 5361, 'announcing': 2071, 'threat': 7765, 'climate': 2870, 'govt': 4372, 'underestimate': 8018, 'power': 6237, 'awful': 2252, 'provider': 6396, 'smile': 7208, 'mart': 5365, 'forced': 4141, 'pharmacy': 6091, 'walkin': 8205, 'think________': 7751, '_perintahkawalanpergerakan': 1305, 'akan': 1971, 'gather': 4284, 'dekat': 3332, 'stesen': 7405, 'bus': 2586, 'balai': 2301, 'polis': 6188, 'lord_': 5250, 'frontliners_': 4221, 'bpo_': 2508, '_handsanitizers': 884, '_uk_': 1707, 'distributed': 3510, '_saudiarabia': 1446, 'uk_': 8003, '_coronauk': 566, '_deweysim': 692, 'taken_': 7646, 'saint': 6859, 'denis': 3363, 'tightening': 7790, 'literally': 5196, 'store_retail': 7454, 'freak': 4183, '_justinel_h': 1011, 'agree': 1954, 'primarily': 6318, 'stories_': 7461, 'credible': 3189, 'journalism': 4997, 'shadows_': 7045, 'view_': 8142, 'cologne': 2925, 'germany': 4304, 'overtime': 5931, 'stressed': 7478, '_small': 1500, '_wutang': 1803, 'grift': 4399, 'nonsense': 5714, 'visible': 8162, 'oriental': 5892, 'racism': 6468, 'relief_my': 6616, 'monthly': 5548, 'arrived_': 2161, 'stock_including': 7421, 'understandable': 8022, 'events_i': 3825, 'adapting': 1889, 'grateful': 4389, 'chronic': 2813, 'wild_': 8337, '5_324': 153, 'moronavirus': 5560, 'version': 8129, '_trumpplague': 1694, 'hated': 4502, 'clarify': 2838, 'freaking': 4186, 'soul': 7279, 'angrier': 2061, 'stuffed': 7500, 'popped': 6200, 'moscow': 5565, 'thailand': 7715, 'epidemic_': 3782, 'site_': 7165, 'arrested': 2158, 'scattered': 6934, 'flee_': 4078, 'intercept': 4884, 'road': 6785, 'optimistic_': 5868, 'lazada': 5110, 'zalora': 8471, 'shopee': 7097, 'respective': 6692, 'operational': 5859, 'dan': 3265, 'mummy': 5600, 'famous': 3952, 'german': 4303, 'cheddar_': 2779, 'folks_': 4110, 'wrst': 8422, 'kse': 5061, '_zewrstjokeimdaswelt': 1822, 'asks': 2182, '_lockedinwithmom': 1070, 'rant': 6490, 'proud': 6390, 'el': 3688, 'salvador': 6870, 'fearful': 3990, 'creates': 3183, 'outcome': 5909, 'cussing': 3244, 'treatment': 7919, 'once_': 5825, 'phlegm': 6096, 'disappears': 3462, 'breath': 2533, 'recovers': 6561, 'smoothly_': 7215, 'secret': 6966, 'experienced_': 3886, 'tweeted': 7979, 'blocked_': 2451, 'thrown': 7778, '_ebberger': 746, 'shocked': 7085, 'anglo': 2060, 'govs___': 4371, '_list': 1062, 'co': 2898, 'ordination': 5885, 'committee': 2953, 'artificially': 2167, 'strongly': 7489, '_grocerystorehero': 871, '_logistics': 1072, 'staff_': 7352, '_truckers': 1689, '_coronavirusworkers': 602, '_truckdrivers': 1688, '_coronavirusnc': 583, 'ok': 5810, 'bunch': 2582, 'pharmacies_': 6088, 'learned': 5119, 'carrots_': 2678, '_carrots': 479, '_nyc': 1228, 'germany_gt': 4305, 'explain': 3894, '_hamsterkauf': 882, 'harm': 4493, '70_': 176, 'workplace': 8392, 'bakery': 2299, 'seniors_': 7012, 'saw_': 6913, '_californiacoronavirus': 468, 'beverage': 2412, 'aways': 2249, 'platform': 6159, '2nd': 98, '3rd': 125, 'balik': 2304, 'kampung': 5011, 'station': 7384, '4th': 141, 'sampai': 6872, '_restrictedmovementorder': 1392, 'turkey': 7970, 'queuing': 6455, 'maintaining': 5309, 'islamabad': 4933, 'counter': 3124, 'grind': 4400, 'supreme': 7571, 'commercial': 2946, 'complexes_': 2983, 'catering': 2703, 'clinics_': 2872, 'optical': 5867, 'reserve': 6676, 'ofa': 5789, 'urging': 8087, 'ontarians': 5841, 'produced': 6351, 'processed': 6347, 'wouldnt': 8410, 'cleared': 2858, 'cupboards_': 3225, '_selfish': 1457, '_humanity': 926, 'breakfast': 2529, 'program': 6365, 'suspended': 7604, 'lunchtime': 5276, 'isolated___': 4938, 'creative': 3185, 'doesn': 3526, 't__': 7631, '_coronacrisis': 557, 'loop': 5245, 'shutting': 7131, 'elected': 3692, 'decision': 3307, 'obviously': 5778, 'excessively': 3857, 'cant_wont': 2644, 'letting': 5144, 'becomes': 2370, '_dubai': 735, '_uae': 1701, '_residence': 1387, '_citizens': 504, '_education': 752, '_knowledge': 1035, 'baby_': 2269, 'choose': 2807, 'faves': 3979, 'korang': 5054, 'berpusu_pusu': 2405, 'beratur': 2402, 'tu_': 7960, '_covidmalaysia': 640, '_lockdownmalaysia': 1069, 'justin': 5007, 'trudeau': 7945, 'hi': 4567, 'affordable': 1928, 'carbon': 2660, 'farm': 3962, 'slap': 7183, 'meee': 5424, 'plsss': 6173, 'alternative': 2015, 'collection': 2919, 'only_': 5839, 'rethink': 6732, '_iam_udit_t': 934, '_piyushgoyal': 1314, '_railminindia': 1358, 'ticket': 7785, 'stations_': 7386, '_covidindia': 639, '__jeffbezos_': 285, '__amazon_': 277, 'fam': 3948, 'building': 2570, '0645': 3, 'camping': 2629, 'rock': 6786, 'show_': 7123, 'nuts_': 5759, 'tryna': 7958, 'chinese_asian': 2802, 'cultures_': 3219, 'race': 6466, '_haileesteinfeld': 880, 'duty_': 3619, 'dickinson': 3414, 'awesome_': 2251, 'assure': 2197, 'dutch': 3617, 'nah': 5616, 'shopping___lets': 7105, '_marketcrash': 1105, '_marketslump': 1108, '_socialdistancingworks': 1516, 'purse': 6428, 'disposable': 3496, '_booksamillion': 433, 'statewide': 7382, 'disgusting_': 3485, 'charles': 2761, 'hospital__': 4641, 'secondhand': 6965, 'pawn': 6028, '_supernatural': 1592, 'everybody': 3830, 'cunts___': 3221, '_01': 215, 'night': 5690, 'simple': 7151, 'mode': 5519, '_coronavirus__covid2019': 571, 'egg': 3681, 'hording': 4634, 'supplies___': 7559, 'behaviour_': 2388, '94': 208, 'yr': 8465, 'chill': 2796, '_nz': 1237, 'jeez': 4971, 'learnt': 5122, 'magic': 5302, 'spell': 7311, 'joking': 4994, '_19': 225, 'sore': 7275, 'throat': 7771, 'ball': 2305, 'appear': 2121, 'mess': 5448, 'russian': 6831, 'cashier_': 2689, 'imp_': 4755, 'correct': 3103, 'missing__like': 5509, 'discounted': 3471, 'prices__or': 6315, 'enuf': 3773, 'santizers_': 6891, '_coronavirusinindia': 581, '3_5': 119, 'truck_driving': 7942, 'towns_': 7875, '_donaldjtrumpjr': 709, 'category': 2702, 'chronically': 2814, 'importance': 4766, '133': 25, '157': 30, 'tldr': 7817, 'scaring': 6931, 'rear_end': 6533, 'alright_': 2009, 'swiss': 7620, 'status_': 7388, 'in____': 4781, 'suggest_': 7529, 'street_': 7473, 'anymore': 2090, 'trust_': 7951, 'mostly': 5569, 'virtually': 8156, '_disabilitysucks': 701, 'with_': 8362, 'brawling': 2522, 'vinegar': 8149, 'metro': 5454, 'hackney_': 4451, '_shoppingwars': 1485, '_london': 1074, 'fragility': 4172, 'interconnected': 4885, 'laid': 5078, 'rampant': 6486, 'individualism': 4820, 'formed': 4155, 'gun': 4438, 'contagious': 3050, 'beating': 2366, 'vehicle': 8124, 'matter': 5379, 'bullshit': 2578, 'sleeping': 7185, 'apps': 2138, 'wuhan': 8425, 'treating': 7918, 'proved': 6392, 'jp': 4998, 'kr': 5057, 'assistance': 2191, 'massively': 5373, 'scary_': 6933, '_usa_': 1723, 'civil': 2830, 'unrest': 8057, '__ryanair': 293, 'waiving': 8195, 'miraculously': 5501, 'expensive': 3882, 'original': 5894, 'flight_': 4084, 'rigged_': 6760, '_skynews': 1499, 'thursday': 7782, 'flyer': 4100, 'three_ply': 7768, '_3_44_': 239, 'lineup_': 5182, '_1005freshradio': 217, '6__': 169, 'fruits_veggies_chicken_ground': 4225, 'beef_potatoes_bread_soup': 2377, 'member': 5433, 'union': 8039, 'join': 4988, 'organise': 5889, 'abused': 1844, 'like___': 5169, 'earliest': 3629, 'improve': 4777, 'bangor': 2311, 'opened': 5848, '7am': 191, 'handing': 4471, 'individual': 4819, '_cmo_odisha': 517, 'sky': 7178, 'central': 2728, 'action_': 1877, '_covi': 607, 'dropping': 3599, 'litre': 5197, 'van': 8112, 'lowest': 5270, 'flowing': 4095, 'doug': 3555, 'baker': 2298, 'cbs': 2719, 'protecting': 6384, 'layer': 5108, 'travelling': 7915, '_torbay': 1668, 'others_': 5900, 'wold': 8368, 'sainsburys': 6858, 'where_': 8308, '__potus': 292, 'waive': 8193, 'citizen': 2823, '_fiercehealth_': 793, 'recession_': 6549, 'costly': 3111, 'patients_': 6024, '_sandrodemaio': 1436, '_vichealth': 1733, '_raf_epstein': 1356, '_drive': 727, 'speak': 7298, 'conversation': 3074, 'socks_': 7249, 'particular': 6003, 'day__': 3287, '_youcantaskthat': 1816, '9pm_': 214, '_menards': 1136, 'accused': 1868, 'doubling': 3553, 'experiencing': 3887, 'rights_': 6765, 'relating': 6602, 'advertising': 1914, 'stock____': 7420, 'reminder_': 6633, '_coffee': 524, 'surprisingly': 7586, '_ralphs': 1361, '_mcdonaldscoffee': 1126, 'doctors_': 3522, 'nurses_': 5755, 'teachers_': 7675, 'contributing': 3068, 'beware': 2413, '_coronavirusdc': 577, 'ineffective': 4825, 'solicit': 7253, 'charity': 2760, 'pretending': 6297, 'victims_': 8137, 'netherlands': 5668, 'exporter': 3904, 'usa_': 8091, 'buy___': 2601, '_rutte': 1425, '_coronanederland': 561, '_amsterdam': 345, 'irony': 4925, 'party': 6007, 'size_': 7173, 'cletus_': 2865, 'memes2riches': 5437, '_get_repost': 842, '_heybitch': 900, '_store': 1575, '_customer': 657, '_bevigilant': 414, 'six': 7171, 'deep_': 3320, 'stripped': 7485, 'flying': 4101, 'donation': 3537, 'onto': 5842, 'passed': 6009, 'straight': 7466, 'lesson': 5141, 'turner': 7975, 'lav': 5104, 'aggarwal_': 1946, 'joint': 4991, 'secretary_': 6967, 'icmr': 4711, 'council': 3120, 'research': 6672, 'appealed': 2119, 'diagnosis': 3409, 'emotionally': 3718, 'hurts_': 4689, 'empathic': 3719, 'tapped': 7660, 'ty': 7986, 'reassured': 6540, 'clock': 2873, '_retailgazette': 1398, 'expands': 3874, '3500': 111, '_corvid19uk': 604, '_businessnews': 464, '_newjobs': 1197, 'bias_': 2416, 'diligently': 3439, 'data_': 3276, '_diymrx': 705, 'useless': 8098, 'boosting': 2480, 'tumble': 7966, 'pump': 6419, '77_9': 182, '_toronto_': 1670, '_rogermcknight_': 1417, '_torontodotcom': 1671, 'braving': 2520, '55_000_': 148, 'officially': 5801, 'scared_': 6929, 'manipulated': 5340, 'one___': 5830, 'depreciate': 3372, 'role_': 6792, 'upcoming': 8071, 'elections_': 3694, 'campaign_': 2627, 'rwanda': 6832, 'considerate': 3022, 'walloped': 8210, 'vanishing': 8113, 'ei': 3685, 'patient_': 6023, 'visited': 8165, 'gafoors': 4263, 'leytonstone': 5151, 'advised': 1916, 'imcresed': 4744, 'referred': 6571, 'advisor': 1917, 'abrupt': 1837, 'ended': 3740, 'aspect': 2183, 'worrying': 8403, 'inject': 4855, 'everywhere': 3839, 'rent': 6643, 'judging': 5002, 'barren': 2331, 'bean': 2362, 'british': 2547, 'intends': 4879, 'defeat': 3323, 'flatulence_': 4077, '_skift': 1497, 'post__coronavirus': 6220, 'pledge': 6167, 'beer': 2379, '_beercentralltd_': 403, '_thedramshopuk_': 1634, '_hophideout': 915, '_greenshopsheff': 862, '_shoplocal': 1483, '_supportlocal': 1599, 'lone': 5236, 'anonymous': 2073, 'mystery': 5612, 'among': 2043, '_anonymous': 354, '_allcannedout': 331, '_aluminumcan': 336, '_donotforgetthecanopener': 710, 'checklist': 2776, '_safoodbank': 1432, '_grocers': 867, 'modify': 5524, '_hours': 920, '_clean': 507, '_restock': 1391, '_closures': 516, 'twice': 7980, 'contribute': 3067, 'describing': 3381, 'if': 4723, 'dozen': 3567, '_shutdownaustralia': 1489, '_rwandatrade': 1426, '_leadership': 1048, '_cyrilramaphosa': 663, 'fix': 4069, 'effect_': 3674, 'collusion': 2924, 'mineral': 5485, 'respectful': 6690, 'specifically': 7306, 'er': 3785, 'perishable': 6064, 'une': 8028, 'centaine': 2724, 'personnes': 6077, 'se': 6956, 'pressent': 6293, 'aux': 2231, 'dun': 3612, 'supermarch': 7549, 'saint_denis_': 6860, 'en': 3732, 'banlieue': 2316, 'parisienne_': 5992, 'lendemain': 5135, 'lannonce': 5081, 'du': 3604, 'prsident': 6403, 'renforant': 6642, 'dplacement': 3569, '_afp': 314, '_deplorables_': 687, 'rough_': 6807, 'oil_': 5809, 'hospitals_': 4645, 'fires_': 4056, 'streets_': 7474, 'on_': 5822, '_halfurman': 881, '_stevehosid': 1553, 'brave': 2519, 'trucker_': 7943, 'fearless': 3993, 'nurse_': 5754, 'humble': 4678, 'stocker': 7427, 'count': 3122, 'fancy': 3954, 'graduate': 4379, 'degrees_': 3330, 'everyones': 3835, 'africa': 1933, 'fourth': 4171, '_waitrose': 1748, 'maintain': 5308, 'virtual': 8155, 'example': 3850, 'stupid_': 7502, 'said_____': 6856, 'buying_____': 2606, 'education': 3670, 'escaping': 3792, 'judge': 5000, 'owe': 5933, 'incredible': 4808, 'sacrifice': 6838, 'trial': 7928, '_telemedicine': 1617, '_psychtwitter': 1341, '_meded': 1131, '_captwitter': 475, '_workfromhome': 1790, '_parentinginapandemic': 1289, 'elderly_only': 3691, 'menwhile': 5443, 'overseas': 5929, 'stole': 7438, 'inside': 4861, 'absurd': 1840, 'expansive': 3876, 'kudos': 5063, 'seldom': 6984, 'appreciated': 2130, '__sephora': 295, 'theyll': 7738, 'fees_': 4009, 'adjusted': 1902, 'hiatus_': 4569, 'lemay': 5134, 'schnucks': 6943, 'masnou_': 5370, 'north': 5723, 'barcelona_': 2322, 'spain_': 7292, 'reuters_': 6739, 'albert': 1981, 'gea': 4289, 'reuters': 6738, '_coronavirusespaa': 578, 'added': 1892, '43': 131, 'unlikely': 8049, 'average': 2239, '_michelcombes': 1142, '_sprint': 1531, 'concerning': 2995, 'severity': 7039, 'covid_19_reduced': 3157, 'deter': 3396, 'spreading_only': 7340, '_british_airways': 455, 'ba': 2267, 'chooses': 2808, 'ban_': 2309, 'wrong_': 8420, 'evil_': 3841, '_gamestop': 836, 'five': 4068, 'scarborough': 6923, 'u_s': 7991, '_2': 226, 'coronavirus_induced': 3099, '_crisis': 647, '_jobcreation': 1003, 'zoom': 8480, '_vons': 1744, '_ralphsgrocery': 1362, '_albertsons': 324, '_wincofoods': 1782, '_pavilions': 1294, '_staterbrosmkts': 1537, '_gelsonsmarkets': 840, '_bristolfarms': 454, 'overheard': 5922, 'anyways_': 2099, 'boyyyy': 2507, 'ex': 3843, 'girl_': 4317, 'firearms_': 4053, 'why___': 8330, '_____quicktake': 266, 'curfew_': 3233, 'jump': 5004, 'overnight_': 5926, 'hugely': 4670, 'performance': 6058, 'urgent': 8085, '_mosul': 1168, 'enterances_': 3764, '_mosul2020': 1169, '__govtimwalzs': 283, '00_': 1, 'takeout_': 7648, '_kstp': 1040, 'badger': 2282, 'winchester': 8344, 'ther': 7732, 'moral': 5554, 'highground': 4580, 'agricultural': 1957, 'haulier': 4505, 'wonderful': 8373, 'hse': 4666, 'gps': 4376, 'attention': 2217, 'shoppers_': 7099, 'apply': 2125, 'booze__': 2482, 'heartfelt': 4532, 'custodial': 3245, 'enforcement': 3746, 'dedication': 3317, '_starbuckshelp': 1535, 'arizona': 2153, 'fatal': 3972, 'hom': 4612, 'sprayed': 7334, 'lysol': 5284, 'went_': 8295, 'coughed': 3114, 'alcohol': 1982, 'sneeze': 7223, 'cough_': 3113, 'towel': 7870, 'pocket': 6179, 'bathroom': 2349, 'door_': 3546, 'derivative': 3377, 'motion': 5572, 'depression': 3374, 'contagion': 3048, 'enhance': 3750, 'migration___': 5466, 'pet': 6079, 'liquor': 5190, 'nintendo_': 5697, 'magazines_': 5301, 'projects_': 6367, '_aldiuk': 326, 'staff_they': 7353, 'public_will': 6414, 'restricting': 6715, 'super': 7545, 'resonse': 6686, 'amani': 2025, 'chattanooga': 2765, 'town_': 7873, 'chattanooga_': 2766, 'running_': 6826, '_leoo_ray': 1052, 'hello_': 4548, 'leo_': 5139, '_healthcare': 893, '_payers': 1295, '_customerengagement': 658, 'propaganda': 6377, '_whatsapp': 1773, 'artificial': 2166, '_pakistan': 1274, 'alarm_': 1976, 'start_': 7365, 'profiteering': 6361, 'black_marketing': 2439, 'poverty_': 6236, 'appointment': 2127, 'counting': 3126, 'lifesaving': 5160, 'colombia': 2926, 'former': 4156, '_mauriciocard': 1118, 'aq': 2141, 'triple': 7935, 'capital': 2650, 'fiscal': 4063, 'stimulus': 7412, '_unavoidable_': 1713, 'latin': 5096, 'store_bank_coffee': 7452, 'theyd': 7737, 'mindful': 5482, '_kijiji': 1029, 'insanity': 4859, 'reselling': 6674, '_fordnation': 821, '_ontariogov': 1260, '_covid19ontario': 622, '_showmeyourshelves': 1488, 'reserved': 6677, 'dubuque_': 3606, 'iowa___': 4916, 'rice___': 6749, 'ashamed_': 2173, 'nappy': 5622, '_disgusting': 703, 'cybercriminals': 3251, 'pitching': 6133, 'masks_': 5369, 'santiago_': 6890, 'chile': 2795, '_aa': 297, 'cristobal': 3198, 'saavedra': 6836, 'vogel': 8170, 'preventative': 6302, 'viva': 8169, 'fresh_': 4202, 'dante': 3270, 'galeazzi': 4266, 'discusses___': 3477, '_tradeshow': 1681, '_tradeassociation': 1679, '_texasinternationalproduceassociation': 1625, 'gamestop': 4271, 'refusing': 6585, 'jackass': 4960, 'butter': 2597, 'opening_': 5852, '_jessebubecci': 999, 'mike': 5467, 'dewine': 3404, 'workers___': 8386, 'desperate': 3388, 'raisin': 6483, '_attention': 372, 'zuppardo': 8482, '_doors': 716, '8am': 202, '_customers': 660, '65_': 162, 'wherein': 8310, 'remind': 6630, 'helped': 4551, 'create_dont': 3181, 'mean_go': 5402, 'supermarket_fear': 7553, 'god_panic': 4339, 'symptom': 7624, 'sinister': 7160, 'aspect__i': 2184, 'you__': 8454, 'regardless': 6588, 'merit_': 5447, 'hawaii': 4510, 'clare': 2837, 'e_': 3624, 'connors': 3019, 'executive': 3865, 'director': 3454, 'stephen': 7400, 'levins': 5148, 'of_': 5787, 'report_': 6657, '587_4272': 149, 'bash': 2337, 'officials_': 5802, 'reactive': 6512, 'fluid': 4098, 'vigilant_': 8144, 'precautions_': 6260, '_onpoli': 1257, 'getting_': 4309, 'rosie': 6806, 'riveter': 6781, 'met': 5452, '_ehende': 756, 'odd_': 5785, 'appeal': 2118, 'no_one': 5702, 'carnage_': 2671, 'okay': 5812, 'you_____covid2019': 8457, 'facilitates': 3935, 'spend_': 7313, 'ar': 2142, '_asahutchinson': 367, 'continue_': 3058, 'engage': 3747, '_arnews': 364, '_katv7': 1020, '6yrs': 173, '1950': 45, 's_60': 6833, '73': 179, 'uc': 7996, 'months_90_000': 5550, 'cohort': 2909, 'years_then': 8442, 'mp': 5582, 'disgrace': 3481, '_onevoice': 1254, '_ageconcern': 316, '_mentalhealth': 1137, '_dwpcrimes': 739, 'marked': 5356, 'logo': 5232, 'handed_': 4469, 'substitute_': 7510, '_mypsafortoday': 1181, 'blast': 2445, '_immigrantsong': 951, 'radiate': 6473, 'alive': 1990, '_canadalockdown': 471, '_duscarla': 737, '_wanda1606': 1752, '_carolinevoaden': 477, '_emmanuelmacron': 761, 'certainly': 2737, 'stance': 7357, 'years': 8440, 'materials_': 5377, 'idiot_': 4721, 'had_': 4452, 'departmental': 3367, 'hereby': 4562, 'bound': 2500, 'selflessly': 7000, 'touch': 7861, 'treat': 7916, 'substitutes_': 7511, '44': 132, '_selfisolate': 1459, '3months_': 124, 'cope_': 3090, '_corovid19': 603, '_spencers_retail': 1528, 'shameless': 7051, 'charged': 2758, 'mrp_': 5586, 'peple': 6050, 'nutritious': 5758, 'work_from_home': 8381, 'gift': 4313, '_mentalhealth_': 1138, '_selfcare': 1456, 'anxious': 2087, 'brad': 2513, 'hoard_': 4601, '_klew': 1034, 'emptying': 3730, 'alarming_': 1979, 'news_': 5678, 'restocked_': 6709, 'destined': 3393, 'peppa': 6051, 'pig': 6117, 'peas_': 6042, 'tbh_': 7670, '_corinnavirus': 552, '_koronavirus': 1036, '_coronavirusnorge': 585, 'sanity': 6888, 'izers': 4958, 'makeup': 5315, 'sniff': 7228, 'lockdown__our': 5226, 'most_': 5567, 'expert': 3888, 'issue_': 4945, 'stacking': 7350, 'reflects': 6576, '_reviewjournal': 1406, 'ah_': 1959, 'conscience_': 3020, '_terribleherbst_': 1621, 'gaming': 4272, 'tending': 7697, 'machines_': 5291, '_murderers': 1176, 'trifold': 7931, 'resiliency_': 6681, 'establish': 3799, 'consideration': 3023, 'alternative_____the': 2017, 'sun': 7541, 'newspaper__': 5680, '_toryshambles': 1673, '_sunnews': 1584, 'tinned': 7807, 'throttle': 7773, 'infinite': 4835, 'gaseous': 4282, 'warming_': 8223, 'trending': 7925, 'bushwick_': 2588, 'brooklyn': 2553, '10pm': 17, 'earlier': 3628, 'restocking_cleaning': 6712, 'fish': 4064, 'minus': 5495, 'opener': 5850, 'broke_': 2552, 'cooked_': 3081, 'eaten_': 3646, 'breaking_': 2531, 'bro': 2548, 'different_': 3428, 'services__necessary': 7030, 'distancing__': 3507, 'writes': 8417, '_d_kuehn': 664, 'onmsft_': 5840, '100k': 10, '_sindh': 1492, 'spokesman': 7324, '_murtazawahab1': 1177, '_taftaan': 1604, 'exclusive': 3861, 'visuals': 8167, 'criminal': 3194, 'negligence': 5656, '_cia': 502, '_washyourhands': 1755, '_germx': 841, '_beervirus': 404, '_damnbeervirus': 670, '_coronabeer': 555, '_coronabeervirus': 556, '_apocalypse': 357, 'supermarket___': 7552, 'addressing': 1899, 'leadership_': 5115, 'truely': 7948, 'ministerial': 5491, '_pressconference': 1325, 'eye': 3919, 'debit': 3301, 'fraudulent': 4182, 'ted': 7681, 'talk_': 7652, '__nielsen_': 288, 'constituency': 3033, 'appalled': 2114, 'responsibly': 6701, 'platedemic': 6157, 'weird': 8280, 'remaining': 6625, 'through_': 7774, 'connectivity': 3018, '_cwaunion': 661, 'lift': 5163, 'caps_': 2657, '_standwithprager': 1534, 'fargo': 3959, 'committed': 2952, 'assistance_': 2192, '1_800_219_9739': 56, 'trained': 7896, 'specialist': 7301, 'lending_': 5136, '_karileeak907': 1016, 'busi': 2589, '_theindigoauthor': 1635, '_winatlifeonline': 1781, 'assured': 2198, 'tirelessly': 7811, 'removed_': 6638, 'prohibits': 6366, 'profiting': 6362, 'tragedy': 7892, 'disaster_': 3466, 'mention_': 5440, 'pushed': 6430, 'limits_': 5177, '1__': 57, 'atlanta_based': 2207, 'furniture': 4254, 'havertys': 4508, '_nurses2020': 1225, '_nhs': 1205, '_actsofkindness': 304, '_tuesdaythoughts': 1698, '_dontbeaspreader': 712, '_business': 462, '32c': 107, 'disrupted': 3499, 'globally': 4327, 'more___': 5557, 'zanottos': 8472, '_sanjose': 1440, 'dedicate': 3314, '8_9am': 201, 'sterilize_': 7404, 'enter_': 3763, '_ktvu': 1041, '_cnbcnow': 520, 'kinda': 5033, 'weird_': 8281, '_you': 1815, 'mail': 5304, 'foodbank': 4126, 'patriotic': 6025, 'heartlessly': 4533, '500_': 144, 'job_most': 4980, 'certain': 2736, 'instability_': 4868, 'syrup_': 7627, '_bringmeauntjemima': 453, '_finalstraw': 798, 'peanut': 6040, 'butter___': 2598, 'postponing': 6228, '_holbycity': 909, '6pm': 171, 'bulletin_': 2577, '_bbva_usa': 399, 'bbva': 2356, 'bcrea': 2359, 'intelligence': 4877, 'sketching': 7174, 'housing': 4658, 'explores': 3903, '___especially': 271, 'whining': 8319, 'flesh': 4079, 'frigging': 4211, '_animalagriculture': 351, 'perishables_': 6065, 'youll': 8459, 'throw': 7776, 'sanitisers': 6878, 'mate': 5375, 'prevalent': 6300, 'snap_authorized': 7219, 'populations_': 6205, 'break': 2527, 'dod': 3524, 'recommends': 6556, 'prescription': 6285, 'comprehensive': 2987, 'interviewing': 4898, 'interview': 4896, 'roof': 6802, 'crashed': 3169, 'owner': 5934, 'weapon': 8257, 'therapy': 7733, 'barrie': 2332, 'bracing': 2511, '_barrie': 390, '_barriefoodbank': 391, '_madamearth': 1088, 'gone___': 4348, 'bloody': 2454, 'enforce': 3744, 'how_': 4661, 'relatively': 6605, 'half_hour_': 4458, 'hand_wash_': 4468, '_imperial': 956, 'leather_': 5124, 'smelling': 7207, 'baseball': 2335, 'faster_': 3971, 'shipped': 7078, 'whereas': 8309, 'nepal_': 5664, 'hiding': 4573, 'pitty': 6134, 'shame___': 7050, 'thanks_': 7721, '_elonmusk': 760, 'elon_': 3703, 'feared': 3989, 'responsably': 6697, 'strict': 7482, 'strainful': 7469, 'confinement': 3006, 'harvest': 4496, 'monetary': 5535, 'clothing': 2890, '20_': 72, 'madness_': 5299, 'none': 5709, 'green': 4398, 'downtown': 3564, 'dartmouth': 3272, 'respond': 6693, 'time3': 7796, 'wks_': 8366, 'attack': 2211, 'enemy': 3742, 'timeto': 7803, 'kill_': 5026, 'groceries_amp': 4406, 'storesremains': 7460, 'paid_': 5953, 'schedule': 6938, 'minutes_': 5498, 'occurs': 5782, 'often_': 5805, 'whats': 8304, 'ipad___my': 4918, 'roll___and': 6795, '_21stcentury': 229, '_thisislife': 1643, 'carers': 2668, 'surgery': 7577, 'epedimiologists': 3778, 'jam': 4963, '_set': 1473, 'accounts____': 1864, '_toiletpaperpanic_': 1660, 'inventory': 4903, 'months___': 5551, 'stock___': 7419, 'cat___': 2697, 'internet___': 4893, 'dumb': 3610, '_flatearth': 804, 'vids': 8139, 'laugh': 5098, 'at___': 2204, 'ingrained': 4851, 'classes_high': 2842, 'college_': 2923, 'expansion': 3875, 'telemedicine': 7683, 'residential': 6679, 'loneliness_': 5237, '_vancouvercorona': 1728, 'fever': 4013, 'four': 4170, 'tested_': 7708, '_yvr': 1819, '_vancouver': 1727, 'pioneer': 6129, 'rolling': 6796, 'laughing': 5099, '21st_century_ers': 73, '_panic_': 1278, 'teach': 7673, '_stevepogson1': 1554, 'transferred': 7902, 'provide_': 6394, 'italy_': 4952, 'scary': 6932, 'supoort': 7556, 'nutrition': 5757, 'quarter': 6444, 'round': 6809, 'centrex': 2731, 'ward': 8220, '65s': 164, 'b8': 2262, 'b9': 2263, 'b23': 2256, 'b24': 2257, 'b34': 2258, 'b35': 2259, 'b36': 2260, 'b37': 2261, 'fone': 4115, 'suit_': 7533, 'advertise': 1913, 'precise': 6263, 'done_': 3540, '_bigthreeconsulting': 419, '_bain': 385, 'bainalerts': 2294, 'focused': 4107, 'coordinated': 3088, 'agenda': 1945, 'cpg': 3161, 'ceo_': 2734, 'congestive': 3012, 'heart': 4530, 'failure': 3940, 'diabetes_': 3407, 'timeline': 7799, 'frightening': 4214, 'hanging': 4479, 'around_': 2156, 'appreciates': 2132, 'convenient_': 3073, 'direct_': 3447, 'site_to_home': 7166, 'beware_': 2414, 'merchandise_': 5444, 'fearing': 3992, 'closure_': 2884, 'nielsen': 5689, '_seo': 1469, '_sem': 1465, '_smo': 1506, '_smm': 1505, '_websitedesign': 1759, '_websitedevelopment': 1760, '_mobileappdevelopment': 1151, '_digitalmarketing': 699, 'singapore': 7155, 'fed': 3995, 'lie': 5155, 'superior': 7548, '_agkarlracine': 318, 'sir_': 7162, 'district': 3512, 'violation': 8151, '780': 183, '453': 133, '0101': 2, '_weareopen': 1758, '_blissbakedgoods': 427, 'raiding': 6479, '_chinavirus': 494, '_losangeles': 1077, '25': 82, 'struggle': 7491, 'brace': 2509, 'yourselves_': 8463, 'ufc': 7997, 'coming_': 2939, 'surviving': 7599, 'neighborhood': 5657, '_omaha': 1251, '_downtownomaha': 719, 'omaha': 5819, 'rush': 6827, 'heck': 4536, 'wrong': 8419, 'panicbuy': 5970, 'argued': 2151, 'unusual': 8066, 'prescriptions_': 6286, 'finally_': 4036, 'diktat': 3437, 'helpful': 4552, 'moratorium': 5555, 'debt_': 3304, 'example_': 3851, 'all_time': 1994, 'esto': 3804, 'un': 8011, 'abrir_': 1835, 'personas___': 6075, '_yomequedoencasa': 1813, 'convert': 3075, 'premises_': 6274, 'gain': 4264, 'presence': 6287, 'globe_': 4329, 'scale_': 6919, 'education_': 3671, 'investments_': 4908, 'imagining': 4743, 'hours____the': 4653, 'creativity_': 3187, 'salad': 6862, '_thetedallen': 1639, '_foodnetwork': 814, 'morphing': 5562, 'akash': 1972, 'prakash': 6251, 'brilliant': 2541, '_bsindia': 459, 'crash': 3167, 'liquidity': 5188, 'record': 6557, 'india': 4813, 'tackle': 7637, '2_1_1': 89, 'dial': 3410, 'flexible': 4082, 'fund_': 4249, 'dunnes_': 3614, 'obvious': 5777, 'beef_': 2376, 'readymade': 6518, 'sauces_': 6901, 'scratch_': 6952, 'heineken': 4541, 'federation': 3998, 'merchants_': 5445, 'advance': 1910, 'councillor': 3121, '_its': 982, 'for_': 4137, 'no__': 5701, 'stocked__': 7426, '_plantbased': 1315, '_plantbasedfood': 1316, '_veggieburger': 1731, '_beyondmeat': 415, '_fakefood': 779, '_ouch': 1267, '_haha': 879, '_beef': 402, '_realmeat': 1374, '_meatballs': 1130, '_apple': 359, 'laptop': 5082, '_compub': 532, '_coronaireland': 559, 'electricity': 3697, 'wind': 8345, 'significantly': 7146, 'combination': 2932, '_renewableenergy': 1382, '_windpower': 1784, '_windeurope': 1783, '_momlife': 1153, '_fattyforlife': 785, '_technology': 1613, 'covic_19': 3147, 'gender': 4292, 'neutral_': 5671, '_amid': 343, 'vulnerable__': 8183, '_amyvhaddad': 346, '_covidaus': 637, 'isps': 4942, 'usage_based': 8092, 'ice_': 4710, 'prepping': 6283, 'aka': 1970, 'wealthy': 8256, 'surrender': 7588, 'excuse': 3863, 'rising': 6773, 'enforced': 3745, 'minute': 5496, 'involuntarily': 4912, 'entering': 3766, '_supermarketsweeps___except': 1591, 'spin': 7319, '75': 180, 'discount': 3470, 'grandparents_in_law': 4386, 'wine_': 8349, 'priorities__': 6328, 'fortunately_': 4162, 'now__covid19': 5748, 'interviewed': 4897, 'kelly': 5018, 'podcast': 6180, 'below_': 2398, 'discussion': 3478, '_liquidity': 1061, 'informed': 4847, 'enoug': 3754, 'soooo_': 7272, '_houston': 922, 'resupply': 6722, 'apocalyptic': 2109, 'zero': 8476, 'hedge': 4537, 'shoe': 7088, 'zone': 8479, '500': 143, 'park': 5993, 'reached': 6507, 'disruption': 3500, 'wake_up': 8197, 'carl': 2670, 'safina': 6852, 'mediumwhy': 5422, 'ebola_': 3652, 'sars_and': 6894, 'coronavirus_2_3of': 3097, 'emerging': 3715, 'originate': 5895, 'develops_': 3401, 'spire': 7320, 'mental': 5438, 'minimize': 5488, 'article_': 2165, '_quarentine': 1351, 'stores_other': 7458, '_retailers': 1397, 'cleaning_': 2853, 'turned': 7974, '65_year_old': 163, 'racial': 6467, 'slur': 7198, 'blaming': 2443, 'him_': 4587, 'part_': 5999, 'mattessich': 5380, 'northern': 5724, 'northmart': 5726, 'freezing': 4196, 'saskatoon': 6896, 'at_risk': 2205, 'crowds_': 3208, 'reserving': 6678, 'group_': 4411, 'atm': 2209, 'pin': 6127, 'elevator': 3699, 'communal': 2958, 'madness__': 5300, 'fcac': 3982, 'composed': 2985, 'volatile': 8173, 'opportunities_': 5860, 'risks_': 6778, 'cmc': 2894, 'gm': 4332, '_supernovamedia': 1593, 'sm': 7199, 'hypermarket_': 4700, 'savemore_': 6908, 'stand_alone': 7359, '7pm': 192, 'mall_based': 5326, '9am': 213, 'mark': 5355, 'foster': 4166, 'city_': 2826, '605': 157, '22': 74, 'died': 3420, 'edt_': 3669, 'liu': 5201, 'guanguan_cnsphoto': 4421, 'sephora': 7020, 'undermines': 8019, 'spending_': 7315, 'biz': 2436, 'chamber': 2745, '_globeandmail_': 847, '_feeding9billion': 792, '_foodprofessor': 815, 'comment': 2942, '_just_in_time_': 1010, 'apologizes': 2110, 'hike': 4582, 'tonight__so14_': 7851, 'so15_': 7230, 'so16_': 7231, 'so17_': 7232, 'so18': 7233, 'so19_': 7234, '25_': 84, 'menu': 5442, 'fee_': 4000, '5_30pm_': 152, 'ring': 6766, '_thrive': 1645, '_vegan': 1730, '_caremongering': 476, 'zehrs': 8475, '_bolton': 432, 'most_vulnerable': 5568, '_caledon': 467, '_covid19kindess': 619, 'uganda': 7998, 'bomb__': 2472, 'early_': 3631, '_ifyouknowyouknow': 943, 'booked': 2476, 'relinquish': 6620, 'schenectady': 6940, 'tolerated_': 7838, '_covid19southafrica': 625, 'christ': 2812, '_bchapman151': 400, '_dont': 711, 'immunosuppressed': 4753, 'healthy__': 4526, 'depot': 3371, 'store___keep': 7451, 'walking_': 8207, 'pull': 6416, 'red': 6564, 'light___dont': 5165, 'window': 8346, 'wave_': 8246, 'tissues_': 7815, '_cruise': 648, 'security_': 6974, '_grocerystores': 872, 'am_': 2024, 'newly': 5675, '_limit': 1060, '3__': 121, 'sudden': 7516, '_health_': 892, 'plentiful': 6168, 'scarce___': 6925, 'alrighty_': 2010, '_nutrition': 1226, 'amy': 2048, 'explains': 3897, 'prepare': 6279, 'glance': 4323, 'houston': 4659, 'plunge': 6174, 'degree': 3329, 'sensitivity': 7016, 'sale_': 6865, '_fintech': 802, '_contactless': 545, '_payment': 1297, '_paytech': 1298, '_lendtech': 1050, '_processing': 1335, '_ach': 303, 'consumer_members': 3039, 'co_op': 2899, '_bradpaisley': 444, '_kimwilliamspais': 1030, 'nashville': 5624, 'organizing': 5891, 'neighbors_': 5658, 'amazing_': 2028, '_etnow': 767, 'continually': 3056, 'wisely': 8360, 'srpeading': 7346, 'holiday': 4611, 'constant': 3029, 'snacking': 7217, 'bar_restaurant': 2321, 'half_': 4456, 'catherine_': 2704, 'parents__': 5991, 'stealing': 7392, 'drop_off': 3596, 'row': 6813, '_dradrianheald': 720, 'french': 4197, 'anti': 2080, 'maximum': 5383, 'euros_': 3816, 'panic_buying__': 5969, 'polite_': 6189, 'rolls___': 6799, 'organization': 5890, '_foodbank_': 812, 'thursday_': 7783, 'expired': 3891, 'castoff': 2694, 'largely': 5085, '_panicbuying_': 1282, 'word_': 8378, 'spice': 7317, 'rack_': 6471, 'floor': 4089, 'lamp': 5079, '2x': 99, 'brushes_': 2559, 'wbu_': 8251, '_adulting': 307, 'ever_': 3827, '_maysbusiness': 1122, '_retailing': 1399, '_tamu': 1606, 'tradeshow': 7886, '_vivafreshexpo': 1740, 'event_': 3822, '2021': 69, 'partial_full': 6001, 'refund_': 6581, '_b2b': 382, 'interactive': 4883, 'index_': 4812, '_restaurants': 1389, 'humanitas': 4675, '_human': 925, 'nature_': 5633, 'kindness__': 5037, 'exploiting': 3901, 'reflex_': 6577, '_worktogether': 1794, '_ukcoronavirus': 1708, 'drafted': 3573, 'apocalypse_': 2108, 'pray': 6252, '_stpatricksday': 1577, '_stayathomechallenge': 1539, '_firstresponders': 803, '_tuesdaymorning': 1697, 'manufacturers_': 5346, 'mile': 5469, 'radius': 6476, 'sidewalk_': 7140, 'scarier': 6930, 'guns_': 4439, 'bottled': 2493, 'note_': 5732, 'bat_': 2347, '_wuhanbat': 1801, 'cool': 3087, '_piersmorgan': 1312, 'adult_': 1909, 'train_': 7895, 'pub_': 6411, 'toughen': 7865, '_snowflake': 1508, 'car_': 2659, 'lately_': 5092, '_chefpassportmagazine': 489, '_cookingclass': 549, '_pantry': 1287, 'sacrificing': 6839, 'tremendous': 7922, 'then_': 7730, 'supplies_food': 7560, 'force': 4140, '_trump': 1690, 'aside': 2177, '_dollargeneral': 708, '_rheum_covid': 1407, '_psufka': 1340, '_acejointhealth': 302, '_arthritis': 365, 'patient': 6022, 'listed': 5192, 'sponsor_': 7327, 'arthritis': 2163, 'slower': 7194, 'curbed': 3227, 'steadily': 7391, 'returned': 6735, 'official': 5800, 'tuesday_': 7964, 'basis': 2342, 'overall': 5919, 'hikes_': 4584, 'vital': 8168, 'bread_milk_toilet': 2526, 'honored': 4628, 'refunded': 6582, '_govraimondo': 858, '_rihospitality': 1410, 'transfer': 7901, 'wel': 8282, 'euros__': 3817, 'thing_____': 7746, 'right__': 6763, '_euro2020': 769, '_transfermarkt': 1683, 'genius': 4298, 'women_': 8371, 'game': 4268, 'pacman': 5946, 'picking': 6109, 'bump': 2581, '_australia': 375, '_baking': 386, '_masterchefau': 1116, 'surprising': 7585, 'tonic': 7848, 'g_amp': 4260, 'unthinkable_': 8063, '_lawsuits': 1046, 'dressed': 3581, 'hazmat': 4513, '_protip': 1338, '_lysol': 1086, 'disinfectant': 3487, 'laundry': 5103, '_survivaltips': 1601, '_realjameswoods': 1372, 'something_': 7263, '_quarenteen': 1350, 'lowered': 5268, 'ebook': 3653, '_99': 250, 'fantasy': 3956, 'covered': 3145, '_stayhomeandread': 1543, 'patenting': 6019, 'world_famous': 8397, 'vegetable': 8120, 'phall': 6085, 'fin': 4033, 'monde': 5534, 'behave': 2384, 'frustration': 4227, 'leaders_': 5113, 'faced': 3929, 'confusion': 3010, 'lent': 5138, 'band': 2310, 'together___and': 7832, '_workingthefrontlines': 1793, '_jaketapper': 990, 'cross': 3202, 'clorox': 2874, 'opposite': 5864, '_feckinggrandpa': 790, 'grandpa': 4385, 'ramen_': 6485, 'seller_': 7004, 'levity': 5149, 'owns': 5936, 'comedy': 2935, 'includingthe': 4796, 'improv_levity': 4776, 'live_copper': 5204, 'blues_': 2457, '_cancelation': 472, '_levityliveoxnard': 1056, '6am_7': 170, 'designated': 3385, '60__': 159, 'intended': 4878, 'environment_': 3776, '30a_8p_': 103, '_bridgeport': 452, '_publichealth': 1343, '_prevention': 1327, 'tritax': 7936, 'bbox': 2355, 'fright': 4212, 'logistics': 5231, 'firms_': 4059, 'prompting': 6374, 'ultimately': 8008, 'indicator': 4817, 'value_': 8111, '_100k': 218, 'pharmacists_': 6090, 'orderlies_': 5883, 'workers_people': 8387, 'much_': 5591, 'reevaluate': 6570, 'skip': 7177, 'cookwme_fe8vlt_': 3086, '_stayinghome': 1548, '_community': 528, '_uppernorlibhub': 1719, 'managing': 5333, 'facetime': 3933, '_crystalpalace': 652, '_communityspirit': 530, '_communitymatters': 529, '_digitaldivide': 698, '_cpneighbours': 642, '_crystalpalacett': 653, '_pgtimebank': 1308, '_kingswoodshop': 1032, '_se19': 1455, 'dunedin_': 3613, 'octagon': 5783, '7pm_': 193, 'shoot_out': 7091, 'self_isolation': 6993, 'mid': 5458, 'cheshire': 2784, 'practise': 6248, 'whenever': 8307, '_freedelivery': 828, '_avoidcrowds': 379, '_southafrica': 1522, '_besafe': 410, '_keepcalm': 1023, '_drinkcoffee': 725, '_cleanyourmachine': 512, '_descale': 688, 'wage_': 8188, 'disallowing': 3459, 'predict': 6265, 'site_wide_': 7167, '_chrislines01': 500, '_peter_fitz': 1306, '_newscomauhq': 1203, 'grocer': 4404, 'started_': 7367, 'claiming': 2834, 'overwhelmed': 5932, '_merkle': 1141, '_dutcherkimberly': 738, '_marketingland': 1106, '_media': 1132, '_advertisers_': 308, 'warehouse': 8221, '_textscore': 1626, 'consistently': 3026, '_companywatch': 531, 'recruit': 6563, 'cope': 3089, 'hospitality': 4643, 'save__': 6905, 'mix': 5512, 'match': 5374, 'bake': 2296, 'dough': 3556, 'cookie': 3082, 'mix___buy': 5514, 'free_': 4190, '_40': 240, 'delivery__': 3350, '780_570_5080': 184, 'sales_confettisweets_ca': 6867, 'order__': 5879, '__shpk': 296, '_yeg': 1809, '_yegfood': 1810, 'expired_': 3892, 'missed': 5507, 'tesla': 7704, 'supercharger': 7547, 'apartment': 2105, 'hospitalized': 4644, 'therapy_': 7734, 'aye_': 2255, 'lmfaooooo': 5211, 'construction': 3034, 'dalma': 3261, 'capital_': 2651, 'zachary': 8468, 'cefaratti_': 2720, '_dalmacapital': 669, '_tenantsvic': 1620, '_anglicarevic': 350, '_claylucas': 506, '_smh': 1503, '_theage': 1633, 'rental': 6645, 'halt': 4460, '_flyfrontier': 807, 'stepped': 7401, 'appreciated_': 2131, 'brewery': 2537, 'navigate': 5634, 'unfolding': 8034, 'mind_': 5481, 'provincial': 6401, 'wal_mart_': 8200, '_keepcalmandcarryon': 1024, 'resisted': 6684, 'noise': 5704, 'ad': 1887, 'epic': 3779, 'fine_': 4045, 'vomit_': 8177, '3_21_': 117, '_shelterinplace': 1479, '_stoelrives': 1564, 'client': 2868, 'stephanie': 7399, 'meier_': 5430, 'craig': 3163, 'pacheco_': 5939, 'breweries_': 2536, 'distilleries_': 3508, 'direct': 3446, '_drinklocal': 726, '_covidincalifornia': 638, 'rode': 6789, 'bike': 2423, 'backpack': 2276, 'lunchables_': 5275, 'airport': 1967, 'transportation': 7908, 'gonzalez': 4351, 'vallarta': 8108, 'supermarkets_': 7555, '_seniors': 1468, 'injured': 4856, 'uber': 7994, 'vaccination': 8106, 'f___': 3922, 'all__': 1993, 'idiots__': 4722, '_baba': 383, '_jd': 996, '_pdd': 1299, '_tcehy': 1611, '_tcom': 1612, '_wynn': 1805, '_lvs': 1085, '_mlco': 1149, '_iq': 972, '_bili': 420, '_yumc': 1818, 'craig_bespokeintel_com': 3164, 'surprised': 7584, 'clearly': 2860, 'over_70': 5917, 'aisles_': 1969, '_rebecca_mehra': 1376, 'inspired': 4867, 'noticed': 5739, 'relieved_': 6618, 'trend': 7923, 'momentum': 5528, 'anyway___': 2098, 'commission': 2947, 'identifying': 4718, 'prompt': 6372, 'cnn': 2896, 'jeeeez': 4970, 'overreacting': 5927, '_ryanair': 1428, 'error': 3788, 'reservation': 6675, 'incorrect_': 4802, 'lad': 5073, 'trans': 7899, 'male': 5322, 'oap': 5767, 'washed': 8230, 'theme': 7728, 'birthday': 2431, 'download': 3562, 'boxtops': 2504, 'scanning': 6922, '_boxtops': 441, '_hollywoodmerkin': 910, '_dansewell': 672, '_confessionsofashopaholic': 533, 'nadad': 5615, '100m': 11, 'c19': 2607, 'suggest': 7528, 'pharmaceutical': 6087, 'outrageous': 5913, 'guard_': 4424, '_humannature': 927, '_old_school_alps': 1248, '_wesstreeting': 1768, 'wes_': 8297, '_handsanitizer': 883, 'cap_': 2646, 'cap': 2645, 'sto': 7415, 'leggings_': 5133, 't_shirts_': 7634, 'makeup_': 5316, 'accidentally': 1855, 'bran': 2514, 'delicious': 3338, 'crunch': 3212, 'version___im': 8130, '_1': 216, 'refuse': 6583, '___coronavirus': 270, 'picked': 6108, 'lineup': 5181, 'apart_': 2104, 'wheres': 8311, '_coronamemes': 560, '_sanitizer': 1439, 'reliance': 6612, '_hire': 904, 'volume': 8174, '_supplychain': 1595, '_demand_': 685, 'me___im': 5395, 'introvert': 4901, 'items____lifeadjustment': 4955, 'oh_': 5807, 'replace': 6653, 'overbooked': 5921, 'genuinely': 4300, 'revert': 6742, 'tine': 7806, 'replenish': 6655, 'stocks_': 7435, 'displaying': 3495, 'present_': 6288, 'committal': 2951, 'approach': 2135, 'temperature': 7689, 'testing_': 7710, 'appointment_': 2128, 'in_laws': 4785, 'welp_': 8293, 'luck_': 5272, 'milling': 5478, 'gtfo_': 4420, 'shocked_': 7086, 'saddened': 6842, '_coronavirusaus': 575, 'april_': 2140, 'awesome': 2250, 'plague_mageddon': 6146, 'gloriously': 4330, 'circa': 2818, '1996': 46, 'pic': 6105, '_iwillsurvive': 987, '_2020': 228, '_gasprices': 838, 'ya': 8433, 'cup': 3223, '_nielsen': 1208, 'investigation': 4905, 'identified': 4717, 'threshold': 7769, 'tie': 7788, 'directly': 3452, 'toiletpaper': 7835, 'laughter': 5100, '_citynews': 505, '_rogerfpetersen': 1416, 'nuts___': 5760, 'craze': 3172, 'tor_': 7857, 'speaking': 7299, 'basics_': 2341, 'frills_': 4215, 'shutter': 7130, 'thin': 7742, 'classy__': 2845, 'sort': 7277, '_torybritain': 1672, 'sometimes_': 7265, '_covid19malaysia': 620, 'generated': 4295, 'grace': 4378, 'levels_': 5147, 'expand': 3873, '_pandemic_': 1276, '_highstreet': 903, 'carphone': 2674, 'blame_': 2442, '_cx': 662, '_customerexperience': 659, '_retailapocalypse': 1395, 'sufficient': 7523, 'wakeup': 8198, 'sustainably': 7609, 'turbulent': 7969, 'licking': 5154, 'excess': 3855, 'bought_': 2497, 'genitals': 4297, 'pox': 6241, 'ridden': 6755, 'eternity____': 3810, '_jaysonlusk': 993, 'lusk': 5278, 'coughs_': 3117, '_invasionofthebodysnatchers': 966, '_marcorubio': 1104, 'bailouts': 2293, '_23_': 230, 'rat': 6495, '0__': 4, 'sweetheart': 7616, 'lobbyist_': 5218, '_debbymohindra': 680, 'accuse': 1867, 'back_': 2271, 'morons_': 5561, 'stupidity': 7503, '_reuters': 1404, 'fails_': 3939, 'delivering': 3345, 'haul': 4503, 'drive_': 3586, '350': 110, 'americans_': 2037, 'sudde': 7515, '9_11': 211, 'killed': 5027, '2_996': 92, '7_514': 189, 'dead__': 3292, 'crash_': 3168, 'bno': 2459, 'sight_': 7142, 'golden': 4343, 'farmer': 3963, 'polk': 6192, '_coronavirus_related': 574, 'price_gouging': 6312, 'filed': 4026, '621_0508': 160, '_texas': 1624, '_coronavirustexas': 597, '_anxious': 356, 'snatching': 7221, 'gird': 4316, 'limits__': 5178, '_skyireland': 1498, 'hiya': 4596, 'entertained': 3767, '__liveinhope': 287, 'pwani': 6436, 'reduction': 6569, 'firm': 4057, '150': 29, 'handwashing': 4477, '_weshallovercome': 1767, '_covid19ke': 618, 'regional': 6590, 'terry': 7702, 'schmitt': 6942, 'europe_': 3814, 'deeply': 3322, 'afghan': 1931, 'population_': 6204, '__pakistan': 290, '_afghanistan': 312, '_iran_': 973, 'doubled': 3552, 'kabul': 5008, 'mom': 5525, 'starved': 7374, 'sim': 7149, '_momthoughts': 1154, 'prime_': 6321, 'noodles_': 5716, 'awhile_': 2253, 'roof_': 6803, 'catastrophic': 2699, 'foodservice': 4132, 'dog': 3528, 'baskets_': 2345, 'ugly': 7999, 'be_': 2361, 'tone_deaf': 7847, 'wondrously': 8375, 'diverse': 3514, 'multi': 5593, 'talented': 7650, 'premier': 6273, 'ford': 4143, 'described': 3379, 'prevents': 6306, 'follow_': 4112, 'cohabitants': 2908, 'entertained_': 3768, 'francisco_': 4176, 'hustle': 4691, 'grass': 4388, 'organic': 5888, 'skyrocket': 7180, 'duration': 3616, 'plague_': 6145, '_randalls': 1364, 'denver': 3364, 'warns': 8226, 'hidden': 4571, '_stoppanicbuying_covid19': 1569, 'bulk_buying': 2575, 'cutting': 3249, 'drag': 3574, 'wipe_': 8355, 'im_not_playing_': 4740, '_toiletpaperemergency': 1658, '_nordstrom_': 1219, '_bigbearf1': 417, '_vdvart': 1729, 'wounder': 8411, 'sparse_': 7297, 'worst_': 8407, 'high_risk_': 4577, 'age_health': 1943, 'physically': 6102, 'forcing': 4142, 'frequent': 4198, 'painful': 5955, 't_p_': 7633, 'b_c': 2265, '_plsstophoarding': 1318, 'furry': 4255, '__pets': 291, 'administration': 1906, 'slowly': 7196, 'countless': 3127, 'lady': 5074, 'salary': 6863, 'smiling': 7210, 'cheerful': 2780, 'carefully': 2666, 'trainer': 7897, 'confinement_': 3007, '_attestation': 373, '_carrefourmarket': 478, 'piece': 6115, 'relates': 6601, 'creaking': 3177, '_sainsburysnews': 1434, 'prioritise': 6329, '_detroitnews': 690, 'whitmer': 8323, 'liar': 5152, 'gain_': 4265, 'shape': 7053, 'compared': 2969, 'countries_': 3128, 'influenza_': 4840, '_outbreak': 1270, '_10_': 219, '_coronavirussupplies': 596, 'trinitysswellness': 7933, 'ihomecctv': 4729, 'reaching': 6508, 'castle': 2693, 'donington': 3541, '_free': 827, 'self_isolating': 6992, 'sanitise': 6876, 'drop_off_': 3597, 'details_': 3395, 'believed': 2393, 'function': 4245, 'garbage': 4276, 'compensated': 2972, 'anywhere': 2100, 'demand__': 3355, 'ummmm': 8009, 'boris_': 2488, 'food__': 4118, 'down___': 3560, '_intotheunknown': 965, '_wegotthis': 1762, '_supermarketstaffareheros': 1589, 'cium': 2828, 'tangan': 7656, 'packed': 5944, 'alright': 2008, 'summore': 7540, 'ngeles': 5682, 'tap': 7658, 'perfectly': 6057, 'horde': 4633, 'speechless': 7307, 'act_': 1873, 'bodega': 2463, '10_20_': 15, 'burn': 2584, 'buck': 2563, 'gouging_': 4361, 'bite': 2434, '_nyclockdown': 1229, '_tips': 1648, 'medication': 5418, '_wellbeing': 1764, 'shops_businesses': 7108, 'accc': 1846, '_siouxsiew': 1494, 'loose': 5246, 'squeeze_': 7345, 'rinse': 6767, 'habit__': 4448, '_co': 523, '8pm_': 204, 'finish_': 4048, 'hmmm_': 4599, '_ubereats': 1703, '_hcw': 888, 'unusual_': 8067, 'ludicrously': 5273, 'guinness': 4436, 'sarawak': 6893, 'wet': 8300, 'excellent': 3852, '774': 181, 'consume': 3035, 'timely': 7800, '_ftc': 832, '_scams': 1449, '_sephora_': 1470, 'chocolate_': 2805, 'ice': 4709, 'want_': 8215, 'balance': 2302, 'diet_': 3424, 'carefree_': 2665, '_covid19india': 616, 'fortunately': 4161, 'facemask': 3930, 'shey': 7073, 'paper___': 5981, '_cspan': 654, 'defeated_': 3324, 'hmm': 4598, 'conspiracy_': 3028, 'agreement': 1956, 'pl': 6137, 'facebook_': 3928, 'google': 4356, 'aggregate': 1947, '_including': 958, 'distances_': 3504, 'bracket_': 2512, 'me__': 5393, 'bod': 2462, '_eyesuphere': 775, '_dadbod': 665, 'twitter': 7981, 'tissue_type': 7814, 'wipes_': 8356, 'desperation_': 3389, '_idontunerstand': 940, 'capitalize': 2654, 'asda': 2170, 'amend': 2031, 'passing': 6011, '_maudnetteys': 1117, '_covid19ghana': 615, '_closebordersnow': 514, '2am': 95, 'lot_': 5258, 'adhering': 1901, 'dz': 3623, 'tomahawk': 7841, 'ribeye_': 6746, '_keto': 1027, '_steak': 1552, '_ribeye': 1408, '_tomahawkribeye': 1664, '_grilledmeat': 863, '_grilling': 864, '_sousvide': 1520, '_sousvidecooking': 1521, '_ketofood': 1028, '_ny': 1227, 'wilding': 8338, 'fairly': 3942, 'missing_': 5508, 'campaigns_': 2628, 'slogans_': 7190, 'civilization': 2832, 'incredibly': 4809, 'change_': 2748, 'reminding': 6634, 'cavalier': 2716, 'deaths_': 3300, 'delayed': 3335, 'unemployment_': 8031, 'poverty': 6235, 'kills_': 5030, 'accordingly_': 1860, 'dude_': 3608, 'wtf_': 8424, '_houstoncoronavirus': 923, '3_500': 120, 'coronavirus__': 3098, 'liquid': 5187, 'foaming': 4105, '_madness': 1089, '_shefshakespeare': 1477, '_aggiegoatmother': 317, '_tommoriarty16': 1665, 'onus': 5843, 'otc': 5897, 'don': 3534, 't_': 7630, 'reassure': 6539, 'half_year': 4459, 'interim': 4890, 'incites': 4791, 'powerful': 6240, 'tone': 7846, 'forward__': 4165, 'sneezed': 7225, 'murdering': 5603, 'head_': 4516, 'unexpected': 8032, 'sneeze_': 7224, 'condiments_': 2997, 'obscene': 5771, '_scoopit': 1451, 'i_': 4706, '_gradschool': 859, 'graduation': 4380, 'funny': 4252, 'ironic': 4924, 'gvmnts': 4442, 'usually': 8103, 'fashioned': 3966, 'one_': 5829, 'ima': 4741, 'makin': 5317, 'instils': 4871, 'knew': 5047, 'wanting': 8217, 'soup': 7281, '_elevenseswithemmabunting': 759, 'again___': 1941, '_chewy_': 491, 'linus': 5186, 'eats': 3649, 'apologizing': 2111, 'rock_': 6787, 'sickness': 7136, 'coverage_': 3144, 'widely_': 8333, 'track': 7880, 'dine_in': 3440, 'this___': 7756, '_toiletpaperapocalypse': 1655, 'peter': 6080, 'andre': 2055, 'irresponsible': 4928, 'perception': 6055, '__nytimes_': 289, '_shawnjelebi': 1476, 'inconvenience_': 4800, '_talking': 1605, '_paying': 1296, '_staying': 1547, '_considering': 539, 'nowhere': 5749, 'meds_': 5423, 'necessities_': 5646, '_nohoarding': 1216, 'escape': 3791, 'feed_': 4003, '_otisrtaylorjr': 1266, 'w_': 8185, '_jbellnews': 995, '_pattireising': 1293, '_kcbsradio': 1022, '230p': 77, 'east': 3639, 'bay_': 2354, 'truth': 7953, 'wow_': 8413, 'socialism_': 7244, 'socialist': 7245, 'decide': 3305, 'peop': 6047, 'ally': 1999, 'david': 3283, 'pecker_amis': 6043, 'enquirer': 3757, 'disinformation': 3490, 'pulled': 6418, 'candid': 2638, 'chatting': 2768, '_yikes': 1811, '_lowstock': 1082, '_goodnessgracious': 852, '_lidlgb': 1058, 'urgently': 8086, 'establishing': 3801, 'shopping_delivery_': 7106, '_covid2019uk': 633, '_covid19uk': 627, 'habits_': 4449, 'priorities_': 6327, 'lifestyle_': 5162, 'inner': 4857, 'peace_': 6038, 'teach_': 7674, '_dontpanic': 713, '_repcharliecrist': 1383, 'bailout': 2292, '_if': 941, 'taxpayers__': 7667, '_wfla': 1771, 'ill_': 4734, 'fewer': 4014, 'make_': 5314, '_supplychnqueen': 1598, '_taxumo': 1610, 'self_employed': 6989, 'owners_': 5935, 'impact_': 4757, 'subscription': 7508, 'affordably_': 1929, 'forfeit': 4149, 'practical': 6244, 'ideas_': 4716, 'austerity': 2222, 'enveloped': 3774, 'propped': 6381, 'raising': 6484, 'poorest': 6198, 'renter': 6646, 'net_': 5667, '_impact': 955, 'hoarded': 4602, '_realkidpoker': 1373, 'youve': 8464, 'answer_': 2076, 'toliet': 7839, 'fijian': 4024, 'competition': 2973, '_fijisports': 797, '_fbcsports': 787, 'carrying': 2680, '_fbcnews': 786, '_fijinews': 796, '_fiji': 795, '_watch': 1756, '_learn': 1049, 'ability': 1829, 'renewed': 6641, 'utilize': 8105, 'benefits_': 2400, 'bcla': 2358, 'sheets_': 7062, 'ecps': 3663, 'consumers_': 3041, 'illinois': 4736, 'entered': 3765, 'pills_': 6126, 'potions_': 6232, 'lotions_': 5259, 'over_the_counter': 5918, 'treat_cure': 7917, 'coronavirus_related': 3100, 'subject': 7505, 'exacting': 3845, 'record_': 6558, 'sumer': 7535, 'summer_': 7539, 'winter': 8353, 'southern': 7288, 'hemisphere_': 4556, 'global_': 4326, '_jaythealbertan': 994, '_zellersstore': 1821, 'biway': 2435, 'ed': 3665, 'paracetamol': 5985, 'nurofen_': 5752, 'quit': 6462, 'food_loo': 4123, 'rolls_meds': 6800, 'altogether_': 2021, 'ibuprofen': 4708, 'used': 8095, 'bmj': 2458, '_homequarantine': 912, '_earth': 741, '_peace': 1300, '_mask': 1112, '_cleanlife': 510, '_cleancity': 509, '_cleanworld': 511, '_designer': 689, '_awareness': 381, 'irishman': 4923, '_happystpatricksday_': 885, 'guiness': 4435, 'corned': 3091, 'cabbage': 2610, 'irish': 4922, 'pub': 6410, 'tradition_': 7888, 'pritzker': 6335, 'nestlequick': 5666, 'coca': 2902, 'cola': 2912, 'acquired': 1870, 'donations_': 3538, 'unt': 8062, '_chopped': 497, 'means_': 5405, 'banks_': 2315, 'short_': 7111, 'heartbreaking_': 4531, 'the_coronavirus': 7725, 'outbreakhas': 5908, 'seven': 7035, 'tempted': 7693, 'unproven': 8055, 'questionable': 6450, 'claims_': 2835, 'provider_': 6397, 'cold': 2913, '6th': 172, 'guilt': 4432, 'abled': 1831, 'vunerable': 8184, 'ifpri': 4725, 'complacent': 2976, 'govts': 4373, '_kkmputrajaya': 1033, 'deploy': 3370, 'measurement': 5409, 'spree': 7341, 'pairwise_': 5957, 'pre_packaged': 6257, 'boxes_': 2503, 'nea': 5638, 'hunger_': 4681, 'grapple': 4387, 'pantries_': 5977, 'altered': 2013, 'scrambling': 6950, 'profound': 6363, 'varied': 8114, '_supplychain_': 1596, 'processing': 6348, 'b_c_': 2266, '_weekend': 1761, 'gap_': 4274, 'hampering': 4465, 'exempt': 3866, 'manufacturing': 5347, 'klang': 5046, 'doorstep': 3549, '_coleyworld': 526, 'opened_': 5849, 'parking': 5994, 'bustling_': 2593, 'clerk': 2862, 'concerned_': 2994, 'piss': 6130, 'already_': 2007, 'boujee_': 2498, 'latter': 5097, 'theknock_on': 7726, 'innovative': 4858, 'competitive': 2974, 'survival_': 7594, 'clean_': 2848, 'leadership': 5114, 'bail': 2290, '_onemileatatime': 1253, '_garyleff': 837, '_godsavethepoint': 848, 'congressional': 3015, 'musing': 5605, 'idea_': 4715, 'comforting': 2937, '_msnbc': 1172, 'sfbayarea': 7042, 'day1_were': 3285, 'lockdown_this': 5227, 'distance_we': 3502, 'drive_walk_go': 3589, 'thru_take': 7780, 'store_pharmacy': 7453, 'calm_safe_was': 2623, 'x2': 8429, 'experience__': 3884, 'hy_vee_': 4693, 'inc_': 4788, 'and___': 2052, 'today____': 7826, '_meme': 1135, 'find___': 4042, '_fuzzpugz': 835, '_eurusd': 772, 'hovering': 4660, 'mid_1_11': 5459, 'await': 2244, 'slew': 7186, '_eurozone': 771, 'potentially': 6231, '_volatility': 1743, 'clawed': 2846, 'collapsing': 2916, 'barrel_': 2330, 'covering_': 3146, 'priority': 6331, '17th': 38, '_jackiekarmatica': 989, 'sneezed_': 7226, 'relax_': 6608, 'mean_': 5401, 'sneezing': 7227, 'although_': 2019, 'faking': 3944, 'mig': 5464, '3_18_': 116, 'calls_': 2620, 'anybody': 2089, 'cautioned': 2713, 'urged': 8084, 'gpb': 4375, '_blissavidge': 426, 'reaffirm': 6519, 'manna': 5341, 'bracebridge': 2510, 'anticipate': 2082, 'escalates': 3790, 'waking': 8199, 'great_': 4393, 'loaf': 5214, 'snatched': 7220, 'demographic': 3360, 'in_person': 4786, 'gabriel': 4262, 'dumont': 3611, 'institute': 4872, 'outlet': 5912, '_saskatoon': 1445, 'suspended_': 7605, 'novelty_': 5743, 'gate': 4283, 'stall': 7356, 'starving': 7375, 'bravo': 2521, '66': 165, 'buffer': 2566, 'portion': 6210, 'goi': 4340, 'indirect': 4818, 'ww': 8428, '_nzlabour': 1238, 'perhaps': 6060, 'paywave': 6037, 'presented_': 6289, 'recommend': 6553, 'fo': 4104, 'collateral': 2917, '_rbi': 1367, '_necessity__': 1192, 'abundance_': 1843, '_totinosarelifenow': 1674, 'dunno': 3615, 'restaurants______i': 6707, 'event_travel': 3823, 'in_demand': 4783, 'skyrocketing_': 7182, 'whoever': 8325, 'horrendous': 4636, 'scored': 6949, '_eatlikekings': 744, '_hawtdawgs': 887, '_preppers': 1323, '_coronatime': 565, 'frisco_': 4217, '_sanparksknp': 1442, '_snwright59': 1509, 'pound': 6233, 'ridge_': 6758, 'ny': 5761, 'rush_': 6828, '_westchestercounty': 1769, 'smiled': 7209, '4_pack': 140, 'sides_': 7139, '_supermarketapocalypse': 1586, 'swine': 7619, 'bed': 2372, 'ridden_': 6756, 'died_': 3421, 'seemingly': 6981, 'manufactured': 5344, 'logic': 5230, 'realistic': 6524, 'firefighter': 4055, 'accountant': 1862, 'santa': 6889, 'hilarious_': 4586, 'checkout_': 2778, 'watch_': 8239, 'humor': 4679, '_coronaapocalypse': 554, '_humorcoronavirus': 928, '_gibneylegal': 845, 'ip': 4917, 'angelo': 2058, 'mazza': 5388, 'counterfeit': 3125, 'brother_': 2556, 'sanitising': 6879, 'cleansing': 2855, 'couldnt': 3119, 'user': 8099, 'download_': 3563, 'circulate': 2821, '_wsendzik': 1797, '_niagara_411': 1207, 'exempt_': 3867, '_thepencentre': 1637, 'shoppi': 7100, 'television': 7684, '_coronaviruspanic': 592, 'flatten': 4076, 'curve_': 3243, 'bombay': 2473, '_wetones': 1770, '_cloroxwipes': 513, '_unused': 1718, '_ugh': 1705, '_keepyourdistance': 1025, '_sixfeetapart': 1496, 'll_': 5210, 'today___': 7825, 'luck': 5271, '_sethmeyermu': 1474, '_tyne_ag': 1700, '_usda_ams': 1725, 'front_': 4219, 'weaken': 8254, 'macroeconomic': 5293, 'weakness': 8255, 'near_term_': 5640, 'tbd': 7668, 'retail_based': 6727, '_chaos': 485, '_goko': 849, '_footprints': 820, 'gust_': 4440, 'announce_': 2067, 'bless': 2446, '_goko_restaurant': 850, 'promote': 6371, 'tp__': 7879, 'booty': 2481, 'investment': 4907, 'discussed': 3476, 'sharmin': 7059, 'mossavar_rahmani_': 5566, 'division': 3515, 'goldman': 4344, 'sachs_': 6837, 'repurposed': 6661, 'soviet': 7289, 'diary': 3412, 'voting': 8180, 'apparently_': 2117, 'pearled': 6041, 'barley_': 2328, 'tostada': 7858, 'shells_': 7065, 'vinegar_': 8150, '_behaviors': 405, 'update_': 8073, 'were_': 8296, 'impossible': 4774, 'fearful_': 3991, '_gsfromthep': 874, 'style': 7504, 'renee': 6640, 'arbitrarily': 2144, 'ploy': 6171, 'sneaky': 7222, 'milky': 5475, 'perfect': 6056, 'blame': 2441, 'vf_': 8132, 'pvh_': 6435, 'gap': 4273, 'sourcing': 7285, 'aviation': 2240, '__sectors': 294, 'stores_supermarket_hypermarket': 7459, 'stations_bus': 7387, 'rnr': 6784, 'beloved': 2397, 'hometown': 4623, 'did_': 3415, 'inffected': 4833, 'cellular': 2723, 'terrified': 7701, 'unfolds': 8035, 'suffering_': 7521, 'bcz': 2360, 'king_': 5039, '_realestate': 1371, 'pilling': 6124, 'starvation': 7371, '_tomswarbrick1': 1666, '_darrenadam': 673, '_lbcnews': 1047, 'israeli': 4943, 'forbidden': 4139, 'invited': 4910, '_israel': 979, 'paducah': 5949, 'accept': 1851, 'on_line': 5823, '18_': 40, '_lidl': 1057, '_iceland': 936, '_nationwide': 1190, 'vulnerable_': 8182, '_kindness': 1031, '_corg': 551, '_aprn': 361, '_wtrh': 1799, 'ghost': 4311, '_otcmarket': 1265, '_nasdaq': 1186, '_nyse': 1233, '_please': 1317, '_aware_': 380, '_help': 897, '_people_': 1302, '_run': 1422, '_affected_': 311, '_clean_': 508, '_avoid': 378, '_out_': 1268, '_make': 1093, '_distance_': 704, '_sell': 1464, '_sanitisers': 1438, '_masks': 1113, '_reasonable': 1375, '_prices_': 1331, '_eat': 743, '_hygienic': 931, '_food_': 811, '_healthy': 895, '_immune_': 952, '_good': 851, '_dbz_diary': 677, 'shopping___': 7103, 'big_city': 2419, 'stripping': 7486, '_profiteering': 1336, 'early___as': 3632, 'favour': 3980, 'mentioning': 5441, 'scrapped': 6951, 'surely': 7574, 'panic____amp': 5965, 'profit_': 6358, '_auspol': 374, 'interesting': 4889, 'economist': 3660, 'dramatic': 3576, 'depend': 3368, 'lining': 5183, 'caution': 2712, 'rubbing': 6816, 'radical': 6474, 'reasons_': 6537, 'stress_': 7477, 'selfishness_': 6999, 'zealand': 8474, '_12': 223, '_500m': 242, '_8_7b': 249, '_2_8b': 234, '_stopcoronamadness': 1565, 'uncertainty_': 8016, '80_': 198, 'lasting': 5089, 'que': 6445, 'proceeded': 6344, '_virginholidays': 1738, 'fly': 4099, '25th': 85, 'rebook': 6542, 'racking': 6472, 'hourly': 4651, 'difference__': 3426, '_mostexpensiveholiday': 1167, '_virginatlantic': 1737, 'leeds': 5128, 'message_': 5450, 'deliver_': 3340, 'reimbursement': 6598, 'petrol_': 6084, '_selfisolationhelp': 1461, '_joyfightsfear': 1008, '_inthistogether': 964, 'sorta': 7278, 'katrina': 5015, 'rita': 6780, 'ike': 4731, 'mres': 5584, 'difficulties_': 3431, '_ontag': 1258, 'still_': 7410, '__america_': 278, '_risinguptothechallenges': 1411, 'hunting': 4687, 'involved': 4913, 'wild': 8336, 'post_coronavirus': 6221, 'involves': 4914, 'bouncing': 2499, 'supercenter': 7546, 'purchase_': 6424, 'election': 3693, 'impt': 4779, 'manufacturer': 5345, 'shelter_': 7067, 'forever_': 4148, 'adapt': 1888, 'quick_': 6457, '_universalbasicincome': 1715, 'otherwise_': 5901, '_borisresign': 439, 'dramatically': 3577, 'jumped': 5005, 'folder': 4109, 'tally_': 7655, 'affairs_': 1920, 'jacking': 4961, 'childcare': 2793, '_mygovindia': 1180, 'ofall': 5790, 'shutdown': 7127, '_down': 717, 'circuit': 2819, 'economical': 3658, 'stability': 7348, 'plz': 6177, 'vegetarian': 8122, 'pac': 5937, 'direction_': 3450, 'meaning': 5403, 'oriented': 5893, 'egoism': 3683, 'coexistence': 2904, 'mutual': 5608, 'regard': 6586, 'haha__': 4453, 'misfit': 5503, 'at_': 2203, 'visit_': 8164, 'bs___': 2561, '_workers': 1789, '_unprotected': 1717, '_proftimlang': 1337, 'filled_': 4029, 'wholesalers_': 8328, 'whitechapel': 8322, 'filled': 4028, 'ones___': 5832, 'furnish': 4253, 'obvi': 5776, 'doormen_': 3547, 'postmen_': 6225, 'transit': 7903, 'baidu': 2289, 'auto_focused': 2230, 'wager': 8189, '_broadcastdialog': 456, '_biologicalweapon_': 422, 'invoke': 4911, '_terrorism': 1622, '_society': 1517, 'function_': 4246, 'borders_': 2484, 'collap': 2914, '_letseathh': 1054, '_funder': 834, 'chinese_': 2801, 'wuhan_': 8426, 'restaurant_': 6705, 'shoul': 7119, 'tired': 7810, 'proposing': 6380, '_buy': 465, 'american_': 2036, 'mandate_': 5335, 'harming': 4494, '_hhsgov': 901, '_whitehouse': 1774, 'emailing': 3710, 'info_brewline_co_uk_': 4843, '_process': 1334, 'ticking': 7787, 'immunity': 4750, '_roe_con': 1415, '_annekasaba': 352, '_rachelpatzerphd': 1354, 'irrational': 4927, 'mobs_': 5518, 'sugary': 7527, 'stash': 7376, 'exempted': 3868, '_covid19ph': 623, '_frontlinersph': 830, '_easyjet': 742, '_iag': 933, 'weighs': 8279, '_ezj': 776, '_dstv': 732, '_dstvcare': 733, 'compact': 2965, 'premium': 6275, 'sport': 7329, '3_17_20_': 115, 'update___we': 8074, 'procedures_': 6343, 'notification': 5740, 'abt': 1841, '_eggs': 754, 'lactose': 5072, 'cart_': 2682, 'meera': 5425, 'branches_': 2515, 'extend': 3910, 'needed_': 5652, 'covid_': 3150, '_qatar': 1346, '_iloveqatar': 948, '_almeeraqatar': 333, 'loosing': 5247, '_epidemic': 765, '_ukgoverment': 1709, '_mayoroflondon': 1121, 'commentary': 2943, 'nate': 5626, 'donnay_': 3542, 'dairy': 3258, 'insight': 4862, 'intl': 4899, 'fcstone': 3986, 'fcm': 3985, 'division_': 3516, 'quoted': 6464, '_droversctn': 729, '_oatt': 1240, '_ifcsdairy': 942, '_ispup': 978, '_covid19pt': 624, '_yjack224': 1812, '_richmykola': 1409, '_robprovince': 1414, '_giantprepper': 844, '_aliengamer79': 329, 'functioning_': 4247, 'west_': 8298, 'pissed': 6132, 'reading': 6514, 'comprehension': 2986, 'ai': 1961, '_neverbiden': 1195, '_bigpharma': 418, 'stooge': 7439, '_bernieforpresident': 409, 'neilson_': 5663, '_ocado': 1242, 'block': 2450, 'booking': 2477, 'sh': 7043, 'manchester': 5334, 'uni': 8038, 'deliveroo_': 3346, 'dpd_': 3568, 'hermes': 4564, 'couriers_': 3138, 'delivered_': 3343, 'wed': 8266, 'trivial': 7937, 'penultimate': 6046, 'demise_': 3358, 'whereupon': 8312, 'realizewed': 6529, '_cordonedbycorona': 550, '_natashakorecki': 1188, '_bartvargasii': 392, 'drugstore': 3602, 'profitability': 6359, 'empire': 3720, 'squeeze': 7344, 'exploit': 3899, 'forge': 4150, 'seamless': 6958, 'connection': 3017, '_amazon__': 339, '_digitalcapitalism': 697, 'frantic': 4180, 'anyone_': 2093, 'prayer': 6253, 'strength': 7475, '_faithoverfear': 778, '_loveistheanswer': 1081, '_prayerforapandemic': 1322, 'fish_': 4065, 'baos_': 2319, 'laguna': 5076, 'luzon': 5280, '_inquirerslb': 963, '_kbaraoidaninq': 1021, 'luzon_wide': 5282, 'laguna_': 5077, 'observed': 5774, 'observe': 5772, 'stimulus_': 7413, 'afterwards_': 1938, 'tax_': 7666, 'lurking': 5277, 'mkt': 5515, 'effects_': 3678, 'before_': 2380, 'beast': 2364, 'prudent': 6404, 'macro': 5292, 'required_': 6667, '_efipm': 753, 'summarizes_': 7536, '_dailyfintech': 666, 'direct_to_consumer': 3448, 'existential_': 3871, 'side_': 7138, 'brilliant_': 2542, 'understand_': 8021, '_munch': 1175, '_toiletroll': 1661, 'upping': 8077, 'vile': 8146, 'right_': 6762, 'citysuper': 2827, 'ifc': 4724, '_hongkong': 913, 'hk_': 4597, 'abating': 1826, 'tim': 7794, 'leunig': 5145, 'rid': 6754, 'politics': 6191, 'camp': 2625, 'bedsheet': 2374, 'taped': 7659, 'brooms_': 2554, 'sandwiches_': 6874, 'smores': 7216, 'optional_': 5872, 'meal_': 5398, 'hashtag': 4498, '_togetherapart': 1652, 'saying_': 6917, 'x_y_z': 8430, 'vote_': 8179, 'thing__': 7745, '_ohioprimary': 1246, 'courtesy': 3141, 'whispered': 8320, 'cookies_': 3083, '10_30': 16, '_morrison': 1163, '_blyth': 429, 'queses': 6447, 'activating': 1880, 'regulated': 6595, 'clean___': 2849, 'culvers': 3220, 'yall_': 8435, '_consumerimpact': 542, 'buying__': 2605, 'food_drinks': 4121, 'rich_': 6751, 'corrupt_20_': 3106, 'pasta_toilet': 6016, 'paper_hand': 5982, 'anti_social': 2081, 'huh____theres': 4672, 'modern': 5523, 'plague': 6144, '_washes': 1754, '_is': 975, 'food_water': 4125, '_still': 1555, 'board': 2461, '_netflix': 1194, 'parrishable': 5997, 'hell_____': 4545, '_hunkerdown': 929, 'abc': 1827, 'anaheim': 2049, 'ca_': 2609, 'boycott': 2505, 'clowns_': 2892, '1216': 23, 'magnolia': 5303, 'ave_': 2237, 'anaheim_': 2050, '92804': 207, '714': 178, '229_0618': 75, '_voiceofoc': 1741, '_ocregistrar': 1243, '_foxla': 823, 'steam': 7394, 'heavy': 4535, 'pullback': 6417, 'wrought': 8421, '_rail': 1357, 'flex': 4080, '3m': 123, 'n95': 5613, 'charmin': 2763, 'sanitization': 6880, 'rest_': 6703, '_containcovid19': 546, '_jpak': 1009, '_shippingtoja': 1482, 'eod_': 3777, 'business_': 2591, 'temp': 7687, 'gdp': 4288, 'retraction': 6733, 'surprise_': 7583, 'toiletries_': 7836, '_hottopicsht': 919, 'assurance': 2196, 'msia': 5588, 'suicide': 7532, '_singapore': 1493, 'flat': 4075, 'ignoring': 4728, 'susan_': 7600, 'tn': 7819, 'investigated': 4904, 'stock_piled': 7423, '17_700': 37, 'bottles_': 2494, 'suspected': 7602, '_costinflation': 606, '_stateofemergency': 1536, '_nj_': 1210, '_queenawakened': 1352, 'tight_': 7789, 'jobsite': 4983, 'ncb': 5636, 'observe_': 5773, 'encouraging': 3736, 'tina': 7805, 'hamilton': 4464, '_glnrtoday': 846, '_ukjay': 1711, '_breakingnews': 449, 'discovered': 3473, 'carried': 2676, 'infirm': 4836, 'trouble': 7939, 'sickening': 7135, 'beds_': 2373, 'helpful_': 4553, 'dangling': 3268, 'face_': 3926, '_facemasks': 777, 'minute_': 5497, 'left__': 5131, 'pint': 6128, 'assume': 2195, 'pillaging': 6123, 'bushes_': 2587, 'zsah': 8481, 'policie': 6186, 'proti': 6389, 'spekulant_m': 7310, 'roukami_': 6808, 'm_j': 5286, 'popud': 6201, 'hejtman': 4542, 'steckho': 7395, 'kraje': 5058, 'spoluprci': 7326, '_policiecz': 1321, 'podle': 6181, 'krizovho': 5059, 'zkona': 8477, 'zajistil': 8470, 'tm__': 7818, '700': 175, 'tis_rouek': 7812, 'od': 5784, 'firmy_': 4060, 'kter': 5062, 'je': 4967, 'm_la': 5287, 'dodat': 3525, 'zdravotnk_m_': 8473, 'ale': 1985, 'posledn': 6215, 'chvli': 2816, 'snaila': 7218, 'navyovat': 5635, 'cenu_': 2732, '_spolutozvladneme': 1529, 'itll': 4956, 'man_': 5328, 'routine': 6811, '_actuallyautistic': 305, 'war____': 8219, 'shocking': 7087, 'obesity': 5768, 'hedging': 4538, 'veggies_': 8123, '_prepping': 1324, '_chrismartenson': 501, 'fucktards': 4236, '19___where': 50, '1_18': 52, '_wankers': 1753, '_tp': 1675, '_tpmp': 1676, '_tpshortage2020': 1677, 'basketball': 2344, 'hazardous': 4512, 'locked': 5228, 'indoors_': 4822, 'newsletter': 5679, 'mschf': 5587, 'antics_': 2085, '_airtreevc': 322, 'meetup': 5428, 'spike': 7318, 'immuno_compromised_': 4751, '_ibd': 935, 'name': 5617, 'names_': 5618, 'jack': 4959, 'disrupt': 3498, 'bliss': 2449, '10years': 18, 'occupancy': 5780, 'accommodation': 1858, 'nominal': 5705, 'borne': 2490, 'singapore_': 7156, '_malaysialockdown': 1098, 'suburban': 7513, 'couple_': 3135, 'configure': 3005, '_mayorofla': 1120, '_lacity': 1044, 'directly_': 3453, 'relief_financial': 6615, 'aid': 1963, 'austria': 2227, 'socal': 7241, 'rightly': 6764, 'consumer_powered': 3040, 'hunker': 4684, 'swift_': 7618, 'wise': 8359, '_jaycshambaugh': 992, '_brookingsinst_': 457, '_senior_only': 1467, 'try_': 7955, 'bone': 2474, 'fucks_': 4235, 'boeing': 2465, '_60': 244, '_public': 1342, 'liquidity_': 5189, 'guarantees_': 4422, 'filthy': 4032, 'animals_': 2065, 'omgggg': 5820, '_notablynaulty': 1222, 'sure_': 7573, 'meme': 5435, 'schooling_': 6947, 'pic_collage': 6106, 'notability': 5730, 'submitted': 7507, 'schoology': 6948, 'brief': 2539, 'summary': 7537, 'meme_': 5436, 'sentence': 7018, 'starter_this': 7368, 'about_': 1833, 'tumblr': 7967, 'delving': 3352, 'libtard': 5153, 'unbelievable': 8013, 'blown': 2455, 'proportion_': 6379, 'taught': 7664, 'gross': 4408, 'shelving': 7071, 'built': 2572, 'rumored': 6821, 'impossibility': 4773, 'computer': 2989, 'digit': 3433, '1999': 47, '2000': 62, '_y2k': 1807, '_itsrealthistime': 985, '_falloutshelter': 781, 'mongolia_': 5539, 'semi_lockdown': 7006, 'food___toilet': 4119, 'issue__': 4946, 'reminder': 6632, 'gargle': 4278, 'warm': 8222, 'salt': 6868, 'throatinfection': 7772, 'cooked': 3080, 'range': 6488, 'specially': 7302, 'selected': 6986, 'inspiration_': 4866, 'onion': 5834, 'parmesan': 5996, 'sourdough': 7286, 'artisan': 2168, 'consuming': 3042, 'criticising': 3200, 'harshly': 4495, 'unkindly': 8043, 'get_': 4307, 'thursday_friday_': 7784, 'benefit': 2399, 'value': 8110, 'disabilities_illness': 3455, 'learning_': 5121, 'accessible': 1854, '_realcdnss': 1369, '_norfolkcountyca': 1220, '_simcoe': 1491, '_ontario_': 1259, '_ontariolockdown': 1261, '_coronavirusontario': 588, '_coronavirustoronto': 598, 'western': 8299, 'controlling': 3071, 'retail_grocery': 6728, 'technicians_': 7679, 'drivers_': 3592, 'military_': 5471, 'attitude': 2219, 'screaming': 6954, 'garage': 4275, 'take_': 7643, 'petrol': 6083, '_bp': 442, '_bpgarage': 443, '_localcommunity': 1066, '_toiletrollcrisis': 1662, 'shortly': 7116, 'steve': 7406, 'smith': 7211, 'suggesting': 7530, 'freezer_': 4195, 'countdown': 3123, 'delivers_': 3347, 'kitchen': 5042, 'scarce': 6924, 'dove': 3557, 'hickory': 4570, 'smoked': 7214, 'bacon': 2277, 'improvised': 4778, '_organic': 1263, '_wildfood': 1780, 'panic_bought': 5966, 'unused': 8065, '_trusselltrust': 1695, 'ways___': 8250, '1_those': 58, '2_those': 93, 'exercising': 3869, 'responsibility': 6699, 'fortunate': 4160, 'panic_bulk': 5967, 'foot': 4134, 'lately': 5091, 'battled': 2351, '_outoftouchwithreality': 1272, '___meanwhile': 275, 'uk______': 8004, '_toiletpaperblues_': 1656, '_costcocanada': 605, '_sobeys': 1510, '_saveonfoods': 1447, 'impose': 4771, 'canadian': 2633, 'known': 5053, 'cry_': 3215, 'kindness': 5036, 'piss_': 6131, 'genuine': 4299, 'astronomical_': 2200, 'advantage_': 1912, 'text': 7713, '_jordanatheresa': 1007, 'annoying': 2072, 'dangerous': 3267, 'mix_': 5513, 'plate_': 6156, '_fbp': 788, '_retweeet': 1403, '_whyhasgodforsakenme': 1779, '_tolietpaper': 1663, '_stpatricksday2020': 1578, 'belive': 2394, 'hoax': 4606, 'dasani_': 3274, 'gotten': 4359, 'dasani': 3273, '_lossofjob': 1078, '_gotsick': 854, '_affected': 310, '_creditcard': 646, 'payments_': 6035, '_mortgagepayments': 1165, 'creditors_': 3191, '_your850': 1817, '_credit': 645, 'kitsap': 5044, 'collectively': 2920, 'ecart': 3654, '_maybe': 1119, 'parking_spots_': 5995, 'fast_food': 3969, 'drive_up_': 3588, 'spots_': 7332, '_raleys': 1360, '_missmagickal23': 1148, 'pleasant': 6163, 'contrast_': 3066, 'neighbourhood': 5661, 're_look': 6504, 'paperless': 5983, 'ai_robot': 1962, 'africa_': 1934, 'take3': 7642, '_scottmorrisonmp': 1452, 'sat': 6897, 'devise': 3403, 'stable_': 7349, 'rationed': 6499, 'transparent_': 7905, 'obligated': 5770, 'creedence': 3192, 'clearwater': 2861, 'revival': 6743, 'louder_': 5260, '_convid19uk': 548, 'relying': 6622, '_brawlstop': 446, '_rebel_harrie': 1378, '_basedpoland': 393, '_marcelxttt': 1102, 'sceptical': 6937, 'pademic_he': 5948, 'accelerated_go': 1848, 'hiked': 4583, '2021_': 70, 'suppose': 7569, 'apart': 2103, 'comply': 2984, 'relationship': 6603, 'ps_': 6405, '_itscoronatime': 983, '_top': 1667, 'earth': 3634, 'revolves': 6744, 'markets__': 5362, '_well_': 1763, 'sexy__': 7040, '_quick_': 1353, 'rolls__': 6798, '_looroll': 1075, '_weredoomedmrmannering': 1765, '_scottmorrisonmp___': 1453, 'rumours_': 6822, 'fcking': 3983, 'inhaling': 4853, 'cigarette': 2817, 'smoke': 7213, 'throwing': 7777, 'inhale': 4852, 'manners_': 5342, '_smokers': 1507, '_uscpsc': 1724, 'encourages': 3735, '_cpsc': 643, 'food_service': 4124, 'staple': 7361, 'grueling_': 4418, 'eye_opening_': 3920, 'career': 2664, 'cpg_': 3162, 'w_o': 8186, 'resilient': 6682, 'arguing': 2152, 'isle': 4934, 'queensland': 6446, 'shelves__': 7070, 'unreal_': 8056, 'planned': 6151, 'run_': 6824, 'praying': 6254, 'accommodate_': 1857, 'creep': 3193, 'rule_': 6819, '3_week_': 122, 'in_home': 4784, '_can': 469, '_essential': 766, '_restaurant': 1388, 'historical': 4592, 'precedent': 6261, 'researchers_': 6673, 'stockers_': 7428, 'angels_': 2059, 'eternally': 3809, 'grateful_': 4390, '_workingfromhome': 1791, 'setting': 7033, 'sobeys': 7240, 'mart_': 5366, 'ponyboy': 6194, 'curtis': 3242, 'church': 2815, 'windricksville___': 8347, '_illinoisprimary': 947, '_needfood': 1193, '_voteblue2020': 1745, 'edible': 3666, 'plants___': 6155, 'lonely': 5238, 'informative_': 4846, '__________stayhomechallenge': 265, '_ilovereading': 949, 'civilised': 2831, 'society_': 7248, '_covid19nz': 621, '_sharethelove': 1475, 'grandmother': 4384, 'screamed': 6953, 'solely': 7252, 'asian_': 2176, 'attacked': 2212, 'poured': 6234, '_dirty': 700, 'ch_nk__': 2738, '_racismisavirus': 1355, '5pm': 154, 'typically_': 7989, 'ham_': 4463, 'markets___': 5363, 'ballarat': 2306, 'awaits': 2245, 'ballarat_': 2307, 'vic': 8135, 'gone___and': 4349, 'prior': 6326, 'diagnosed_': 3408, 'fooling': 4133, '_china': 493, '_asf': 369, '_outbreaks': 1271, 'government_mandated': 4369, 'disclosure': 3469, 'inhibited': 4854, 'stages_': 7355, '_jamestowntweets': 991, 'thought___': 7762, '_dem_': 683, '_panic__': 1279, '_ispellzgood': 977, 'sierra': 7141, 'otto_': 5902, 'founder': 4169, 'jewelry_': 4975, 'abate_': 1825, '_jewelry': 1000, 'dedicating': 3316, 'immune_compromised': 4749, 'conferences_': 3002, 'port': 6207, 'alaska': 1980, 'grand': 4381, 'litterally': 5198, 'and____': 2053, 'soo_____': 7268, 'celebrated_': 2721, 'sweeping': 7614, 'planet_': 6150, 'overall_': 5920, 'you_______': 8456, 'hype': 4698, 'slightly': 7187, 'neurotic': 5670, 'building_': 2571, 'bell': 2395, 'contamination': 3054, 'handedly': 4470, 'undo': 8026, 'horror': 4638, 'story_': 7465, 'centipede_': 2727, 'dairy_': 3259, 'caetgories': 2611, '_vietnam': 1735, 'suffered': 7519, 'vietnam': 8140, '_vietnamese': 1736, 'tendency': 7696, 'hygiene_': 4696, 'convenience': 3072, 'aids_': 1964, 'immune_boosting': 4748, 'term_': 7699, 'webinar': 8262, 'giveaway': 4319, 'hankering': 4480, 'bat': 2346, 'cubao': 3217, 'hrs_': 4665, '24_hour': 81, 'considered': 3024, 'stockpile_': 7432, '_commonsense': 527, 'restocking_': 6711, '_ubs': 1704, 'rarely': 6494, '_stimuluspackage': 1556, '_localbusiness': 1065, 'select': 6985, 'inevitable': 4826, 'capitalized': 2655, 'cycle_': 3252, 'permitted': 6067, '_cheltenham': 490, 'art': 2162, 'singing_': 7157, 'things_': 7747, 'guest': 4427, 'rudely': 6817}\n",
      "\n",
      "tf-idf value:\n",
      "  (0, 499)\t0.5773502691896258\n",
      "  (0, 1309)\t0.5773502691896258\n",
      "  (0, 1139)\t0.5773502691896258\n",
      "  (1, 5877)\t0.1814526944196069\n",
      "  (1, 6594)\t0.22511144194084182\n",
      "  (1, 1900)\t0.2563418648550797\n",
      "  (1, 7101)\t0.12439766794129584\n",
      "  (1, 5835)\t0.12334886118105538\n",
      "  (1, 7032)\t0.21364328027223378\n",
      "  (1, 4374)\t0.2563418648550797\n",
      "  (1, 2783)\t0.26614708548536703\n",
      "  (1, 3724)\t0.26614708548536703\n",
      "  (1, 5191)\t0.20148653901682995\n",
      "  (1, 3045)\t0.2161691415858623\n",
      "  (1, 3180)\t0.22186293454054007\n",
      "  (1, 6097)\t0.46543392386213567\n",
      "  (1, 3859)\t0.26614708548536703\n",
      "  (1, 3950)\t0.19527237671333142\n",
      "  (1, 7651)\t0.23271696193106783\n",
      "  (1, 1915)\t0.22511144194084182\n",
      "  (2, 5906)\t0.2786228041840405\n",
      "  (2, 3152)\t0.17873004587639293\n",
      "  (2, 2038)\t0.28097742781905494\n",
      "  (2, 3315)\t0.39366854105302385\n",
      "  (2, 3457)\t0.3601338930397464\n",
      "  :\t:\n",
      "  (1770, 6855)\t0.24231275353875042\n",
      "  (1770, 2095)\t0.24231275353875042\n",
      "  (1770, 8214)\t0.1741090125051182\n",
      "  (1770, 4949)\t0.19798627722117007\n",
      "  (1770, 6107)\t0.20369227741372045\n",
      "  (1770, 8379)\t0.15329392032511088\n",
      "  (1770, 2092)\t0.3726373968950985\n",
      "  (1770, 5167)\t0.13908158736433693\n",
      "  (1770, 630)\t0.11011207979294194\n",
      "  (1770, 2011)\t0.343296762616557\n",
      "  (1770, 7550)\t0.11651448728851285\n",
      "  (1771, 6817)\t0.3573609042252483\n",
      "  (1771, 4427)\t0.3573609042252483\n",
      "  (1771, 4742)\t0.28319482176554106\n",
      "  (1771, 2280)\t0.2794093399162714\n",
      "  (1771, 7685)\t0.2617693385697978\n",
      "  (1771, 3722)\t0.27592703418169284\n",
      "  (1771, 5297)\t0.27270292265536306\n",
      "  (1771, 3286)\t0.28734134798064614\n",
      "  (1771, 1607)\t0.309565121397523\n",
      "  (1771, 7749)\t0.21820072256672948\n",
      "  (1771, 5959)\t0.22190556380644724\n",
      "  (1771, 251)\t0.2079632428739988\n",
      "  (1771, 3036)\t0.1672654694774989\n",
      "  (1771, 630)\t0.14427746267076977\n"
     ]
    }
   ],
   "source": [
    "#TF-IDF on feature X which is a representation of multiple document in a sense \n",
    "# import required module\n",
    "from sklearn.feature_extraction.text import TfidfVectorizer\n",
    "\n",
    "# create object\n",
    "tfidf = TfidfVectorizer()\n",
    "  \n",
    "# get tf-df values\n",
    "result = tfidf.fit_transform(X)\n",
    "\n",
    "# get indexing\n",
    "print('\\nWord indexes:')\n",
    "print(tfidf.vocabulary_)\n",
    "\n",
    "# display tf-idf values\n",
    "print('\\ntf-idf value:')\n",
    "print(result)"
   ]
  },
  {
   "cell_type": "code",
   "execution_count": 35,
   "id": "YQy-BWK-IGM-",
   "metadata": {
    "id": "YQy-BWK-IGM-"
   },
   "outputs": [
    {
     "name": "stdout",
     "output_type": "stream",
     "text": [
      "Shape after CountVectorizer: (2716, 8484)\n",
      "Shape after tfidf result: (2716, 8484)\n"
     ]
    }
   ],
   "source": [
    "print(\"Shape after CountVectorizer:\", vector.shape)\n",
    "print(\"Shape after tfidf result:\", result.shape)"
   ]
  },
  {
   "cell_type": "code",
   "execution_count": 36,
   "id": "IC01GlMzSCA1",
   "metadata": {
    "id": "IC01GlMzSCA1"
   },
   "outputs": [],
   "source": [
    "from sklearn.model_selection import train_test_split\n",
    "x_train,x_test,y_train,y_test = train_test_split(X,y,test_size=0.3)"
   ]
  },
  {
   "cell_type": "markdown",
   "id": "1SIkQ9CHaozF",
   "metadata": {
    "id": "1SIkQ9CHaozF"
   },
   "source": [
    "**Transformation Using TFIDF**"
   ]
  },
  {
   "cell_type": "code",
   "execution_count": 37,
   "id": "ubwjLi1nRuj7",
   "metadata": {
    "id": "ubwjLi1nRuj7"
   },
   "outputs": [
    {
     "name": "stdout",
     "output_type": "stream",
     "text": [
      "n_samples: 1901, n_features: 6701\n",
      "n_samples: 815, n_features: 6701\n"
     ]
    }
   ],
   "source": [
    "x_train_tf = tfidf.fit_transform(x_train)\n",
    "#applying tf idf to training data\n",
    "x_train_tf = tfidf.transform(x_train)\n",
    "print(\"n_samples: %d, n_features: %d\" % x_train_tf.shape)\n",
    "\n",
    "#transforming test data into tf-idf matrix\n",
    "x_test_tf = tfidf.transform(x_test)\n",
    "print(\"n_samples: %d, n_features: %d\" % x_test_tf.shape)"
   ]
  },
  {
   "cell_type": "code",
   "execution_count": 38,
   "id": "XZe6VKOPjLfp",
   "metadata": {
    "id": "XZe6VKOPjLfp"
   },
   "outputs": [],
   "source": [
    "from sklearn.tree import DecisionTreeClassifier\n",
    "model = DecisionTreeClassifier()\n",
    "model.fit(x_train_tf, y_train)\n",
    "y_pred = model.predict(x_test_tf)"
   ]
  },
  {
   "cell_type": "code",
   "execution_count": 39,
   "id": "vuiTlDXVTCHt",
   "metadata": {
    "id": "vuiTlDXVTCHt"
   },
   "outputs": [
    {
     "name": "stdout",
     "output_type": "stream",
     "text": [
      "Classification Report:\n",
      "              precision    recall  f1-score   support\n",
      "\n",
      "                   0.94      1.00      0.97       286\n",
      "         0.0       0.51      0.47      0.49       214\n",
      "         1.0       0.51      0.44      0.47       227\n",
      "         2.0       0.29      0.38      0.33        88\n",
      "\n",
      "    accuracy                           0.64       815\n",
      "   macro avg       0.56      0.57      0.56       815\n",
      "weighted avg       0.63      0.64      0.63       815\n",
      "\n"
     ]
    }
   ],
   "source": [
    "print(\"Classification Report:\")\n",
    "print(metrics.classification_report(y_test, y_pred))"
   ]
  },
  {
   "cell_type": "code",
   "execution_count": 40,
   "id": "0wVO-d6ATfwH",
   "metadata": {
    "id": "0wVO-d6ATfwH"
   },
   "outputs": [
    {
     "name": "stdout",
     "output_type": "stream",
     "text": [
      "Confusion Matrix:\n",
      "[[286   0   0   0]\n",
      " [  5 100  71  38]\n",
      " [ 10  74 101  42]\n",
      " [  4  24  27  33]]\n",
      "Model Accuracy: 0.6380368098159509\n"
     ]
    }
   ],
   "source": [
    "from sklearn.metrics import confusion_matrix\n",
    "print(\"Confusion Matrix:\")\n",
    "print(confusion_matrix(y_test, y_pred))\n",
    "\n",
    "from sklearn import metrics\n",
    "# Model Accuracy, how often is the classifier correct?\n",
    "print(\"Model Accuracy:\",metrics.accuracy_score(y_test, y_pred))"
   ]
  },
  {
   "cell_type": "markdown",
   "id": "msiC9YMmaj06",
   "metadata": {
    "id": "msiC9YMmaj06"
   },
   "source": [
    "**Transformation Using Countvectorizer**"
   ]
  },
  {
   "cell_type": "code",
   "execution_count": 41,
   "id": "BrrIab5FlSyh",
   "metadata": {
    "id": "BrrIab5FlSyh"
   },
   "outputs": [
    {
     "name": "stdout",
     "output_type": "stream",
     "text": [
      "n_samples: 1901, n_features: 6701\n",
      "n_samples: 815, n_features: 6701\n"
     ]
    }
   ],
   "source": [
    "x_train_vect = vectorizer.fit_transform(x_train)\n",
    "#applying tf idf to training data\n",
    "x_train_vect = vectorizer.transform(x_train)\n",
    "print(\"n_samples: %d, n_features: %d\" % x_train_vect.shape)\n",
    "\n",
    "#transforming test data into tf-idf matrix\n",
    "x_test_vect = tfidf.transform(x_test)\n",
    "print(\"n_samples: %d, n_features: %d\" % x_test_vect.shape)"
   ]
  },
  {
   "cell_type": "code",
   "execution_count": 42,
   "id": "m3y7gKdzZLBL",
   "metadata": {
    "id": "m3y7gKdzZLBL"
   },
   "outputs": [],
   "source": [
    "from sklearn.tree import DecisionTreeClassifier\n",
    "model = DecisionTreeClassifier()\n",
    "model.fit(x_train_vect, y_train)\n",
    "y_pred_vect = model.predict(x_test_vect)"
   ]
  },
  {
   "cell_type": "code",
   "execution_count": 43,
   "id": "ysy_zJQFaKd_",
   "metadata": {
    "id": "ysy_zJQFaKd_"
   },
   "outputs": [
    {
     "name": "stdout",
     "output_type": "stream",
     "text": [
      "Classification Report:\n",
      "              precision    recall  f1-score   support\n",
      "\n",
      "                   0.36      1.00      0.52       286\n",
      "         0.0       0.33      0.01      0.02       214\n",
      "         1.0       0.50      0.00      0.01       227\n",
      "         2.0       0.00      0.00      0.00        88\n",
      "\n",
      "    accuracy                           0.35       815\n",
      "   macro avg       0.30      0.25      0.14       815\n",
      "weighted avg       0.35      0.35      0.19       815\n",
      "\n"
     ]
    }
   ],
   "source": [
    "print(\"Classification Report:\")\n",
    "print(metrics.classification_report(y_test, y_pred_vect))"
   ]
  },
  {
   "cell_type": "code",
   "execution_count": 44,
   "id": "Tr2uIRUeaPzG",
   "metadata": {
    "id": "Tr2uIRUeaPzG"
   },
   "outputs": [
    {
     "name": "stdout",
     "output_type": "stream",
     "text": [
      "Confusion Matrix:\n",
      "[[286   0   0   0]\n",
      " [211   2   1   0]\n",
      " [221   3   1   2]\n",
      " [ 87   1   0   0]]\n",
      "Model Accuracy: 0.35460122699386504\n"
     ]
    }
   ],
   "source": [
    "from sklearn.metrics import confusion_matrix\n",
    "print(\"Confusion Matrix:\")\n",
    "print(confusion_matrix(y_test, y_pred_vect))\n",
    "\n",
    "from sklearn import metrics\n",
    "# Model Accuracy, how often is the classifier correct?\n",
    "print(\"Model Accuracy:\",metrics.accuracy_score(y_test, y_pred_vect))"
   ]
  },
  {
   "cell_type": "code",
   "execution_count": 45,
   "id": "c729a766",
   "metadata": {},
   "outputs": [
    {
     "data": {
      "text/html": [
       "<div>\n",
       "<style scoped>\n",
       "    .dataframe tbody tr th:only-of-type {\n",
       "        vertical-align: middle;\n",
       "    }\n",
       "\n",
       "    .dataframe tbody tr th {\n",
       "        vertical-align: top;\n",
       "    }\n",
       "\n",
       "    .dataframe thead th {\n",
       "        text-align: right;\n",
       "    }\n",
       "</style>\n",
       "<table border=\"1\" class=\"dataframe\">\n",
       "  <thead>\n",
       "    <tr style=\"text-align: right;\">\n",
       "      <th></th>\n",
       "      <th>UserName</th>\n",
       "      <th>ScreenName</th>\n",
       "      <th>Location</th>\n",
       "      <th>TweetAt</th>\n",
       "      <th>OriginalTweet</th>\n",
       "      <th>Sentiment</th>\n",
       "      <th>CleanedTweets</th>\n",
       "    </tr>\n",
       "  </thead>\n",
       "  <tbody>\n",
       "    <tr>\n",
       "      <th>0</th>\n",
       "      <td>3799.0</td>\n",
       "      <td>48751.0</td>\n",
       "      <td>london</td>\n",
       "      <td>16-03-2020</td>\n",
       "      <td>_menyrbie _phil_gahan _chrisitv</td>\n",
       "      <td>2.0</td>\n",
       "      <td>[_menyrbie, _phil_gahan, _chrisitv]</td>\n",
       "    </tr>\n",
       "    <tr>\n",
       "      <th>1</th>\n",
       "      <td>3800.0</td>\n",
       "      <td>48752.0</td>\n",
       "      <td>uk</td>\n",
       "      <td>16-03-2020</td>\n",
       "      <td>advice talk to your neighbours family to excha...</td>\n",
       "      <td>1.0</td>\n",
       "      <td>[advice, talk, family, exchange, phone, create...</td>\n",
       "    </tr>\n",
       "    <tr>\n",
       "      <th>2</th>\n",
       "      <td>3801.0</td>\n",
       "      <td>48753.0</td>\n",
       "      <td>vagabonds</td>\n",
       "      <td>16-03-2020</td>\n",
       "      <td>coronavirus australia: woolworths to give elde...</td>\n",
       "      <td>1.0</td>\n",
       "      <td>[coronavirus, australia, give, elderly_, disab...</td>\n",
       "    </tr>\n",
       "    <tr>\n",
       "      <th>3</th>\n",
       "      <td>3802.0</td>\n",
       "      <td>48754.0</td>\n",
       "      <td></td>\n",
       "      <td>16-03-2020</td>\n",
       "      <td>my food stock is not the only one which is emp...</td>\n",
       "      <td>1.0</td>\n",
       "      <td>[food, stock, one, empty___, please_, n't, pan...</td>\n",
       "    </tr>\n",
       "    <tr>\n",
       "      <th>4</th>\n",
       "      <td>3803.0</td>\n",
       "      <td>48755.0</td>\n",
       "      <td></td>\n",
       "      <td>16-03-2020</td>\n",
       "      <td>me_ ready to go at supermarket during the _cov...</td>\n",
       "      <td>0.0</td>\n",
       "      <td>[me_, ready, go, supermarket, _covid19, outbre...</td>\n",
       "    </tr>\n",
       "  </tbody>\n",
       "</table>\n",
       "</div>"
      ],
      "text/plain": [
       "  UserName ScreenName   Location     TweetAt  \\\n",
       "0   3799.0    48751.0     london  16-03-2020   \n",
       "1   3800.0    48752.0         uk  16-03-2020   \n",
       "2   3801.0    48753.0  vagabonds  16-03-2020   \n",
       "3   3802.0    48754.0             16-03-2020   \n",
       "4   3803.0    48755.0             16-03-2020   \n",
       "\n",
       "                                       OriginalTweet Sentiment  \\\n",
       "0                   _menyrbie _phil_gahan _chrisitv        2.0   \n",
       "1  advice talk to your neighbours family to excha...       1.0   \n",
       "2  coronavirus australia: woolworths to give elde...       1.0   \n",
       "3  my food stock is not the only one which is emp...       1.0   \n",
       "4  me_ ready to go at supermarket during the _cov...       0.0   \n",
       "\n",
       "                                       CleanedTweets  \n",
       "0                [_menyrbie, _phil_gahan, _chrisitv]  \n",
       "1  [advice, talk, family, exchange, phone, create...  \n",
       "2  [coronavirus, australia, give, elderly_, disab...  \n",
       "3  [food, stock, one, empty___, please_, n't, pan...  \n",
       "4  [me_, ready, go, supermarket, _covid19, outbre...  "
      ]
     },
     "execution_count": 45,
     "metadata": {},
     "output_type": "execute_result"
    }
   ],
   "source": [
    "covid_tweets.head()"
   ]
  },
  {
   "cell_type": "code",
   "execution_count": 46,
   "id": "a1e83964",
   "metadata": {},
   "outputs": [
    {
     "name": "stdout",
     "output_type": "stream",
     "text": [
      "['_menyrbie', '_phil_gahan', '_chrisitv']\n",
      "['advice', 'talk', 'family', 'exchange', 'phone', 'create', 'contact', 'list', 'phone', 'employer', 'chemist', 'gp', 'set', 'online', 'shopping', 'adequate', 'regular', 'order']\n"
     ]
    }
   ],
   "source": [
    "print(covid_tweets.iloc[0]['CleanedTweets'])\n",
    "print(covid_tweets.iloc[1]['CleanedTweets'])"
   ]
  },
  {
   "cell_type": "code",
   "execution_count": 47,
   "id": "af7ed833",
   "metadata": {},
   "outputs": [
    {
     "name": "stdout",
     "output_type": "stream",
     "text": [
      "[('_menyrbie', 'NN'), ('_phil_gahan', 'CD'), ('_chrisitv', 'NN')]\n",
      "[('advice', 'NN'), ('talk', 'VB'), ('family', 'NN'), ('exchange', 'NN'), ('phone', 'NN'), ('create', 'NN'), ('contact', 'JJ'), ('list', 'NN'), ('phone', 'NN'), ('employer', 'NN'), ('chemist', 'NN'), ('gp', 'NN'), ('set', 'VBN'), ('online', 'RP'), ('shopping', 'VBG'), ('adequate', 'JJ'), ('regular', 'JJ'), ('order', 'NN')]\n"
     ]
    }
   ],
   "source": [
    "#Performing part of speech tagging : \n",
    "print(nltk.pos_tag(covid_tweets.iloc[0]['CleanedTweets']))\n",
    "print(nltk.pos_tag(covid_tweets.iloc[1]['CleanedTweets']))"
   ]
  },
  {
   "cell_type": "code",
   "execution_count": null,
   "id": "mvODYgwTK305",
   "metadata": {
    "id": "mvODYgwTK305"
   },
   "outputs": [],
   "source": []
  }
 ],
 "metadata": {
  "colab": {
   "collapsed_sections": [],
   "name": "NLP_Assignment_1.ipynb",
   "provenance": []
  },
  "kernelspec": {
   "display_name": "Python 3 (ipykernel)",
   "language": "python",
   "name": "python3"
  },
  "language_info": {
   "codemirror_mode": {
    "name": "ipython",
    "version": 3
   },
   "file_extension": ".py",
   "mimetype": "text/x-python",
   "name": "python",
   "nbconvert_exporter": "python",
   "pygments_lexer": "ipython3",
   "version": "3.7.9"
  }
 },
 "nbformat": 4,
 "nbformat_minor": 5
}
